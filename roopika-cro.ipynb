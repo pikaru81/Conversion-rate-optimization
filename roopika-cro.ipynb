{
 "cells": [
  {
   "cell_type": "code",
   "execution_count": 1,
   "id": "69eca270",
   "metadata": {
    "_cell_guid": "b1076dfc-b9ad-4769-8c92-a6c4dae69d19",
    "_uuid": "8f2839f25d086af736a60e9eeb907d3b93b6e0e5",
    "execution": {
     "iopub.execute_input": "2022-10-31T13:36:50.516006Z",
     "iopub.status.busy": "2022-10-31T13:36:50.515294Z",
     "iopub.status.idle": "2022-10-31T13:36:50.540782Z",
     "shell.execute_reply": "2022-10-31T13:36:50.540004Z"
    },
    "papermill": {
     "duration": 0.055746,
     "end_time": "2022-10-31T13:36:50.543235",
     "exception": false,
     "start_time": "2022-10-31T13:36:50.487489",
     "status": "completed"
    },
    "tags": []
   },
   "outputs": [
    {
     "name": "stdout",
     "output_type": "stream",
     "text": [
      "/kaggle/input/clicks-conversion-tracking/KAG_conversion_data.csv\n"
     ]
    }
   ],
   "source": [
    "# This Python 3 environment comes with many helpful analytics libraries installed\n",
    "# It is defined by the kaggle/python Docker image: https://github.com/kaggle/docker-python\n",
    "# For example, here's several helpful packages to load\n",
    "\n",
    "import numpy as np # linear algebra\n",
    "import pandas as pd # data processing, CSV file I/O (e.g. pd.read_csv)\n",
    "\n",
    "# Input data files are available in the read-only \"../input/\" directory\n",
    "# For example, running this (by clicking run or pressing Shift+Enter) will list all files under the input directory\n",
    "\n",
    "import os\n",
    "for dirname, _, filenames in os.walk('/kaggle/input'):\n",
    "    for filename in filenames:\n",
    "        print(os.path.join(dirname, filename))\n",
    "\n",
    "# You can write up to 20GB to the current directory (/kaggle/working/) that gets preserved as output when you create a version using \"Save & Run All\" \n",
    "# You can also write temporary files to /kaggle/temp/, but they won't be saved outside of the current session"
   ]
  },
  {
   "cell_type": "markdown",
   "id": "28168b77",
   "metadata": {
    "papermill": {
     "duration": 0.028822,
     "end_time": "2022-10-31T13:36:50.596657",
     "exception": false,
     "start_time": "2022-10-31T13:36:50.567835",
     "status": "completed"
    },
    "tags": []
   },
   "source": [
    "Data:\n",
    "\n",
    "The data used in this project is from an anonymous organisation’s social media ad campaign.\n",
    "\n",
    "1.) ad_id: an unique ID for each ad.\n",
    "\n",
    "2.) xyzcampaignid: an ID associated with each ad campaign of XYZ company.\n",
    "\n",
    "3.) fbcampaignid: an ID associated with how Facebook tracks each campaign.\n",
    "\n",
    "4.) age: age of the person to whom the ad is shown.\n",
    "\n",
    "5.) gender: gender of the person to whim the add is shown\n",
    "\n",
    "6.) interest: a code specifying the category to which the person’s interest belongs (interests are as mentioned in the person’s Facebook public profile).\n",
    "\n",
    "7.) Impressions: the number of times the ad was shown.\n",
    "\n",
    "8.) Clicks: number of clicks on for that ad.\n",
    "\n",
    "9.) Spent: Amount paid by company xyz to Facebook, to show that ad.\n",
    "\n",
    "10.) Total conversion: Total number of people who enquired about the product after seeing the ad.\n",
    "\n",
    "11.) Approved conversion: Total number of people who bought the product after seeing the ad.\n",
    "\n",
    "Aim:\n",
    "\n",
    "To optimize Sales conversion by comparing the campaigns run by XYZ company.\n",
    "To perform cluster analysis on the ad campaigns and profile the clusters to find the best performing cluster\n",
    "\n",
    "\n",
    "\n",
    "\n"
   ]
  },
  {
   "cell_type": "code",
   "execution_count": 2,
   "id": "8e77c889",
   "metadata": {
    "execution": {
     "iopub.execute_input": "2022-10-31T13:36:50.649964Z",
     "iopub.status.busy": "2022-10-31T13:36:50.649196Z",
     "iopub.status.idle": "2022-10-31T13:36:50.679429Z",
     "shell.execute_reply": "2022-10-31T13:36:50.677439Z"
    },
    "papermill": {
     "duration": 0.059762,
     "end_time": "2022-10-31T13:36:50.682447",
     "exception": false,
     "start_time": "2022-10-31T13:36:50.622685",
     "status": "completed"
    },
    "tags": []
   },
   "outputs": [],
   "source": [
    "df=pd.read_csv(\"/kaggle/input/clicks-conversion-tracking/KAG_conversion_data.csv\")"
   ]
  },
  {
   "cell_type": "markdown",
   "id": "2883b8ca",
   "metadata": {
    "papermill": {
     "duration": 0.02415,
     "end_time": "2022-10-31T13:36:50.731328",
     "exception": false,
     "start_time": "2022-10-31T13:36:50.707178",
     "status": "completed"
    },
    "tags": []
   },
   "source": [
    "Exploratory Data Analysis"
   ]
  },
  {
   "cell_type": "code",
   "execution_count": 3,
   "id": "d5d05820",
   "metadata": {
    "execution": {
     "iopub.execute_input": "2022-10-31T13:36:50.783373Z",
     "iopub.status.busy": "2022-10-31T13:36:50.782954Z",
     "iopub.status.idle": "2022-10-31T13:36:50.814236Z",
     "shell.execute_reply": "2022-10-31T13:36:50.812692Z"
    },
    "papermill": {
     "duration": 0.061006,
     "end_time": "2022-10-31T13:36:50.816838",
     "exception": false,
     "start_time": "2022-10-31T13:36:50.755832",
     "status": "completed"
    },
    "tags": []
   },
   "outputs": [
    {
     "data": {
      "text/html": [
       "<div>\n",
       "<style scoped>\n",
       "    .dataframe tbody tr th:only-of-type {\n",
       "        vertical-align: middle;\n",
       "    }\n",
       "\n",
       "    .dataframe tbody tr th {\n",
       "        vertical-align: top;\n",
       "    }\n",
       "\n",
       "    .dataframe thead th {\n",
       "        text-align: right;\n",
       "    }\n",
       "</style>\n",
       "<table border=\"1\" class=\"dataframe\">\n",
       "  <thead>\n",
       "    <tr style=\"text-align: right;\">\n",
       "      <th></th>\n",
       "      <th>ad_id</th>\n",
       "      <th>xyz_campaign_id</th>\n",
       "      <th>fb_campaign_id</th>\n",
       "      <th>age</th>\n",
       "      <th>gender</th>\n",
       "      <th>interest</th>\n",
       "      <th>Impressions</th>\n",
       "      <th>Clicks</th>\n",
       "      <th>Spent</th>\n",
       "      <th>Total_Conversion</th>\n",
       "      <th>Approved_Conversion</th>\n",
       "    </tr>\n",
       "  </thead>\n",
       "  <tbody>\n",
       "    <tr>\n",
       "      <th>0</th>\n",
       "      <td>708746</td>\n",
       "      <td>916</td>\n",
       "      <td>103916</td>\n",
       "      <td>30-34</td>\n",
       "      <td>M</td>\n",
       "      <td>15</td>\n",
       "      <td>7350</td>\n",
       "      <td>1</td>\n",
       "      <td>1.43</td>\n",
       "      <td>2</td>\n",
       "      <td>1</td>\n",
       "    </tr>\n",
       "    <tr>\n",
       "      <th>1</th>\n",
       "      <td>708749</td>\n",
       "      <td>916</td>\n",
       "      <td>103917</td>\n",
       "      <td>30-34</td>\n",
       "      <td>M</td>\n",
       "      <td>16</td>\n",
       "      <td>17861</td>\n",
       "      <td>2</td>\n",
       "      <td>1.82</td>\n",
       "      <td>2</td>\n",
       "      <td>0</td>\n",
       "    </tr>\n",
       "    <tr>\n",
       "      <th>2</th>\n",
       "      <td>708771</td>\n",
       "      <td>916</td>\n",
       "      <td>103920</td>\n",
       "      <td>30-34</td>\n",
       "      <td>M</td>\n",
       "      <td>20</td>\n",
       "      <td>693</td>\n",
       "      <td>0</td>\n",
       "      <td>0.00</td>\n",
       "      <td>1</td>\n",
       "      <td>0</td>\n",
       "    </tr>\n",
       "    <tr>\n",
       "      <th>3</th>\n",
       "      <td>708815</td>\n",
       "      <td>916</td>\n",
       "      <td>103928</td>\n",
       "      <td>30-34</td>\n",
       "      <td>M</td>\n",
       "      <td>28</td>\n",
       "      <td>4259</td>\n",
       "      <td>1</td>\n",
       "      <td>1.25</td>\n",
       "      <td>1</td>\n",
       "      <td>0</td>\n",
       "    </tr>\n",
       "    <tr>\n",
       "      <th>4</th>\n",
       "      <td>708818</td>\n",
       "      <td>916</td>\n",
       "      <td>103928</td>\n",
       "      <td>30-34</td>\n",
       "      <td>M</td>\n",
       "      <td>28</td>\n",
       "      <td>4133</td>\n",
       "      <td>1</td>\n",
       "      <td>1.29</td>\n",
       "      <td>1</td>\n",
       "      <td>1</td>\n",
       "    </tr>\n",
       "  </tbody>\n",
       "</table>\n",
       "</div>"
      ],
      "text/plain": [
       "    ad_id  xyz_campaign_id  fb_campaign_id    age gender  interest  \\\n",
       "0  708746              916          103916  30-34      M        15   \n",
       "1  708749              916          103917  30-34      M        16   \n",
       "2  708771              916          103920  30-34      M        20   \n",
       "3  708815              916          103928  30-34      M        28   \n",
       "4  708818              916          103928  30-34      M        28   \n",
       "\n",
       "   Impressions  Clicks  Spent  Total_Conversion  Approved_Conversion  \n",
       "0         7350       1   1.43                 2                    1  \n",
       "1        17861       2   1.82                 2                    0  \n",
       "2          693       0   0.00                 1                    0  \n",
       "3         4259       1   1.25                 1                    0  \n",
       "4         4133       1   1.29                 1                    1  "
      ]
     },
     "execution_count": 3,
     "metadata": {},
     "output_type": "execute_result"
    }
   ],
   "source": [
    "df.head()"
   ]
  },
  {
   "cell_type": "code",
   "execution_count": 4,
   "id": "909f8c49",
   "metadata": {
    "execution": {
     "iopub.execute_input": "2022-10-31T13:36:50.870284Z",
     "iopub.status.busy": "2022-10-31T13:36:50.868507Z",
     "iopub.status.idle": "2022-10-31T13:36:50.877078Z",
     "shell.execute_reply": "2022-10-31T13:36:50.875837Z"
    },
    "papermill": {
     "duration": 0.037444,
     "end_time": "2022-10-31T13:36:50.879462",
     "exception": false,
     "start_time": "2022-10-31T13:36:50.842018",
     "status": "completed"
    },
    "tags": []
   },
   "outputs": [
    {
     "data": {
      "text/plain": [
       "(1143, 11)"
      ]
     },
     "execution_count": 4,
     "metadata": {},
     "output_type": "execute_result"
    }
   ],
   "source": [
    "df.shape"
   ]
  },
  {
   "cell_type": "code",
   "execution_count": 5,
   "id": "c3d02762",
   "metadata": {
    "execution": {
     "iopub.execute_input": "2022-10-31T13:36:50.932868Z",
     "iopub.status.busy": "2022-10-31T13:36:50.932210Z",
     "iopub.status.idle": "2022-10-31T13:36:50.961270Z",
     "shell.execute_reply": "2022-10-31T13:36:50.959505Z"
    },
    "papermill": {
     "duration": 0.058862,
     "end_time": "2022-10-31T13:36:50.963661",
     "exception": false,
     "start_time": "2022-10-31T13:36:50.904799",
     "status": "completed"
    },
    "tags": []
   },
   "outputs": [
    {
     "name": "stdout",
     "output_type": "stream",
     "text": [
      "<class 'pandas.core.frame.DataFrame'>\n",
      "RangeIndex: 1143 entries, 0 to 1142\n",
      "Data columns (total 11 columns):\n",
      " #   Column               Non-Null Count  Dtype  \n",
      "---  ------               --------------  -----  \n",
      " 0   ad_id                1143 non-null   int64  \n",
      " 1   xyz_campaign_id      1143 non-null   int64  \n",
      " 2   fb_campaign_id       1143 non-null   int64  \n",
      " 3   age                  1143 non-null   object \n",
      " 4   gender               1143 non-null   object \n",
      " 5   interest             1143 non-null   int64  \n",
      " 6   Impressions          1143 non-null   int64  \n",
      " 7   Clicks               1143 non-null   int64  \n",
      " 8   Spent                1143 non-null   float64\n",
      " 9   Total_Conversion     1143 non-null   int64  \n",
      " 10  Approved_Conversion  1143 non-null   int64  \n",
      "dtypes: float64(1), int64(8), object(2)\n",
      "memory usage: 98.4+ KB\n"
     ]
    }
   ],
   "source": [
    "df.info()\n",
    "# no null values "
   ]
  },
  {
   "cell_type": "code",
   "execution_count": 6,
   "id": "3301c84e",
   "metadata": {
    "execution": {
     "iopub.execute_input": "2022-10-31T13:36:51.015738Z",
     "iopub.status.busy": "2022-10-31T13:36:51.015263Z",
     "iopub.status.idle": "2022-10-31T13:36:51.057142Z",
     "shell.execute_reply": "2022-10-31T13:36:51.055508Z"
    },
    "papermill": {
     "duration": 0.071062,
     "end_time": "2022-10-31T13:36:51.059653",
     "exception": false,
     "start_time": "2022-10-31T13:36:50.988591",
     "status": "completed"
    },
    "tags": []
   },
   "outputs": [
    {
     "data": {
      "text/html": [
       "<div>\n",
       "<style scoped>\n",
       "    .dataframe tbody tr th:only-of-type {\n",
       "        vertical-align: middle;\n",
       "    }\n",
       "\n",
       "    .dataframe tbody tr th {\n",
       "        vertical-align: top;\n",
       "    }\n",
       "\n",
       "    .dataframe thead th {\n",
       "        text-align: right;\n",
       "    }\n",
       "</style>\n",
       "<table border=\"1\" class=\"dataframe\">\n",
       "  <thead>\n",
       "    <tr style=\"text-align: right;\">\n",
       "      <th></th>\n",
       "      <th>ad_id</th>\n",
       "      <th>xyz_campaign_id</th>\n",
       "      <th>fb_campaign_id</th>\n",
       "      <th>interest</th>\n",
       "      <th>Impressions</th>\n",
       "      <th>Clicks</th>\n",
       "      <th>Spent</th>\n",
       "      <th>Total_Conversion</th>\n",
       "      <th>Approved_Conversion</th>\n",
       "    </tr>\n",
       "  </thead>\n",
       "  <tbody>\n",
       "    <tr>\n",
       "      <th>count</th>\n",
       "      <td>1.143000e+03</td>\n",
       "      <td>1143.000000</td>\n",
       "      <td>1143.000000</td>\n",
       "      <td>1143.000000</td>\n",
       "      <td>1.143000e+03</td>\n",
       "      <td>1143.000000</td>\n",
       "      <td>1143.000000</td>\n",
       "      <td>1143.000000</td>\n",
       "      <td>1143.000000</td>\n",
       "    </tr>\n",
       "    <tr>\n",
       "      <th>mean</th>\n",
       "      <td>9.872611e+05</td>\n",
       "      <td>1067.382327</td>\n",
       "      <td>133783.989501</td>\n",
       "      <td>32.766404</td>\n",
       "      <td>1.867321e+05</td>\n",
       "      <td>33.390201</td>\n",
       "      <td>51.360656</td>\n",
       "      <td>2.855643</td>\n",
       "      <td>0.944007</td>\n",
       "    </tr>\n",
       "    <tr>\n",
       "      <th>std</th>\n",
       "      <td>1.939928e+05</td>\n",
       "      <td>121.629393</td>\n",
       "      <td>20500.308622</td>\n",
       "      <td>26.952131</td>\n",
       "      <td>3.127622e+05</td>\n",
       "      <td>56.892438</td>\n",
       "      <td>86.908418</td>\n",
       "      <td>4.483593</td>\n",
       "      <td>1.737708</td>\n",
       "    </tr>\n",
       "    <tr>\n",
       "      <th>min</th>\n",
       "      <td>7.087460e+05</td>\n",
       "      <td>916.000000</td>\n",
       "      <td>103916.000000</td>\n",
       "      <td>2.000000</td>\n",
       "      <td>8.700000e+01</td>\n",
       "      <td>0.000000</td>\n",
       "      <td>0.000000</td>\n",
       "      <td>0.000000</td>\n",
       "      <td>0.000000</td>\n",
       "    </tr>\n",
       "    <tr>\n",
       "      <th>25%</th>\n",
       "      <td>7.776325e+05</td>\n",
       "      <td>936.000000</td>\n",
       "      <td>115716.000000</td>\n",
       "      <td>16.000000</td>\n",
       "      <td>6.503500e+03</td>\n",
       "      <td>1.000000</td>\n",
       "      <td>1.480000</td>\n",
       "      <td>1.000000</td>\n",
       "      <td>0.000000</td>\n",
       "    </tr>\n",
       "    <tr>\n",
       "      <th>50%</th>\n",
       "      <td>1.121185e+06</td>\n",
       "      <td>1178.000000</td>\n",
       "      <td>144549.000000</td>\n",
       "      <td>25.000000</td>\n",
       "      <td>5.150900e+04</td>\n",
       "      <td>8.000000</td>\n",
       "      <td>12.370000</td>\n",
       "      <td>1.000000</td>\n",
       "      <td>1.000000</td>\n",
       "    </tr>\n",
       "    <tr>\n",
       "      <th>75%</th>\n",
       "      <td>1.121804e+06</td>\n",
       "      <td>1178.000000</td>\n",
       "      <td>144657.500000</td>\n",
       "      <td>31.000000</td>\n",
       "      <td>2.217690e+05</td>\n",
       "      <td>37.500000</td>\n",
       "      <td>60.025000</td>\n",
       "      <td>3.000000</td>\n",
       "      <td>1.000000</td>\n",
       "    </tr>\n",
       "    <tr>\n",
       "      <th>max</th>\n",
       "      <td>1.314415e+06</td>\n",
       "      <td>1178.000000</td>\n",
       "      <td>179982.000000</td>\n",
       "      <td>114.000000</td>\n",
       "      <td>3.052003e+06</td>\n",
       "      <td>421.000000</td>\n",
       "      <td>639.949998</td>\n",
       "      <td>60.000000</td>\n",
       "      <td>21.000000</td>\n",
       "    </tr>\n",
       "  </tbody>\n",
       "</table>\n",
       "</div>"
      ],
      "text/plain": [
       "              ad_id  xyz_campaign_id  fb_campaign_id     interest  \\\n",
       "count  1.143000e+03      1143.000000     1143.000000  1143.000000   \n",
       "mean   9.872611e+05      1067.382327   133783.989501    32.766404   \n",
       "std    1.939928e+05       121.629393    20500.308622    26.952131   \n",
       "min    7.087460e+05       916.000000   103916.000000     2.000000   \n",
       "25%    7.776325e+05       936.000000   115716.000000    16.000000   \n",
       "50%    1.121185e+06      1178.000000   144549.000000    25.000000   \n",
       "75%    1.121804e+06      1178.000000   144657.500000    31.000000   \n",
       "max    1.314415e+06      1178.000000   179982.000000   114.000000   \n",
       "\n",
       "        Impressions       Clicks        Spent  Total_Conversion  \\\n",
       "count  1.143000e+03  1143.000000  1143.000000       1143.000000   \n",
       "mean   1.867321e+05    33.390201    51.360656          2.855643   \n",
       "std    3.127622e+05    56.892438    86.908418          4.483593   \n",
       "min    8.700000e+01     0.000000     0.000000          0.000000   \n",
       "25%    6.503500e+03     1.000000     1.480000          1.000000   \n",
       "50%    5.150900e+04     8.000000    12.370000          1.000000   \n",
       "75%    2.217690e+05    37.500000    60.025000          3.000000   \n",
       "max    3.052003e+06   421.000000   639.949998         60.000000   \n",
       "\n",
       "       Approved_Conversion  \n",
       "count          1143.000000  \n",
       "mean              0.944007  \n",
       "std               1.737708  \n",
       "min               0.000000  \n",
       "25%               0.000000  \n",
       "50%               1.000000  \n",
       "75%               1.000000  \n",
       "max              21.000000  "
      ]
     },
     "execution_count": 6,
     "metadata": {},
     "output_type": "execute_result"
    }
   ],
   "source": [
    "df.describe()\n"
   ]
  },
  {
   "cell_type": "code",
   "execution_count": 7,
   "id": "9bb963ad",
   "metadata": {
    "execution": {
     "iopub.execute_input": "2022-10-31T13:36:51.113200Z",
     "iopub.status.busy": "2022-10-31T13:36:51.112689Z",
     "iopub.status.idle": "2022-10-31T13:36:51.129161Z",
     "shell.execute_reply": "2022-10-31T13:36:51.128290Z"
    },
    "papermill": {
     "duration": 0.045481,
     "end_time": "2022-10-31T13:36:51.131250",
     "exception": false,
     "start_time": "2022-10-31T13:36:51.085769",
     "status": "completed"
    },
    "tags": []
   },
   "outputs": [
    {
     "data": {
      "text/html": [
       "<div>\n",
       "<style scoped>\n",
       "    .dataframe tbody tr th:only-of-type {\n",
       "        vertical-align: middle;\n",
       "    }\n",
       "\n",
       "    .dataframe tbody tr th {\n",
       "        vertical-align: top;\n",
       "    }\n",
       "\n",
       "    .dataframe thead th {\n",
       "        text-align: right;\n",
       "    }\n",
       "</style>\n",
       "<table border=\"1\" class=\"dataframe\">\n",
       "  <thead>\n",
       "    <tr style=\"text-align: right;\">\n",
       "      <th></th>\n",
       "      <th>age</th>\n",
       "      <th>gender</th>\n",
       "    </tr>\n",
       "  </thead>\n",
       "  <tbody>\n",
       "    <tr>\n",
       "      <th>count</th>\n",
       "      <td>1143</td>\n",
       "      <td>1143</td>\n",
       "    </tr>\n",
       "    <tr>\n",
       "      <th>unique</th>\n",
       "      <td>4</td>\n",
       "      <td>2</td>\n",
       "    </tr>\n",
       "    <tr>\n",
       "      <th>top</th>\n",
       "      <td>30-34</td>\n",
       "      <td>M</td>\n",
       "    </tr>\n",
       "    <tr>\n",
       "      <th>freq</th>\n",
       "      <td>426</td>\n",
       "      <td>592</td>\n",
       "    </tr>\n",
       "  </tbody>\n",
       "</table>\n",
       "</div>"
      ],
      "text/plain": [
       "          age gender\n",
       "count    1143   1143\n",
       "unique      4      2\n",
       "top     30-34      M\n",
       "freq      426    592"
      ]
     },
     "execution_count": 7,
     "metadata": {},
     "output_type": "execute_result"
    }
   ],
   "source": [
    "df.describe(include=['object'])"
   ]
  },
  {
   "cell_type": "code",
   "execution_count": 8,
   "id": "5ce49916",
   "metadata": {
    "execution": {
     "iopub.execute_input": "2022-10-31T13:36:51.186357Z",
     "iopub.status.busy": "2022-10-31T13:36:51.185577Z",
     "iopub.status.idle": "2022-10-31T13:36:52.353589Z",
     "shell.execute_reply": "2022-10-31T13:36:52.352056Z"
    },
    "papermill": {
     "duration": 1.199,
     "end_time": "2022-10-31T13:36:52.356347",
     "exception": false,
     "start_time": "2022-10-31T13:36:51.157347",
     "status": "completed"
    },
    "tags": []
   },
   "outputs": [],
   "source": [
    "import matplotlib.pyplot as plt\n",
    "import seaborn as sns"
   ]
  },
  {
   "cell_type": "code",
   "execution_count": 9,
   "id": "cde08e08",
   "metadata": {
    "execution": {
     "iopub.execute_input": "2022-10-31T13:36:52.410037Z",
     "iopub.status.busy": "2022-10-31T13:36:52.409597Z",
     "iopub.status.idle": "2022-10-31T13:36:52.431250Z",
     "shell.execute_reply": "2022-10-31T13:36:52.429549Z"
    },
    "papermill": {
     "duration": 0.050934,
     "end_time": "2022-10-31T13:36:52.433581",
     "exception": false,
     "start_time": "2022-10-31T13:36:52.382647",
     "status": "completed"
    },
    "tags": []
   },
   "outputs": [
    {
     "data": {
      "text/html": [
       "<div>\n",
       "<style scoped>\n",
       "    .dataframe tbody tr th:only-of-type {\n",
       "        vertical-align: middle;\n",
       "    }\n",
       "\n",
       "    .dataframe tbody tr th {\n",
       "        vertical-align: top;\n",
       "    }\n",
       "\n",
       "    .dataframe thead th {\n",
       "        text-align: right;\n",
       "    }\n",
       "</style>\n",
       "<table border=\"1\" class=\"dataframe\">\n",
       "  <thead>\n",
       "    <tr style=\"text-align: right;\">\n",
       "      <th></th>\n",
       "      <th>ad_id</th>\n",
       "      <th>xyz_campaign_id</th>\n",
       "      <th>fb_campaign_id</th>\n",
       "      <th>interest</th>\n",
       "      <th>Impressions</th>\n",
       "      <th>Clicks</th>\n",
       "      <th>Spent</th>\n",
       "      <th>Total_Conversion</th>\n",
       "      <th>Approved_Conversion</th>\n",
       "    </tr>\n",
       "  </thead>\n",
       "  <tbody>\n",
       "    <tr>\n",
       "      <th>ad_id</th>\n",
       "      <td>1.000000</td>\n",
       "      <td>0.929892</td>\n",
       "      <td>0.972002</td>\n",
       "      <td>0.456483</td>\n",
       "      <td>0.462308</td>\n",
       "      <td>0.431981</td>\n",
       "      <td>0.433053</td>\n",
       "      <td>0.346539</td>\n",
       "      <td>0.271331</td>\n",
       "    </tr>\n",
       "    <tr>\n",
       "      <th>xyz_campaign_id</th>\n",
       "      <td>0.929892</td>\n",
       "      <td>1.000000</td>\n",
       "      <td>0.872392</td>\n",
       "      <td>0.272282</td>\n",
       "      <td>0.495273</td>\n",
       "      <td>0.469729</td>\n",
       "      <td>0.476689</td>\n",
       "      <td>0.346684</td>\n",
       "      <td>0.284968</td>\n",
       "    </tr>\n",
       "    <tr>\n",
       "      <th>fb_campaign_id</th>\n",
       "      <td>0.972002</td>\n",
       "      <td>0.872392</td>\n",
       "      <td>1.000000</td>\n",
       "      <td>0.595753</td>\n",
       "      <td>0.439439</td>\n",
       "      <td>0.406978</td>\n",
       "      <td>0.403532</td>\n",
       "      <td>0.344170</td>\n",
       "      <td>0.257658</td>\n",
       "    </tr>\n",
       "    <tr>\n",
       "      <th>interest</th>\n",
       "      <td>0.456483</td>\n",
       "      <td>0.272282</td>\n",
       "      <td>0.595753</td>\n",
       "      <td>1.000000</td>\n",
       "      <td>0.101973</td>\n",
       "      <td>0.088706</td>\n",
       "      <td>0.070226</td>\n",
       "      <td>0.120270</td>\n",
       "      <td>0.058353</td>\n",
       "    </tr>\n",
       "    <tr>\n",
       "      <th>Impressions</th>\n",
       "      <td>0.462308</td>\n",
       "      <td>0.495273</td>\n",
       "      <td>0.439439</td>\n",
       "      <td>0.101973</td>\n",
       "      <td>1.000000</td>\n",
       "      <td>0.948514</td>\n",
       "      <td>0.970386</td>\n",
       "      <td>0.812838</td>\n",
       "      <td>0.684249</td>\n",
       "    </tr>\n",
       "    <tr>\n",
       "      <th>Clicks</th>\n",
       "      <td>0.431981</td>\n",
       "      <td>0.469729</td>\n",
       "      <td>0.406978</td>\n",
       "      <td>0.088706</td>\n",
       "      <td>0.948514</td>\n",
       "      <td>1.000000</td>\n",
       "      <td>0.992906</td>\n",
       "      <td>0.694632</td>\n",
       "      <td>0.559526</td>\n",
       "    </tr>\n",
       "    <tr>\n",
       "      <th>Spent</th>\n",
       "      <td>0.433053</td>\n",
       "      <td>0.476689</td>\n",
       "      <td>0.403532</td>\n",
       "      <td>0.070226</td>\n",
       "      <td>0.970386</td>\n",
       "      <td>0.992906</td>\n",
       "      <td>1.000000</td>\n",
       "      <td>0.725379</td>\n",
       "      <td>0.593178</td>\n",
       "    </tr>\n",
       "    <tr>\n",
       "      <th>Total_Conversion</th>\n",
       "      <td>0.346539</td>\n",
       "      <td>0.346684</td>\n",
       "      <td>0.344170</td>\n",
       "      <td>0.120270</td>\n",
       "      <td>0.812838</td>\n",
       "      <td>0.694632</td>\n",
       "      <td>0.725379</td>\n",
       "      <td>1.000000</td>\n",
       "      <td>0.864034</td>\n",
       "    </tr>\n",
       "    <tr>\n",
       "      <th>Approved_Conversion</th>\n",
       "      <td>0.271331</td>\n",
       "      <td>0.284968</td>\n",
       "      <td>0.257658</td>\n",
       "      <td>0.058353</td>\n",
       "      <td>0.684249</td>\n",
       "      <td>0.559526</td>\n",
       "      <td>0.593178</td>\n",
       "      <td>0.864034</td>\n",
       "      <td>1.000000</td>\n",
       "    </tr>\n",
       "  </tbody>\n",
       "</table>\n",
       "</div>"
      ],
      "text/plain": [
       "                        ad_id  xyz_campaign_id  fb_campaign_id  interest  \\\n",
       "ad_id                1.000000         0.929892        0.972002  0.456483   \n",
       "xyz_campaign_id      0.929892         1.000000        0.872392  0.272282   \n",
       "fb_campaign_id       0.972002         0.872392        1.000000  0.595753   \n",
       "interest             0.456483         0.272282        0.595753  1.000000   \n",
       "Impressions          0.462308         0.495273        0.439439  0.101973   \n",
       "Clicks               0.431981         0.469729        0.406978  0.088706   \n",
       "Spent                0.433053         0.476689        0.403532  0.070226   \n",
       "Total_Conversion     0.346539         0.346684        0.344170  0.120270   \n",
       "Approved_Conversion  0.271331         0.284968        0.257658  0.058353   \n",
       "\n",
       "                     Impressions    Clicks     Spent  Total_Conversion  \\\n",
       "ad_id                   0.462308  0.431981  0.433053          0.346539   \n",
       "xyz_campaign_id         0.495273  0.469729  0.476689          0.346684   \n",
       "fb_campaign_id          0.439439  0.406978  0.403532          0.344170   \n",
       "interest                0.101973  0.088706  0.070226          0.120270   \n",
       "Impressions             1.000000  0.948514  0.970386          0.812838   \n",
       "Clicks                  0.948514  1.000000  0.992906          0.694632   \n",
       "Spent                   0.970386  0.992906  1.000000          0.725379   \n",
       "Total_Conversion        0.812838  0.694632  0.725379          1.000000   \n",
       "Approved_Conversion     0.684249  0.559526  0.593178          0.864034   \n",
       "\n",
       "                     Approved_Conversion  \n",
       "ad_id                           0.271331  \n",
       "xyz_campaign_id                 0.284968  \n",
       "fb_campaign_id                  0.257658  \n",
       "interest                        0.058353  \n",
       "Impressions                     0.684249  \n",
       "Clicks                          0.559526  \n",
       "Spent                           0.593178  \n",
       "Total_Conversion                0.864034  \n",
       "Approved_Conversion             1.000000  "
      ]
     },
     "execution_count": 9,
     "metadata": {},
     "output_type": "execute_result"
    }
   ],
   "source": [
    "df.corr()"
   ]
  },
  {
   "cell_type": "markdown",
   "id": "b5afb8d9",
   "metadata": {
    "papermill": {
     "duration": 0.02536,
     "end_time": "2022-10-31T13:36:52.485119",
     "exception": false,
     "start_time": "2022-10-31T13:36:52.459759",
     "status": "completed"
    },
    "tags": []
   },
   "source": [
    "Visualizing the correlation data ( including only the quantitative variables)"
   ]
  },
  {
   "cell_type": "code",
   "execution_count": 10,
   "id": "5b2fc488",
   "metadata": {
    "execution": {
     "iopub.execute_input": "2022-10-31T13:36:52.538991Z",
     "iopub.status.busy": "2022-10-31T13:36:52.537961Z",
     "iopub.status.idle": "2022-10-31T13:36:52.862627Z",
     "shell.execute_reply": "2022-10-31T13:36:52.861557Z"
    },
    "papermill": {
     "duration": 0.353687,
     "end_time": "2022-10-31T13:36:52.864506",
     "exception": false,
     "start_time": "2022-10-31T13:36:52.510819",
     "status": "completed"
    },
    "tags": []
   },
   "outputs": [
    {
     "data": {
      "image/png": "[encoded data removed]",
      "text/plain": [
       "<Figure size 432x288 with 2 Axes>"
      ]
     },
     "metadata": {
      "needs_background": "light"
     },
     "output_type": "display_data"
    }
   ],
   "source": [
    "g=sns.heatmap(df[[\"Impressions\",\"Clicks\",\"Spent\",\"Total_Conversion\",\"Approved_Conversion\"]].corr(),annot=True ,fmt=\".2f\", cmap=\"YlGnBu\")"
   ]
  },
  {
   "cell_type": "markdown",
   "id": "fde51980",
   "metadata": {
    "papermill": {
     "duration": 0.026543,
     "end_time": "2022-10-31T13:36:52.918022",
     "exception": false,
     "start_time": "2022-10-31T13:36:52.891479",
     "status": "completed"
    },
    "tags": []
   },
   "source": [
    "* impressions and clicks are high corr,\n",
    "* impression and spent are high corr,\n",
    "* impression and total_conversion are high corr,\n",
    "* impression and approved_conv are moderately correlated,\n",
    "* clicks and spent are high corr,\n",
    "* clicks and total conv and approved conv are medium correlated,\n",
    "* spent and total_conv and spent are moderately correlated,\n",
    "* spent and approved conv are moderately correlated,\n",
    "* total conv and approved conversion are highly correlated.\n",
    "\n",
    " \n",
    "The more the ad is shown the higher the total conv and approved conv"
   ]
  },
  {
   "cell_type": "code",
   "execution_count": 11,
   "id": "df5c687c",
   "metadata": {
    "execution": {
     "iopub.execute_input": "2022-10-31T13:36:52.974873Z",
     "iopub.status.busy": "2022-10-31T13:36:52.974434Z",
     "iopub.status.idle": "2022-10-31T13:36:52.984568Z",
     "shell.execute_reply": "2022-10-31T13:36:52.983060Z"
    },
    "papermill": {
     "duration": 0.041553,
     "end_time": "2022-10-31T13:36:52.987240",
     "exception": false,
     "start_time": "2022-10-31T13:36:52.945687",
     "status": "completed"
    },
    "tags": []
   },
   "outputs": [
    {
     "data": {
      "text/plain": [
       "array([ 916,  936, 1178])"
      ]
     },
     "execution_count": 11,
     "metadata": {},
     "output_type": "execute_result"
    }
   ],
   "source": [
    "# 3 unique campaigns run by xyz company\n",
    "df['xyz_campaign_id'].unique()"
   ]
  },
  {
   "cell_type": "markdown",
   "id": "1fd7217a",
   "metadata": {
    "papermill": {
     "duration": 0.025837,
     "end_time": "2022-10-31T13:36:53.039353",
     "exception": false,
     "start_time": "2022-10-31T13:36:53.013516",
     "status": "completed"
    },
    "tags": []
   },
   "source": [
    "https://datatofish.com/replace-values-pandas-dataframe/---good link for replace functionality"
   ]
  },
  {
   "cell_type": "code",
   "execution_count": 12,
   "id": "9bec587b",
   "metadata": {
    "execution": {
     "iopub.execute_input": "2022-10-31T13:36:53.096793Z",
     "iopub.status.busy": "2022-10-31T13:36:53.096343Z",
     "iopub.status.idle": "2022-10-31T13:36:53.114558Z",
     "shell.execute_reply": "2022-10-31T13:36:53.113302Z"
    },
    "papermill": {
     "duration": 0.04986,
     "end_time": "2022-10-31T13:36:53.116755",
     "exception": false,
     "start_time": "2022-10-31T13:36:53.066895",
     "status": "completed"
    },
    "tags": []
   },
   "outputs": [
    {
     "data": {
      "text/html": [
       "<div>\n",
       "<style scoped>\n",
       "    .dataframe tbody tr th:only-of-type {\n",
       "        vertical-align: middle;\n",
       "    }\n",
       "\n",
       "    .dataframe tbody tr th {\n",
       "        vertical-align: top;\n",
       "    }\n",
       "\n",
       "    .dataframe thead th {\n",
       "        text-align: right;\n",
       "    }\n",
       "</style>\n",
       "<table border=\"1\" class=\"dataframe\">\n",
       "  <thead>\n",
       "    <tr style=\"text-align: right;\">\n",
       "      <th></th>\n",
       "      <th>ad_id</th>\n",
       "      <th>xyz_campaign_id</th>\n",
       "      <th>fb_campaign_id</th>\n",
       "      <th>age</th>\n",
       "      <th>gender</th>\n",
       "      <th>interest</th>\n",
       "      <th>Impressions</th>\n",
       "      <th>Clicks</th>\n",
       "      <th>Spent</th>\n",
       "      <th>Total_Conversion</th>\n",
       "      <th>Approved_Conversion</th>\n",
       "    </tr>\n",
       "  </thead>\n",
       "  <tbody>\n",
       "    <tr>\n",
       "      <th>0</th>\n",
       "      <td>708746</td>\n",
       "      <td>campaign_1</td>\n",
       "      <td>103916</td>\n",
       "      <td>30-34</td>\n",
       "      <td>M</td>\n",
       "      <td>15</td>\n",
       "      <td>7350</td>\n",
       "      <td>1</td>\n",
       "      <td>1.43</td>\n",
       "      <td>2</td>\n",
       "      <td>1</td>\n",
       "    </tr>\n",
       "    <tr>\n",
       "      <th>1</th>\n",
       "      <td>708749</td>\n",
       "      <td>campaign_1</td>\n",
       "      <td>103917</td>\n",
       "      <td>30-34</td>\n",
       "      <td>M</td>\n",
       "      <td>16</td>\n",
       "      <td>17861</td>\n",
       "      <td>2</td>\n",
       "      <td>1.82</td>\n",
       "      <td>2</td>\n",
       "      <td>0</td>\n",
       "    </tr>\n",
       "    <tr>\n",
       "      <th>2</th>\n",
       "      <td>708771</td>\n",
       "      <td>campaign_1</td>\n",
       "      <td>103920</td>\n",
       "      <td>30-34</td>\n",
       "      <td>M</td>\n",
       "      <td>20</td>\n",
       "      <td>693</td>\n",
       "      <td>0</td>\n",
       "      <td>0.00</td>\n",
       "      <td>1</td>\n",
       "      <td>0</td>\n",
       "    </tr>\n",
       "    <tr>\n",
       "      <th>3</th>\n",
       "      <td>708815</td>\n",
       "      <td>campaign_1</td>\n",
       "      <td>103928</td>\n",
       "      <td>30-34</td>\n",
       "      <td>M</td>\n",
       "      <td>28</td>\n",
       "      <td>4259</td>\n",
       "      <td>1</td>\n",
       "      <td>1.25</td>\n",
       "      <td>1</td>\n",
       "      <td>0</td>\n",
       "    </tr>\n",
       "    <tr>\n",
       "      <th>4</th>\n",
       "      <td>708818</td>\n",
       "      <td>campaign_1</td>\n",
       "      <td>103928</td>\n",
       "      <td>30-34</td>\n",
       "      <td>M</td>\n",
       "      <td>28</td>\n",
       "      <td>4133</td>\n",
       "      <td>1</td>\n",
       "      <td>1.29</td>\n",
       "      <td>1</td>\n",
       "      <td>1</td>\n",
       "    </tr>\n",
       "  </tbody>\n",
       "</table>\n",
       "</div>"
      ],
      "text/plain": [
       "    ad_id xyz_campaign_id  fb_campaign_id    age gender  interest  \\\n",
       "0  708746      campaign_1          103916  30-34      M        15   \n",
       "1  708749      campaign_1          103917  30-34      M        16   \n",
       "2  708771      campaign_1          103920  30-34      M        20   \n",
       "3  708815      campaign_1          103928  30-34      M        28   \n",
       "4  708818      campaign_1          103928  30-34      M        28   \n",
       "\n",
       "   Impressions  Clicks  Spent  Total_Conversion  Approved_Conversion  \n",
       "0         7350       1   1.43                 2                    1  \n",
       "1        17861       2   1.82                 2                    0  \n",
       "2          693       0   0.00                 1                    0  \n",
       "3         4259       1   1.25                 1                    0  \n",
       "4         4133       1   1.29                 1                    1  "
      ]
     },
     "execution_count": 12,
     "metadata": {},
     "output_type": "execute_result"
    }
   ],
   "source": [
    "# renaming the campaigns for analysis purpose\n",
    "df['xyz_campaign_id'].replace({916:'campaign_1',936:'campaign_2',1178:'campaign_3'}, inplace=True)\n",
    "df.head()"
   ]
  },
  {
   "cell_type": "code",
   "execution_count": 13,
   "id": "3d1e448c",
   "metadata": {
    "execution": {
     "iopub.execute_input": "2022-10-31T13:36:53.171912Z",
     "iopub.status.busy": "2022-10-31T13:36:53.171524Z",
     "iopub.status.idle": "2022-10-31T13:36:53.180007Z",
     "shell.execute_reply": "2022-10-31T13:36:53.178698Z"
    },
    "papermill": {
     "duration": 0.038884,
     "end_time": "2022-10-31T13:36:53.182549",
     "exception": false,
     "start_time": "2022-10-31T13:36:53.143665",
     "status": "completed"
    },
    "tags": []
   },
   "outputs": [
    {
     "name": "stdout",
     "output_type": "stream",
     "text": [
      "number_of_fb_campaigns: 691\n",
      "number_of_ads: 1143\n"
     ]
    }
   ],
   "source": [
    "print(\"number_of_fb_campaigns:\",df['fb_campaign_id'].nunique())\n",
    "# number of FB campaigns\n",
    "\n",
    "print(\"number_of_ads:\",df['ad_id'].nunique())"
   ]
  },
  {
   "cell_type": "markdown",
   "id": "db9acad1",
   "metadata": {
    "papermill": {
     "duration": 0.026217,
     "end_time": "2022-10-31T13:36:53.235057",
     "exception": false,
     "start_time": "2022-10-31T13:36:53.208840",
     "status": "completed"
    },
    "tags": []
   },
   "source": [
    "EDA for the 3 campaigns run by the XYZ company"
   ]
  },
  {
   "cell_type": "code",
   "execution_count": 14,
   "id": "95bff149",
   "metadata": {
    "execution": {
     "iopub.execute_input": "2022-10-31T13:36:53.290566Z",
     "iopub.status.busy": "2022-10-31T13:36:53.290077Z",
     "iopub.status.idle": "2022-10-31T13:36:53.422540Z",
     "shell.execute_reply": "2022-10-31T13:36:53.421488Z"
    },
    "papermill": {
     "duration": 0.162878,
     "end_time": "2022-10-31T13:36:53.424595",
     "exception": false,
     "start_time": "2022-10-31T13:36:53.261717",
     "status": "completed"
    },
    "tags": []
   },
   "outputs": [
    {
     "data": {
      "text/plain": [
       "<AxesSubplot:xlabel='xyz_campaign_id', ylabel='count'>"
      ]
     },
     "execution_count": 14,
     "metadata": {},
     "output_type": "execute_result"
    },
    {
     "data": {
      "image/png": "[encoded data removed]",
      "text/plain": [
       "<Figure size 432x288 with 1 Axes>"
      ]
     },
     "metadata": {
      "needs_background": "light"
     },
     "output_type": "display_data"
    }
   ],
   "source": [
    "sns.countplot(x='xyz_campaign_id', data=df)\n",
    "# we can see that maximum adds were shown to campaign_3"
   ]
  },
  {
   "cell_type": "code",
   "execution_count": 15,
   "id": "5a4ab88f",
   "metadata": {
    "execution": {
     "iopub.execute_input": "2022-10-31T13:36:53.488828Z",
     "iopub.status.busy": "2022-10-31T13:36:53.488272Z",
     "iopub.status.idle": "2022-10-31T13:36:53.825940Z",
     "shell.execute_reply": "2022-10-31T13:36:53.824434Z"
    },
    "papermill": {
     "duration": 0.369125,
     "end_time": "2022-10-31T13:36:53.828201",
     "exception": false,
     "start_time": "2022-10-31T13:36:53.459076",
     "status": "completed"
    },
    "tags": []
   },
   "outputs": [
    {
     "data": {
      "image/png": "[encoded data removed]",
      "text/plain": [
       "<Figure size 432x288 with 1 Axes>"
      ]
     },
     "metadata": {
      "needs_background": "light"
     },
     "output_type": "display_data"
    }
   ],
   "source": [
    "ax=sns.countplot(x ='xyz_campaign_id',hue=\"Approved_Conversion\", data = df) \n",
    "plt.grid(axis='y')\n",
    "sns.move_legend(ax, \"upper left\", bbox_to_anchor=(1, 1))\n",
    "# campaign_3 has maximum approved conversions\n"
   ]
  },
  {
   "cell_type": "code",
   "execution_count": 16,
   "id": "3406557c",
   "metadata": {
    "execution": {
     "iopub.execute_input": "2022-10-31T13:36:53.886085Z",
     "iopub.status.busy": "2022-10-31T13:36:53.885398Z",
     "iopub.status.idle": "2022-10-31T13:36:54.042712Z",
     "shell.execute_reply": "2022-10-31T13:36:54.041837Z"
    },
    "papermill": {
     "duration": 0.188866,
     "end_time": "2022-10-31T13:36:54.044991",
     "exception": false,
     "start_time": "2022-10-31T13:36:53.856125",
     "status": "completed"
    },
    "tags": []
   },
   "outputs": [
    {
     "data": {
      "image/png": "[encoded data removed]",
      "text/plain": [
       "<Figure size 432x288 with 1 Axes>"
      ]
     },
     "metadata": {
      "needs_background": "light"
     },
     "output_type": "display_data"
    }
   ],
   "source": [
    "ax=sns.scatterplot(x ='xyz_campaign_id',y=\"Clicks\", data = df) \n",
    "# campaign_3 clicks are more"
   ]
  },
  {
   "cell_type": "code",
   "execution_count": 17,
   "id": "8b030991",
   "metadata": {
    "execution": {
     "iopub.execute_input": "2022-10-31T13:36:54.102770Z",
     "iopub.status.busy": "2022-10-31T13:36:54.102028Z",
     "iopub.status.idle": "2022-10-31T13:36:54.654509Z",
     "shell.execute_reply": "2022-10-31T13:36:54.653462Z"
    },
    "papermill": {
     "duration": 0.583373,
     "end_time": "2022-10-31T13:36:54.656416",
     "exception": false,
     "start_time": "2022-10-31T13:36:54.073043",
     "status": "completed"
    },
    "tags": []
   },
   "outputs": [
    {
     "data": {
      "image/png": "[encoded data removed]",
      "text/plain": [
       "<Figure size 432x288 with 1 Axes>"
      ]
     },
     "metadata": {
      "needs_background": "light"
     },
     "output_type": "display_data"
    }
   ],
   "source": [
    "ax=sns.countplot(x ='xyz_campaign_id',hue=\"Total_Conversion\", data = df) \n",
    "plt.grid(axis='y')\n",
    "sns.move_legend(ax, \"upper left\", bbox_to_anchor=(1, 1))"
   ]
  },
  {
   "cell_type": "code",
   "execution_count": 18,
   "id": "108dc2fa",
   "metadata": {
    "execution": {
     "iopub.execute_input": "2022-10-31T13:36:54.716680Z",
     "iopub.status.busy": "2022-10-31T13:36:54.715943Z",
     "iopub.status.idle": "2022-10-31T13:36:54.906909Z",
     "shell.execute_reply": "2022-10-31T13:36:54.906078Z"
    },
    "papermill": {
     "duration": 0.224466,
     "end_time": "2022-10-31T13:36:54.908789",
     "exception": false,
     "start_time": "2022-10-31T13:36:54.684323",
     "status": "completed"
    },
    "tags": []
   },
   "outputs": [
    {
     "data": {
      "image/png": "[encoded data removed]",
      "text/plain": [
       "<Figure size 432x288 with 1 Axes>"
      ]
     },
     "metadata": {
      "needs_background": "light"
     },
     "output_type": "display_data"
    }
   ],
   "source": [
    "ax=sns.countplot(x ='xyz_campaign_id',hue=\"gender\", data = df) \n",
    "plt.grid(axis='y')\n",
    "sns.move_legend(ax, \"upper left\", bbox_to_anchor=(1, 1))\n",
    "\n",
    "# distribution of gender over campaigns not same"
   ]
  },
  {
   "cell_type": "code",
   "execution_count": 19,
   "id": "f73c21dc",
   "metadata": {
    "execution": {
     "iopub.execute_input": "2022-10-31T13:36:54.968617Z",
     "iopub.status.busy": "2022-10-31T13:36:54.967809Z",
     "iopub.status.idle": "2022-10-31T13:36:55.262380Z",
     "shell.execute_reply": "2022-10-31T13:36:55.261400Z"
    },
    "papermill": {
     "duration": 0.327642,
     "end_time": "2022-10-31T13:36:55.264382",
     "exception": false,
     "start_time": "2022-10-31T13:36:54.936740",
     "status": "completed"
    },
    "tags": []
   },
   "outputs": [
    {
     "data": {
      "image/png": "[encoded data removed]",
      "text/plain": [
       "<Figure size 432x288 with 1 Axes>"
      ]
     },
     "metadata": {
      "needs_background": "light"
     },
     "output_type": "display_data"
    }
   ],
   "source": [
    "ax=sns.countplot(hue ='Approved_Conversion',x=\"gender\", data = df) \n",
    "plt.grid(axis='y')\n",
    "sns.move_legend(ax, \"upper left\", bbox_to_anchor=(1, 1))\n",
    "# Males convert more than females"
   ]
  },
  {
   "cell_type": "code",
   "execution_count": 20,
   "id": "812f8820",
   "metadata": {
    "execution": {
     "iopub.execute_input": "2022-10-31T13:36:55.321477Z",
     "iopub.status.busy": "2022-10-31T13:36:55.321060Z",
     "iopub.status.idle": "2022-10-31T13:36:55.625460Z",
     "shell.execute_reply": "2022-10-31T13:36:55.624544Z"
    },
    "papermill": {
     "duration": 0.335652,
     "end_time": "2022-10-31T13:36:55.627625",
     "exception": false,
     "start_time": "2022-10-31T13:36:55.291973",
     "status": "completed"
    },
    "tags": []
   },
   "outputs": [
    {
     "data": {
      "image/png": "[encoded data removed]",
      "text/plain": [
       "<Figure size 432x288 with 1 Axes>"
      ]
     },
     "metadata": {
      "needs_background": "light"
     },
     "output_type": "display_data"
    }
   ],
   "source": [
    "ax=sns.barplot(x ='xyz_campaign_id',y='Approved_Conversion',hue='gender', data = df) \n",
    "sns.move_legend(ax, \"upper left\", bbox_to_anchor=(1, 1))\n",
    "\n",
    "# unlike campaign 1 and campaign 2 , campaign 3 has more females with conversions"
   ]
  },
  {
   "cell_type": "markdown",
   "id": "360ccb20",
   "metadata": {
    "papermill": {
     "duration": 0.029005,
     "end_time": "2022-10-31T13:36:55.685026",
     "exception": false,
     "start_time": "2022-10-31T13:36:55.656021",
     "status": "completed"
    },
    "tags": []
   },
   "source": [
    "distribution of conversions with campaigns over age"
   ]
  },
  {
   "cell_type": "code",
   "execution_count": 21,
   "id": "965cfe3c",
   "metadata": {
    "execution": {
     "iopub.execute_input": "2022-10-31T13:36:55.743477Z",
     "iopub.status.busy": "2022-10-31T13:36:55.741623Z",
     "iopub.status.idle": "2022-10-31T13:36:56.109879Z",
     "shell.execute_reply": "2022-10-31T13:36:56.108793Z"
    },
    "papermill": {
     "duration": 0.400111,
     "end_time": "2022-10-31T13:36:56.112839",
     "exception": false,
     "start_time": "2022-10-31T13:36:55.712728",
     "status": "completed"
    },
    "tags": []
   },
   "outputs": [
    {
     "data": {
      "image/png": "[encoded data removed]",
      "text/plain": [
       "<Figure size 432x288 with 1 Axes>"
      ]
     },
     "metadata": {
      "needs_background": "light"
     },
     "output_type": "display_data"
    }
   ],
   "source": [
    "ax=sns.countplot(x='age',hue='Approved_Conversion', data=df)\n",
    "sns.move_legend(ax, \"upper left\", bbox_to_anchor=(1, 1))\n",
    "# maximum users are in 30-34 age bracket and also maximum conversions are from same age group"
   ]
  },
  {
   "cell_type": "code",
   "execution_count": 22,
   "id": "5a081008",
   "metadata": {
    "execution": {
     "iopub.execute_input": "2022-10-31T13:36:56.173981Z",
     "iopub.status.busy": "2022-10-31T13:36:56.173513Z",
     "iopub.status.idle": "2022-10-31T13:36:56.594280Z",
     "shell.execute_reply": "2022-10-31T13:36:56.592571Z"
    },
    "papermill": {
     "duration": 0.456096,
     "end_time": "2022-10-31T13:36:56.597965",
     "exception": false,
     "start_time": "2022-10-31T13:36:56.141869",
     "status": "completed"
    },
    "tags": []
   },
   "outputs": [
    {
     "data": {
      "image/png": "[encoded data removed]",
      "text/plain": [
       "<Figure size 432x288 with 1 Axes>"
      ]
     },
     "metadata": {
      "needs_background": "light"
     },
     "output_type": "display_data"
    }
   ],
   "source": [
    "ax=sns.countplot(x='xyz_campaign_id',hue='age', data=df)\n",
    "sns.move_legend(ax, \"upper left\", bbox_to_anchor=(1, 1))\n",
    "# maximum users are in 30-34 age, 45-49 age  bracket and also maximum conversions are from same age group\n",
    "# maximum people /ads were in campaign 3 and so maximum conversions in 30-34 age bracket"
   ]
  },
  {
   "cell_type": "code",
   "execution_count": 23,
   "id": "ab4db12d",
   "metadata": {
    "execution": {
     "iopub.execute_input": "2022-10-31T13:36:56.658452Z",
     "iopub.status.busy": "2022-10-31T13:36:56.657960Z",
     "iopub.status.idle": "2022-10-31T13:36:57.598826Z",
     "shell.execute_reply": "2022-10-31T13:36:57.597371Z"
    },
    "papermill": {
     "duration": 0.974026,
     "end_time": "2022-10-31T13:36:57.601537",
     "exception": false,
     "start_time": "2022-10-31T13:36:56.627511",
     "status": "completed"
    },
    "tags": []
   },
   "outputs": [
    {
     "data": {
      "text/plain": [
       "<AxesSubplot:xlabel='xyz_campaign_id', ylabel='Approved_Conversion'>"
      ]
     },
     "execution_count": 23,
     "metadata": {},
     "output_type": "execute_result"
    },
    {
     "data": {
      "image/png": "[encoded data removed]",
      "text/plain": [
       "<Figure size 432x288 with 1 Axes>"
      ]
     },
     "metadata": {},
     "output_type": "display_data"
    }
   ],
   "source": [
    "import seaborn as sns\n",
    "sns.set(style=\"whitegrid\")\n",
    "tips = sns.load_dataset(\"tips\")\n",
    "sns.barplot(x=df[\"xyz_campaign_id\"], y=df[\"Approved_Conversion\"], hue=df[\"age\"], data=tips)\n",
    "\n",
    "# distribution of conversions in each campaign by age\n",
    "# campaign_1 has most conversions for age group 40-44 and least for 30-34. \n",
    "\n",
    "#In other 2 campaigns it is reverse trend. Maximum for 30-34 and minimum for 40-44.\n"
   ]
  },
  {
   "cell_type": "code",
   "execution_count": 24,
   "id": "6ccba4a1",
   "metadata": {
    "execution": {
     "iopub.execute_input": "2022-10-31T13:36:57.662453Z",
     "iopub.status.busy": "2022-10-31T13:36:57.661733Z",
     "iopub.status.idle": "2022-10-31T13:36:57.842288Z",
     "shell.execute_reply": "2022-10-31T13:36:57.841066Z"
    },
    "papermill": {
     "duration": 0.215087,
     "end_time": "2022-10-31T13:36:57.845750",
     "exception": false,
     "start_time": "2022-10-31T13:36:57.630663",
     "status": "completed"
    },
    "tags": []
   },
   "outputs": [
    {
     "data": {
      "image/png": "[encoded data removed]",
      "text/plain": [
       "<Figure size 1080x504 with 1 Axes>"
      ]
     },
     "metadata": {},
     "output_type": "display_data"
    }
   ],
   "source": [
    "fig=plt.figure(figsize=(15,7))\n",
    "\n",
    "sns.scatterplot(y='Impressions',x='xyz_campaign_id', data=df)\n",
    "\n",
    "\n",
    "plt.show()"
   ]
  },
  {
   "cell_type": "code",
   "execution_count": 25,
   "id": "3e0820dc",
   "metadata": {
    "execution": {
     "iopub.execute_input": "2022-10-31T13:36:57.909029Z",
     "iopub.status.busy": "2022-10-31T13:36:57.908347Z",
     "iopub.status.idle": "2022-10-31T13:36:58.122769Z",
     "shell.execute_reply": "2022-10-31T13:36:58.122047Z"
    },
    "papermill": {
     "duration": 0.249425,
     "end_time": "2022-10-31T13:36:58.125372",
     "exception": false,
     "start_time": "2022-10-31T13:36:57.875947",
     "status": "completed"
    },
    "tags": []
   },
   "outputs": [
    {
     "data": {
      "image/png": "[encoded data removed]",
      "text/plain": [
       "<Figure size 1080x504 with 1 Axes>"
      ]
     },
     "metadata": {},
     "output_type": "display_data"
    }
   ],
   "source": [
    "fig=plt.figure(figsize=(15,7))\n",
    "\n",
    "sns.scatterplot(y='Impressions',x='Approved_Conversion', data=df)\n",
    "\n",
    "\n",
    "plt.show()"
   ]
  },
  {
   "cell_type": "markdown",
   "id": "88d9ef87",
   "metadata": {
    "papermill": {
     "duration": 0.028858,
     "end_time": "2022-10-31T13:36:58.184401",
     "exception": false,
     "start_time": "2022-10-31T13:36:58.155543",
     "status": "completed"
    },
    "tags": []
   },
   "source": [
    "higher Impressions drive higher conversions"
   ]
  },
  {
   "cell_type": "code",
   "execution_count": 26,
   "id": "40d7ffe1",
   "metadata": {
    "execution": {
     "iopub.execute_input": "2022-10-31T13:36:58.246549Z",
     "iopub.status.busy": "2022-10-31T13:36:58.245630Z",
     "iopub.status.idle": "2022-10-31T13:36:58.255168Z",
     "shell.execute_reply": "2022-10-31T13:36:58.254374Z"
    },
    "papermill": {
     "duration": 0.043182,
     "end_time": "2022-10-31T13:36:58.256994",
     "exception": false,
     "start_time": "2022-10-31T13:36:58.213812",
     "status": "completed"
    },
    "tags": []
   },
   "outputs": [
    {
     "data": {
      "text/plain": [
       "xyz_campaign_id\n",
       "campaign_1      113\n",
       "campaign_2     1984\n",
       "campaign_3    36068\n",
       "Name: Clicks, dtype: int64"
      ]
     },
     "execution_count": 26,
     "metadata": {},
     "output_type": "execute_result"
    }
   ],
   "source": [
    "df['Clicks'].groupby(by=df['xyz_campaign_id']).sum()"
   ]
  },
  {
   "cell_type": "code",
   "execution_count": 27,
   "id": "dc45b57e",
   "metadata": {
    "execution": {
     "iopub.execute_input": "2022-10-31T13:36:58.320244Z",
     "iopub.status.busy": "2022-10-31T13:36:58.319658Z",
     "iopub.status.idle": "2022-10-31T13:36:58.331996Z",
     "shell.execute_reply": "2022-10-31T13:36:58.330619Z"
    },
    "papermill": {
     "duration": 0.047263,
     "end_time": "2022-10-31T13:36:58.334548",
     "exception": false,
     "start_time": "2022-10-31T13:36:58.287285",
     "status": "completed"
    },
    "tags": []
   },
   "outputs": [
    {
     "data": {
      "text/plain": [
       "xyz_campaign_id\n",
       "campaign_1     24\n",
       "campaign_2    183\n",
       "campaign_3    872\n",
       "Name: Approved_Conversion, dtype: int64"
      ]
     },
     "execution_count": 27,
     "metadata": {},
     "output_type": "execute_result"
    }
   ],
   "source": [
    "df['Approved_Conversion'].groupby(by=df['xyz_campaign_id']).sum()"
   ]
  },
  {
   "cell_type": "code",
   "execution_count": 28,
   "id": "5fa14578",
   "metadata": {
    "execution": {
     "iopub.execute_input": "2022-10-31T13:36:58.399474Z",
     "iopub.status.busy": "2022-10-31T13:36:58.399000Z",
     "iopub.status.idle": "2022-10-31T13:36:58.410988Z",
     "shell.execute_reply": "2022-10-31T13:36:58.409959Z"
    },
    "papermill": {
     "duration": 0.046942,
     "end_time": "2022-10-31T13:36:58.413542",
     "exception": false,
     "start_time": "2022-10-31T13:36:58.366600",
     "status": "completed"
    },
    "tags": []
   },
   "outputs": [
    {
     "data": {
      "text/plain": [
       "xyz_campaign_id\n",
       "campaign_1      58\n",
       "campaign_2     537\n",
       "campaign_3    2669\n",
       "Name: Total_Conversion, dtype: int64"
      ]
     },
     "execution_count": 28,
     "metadata": {},
     "output_type": "execute_result"
    }
   ],
   "source": [
    "df['Total_Conversion'].groupby(by=df['xyz_campaign_id']).sum()"
   ]
  },
  {
   "cell_type": "code",
   "execution_count": 29,
   "id": "47f297a4",
   "metadata": {
    "execution": {
     "iopub.execute_input": "2022-10-31T13:36:58.478460Z",
     "iopub.status.busy": "2022-10-31T13:36:58.477654Z",
     "iopub.status.idle": "2022-10-31T13:36:58.488370Z",
     "shell.execute_reply": "2022-10-31T13:36:58.486840Z"
    },
    "papermill": {
     "duration": 0.046113,
     "end_time": "2022-10-31T13:36:58.491080",
     "exception": false,
     "start_time": "2022-10-31T13:36:58.444967",
     "status": "completed"
    },
    "tags": []
   },
   "outputs": [
    {
     "data": {
      "text/plain": [
       "xyz_campaign_id\n",
       "campaign_1     54\n",
       "campaign_2    464\n",
       "campaign_3    625\n",
       "Name: ad_id, dtype: int64"
      ]
     },
     "execution_count": 29,
     "metadata": {},
     "output_type": "execute_result"
    }
   ],
   "source": [
    "df['ad_id'].groupby(by=df['xyz_campaign_id']).count()"
   ]
  },
  {
   "cell_type": "code",
   "execution_count": 30,
   "id": "02b4b8b7",
   "metadata": {
    "execution": {
     "iopub.execute_input": "2022-10-31T13:36:58.553694Z",
     "iopub.status.busy": "2022-10-31T13:36:58.553244Z",
     "iopub.status.idle": "2022-10-31T13:36:58.565385Z",
     "shell.execute_reply": "2022-10-31T13:36:58.564138Z"
    },
    "papermill": {
     "duration": 0.046681,
     "end_time": "2022-10-31T13:36:58.567929",
     "exception": false,
     "start_time": "2022-10-31T13:36:58.521248",
     "status": "completed"
    },
    "tags": []
   },
   "outputs": [
    {
     "data": {
      "text/plain": [
       "xyz_campaign_id\n",
       "campaign_1       482925\n",
       "campaign_2      8128187\n",
       "campaign_3    204823716\n",
       "Name: Impressions, dtype: int64"
      ]
     },
     "execution_count": 30,
     "metadata": {},
     "output_type": "execute_result"
    }
   ],
   "source": [
    "df['Impressions'].groupby(by=df['xyz_campaign_id']).sum()"
   ]
  },
  {
   "cell_type": "code",
   "execution_count": 31,
   "id": "dd3d1780",
   "metadata": {
    "execution": {
     "iopub.execute_input": "2022-10-31T13:36:58.633351Z",
     "iopub.status.busy": "2022-10-31T13:36:58.632045Z",
     "iopub.status.idle": "2022-10-31T13:36:58.641185Z",
     "shell.execute_reply": "2022-10-31T13:36:58.639243Z"
    },
    "papermill": {
     "duration": 0.044688,
     "end_time": "2022-10-31T13:36:58.644014",
     "exception": false,
     "start_time": "2022-10-31T13:36:58.599326",
     "status": "completed"
    },
    "tags": []
   },
   "outputs": [
    {
     "data": {
      "text/plain": [
       "array([ 15,  16,  20,  28,  29,  27,  31,   7,  30,  24,  21,  32,  18,\n",
       "        63,  65,  25,  10,  19,  26,  36,  23,  64,  22,   2,  66, 100,\n",
       "       101, 102, 103, 105, 107, 110, 111, 112, 113, 108, 109, 114, 104,\n",
       "       106])"
      ]
     },
     "execution_count": 31,
     "metadata": {},
     "output_type": "execute_result"
    }
   ],
   "source": [
    "df['interest'].unique()"
   ]
  },
  {
   "cell_type": "code",
   "execution_count": 32,
   "id": "908ae80d",
   "metadata": {
    "execution": {
     "iopub.execute_input": "2022-10-31T13:36:58.709273Z",
     "iopub.status.busy": "2022-10-31T13:36:58.708795Z",
     "iopub.status.idle": "2022-10-31T13:36:58.725953Z",
     "shell.execute_reply": "2022-10-31T13:36:58.724468Z"
    },
    "papermill": {
     "duration": 0.05433,
     "end_time": "2022-10-31T13:36:58.729139",
     "exception": false,
     "start_time": "2022-10-31T13:36:58.674809",
     "status": "completed"
    },
    "tags": []
   },
   "outputs": [
    {
     "data": {
      "text/plain": [
       "16.0     38\n",
       "10.0     35\n",
       "29.0     35\n",
       "27.0     26\n",
       "63.0     26\n",
       "28.0     26\n",
       "64.0     24\n",
       "20.0     24\n",
       "19.0     23\n",
       "22.0     22\n",
       "21.0     22\n",
       "32.0     21\n",
       "18.0     20\n",
       "15.0     20\n",
       "25.0     19\n",
       "2.0      18\n",
       "26.0     18\n",
       "23.0     17\n",
       "24.0     16\n",
       "30.0     16\n",
       "31.0     15\n",
       "7.0      14\n",
       "36.0     13\n",
       "65.0     11\n",
       "66.0     11\n",
       "107.0     8\n",
       "110.0     8\n",
       "102.0     7\n",
       "105.0     7\n",
       "101.0     7\n",
       "112.0     7\n",
       "108.0     7\n",
       "100.0     6\n",
       "111.0     6\n",
       "113.0     6\n",
       "109.0     6\n",
       "103.0     5\n",
       "114.0     5\n",
       "104.0     5\n",
       "106.0     5\n",
       "Name: interest, dtype: int64"
      ]
     },
     "execution_count": 32,
     "metadata": {},
     "output_type": "execute_result"
    }
   ],
   "source": [
    "df['interest'].where(df['xyz_campaign_id']=='campaign_3').value_counts()"
   ]
  },
  {
   "cell_type": "code",
   "execution_count": 33,
   "id": "02e6bf3e",
   "metadata": {
    "execution": {
     "iopub.execute_input": "2022-10-31T13:36:58.793820Z",
     "iopub.status.busy": "2022-10-31T13:36:58.793348Z",
     "iopub.status.idle": "2022-10-31T13:36:58.807437Z",
     "shell.execute_reply": "2022-10-31T13:36:58.805800Z"
    },
    "papermill": {
     "duration": 0.050099,
     "end_time": "2022-10-31T13:36:58.810629",
     "exception": false,
     "start_time": "2022-10-31T13:36:58.760530",
     "status": "completed"
    },
    "tags": []
   },
   "outputs": [
    {
     "data": {
      "text/plain": [
       "16.0    86\n",
       "10.0    48\n",
       "29.0    39\n",
       "27.0    31\n",
       "64.0    24\n",
       "26.0    23\n",
       "20.0    22\n",
       "15.0    22\n",
       "18.0    22\n",
       "28.0    21\n",
       "63.0    18\n",
       "21.0    13\n",
       "22.0    11\n",
       "32.0    11\n",
       "36.0     8\n",
       "19.0     8\n",
       "31.0     8\n",
       "7.0      8\n",
       "30.0     8\n",
       "2.0      7\n",
       "24.0     7\n",
       "65.0     7\n",
       "23.0     6\n",
       "25.0     6\n",
       "Name: interest, dtype: int64"
      ]
     },
     "execution_count": 33,
     "metadata": {},
     "output_type": "execute_result"
    }
   ],
   "source": [
    "df['interest'].where(df['xyz_campaign_id']=='campaign_2').value_counts()"
   ]
  },
  {
   "cell_type": "code",
   "execution_count": 34,
   "id": "f951bb8b",
   "metadata": {
    "execution": {
     "iopub.execute_input": "2022-10-31T13:36:58.877217Z",
     "iopub.status.busy": "2022-10-31T13:36:58.876681Z",
     "iopub.status.idle": "2022-10-31T13:36:59.355711Z",
     "shell.execute_reply": "2022-10-31T13:36:59.353986Z"
    },
    "papermill": {
     "duration": 0.516372,
     "end_time": "2022-10-31T13:36:59.358872",
     "exception": false,
     "start_time": "2022-10-31T13:36:58.842500",
     "status": "completed"
    },
    "tags": []
   },
   "outputs": [
    {
     "data": {
      "image/png": "[encoded data removed]",
      "text/plain": [
       "<Figure size 1080x504 with 1 Axes>"
      ]
     },
     "metadata": {},
     "output_type": "display_data"
    }
   ],
   "source": [
    "fig=plt.figure(figsize=(15,7))\n",
    "\n",
    "sns.countplot(x='interest', data=df)\n",
    "\n",
    "\n",
    "plt.show()"
   ]
  },
  {
   "cell_type": "code",
   "execution_count": 35,
   "id": "bda9858b",
   "metadata": {
    "execution": {
     "iopub.execute_input": "2022-10-31T13:36:59.426310Z",
     "iopub.status.busy": "2022-10-31T13:36:59.425782Z",
     "iopub.status.idle": "2022-10-31T13:36:59.642309Z",
     "shell.execute_reply": "2022-10-31T13:36:59.640848Z"
    },
    "papermill": {
     "duration": 0.25457,
     "end_time": "2022-10-31T13:36:59.645718",
     "exception": false,
     "start_time": "2022-10-31T13:36:59.391148",
     "status": "completed"
    },
    "tags": []
   },
   "outputs": [
    {
     "data": {
      "image/png": "[encoded data removed]",
      "text/plain": [
       "<Figure size 1080x504 with 1 Axes>"
      ]
     },
     "metadata": {},
     "output_type": "display_data"
    }
   ],
   "source": [
    "fig=plt.figure(figsize=(15,7))\n",
    "\n",
    "sns.scatterplot(y='interest',x='Approved_Conversion', data=df)\n",
    "\n",
    "\n",
    "plt.show()"
   ]
  },
  {
   "cell_type": "code",
   "execution_count": 36,
   "id": "6edd9ae8",
   "metadata": {
    "execution": {
     "iopub.execute_input": "2022-10-31T13:36:59.712178Z",
     "iopub.status.busy": "2022-10-31T13:36:59.711747Z",
     "iopub.status.idle": "2022-10-31T13:37:00.407743Z",
     "shell.execute_reply": "2022-10-31T13:37:00.406479Z"
    },
    "papermill": {
     "duration": 0.732032,
     "end_time": "2022-10-31T13:37:00.410205",
     "exception": false,
     "start_time": "2022-10-31T13:36:59.678173",
     "status": "completed"
    },
    "tags": []
   },
   "outputs": [
    {
     "data": {
      "image/png": "[encoded data removed]",
      "text/plain": [
       "<Figure size 1080x504 with 1 Axes>"
      ]
     },
     "metadata": {},
     "output_type": "display_data"
    }
   ],
   "source": [
    "fig=plt.figure(figsize=(15,7))\n",
    "\n",
    "sns.countplot(x='interest',hue='xyz_campaign_id', data=df)\n",
    "\n",
    "\n",
    "plt.show()"
   ]
  },
  {
   "cell_type": "markdown",
   "id": "892903d3",
   "metadata": {
    "papermill": {
     "duration": 0.031526,
     "end_time": "2022-10-31T13:37:00.473802",
     "exception": false,
     "start_time": "2022-10-31T13:37:00.442276",
     "status": "completed"
    },
    "tags": []
   },
   "source": [
    "\n",
    "Though there are more add campaigns with interest code ranging between 2-66 , there are still many conversions for ads with interest code beyond 66 code.\n",
    "When we compare the xyz campaign_3 with xyz campaign_2 we can see that campaign_3 has many adds with interests beyond code 66 and perhaps that is what is driving the higher conversions as well."
   ]
  },
  {
   "cell_type": "code",
   "execution_count": 37,
   "id": "2e00c53f",
   "metadata": {
    "execution": {
     "iopub.execute_input": "2022-10-31T13:37:00.539141Z",
     "iopub.status.busy": "2022-10-31T13:37:00.538737Z",
     "iopub.status.idle": "2022-10-31T13:37:00.550954Z",
     "shell.execute_reply": "2022-10-31T13:37:00.549933Z"
    },
    "papermill": {
     "duration": 0.047894,
     "end_time": "2022-10-31T13:37:00.553624",
     "exception": false,
     "start_time": "2022-10-31T13:37:00.505730",
     "status": "completed"
    },
    "tags": []
   },
   "outputs": [
    {
     "data": {
      "text/plain": [
       "interest\n",
       "2       0.809449\n",
       "7       1.224186\n",
       "10      8.428729\n",
       "15      5.034725\n",
       "16     14.903624\n",
       "18      4.051114\n",
       "19      2.850152\n",
       "20      3.232793\n",
       "21      1.327488\n",
       "22      1.857898\n",
       "23      0.860388\n",
       "24      1.057407\n",
       "25      2.460573\n",
       "26      2.281089\n",
       "27      7.661602\n",
       "28      5.134977\n",
       "29      8.793622\n",
       "30      1.026441\n",
       "31      0.503813\n",
       "32      3.024465\n",
       "36      0.432417\n",
       "63      3.919529\n",
       "64      2.382676\n",
       "65      0.814088\n",
       "66      0.418585\n",
       "100     0.948154\n",
       "101     1.387052\n",
       "102     0.543938\n",
       "103     0.900065\n",
       "104     0.661612\n",
       "105     1.244572\n",
       "106     0.746097\n",
       "107     2.099990\n",
       "108     1.294730\n",
       "109     1.396382\n",
       "110     1.140732\n",
       "111     0.698525\n",
       "112     1.089125\n",
       "113     0.857669\n",
       "114     0.499527\n",
       "Name: Impressions, dtype: float64"
      ]
     },
     "execution_count": 37,
     "metadata": {},
     "output_type": "execute_result"
    }
   ],
   "source": [
    "(df['Impressions'].groupby(df['interest']).sum()/df['Impressions'].sum())*100\n",
    "# percentage ad impression for each interest. For interest code 16 it is dispproportinately high. interest code 29 has 8 % impressions but \n",
    "#delivers 12 % conversions. The impressions should be increased for other ads with interest code that are giving high conversions. Redistribute\n",
    "#the impressions based on the conversions."
   ]
  },
  {
   "cell_type": "code",
   "execution_count": 38,
   "id": "940481ae",
   "metadata": {
    "execution": {
     "iopub.execute_input": "2022-10-31T13:37:00.621791Z",
     "iopub.status.busy": "2022-10-31T13:37:00.620789Z",
     "iopub.status.idle": "2022-10-31T13:37:00.631957Z",
     "shell.execute_reply": "2022-10-31T13:37:00.630144Z"
    },
    "papermill": {
     "duration": 0.049019,
     "end_time": "2022-10-31T13:37:00.634944",
     "exception": false,
     "start_time": "2022-10-31T13:37:00.585925",
     "status": "completed"
    },
    "tags": []
   },
   "outputs": [
    {
     "data": {
      "text/plain": [
       "interest\n",
       "2       1.760890\n",
       "7       1.760890\n",
       "10      8.433735\n",
       "15      5.838740\n",
       "16     13.067655\n",
       "18      3.058387\n",
       "19      3.058387\n",
       "20      4.355885\n",
       "21      2.502317\n",
       "22      1.112141\n",
       "23      0.648749\n",
       "24      1.390176\n",
       "25      1.760890\n",
       "26      2.131603\n",
       "27      5.004634\n",
       "28      3.892493\n",
       "29     12.233550\n",
       "30      1.112141\n",
       "31      1.482854\n",
       "32      3.243744\n",
       "36      0.926784\n",
       "63      3.151066\n",
       "64      2.502317\n",
       "65      1.760890\n",
       "66      0.370714\n",
       "100     0.834106\n",
       "101     2.316960\n",
       "102     0.648749\n",
       "103     0.463392\n",
       "104     0.741427\n",
       "105     0.556070\n",
       "106     0.463392\n",
       "107     1.853568\n",
       "108     0.648749\n",
       "109     0.741427\n",
       "110     0.834106\n",
       "111     0.926784\n",
       "112     1.390176\n",
       "113     0.648749\n",
       "114     0.370714\n",
       "Name: Approved_Conversion, dtype: float64"
      ]
     },
     "execution_count": 38,
     "metadata": {},
     "output_type": "execute_result"
    }
   ],
   "source": [
    "(df[\"Approved_Conversion\"].groupby(df['interest']).sum()/df[\"Approved_Conversion\"].sum())*100"
   ]
  },
  {
   "cell_type": "code",
   "execution_count": 39,
   "id": "4662a7a4",
   "metadata": {
    "execution": {
     "iopub.execute_input": "2022-10-31T13:37:00.707262Z",
     "iopub.status.busy": "2022-10-31T13:37:00.706785Z",
     "iopub.status.idle": "2022-10-31T13:37:02.975798Z",
     "shell.execute_reply": "2022-10-31T13:37:02.974389Z"
    },
    "papermill": {
     "duration": 2.308067,
     "end_time": "2022-10-31T13:37:02.977901",
     "exception": false,
     "start_time": "2022-10-31T13:37:00.669834",
     "status": "completed"
    },
    "tags": []
   },
   "outputs": [
    {
     "data": {
      "image/png": "[encoded data removed]",
      "text/plain": [
       "<Figure size 1080x504 with 1 Axes>"
      ]
     },
     "metadata": {},
     "output_type": "display_data"
    }
   ],
   "source": [
    "fig=plt.figure(figsize=(15,7))\n",
    "\n",
    "ax=sns.barplot(x=df[\"xyz_campaign_id\"], y=df[\"Approved_Conversion\"], hue=df[\"interest\"], data=df)\n",
    "sns.move_legend(ax, \"upper left\", bbox_to_anchor=(1, 1))"
   ]
  },
  {
   "cell_type": "code",
   "execution_count": 40,
   "id": "2e8aa174",
   "metadata": {
    "execution": {
     "iopub.execute_input": "2022-10-31T13:37:03.048042Z",
     "iopub.status.busy": "2022-10-31T13:37:03.047210Z",
     "iopub.status.idle": "2022-10-31T13:37:03.063698Z",
     "shell.execute_reply": "2022-10-31T13:37:03.061848Z"
    },
    "papermill": {
     "duration": 0.055178,
     "end_time": "2022-10-31T13:37:03.066765",
     "exception": false,
     "start_time": "2022-10-31T13:37:03.011587",
     "status": "completed"
    },
    "tags": []
   },
   "outputs": [
    {
     "data": {
      "text/plain": [
       "Series([], Name: Approved_Conversion, dtype: int64)"
      ]
     },
     "execution_count": 40,
     "metadata": {},
     "output_type": "execute_result"
    }
   ],
   "source": [
    "df[(df['xyz_campaign_id']== 936) & (df['Approved_Conversion']>0)]['Approved_Conversion'].groupby(df['interest']).sum()\n"
   ]
  },
  {
   "cell_type": "code",
   "execution_count": 41,
   "id": "6575c2f1",
   "metadata": {
    "execution": {
     "iopub.execute_input": "2022-10-31T13:37:03.136348Z",
     "iopub.status.busy": "2022-10-31T13:37:03.135786Z",
     "iopub.status.idle": "2022-10-31T13:37:03.151082Z",
     "shell.execute_reply": "2022-10-31T13:37:03.149848Z"
    },
    "papermill": {
     "duration": 0.053538,
     "end_time": "2022-10-31T13:37:03.153356",
     "exception": false,
     "start_time": "2022-10-31T13:37:03.099818",
     "status": "completed"
    },
    "tags": []
   },
   "outputs": [
    {
     "data": {
      "text/plain": [
       "Series([], Name: Approved_Conversion, dtype: int64)"
      ]
     },
     "execution_count": 41,
     "metadata": {},
     "output_type": "execute_result"
    }
   ],
   "source": [
    "df[(df['xyz_campaign_id']== 916) & (df['Approved_Conversion']>0)].groupby(df['interest'])['Approved_Conversion'].sum()"
   ]
  },
  {
   "cell_type": "code",
   "execution_count": 42,
   "id": "dab537b2",
   "metadata": {
    "execution": {
     "iopub.execute_input": "2022-10-31T13:37:03.222986Z",
     "iopub.status.busy": "2022-10-31T13:37:03.222479Z",
     "iopub.status.idle": "2022-10-31T13:37:03.234320Z",
     "shell.execute_reply": "2022-10-31T13:37:03.233162Z"
    },
    "papermill": {
     "duration": 0.04907,
     "end_time": "2022-10-31T13:37:03.236231",
     "exception": false,
     "start_time": "2022-10-31T13:37:03.187161",
     "status": "completed"
    },
    "tags": []
   },
   "outputs": [
    {
     "data": {
      "text/plain": [
       "Series([], Name: ad_id, dtype: int64)"
      ]
     },
     "execution_count": 42,
     "metadata": {},
     "output_type": "execute_result"
    }
   ],
   "source": [
    "df[(df['xyz_campaign_id']== 916)].groupby(['Approved_Conversion'])['ad_id'].count()"
   ]
  },
  {
   "cell_type": "markdown",
   "id": "ff4bca52",
   "metadata": {
    "papermill": {
     "duration": 0.035354,
     "end_time": "2022-10-31T13:37:03.307462",
     "exception": false,
     "start_time": "2022-10-31T13:37:03.272108",
     "status": "completed"
    },
    "tags": []
   },
   "source": [
    "Notes: https://sparkbyexamples.com/pandas/pandas-groupby-multiple-columns/"
   ]
  },
  {
   "cell_type": "code",
   "execution_count": 43,
   "id": "c05d1905",
   "metadata": {
    "execution": {
     "iopub.execute_input": "2022-10-31T13:37:03.379486Z",
     "iopub.status.busy": "2022-10-31T13:37:03.378860Z",
     "iopub.status.idle": "2022-10-31T13:37:03.393752Z",
     "shell.execute_reply": "2022-10-31T13:37:03.391417Z"
    },
    "papermill": {
     "duration": 0.054952,
     "end_time": "2022-10-31T13:37:03.397278",
     "exception": false,
     "start_time": "2022-10-31T13:37:03.342326",
     "status": "completed"
    },
    "tags": []
   },
   "outputs": [
    {
     "data": {
      "text/plain": [
       "Series([], Name: Approved_Conversion, dtype: int64)"
      ]
     },
     "execution_count": 43,
     "metadata": {},
     "output_type": "execute_result"
    }
   ],
   "source": [
    "df[(df['xyz_campaign_id']== 1178) & (df['Approved_Conversion']>0)]['Approved_Conversion'].groupby(df['interest']).sum()"
   ]
  },
  {
   "cell_type": "code",
   "execution_count": 44,
   "id": "d57ad9e1",
   "metadata": {
    "execution": {
     "iopub.execute_input": "2022-10-31T13:37:03.468672Z",
     "iopub.status.busy": "2022-10-31T13:37:03.468295Z",
     "iopub.status.idle": "2022-10-31T13:37:03.481334Z",
     "shell.execute_reply": "2022-10-31T13:37:03.479838Z"
    },
    "papermill": {
     "duration": 0.05101,
     "end_time": "2022-10-31T13:37:03.483436",
     "exception": false,
     "start_time": "2022-10-31T13:37:03.432426",
     "status": "completed"
    },
    "tags": []
   },
   "outputs": [
    {
     "data": {
      "text/plain": [
       "Series([], Name: Approved_Conversion, dtype: int64)"
      ]
     },
     "execution_count": 44,
     "metadata": {},
     "output_type": "execute_result"
    }
   ],
   "source": [
    "df[(df['xyz_campaign_id']== 1178) & (df['Approved_Conversion']>0) & (df['interest']==16)].groupby(['interest','age'])['Approved_Conversion'].sum()\n"
   ]
  },
  {
   "cell_type": "code",
   "execution_count": 45,
   "id": "e8ab9070",
   "metadata": {
    "execution": {
     "iopub.execute_input": "2022-10-31T13:37:03.556030Z",
     "iopub.status.busy": "2022-10-31T13:37:03.555527Z",
     "iopub.status.idle": "2022-10-31T13:37:03.571517Z",
     "shell.execute_reply": "2022-10-31T13:37:03.570199Z"
    },
    "papermill": {
     "duration": 0.05526,
     "end_time": "2022-10-31T13:37:03.573801",
     "exception": false,
     "start_time": "2022-10-31T13:37:03.518541",
     "status": "completed"
    },
    "tags": []
   },
   "outputs": [
    {
     "data": {
      "text/plain": [
       "Series([], Name: Approved_Conversion, dtype: int64)"
      ]
     },
     "execution_count": 45,
     "metadata": {},
     "output_type": "execute_result"
    }
   ],
   "source": [
    "df[(df['xyz_campaign_id']== 1178) & (df['Approved_Conversion']>0) & (df['interest']==29)].groupby(['interest','age'])['Approved_Conversion'].sum()\n"
   ]
  },
  {
   "cell_type": "code",
   "execution_count": 46,
   "id": "78982440",
   "metadata": {
    "execution": {
     "iopub.execute_input": "2022-10-31T13:37:03.646802Z",
     "iopub.status.busy": "2022-10-31T13:37:03.646368Z",
     "iopub.status.idle": "2022-10-31T13:37:03.658497Z",
     "shell.execute_reply": "2022-10-31T13:37:03.657575Z"
    },
    "papermill": {
     "duration": 0.051943,
     "end_time": "2022-10-31T13:37:03.660340",
     "exception": false,
     "start_time": "2022-10-31T13:37:03.608397",
     "status": "completed"
    },
    "tags": []
   },
   "outputs": [
    {
     "data": {
      "text/plain": [
       "Series([], Name: Approved_Conversion, dtype: int64)"
      ]
     },
     "execution_count": 46,
     "metadata": {},
     "output_type": "execute_result"
    }
   ],
   "source": [
    "df[(df['xyz_campaign_id']== 1178) & (df['Approved_Conversion']>0) & (df['interest']== 16)].groupby(['interest','gender'])['Approved_Conversion'].sum()\n"
   ]
  },
  {
   "cell_type": "code",
   "execution_count": 47,
   "id": "b7420f34",
   "metadata": {
    "execution": {
     "iopub.execute_input": "2022-10-31T13:37:03.736510Z",
     "iopub.status.busy": "2022-10-31T13:37:03.735968Z",
     "iopub.status.idle": "2022-10-31T13:37:03.751673Z",
     "shell.execute_reply": "2022-10-31T13:37:03.749865Z"
    },
    "papermill": {
     "duration": 0.057889,
     "end_time": "2022-10-31T13:37:03.753902",
     "exception": false,
     "start_time": "2022-10-31T13:37:03.696013",
     "status": "completed"
    },
    "tags": []
   },
   "outputs": [
    {
     "data": {
      "text/plain": [
       "Series([], Name: Approved_Conversion, dtype: int64)"
      ]
     },
     "execution_count": 47,
     "metadata": {},
     "output_type": "execute_result"
    }
   ],
   "source": [
    "df[(df['xyz_campaign_id']== 1178) & (df['Approved_Conversion']>0) & (df['interest']== 29)].groupby(['interest','gender'])['Approved_Conversion'].sum()\n"
   ]
  },
  {
   "cell_type": "code",
   "execution_count": 48,
   "id": "b4c2a9ac",
   "metadata": {
    "execution": {
     "iopub.execute_input": "2022-10-31T13:37:03.825693Z",
     "iopub.status.busy": "2022-10-31T13:37:03.825236Z",
     "iopub.status.idle": "2022-10-31T13:37:03.839928Z",
     "shell.execute_reply": "2022-10-31T13:37:03.838361Z"
    },
    "papermill": {
     "duration": 0.053667,
     "end_time": "2022-10-31T13:37:03.842059",
     "exception": false,
     "start_time": "2022-10-31T13:37:03.788392",
     "status": "completed"
    },
    "tags": []
   },
   "outputs": [
    {
     "name": "stdout",
     "output_type": "stream",
     "text": [
      "<class 'pandas.core.frame.DataFrame'>\n",
      "RangeIndex: 1143 entries, 0 to 1142\n",
      "Data columns (total 11 columns):\n",
      " #   Column               Non-Null Count  Dtype  \n",
      "---  ------               --------------  -----  \n",
      " 0   ad_id                1143 non-null   int64  \n",
      " 1   xyz_campaign_id      1143 non-null   object \n",
      " 2   fb_campaign_id       1143 non-null   int64  \n",
      " 3   age                  1143 non-null   object \n",
      " 4   gender               1143 non-null   object \n",
      " 5   interest             1143 non-null   int64  \n",
      " 6   Impressions          1143 non-null   int64  \n",
      " 7   Clicks               1143 non-null   int64  \n",
      " 8   Spent                1143 non-null   float64\n",
      " 9   Total_Conversion     1143 non-null   int64  \n",
      " 10  Approved_Conversion  1143 non-null   int64  \n",
      "dtypes: float64(1), int64(7), object(3)\n",
      "memory usage: 98.4+ KB\n"
     ]
    }
   ],
   "source": [
    "df.info()\n"
   ]
  },
  {
   "cell_type": "code",
   "execution_count": 49,
   "id": "f027a507",
   "metadata": {
    "execution": {
     "iopub.execute_input": "2022-10-31T13:37:03.915981Z",
     "iopub.status.busy": "2022-10-31T13:37:03.915514Z",
     "iopub.status.idle": "2022-10-31T13:37:03.924495Z",
     "shell.execute_reply": "2022-10-31T13:37:03.922073Z"
    },
    "papermill": {
     "duration": 0.050394,
     "end_time": "2022-10-31T13:37:03.927584",
     "exception": false,
     "start_time": "2022-10-31T13:37:03.877190",
     "status": "completed"
    },
    "tags": []
   },
   "outputs": [
    {
     "name": "stdout",
     "output_type": "stream",
     "text": [
      "[1705246, 2080666, 2223278, 2286228, 3052003]\n"
     ]
    }
   ],
   "source": [
    "#df['Impressions'].nunique()\n",
    "x=list(df['Impressions'].sort_values().tail())\n",
    "print(x)"
   ]
  },
  {
   "cell_type": "code",
   "execution_count": null,
   "id": "1ac8a319",
   "metadata": {
    "papermill": {
     "duration": 0.03437,
     "end_time": "2022-10-31T13:37:03.996973",
     "exception": false,
     "start_time": "2022-10-31T13:37:03.962603",
     "status": "completed"
    },
    "tags": []
   },
   "outputs": [],
   "source": []
  },
  {
   "cell_type": "code",
   "execution_count": 50,
   "id": "d16ae7ed",
   "metadata": {
    "execution": {
     "iopub.execute_input": "2022-10-31T13:37:04.071717Z",
     "iopub.status.busy": "2022-10-31T13:37:04.071210Z",
     "iopub.status.idle": "2022-10-31T13:37:04.082497Z",
     "shell.execute_reply": "2022-10-31T13:37:04.081555Z"
    },
    "papermill": {
     "duration": 0.051654,
     "end_time": "2022-10-31T13:37:04.084595",
     "exception": false,
     "start_time": "2022-10-31T13:37:04.032941",
     "status": "completed"
    },
    "tags": []
   },
   "outputs": [],
   "source": [
    "#for i in x:\n",
    "df2=df.where(df['Impressions']>=1705246)\n",
    "    "
   ]
  },
  {
   "cell_type": "code",
   "execution_count": 51,
   "id": "46efa772",
   "metadata": {
    "execution": {
     "iopub.execute_input": "2022-10-31T13:37:04.156969Z",
     "iopub.status.busy": "2022-10-31T13:37:04.156501Z",
     "iopub.status.idle": "2022-10-31T13:37:04.179318Z",
     "shell.execute_reply": "2022-10-31T13:37:04.177701Z"
    },
    "papermill": {
     "duration": 0.061825,
     "end_time": "2022-10-31T13:37:04.181586",
     "exception": false,
     "start_time": "2022-10-31T13:37:04.119761",
     "status": "completed"
    },
    "tags": []
   },
   "outputs": [
    {
     "data": {
      "text/html": [
       "<div>\n",
       "<style scoped>\n",
       "    .dataframe tbody tr th:only-of-type {\n",
       "        vertical-align: middle;\n",
       "    }\n",
       "\n",
       "    .dataframe tbody tr th {\n",
       "        vertical-align: top;\n",
       "    }\n",
       "\n",
       "    .dataframe thead th {\n",
       "        text-align: right;\n",
       "    }\n",
       "</style>\n",
       "<table border=\"1\" class=\"dataframe\">\n",
       "  <thead>\n",
       "    <tr style=\"text-align: right;\">\n",
       "      <th></th>\n",
       "      <th>ad_id</th>\n",
       "      <th>xyz_campaign_id</th>\n",
       "      <th>fb_campaign_id</th>\n",
       "      <th>age</th>\n",
       "      <th>gender</th>\n",
       "      <th>interest</th>\n",
       "      <th>Impressions</th>\n",
       "      <th>Clicks</th>\n",
       "      <th>Spent</th>\n",
       "      <th>Total_Conversion</th>\n",
       "      <th>Approved_Conversion</th>\n",
       "    </tr>\n",
       "  </thead>\n",
       "  <tbody>\n",
       "    <tr>\n",
       "      <th>525</th>\n",
       "      <td>1121100.0</td>\n",
       "      <td>campaign_3</td>\n",
       "      <td>144532.0</td>\n",
       "      <td>30-34</td>\n",
       "      <td>M</td>\n",
       "      <td>15.0</td>\n",
       "      <td>3052003.0</td>\n",
       "      <td>340.0</td>\n",
       "      <td>639.949998</td>\n",
       "      <td>60.0</td>\n",
       "      <td>17.0</td>\n",
       "    </tr>\n",
       "    <tr>\n",
       "      <th>528</th>\n",
       "      <td>1121104.0</td>\n",
       "      <td>campaign_3</td>\n",
       "      <td>144533.0</td>\n",
       "      <td>30-34</td>\n",
       "      <td>M</td>\n",
       "      <td>16.0</td>\n",
       "      <td>2080666.0</td>\n",
       "      <td>202.0</td>\n",
       "      <td>360.150001</td>\n",
       "      <td>40.0</td>\n",
       "      <td>21.0</td>\n",
       "    </tr>\n",
       "    <tr>\n",
       "      <th>765</th>\n",
       "      <td>1121601.0</td>\n",
       "      <td>campaign_3</td>\n",
       "      <td>144624.0</td>\n",
       "      <td>45-49</td>\n",
       "      <td>M</td>\n",
       "      <td>16.0</td>\n",
       "      <td>2286228.0</td>\n",
       "      <td>353.0</td>\n",
       "      <td>603.380002</td>\n",
       "      <td>16.0</td>\n",
       "      <td>7.0</td>\n",
       "    </tr>\n",
       "    <tr>\n",
       "      <th>860</th>\n",
       "      <td>1121814.0</td>\n",
       "      <td>campaign_3</td>\n",
       "      <td>144659.0</td>\n",
       "      <td>30-34</td>\n",
       "      <td>F</td>\n",
       "      <td>27.0</td>\n",
       "      <td>2223278.0</td>\n",
       "      <td>421.0</td>\n",
       "      <td>612.300003</td>\n",
       "      <td>38.0</td>\n",
       "      <td>13.0</td>\n",
       "    </tr>\n",
       "    <tr>\n",
       "      <th>867</th>\n",
       "      <td>1121824.0</td>\n",
       "      <td>campaign_3</td>\n",
       "      <td>144661.0</td>\n",
       "      <td>30-34</td>\n",
       "      <td>F</td>\n",
       "      <td>29.0</td>\n",
       "      <td>1705246.0</td>\n",
       "      <td>295.0</td>\n",
       "      <td>429.479998</td>\n",
       "      <td>23.0</td>\n",
       "      <td>10.0</td>\n",
       "    </tr>\n",
       "  </tbody>\n",
       "</table>\n",
       "</div>"
      ],
      "text/plain": [
       "         ad_id xyz_campaign_id  fb_campaign_id    age gender  interest  \\\n",
       "525  1121100.0      campaign_3        144532.0  30-34      M      15.0   \n",
       "528  1121104.0      campaign_3        144533.0  30-34      M      16.0   \n",
       "765  1121601.0      campaign_3        144624.0  45-49      M      16.0   \n",
       "860  1121814.0      campaign_3        144659.0  30-34      F      27.0   \n",
       "867  1121824.0      campaign_3        144661.0  30-34      F      29.0   \n",
       "\n",
       "     Impressions  Clicks       Spent  Total_Conversion  Approved_Conversion  \n",
       "525    3052003.0   340.0  639.949998              60.0                 17.0  \n",
       "528    2080666.0   202.0  360.150001              40.0                 21.0  \n",
       "765    2286228.0   353.0  603.380002              16.0                  7.0  \n",
       "860    2223278.0   421.0  612.300003              38.0                 13.0  \n",
       "867    1705246.0   295.0  429.479998              23.0                 10.0  "
      ]
     },
     "execution_count": 51,
     "metadata": {},
     "output_type": "execute_result"
    }
   ],
   "source": [
    "df2.dropna()\n",
    "# campaign_3 gets maximum/high impressions driving approved conversions"
   ]
  },
  {
   "cell_type": "code",
   "execution_count": 52,
   "id": "98eda1fc",
   "metadata": {
    "execution": {
     "iopub.execute_input": "2022-10-31T13:37:04.255285Z",
     "iopub.status.busy": "2022-10-31T13:37:04.253425Z",
     "iopub.status.idle": "2022-10-31T13:37:04.479505Z",
     "shell.execute_reply": "2022-10-31T13:37:04.478438Z"
    },
    "papermill": {
     "duration": 0.264928,
     "end_time": "2022-10-31T13:37:04.481688",
     "exception": false,
     "start_time": "2022-10-31T13:37:04.216760",
     "status": "completed"
    },
    "tags": []
   },
   "outputs": [
    {
     "data": {
      "text/plain": [
       "<AxesSubplot:xlabel='Spent', ylabel='xyz_campaign_id'>"
      ]
     },
     "execution_count": 52,
     "metadata": {},
     "output_type": "execute_result"
    },
    {
     "data": {
      "image/png": "[encoded data removed]",
      "text/plain": [
       "<Figure size 1080x504 with 1 Axes>"
      ]
     },
     "metadata": {},
     "output_type": "display_data"
    }
   ],
   "source": [
    "fig=plt.figure(figsize=(15,7))\n",
    "\n",
    "sns.scatterplot(x='Spent', y='xyz_campaign_id', data=df)\n"
   ]
  },
  {
   "cell_type": "code",
   "execution_count": 53,
   "id": "e85a0b5b",
   "metadata": {
    "execution": {
     "iopub.execute_input": "2022-10-31T13:37:04.554321Z",
     "iopub.status.busy": "2022-10-31T13:37:04.553768Z",
     "iopub.status.idle": "2022-10-31T13:37:04.879078Z",
     "shell.execute_reply": "2022-10-31T13:37:04.877131Z"
    },
    "papermill": {
     "duration": 0.365043,
     "end_time": "2022-10-31T13:37:04.882188",
     "exception": false,
     "start_time": "2022-10-31T13:37:04.517145",
     "status": "completed"
    },
    "tags": []
   },
   "outputs": [
    {
     "data": {
      "image/png": "[encoded data removed]",
      "text/plain": [
       "<Figure size 432x288 with 1 Axes>"
      ]
     },
     "metadata": {},
     "output_type": "display_data"
    }
   ],
   "source": [
    "ax=sns.scatterplot(x='Approved_Conversion',y='Spent', hue='xyz_campaign_id', data=df)\n",
    "sns.move_legend(ax, \"upper left\", bbox_to_anchor=(1, 1))\n",
    "\n",
    "# spent is higher for approved conversion ranging from 5 to upwards "
   ]
  },
  {
   "cell_type": "markdown",
   "id": "a9d3f38f",
   "metadata": {
    "papermill": {
     "duration": 0.035854,
     "end_time": "2022-10-31T13:37:04.954839",
     "exception": false,
     "start_time": "2022-10-31T13:37:04.918985",
     "status": "completed"
    },
    "tags": []
   },
   "source": [
    "https://seaborn.pydata.org/generated/seaborn.scatterplot.html"
   ]
  },
  {
   "cell_type": "code",
   "execution_count": 54,
   "id": "042453e4",
   "metadata": {
    "execution": {
     "iopub.execute_input": "2022-10-31T13:37:05.032220Z",
     "iopub.status.busy": "2022-10-31T13:37:05.031792Z",
     "iopub.status.idle": "2022-10-31T13:37:07.045216Z",
     "shell.execute_reply": "2022-10-31T13:37:07.044147Z"
    },
    "papermill": {
     "duration": 2.055616,
     "end_time": "2022-10-31T13:37:07.047304",
     "exception": false,
     "start_time": "2022-10-31T13:37:04.991688",
     "status": "completed"
    },
    "tags": []
   },
   "outputs": [
    {
     "data": {
      "image/png": "[encoded data removed]",
      "text/plain": [
       "<Figure size 440.8x864 with 8 Axes>"
      ]
     },
     "metadata": {},
     "output_type": "display_data"
    }
   ],
   "source": [
    "f = sns.FacetGrid(df, col=\"gender\", row='age')\n",
    "f.map(plt.scatter, \"interest\", \"Approved_Conversion\", alpha=.4)\n",
    "f.add_legend();"
   ]
  },
  {
   "cell_type": "markdown",
   "id": "9fc261aa",
   "metadata": {
    "papermill": {
     "duration": 0.035343,
     "end_time": "2022-10-31T13:37:07.121123",
     "exception": false,
     "start_time": "2022-10-31T13:37:07.085780",
     "status": "completed"
    },
    "tags": []
   },
   "source": [
    "High rate of conversion for Men in lowest age bracket.The conversions are most in 30-34 bracket and then in 45-49 age bracket.\n",
    "Females conversions high for ads with code greater than 66"
   ]
  },
  {
   "cell_type": "code",
   "execution_count": 55,
   "id": "22ccd961",
   "metadata": {
    "execution": {
     "iopub.execute_input": "2022-10-31T13:37:07.195150Z",
     "iopub.status.busy": "2022-10-31T13:37:07.194516Z",
     "iopub.status.idle": "2022-10-31T13:37:08.799920Z",
     "shell.execute_reply": "2022-10-31T13:37:08.799017Z"
    },
    "papermill": {
     "duration": 1.645494,
     "end_time": "2022-10-31T13:37:08.802232",
     "exception": false,
     "start_time": "2022-10-31T13:37:07.156738",
     "status": "completed"
    },
    "tags": []
   },
   "outputs": [
    {
     "data": {
      "image/png": "[encoded data removed]",
      "text/plain": [
       "<Figure size 440.8x864 with 8 Axes>"
      ]
     },
     "metadata": {},
     "output_type": "display_data"
    }
   ],
   "source": [
    "f = sns.FacetGrid(df, col=\"gender\", row='age')\n",
    "f.map(plt.scatter, \"Spent\", \"Approved_Conversion\", alpha=.4)\n",
    "f.add_legend();"
   ]
  },
  {
   "cell_type": "markdown",
   "id": "439f1bb7",
   "metadata": {
    "papermill": {
     "duration": 0.037316,
     "end_time": "2022-10-31T13:37:08.876937",
     "exception": false,
     "start_time": "2022-10-31T13:37:08.839621",
     "status": "completed"
    },
    "tags": []
   },
   "source": [
    "* Females have higher spending\n",
    "* Males have higher conversions even with lower spending in age group 30-34 specially.\n",
    "* Higher age bracket has higher spending"
   ]
  },
  {
   "cell_type": "markdown",
   "id": "c94e739e",
   "metadata": {
    "papermill": {
     "duration": 0.038507,
     "end_time": "2022-10-31T13:37:08.954277",
     "exception": false,
     "start_time": "2022-10-31T13:37:08.915770",
     "status": "completed"
    },
    "tags": []
   },
   "source": []
  },
  {
   "cell_type": "markdown",
   "id": "fea96679",
   "metadata": {
    "papermill": {
     "duration": 0.038919,
     "end_time": "2022-10-31T13:37:09.030653",
     "exception": false,
     "start_time": "2022-10-31T13:37:08.991734",
     "status": "completed"
    },
    "tags": []
   },
   "source": [
    "Conversion rate per ad, per campaign "
   ]
  },
  {
   "cell_type": "code",
   "execution_count": 56,
   "id": "954fd2ba",
   "metadata": {
    "execution": {
     "iopub.execute_input": "2022-10-31T13:37:09.108895Z",
     "iopub.status.busy": "2022-10-31T13:37:09.108482Z",
     "iopub.status.idle": "2022-10-31T13:37:09.120001Z",
     "shell.execute_reply": "2022-10-31T13:37:09.118512Z"
    },
    "papermill": {
     "duration": 0.054211,
     "end_time": "2022-10-31T13:37:09.123244",
     "exception": false,
     "start_time": "2022-10-31T13:37:09.069033",
     "status": "completed"
    },
    "tags": []
   },
   "outputs": [
    {
     "data": {
      "text/plain": [
       "xyz_campaign_id\n",
       "campaign_1     44.444444\n",
       "campaign_2     39.439655\n",
       "campaign_3    139.520000\n",
       "dtype: float64"
      ]
     },
     "execution_count": 56,
     "metadata": {},
     "output_type": "execute_result"
    }
   ],
   "source": [
    "(df['Approved_Conversion'].groupby(by=df['xyz_campaign_id']).sum()/df['ad_id'].groupby(by=df['xyz_campaign_id']).count())*100"
   ]
  },
  {
   "cell_type": "code",
   "execution_count": 57,
   "id": "04346044",
   "metadata": {
    "execution": {
     "iopub.execute_input": "2022-10-31T13:37:09.203749Z",
     "iopub.status.busy": "2022-10-31T13:37:09.202438Z",
     "iopub.status.idle": "2022-10-31T13:37:09.212137Z",
     "shell.execute_reply": "2022-10-31T13:37:09.211332Z"
    },
    "papermill": {
     "duration": 0.052032,
     "end_time": "2022-10-31T13:37:09.214075",
     "exception": false,
     "start_time": "2022-10-31T13:37:09.162043",
     "status": "completed"
    },
    "tags": []
   },
   "outputs": [
    {
     "data": {
      "text/plain": [
       "xyz_campaign_id\n",
       "campaign_1     54\n",
       "campaign_2    464\n",
       "campaign_3    625\n",
       "Name: ad_id, dtype: int64"
      ]
     },
     "execution_count": 57,
     "metadata": {},
     "output_type": "execute_result"
    }
   ],
   "source": [
    "df['ad_id'].groupby(by=df['xyz_campaign_id']).count()"
   ]
  },
  {
   "cell_type": "markdown",
   "id": "50647f3f",
   "metadata": {
    "papermill": {
     "duration": 0.038968,
     "end_time": "2022-10-31T13:37:09.292228",
     "exception": false,
     "start_time": "2022-10-31T13:37:09.253260",
     "status": "completed"
    },
    "tags": []
   },
   "source": [
    "conversion rate per campaign distributed by gender"
   ]
  },
  {
   "cell_type": "code",
   "execution_count": 58,
   "id": "18924eee",
   "metadata": {
    "execution": {
     "iopub.execute_input": "2022-10-31T13:37:09.371988Z",
     "iopub.status.busy": "2022-10-31T13:37:09.370307Z",
     "iopub.status.idle": "2022-10-31T13:37:09.391711Z",
     "shell.execute_reply": "2022-10-31T13:37:09.390793Z"
    },
    "papermill": {
     "duration": 0.062868,
     "end_time": "2022-10-31T13:37:09.394112",
     "exception": false,
     "start_time": "2022-10-31T13:37:09.331244",
     "status": "completed"
    },
    "tags": []
   },
   "outputs": [
    {
     "data": {
      "text/plain": [
       "xyz_campaign_id  gender\n",
       "campaign_1       F         14.814815\n",
       "                 M         29.629630\n",
       "campaign_2       F         20.689655\n",
       "                 M         18.750000\n",
       "campaign_3       F         62.560000\n",
       "                 M         76.960000\n",
       "dtype: float64"
      ]
     },
     "execution_count": 58,
     "metadata": {},
     "output_type": "execute_result"
    }
   ],
   "source": [
    "(df['Approved_Conversion'].groupby([df['xyz_campaign_id'],df['gender']]).sum()/df['ad_id'].groupby(by=df['xyz_campaign_id']).count())*100"
   ]
  },
  {
   "cell_type": "code",
   "execution_count": 59,
   "id": "bc6c563c",
   "metadata": {
    "execution": {
     "iopub.execute_input": "2022-10-31T13:37:09.476550Z",
     "iopub.status.busy": "2022-10-31T13:37:09.475150Z",
     "iopub.status.idle": "2022-10-31T13:37:09.488803Z",
     "shell.execute_reply": "2022-10-31T13:37:09.486813Z"
    },
    "papermill": {
     "duration": 0.058133,
     "end_time": "2022-10-31T13:37:09.492142",
     "exception": false,
     "start_time": "2022-10-31T13:37:09.434009",
     "status": "completed"
    },
    "tags": []
   },
   "outputs": [
    {
     "data": {
      "text/plain": [
       "xyz_campaign_id\n",
       "campaign_1     209.259259\n",
       "campaign_2     427.586207\n",
       "campaign_3    5770.880000\n",
       "dtype: float64"
      ]
     },
     "execution_count": 59,
     "metadata": {},
     "output_type": "execute_result"
    }
   ],
   "source": [
    "(df['Clicks'].groupby(by=df['xyz_campaign_id']).sum()/df['ad_id'].groupby(by=df['xyz_campaign_id']).count())*100"
   ]
  },
  {
   "cell_type": "markdown",
   "id": "a5c00bdb",
   "metadata": {
    "papermill": {
     "duration": 0.03891,
     "end_time": "2022-10-31T13:37:09.569450",
     "exception": false,
     "start_time": "2022-10-31T13:37:09.530540",
     "status": "completed"
    },
    "tags": []
   },
   "source": [
    "Cost to conversion OR cost of acquisition for the ads in each campaign\n"
   ]
  },
  {
   "cell_type": "code",
   "execution_count": 60,
   "id": "012b049f",
   "metadata": {
    "execution": {
     "iopub.execute_input": "2022-10-31T13:37:09.653398Z",
     "iopub.status.busy": "2022-10-31T13:37:09.652619Z",
     "iopub.status.idle": "2022-10-31T13:37:09.663812Z",
     "shell.execute_reply": "2022-10-31T13:37:09.662353Z"
    },
    "papermill": {
     "duration": 0.055598,
     "end_time": "2022-10-31T13:37:09.665841",
     "exception": false,
     "start_time": "2022-10-31T13:37:09.610243",
     "status": "completed"
    },
    "tags": []
   },
   "outputs": [
    {
     "data": {
      "text/plain": [
       "xyz_campaign_id\n",
       "campaign_1     6.237917\n",
       "campaign_2    15.810765\n",
       "campaign_3    63.832741\n",
       "dtype: float64"
      ]
     },
     "execution_count": 60,
     "metadata": {},
     "output_type": "execute_result"
    }
   ],
   "source": [
    "df['Spent'].groupby(by=df['xyz_campaign_id']).sum()/df['Approved_Conversion'].groupby(by=df['xyz_campaign_id']).sum()"
   ]
  },
  {
   "cell_type": "markdown",
   "id": "8e86318d",
   "metadata": {
    "papermill": {
     "duration": 0.042172,
     "end_time": "2022-10-31T13:37:09.746384",
     "exception": false,
     "start_time": "2022-10-31T13:37:09.704212",
     "status": "completed"
    },
    "tags": []
   },
   "source": [
    "Between campaign_1 and campaign_2 the cost of conversion is lesser for campaign_1 while its conversion rate is higher. It is performing better than campaign_2. campaign_3 performs best in terms of conversions but cost highest also"
   ]
  },
  {
   "cell_type": "markdown",
   "id": "6ee4140a",
   "metadata": {
    "papermill": {
     "duration": 0.039383,
     "end_time": "2022-10-31T13:37:09.825713",
     "exception": false,
     "start_time": "2022-10-31T13:37:09.786330",
     "status": "completed"
    },
    "tags": []
   },
   "source": [
    "Measuring the impact of each advertisement based on the conversion and cost "
   ]
  },
  {
   "cell_type": "code",
   "execution_count": 61,
   "id": "6e165701",
   "metadata": {
    "execution": {
     "iopub.execute_input": "2022-10-31T13:37:09.911300Z",
     "iopub.status.busy": "2022-10-31T13:37:09.910189Z",
     "iopub.status.idle": "2022-10-31T13:37:09.925265Z",
     "shell.execute_reply": "2022-10-31T13:37:09.924124Z"
    },
    "papermill": {
     "duration": 0.060737,
     "end_time": "2022-10-31T13:37:09.928223",
     "exception": false,
     "start_time": "2022-10-31T13:37:09.867486",
     "status": "completed"
    },
    "tags": []
   },
   "outputs": [
    {
     "data": {
      "text/html": [
       "<div>\n",
       "<style scoped>\n",
       "    .dataframe tbody tr th:only-of-type {\n",
       "        vertical-align: middle;\n",
       "    }\n",
       "\n",
       "    .dataframe tbody tr th {\n",
       "        vertical-align: top;\n",
       "    }\n",
       "\n",
       "    .dataframe thead th {\n",
       "        text-align: right;\n",
       "    }\n",
       "</style>\n",
       "<table border=\"1\" class=\"dataframe\">\n",
       "  <thead>\n",
       "    <tr style=\"text-align: right;\">\n",
       "      <th></th>\n",
       "      <th>ad_id</th>\n",
       "      <th>xyz_campaign_id</th>\n",
       "      <th>fb_campaign_id</th>\n",
       "      <th>age</th>\n",
       "      <th>gender</th>\n",
       "      <th>interest</th>\n",
       "      <th>Impressions</th>\n",
       "      <th>Clicks</th>\n",
       "      <th>Spent</th>\n",
       "      <th>Total_Conversion</th>\n",
       "      <th>Approved_Conversion</th>\n",
       "    </tr>\n",
       "  </thead>\n",
       "  <tbody>\n",
       "    <tr>\n",
       "      <th>0</th>\n",
       "      <td>708746</td>\n",
       "      <td>campaign_1</td>\n",
       "      <td>103916</td>\n",
       "      <td>30-34</td>\n",
       "      <td>M</td>\n",
       "      <td>15</td>\n",
       "      <td>7350</td>\n",
       "      <td>1</td>\n",
       "      <td>1.43</td>\n",
       "      <td>2</td>\n",
       "      <td>1</td>\n",
       "    </tr>\n",
       "    <tr>\n",
       "      <th>1</th>\n",
       "      <td>708749</td>\n",
       "      <td>campaign_1</td>\n",
       "      <td>103917</td>\n",
       "      <td>30-34</td>\n",
       "      <td>M</td>\n",
       "      <td>16</td>\n",
       "      <td>17861</td>\n",
       "      <td>2</td>\n",
       "      <td>1.82</td>\n",
       "      <td>2</td>\n",
       "      <td>0</td>\n",
       "    </tr>\n",
       "    <tr>\n",
       "      <th>2</th>\n",
       "      <td>708771</td>\n",
       "      <td>campaign_1</td>\n",
       "      <td>103920</td>\n",
       "      <td>30-34</td>\n",
       "      <td>M</td>\n",
       "      <td>20</td>\n",
       "      <td>693</td>\n",
       "      <td>0</td>\n",
       "      <td>0.00</td>\n",
       "      <td>1</td>\n",
       "      <td>0</td>\n",
       "    </tr>\n",
       "    <tr>\n",
       "      <th>3</th>\n",
       "      <td>708815</td>\n",
       "      <td>campaign_1</td>\n",
       "      <td>103928</td>\n",
       "      <td>30-34</td>\n",
       "      <td>M</td>\n",
       "      <td>28</td>\n",
       "      <td>4259</td>\n",
       "      <td>1</td>\n",
       "      <td>1.25</td>\n",
       "      <td>1</td>\n",
       "      <td>0</td>\n",
       "    </tr>\n",
       "    <tr>\n",
       "      <th>4</th>\n",
       "      <td>708818</td>\n",
       "      <td>campaign_1</td>\n",
       "      <td>103928</td>\n",
       "      <td>30-34</td>\n",
       "      <td>M</td>\n",
       "      <td>28</td>\n",
       "      <td>4133</td>\n",
       "      <td>1</td>\n",
       "      <td>1.29</td>\n",
       "      <td>1</td>\n",
       "      <td>1</td>\n",
       "    </tr>\n",
       "  </tbody>\n",
       "</table>\n",
       "</div>"
      ],
      "text/plain": [
       "    ad_id xyz_campaign_id  fb_campaign_id    age gender  interest  \\\n",
       "0  708746      campaign_1          103916  30-34      M        15   \n",
       "1  708749      campaign_1          103917  30-34      M        16   \n",
       "2  708771      campaign_1          103920  30-34      M        20   \n",
       "3  708815      campaign_1          103928  30-34      M        28   \n",
       "4  708818      campaign_1          103928  30-34      M        28   \n",
       "\n",
       "   Impressions  Clicks  Spent  Total_Conversion  Approved_Conversion  \n",
       "0         7350       1   1.43                 2                    1  \n",
       "1        17861       2   1.82                 2                    0  \n",
       "2          693       0   0.00                 1                    0  \n",
       "3         4259       1   1.25                 1                    0  \n",
       "4         4133       1   1.29                 1                    1  "
      ]
     },
     "execution_count": 61,
     "metadata": {},
     "output_type": "execute_result"
    }
   ],
   "source": [
    "df.head()"
   ]
  },
  {
   "cell_type": "code",
   "execution_count": 62,
   "id": "aef001b0",
   "metadata": {
    "execution": {
     "iopub.execute_input": "2022-10-31T13:37:10.009627Z",
     "iopub.status.busy": "2022-10-31T13:37:10.008743Z",
     "iopub.status.idle": "2022-10-31T13:37:10.019335Z",
     "shell.execute_reply": "2022-10-31T13:37:10.016744Z"
    },
    "papermill": {
     "duration": 0.055129,
     "end_time": "2022-10-31T13:37:10.022765",
     "exception": false,
     "start_time": "2022-10-31T13:37:09.967636",
     "status": "completed"
    },
    "tags": []
   },
   "outputs": [],
   "source": [
    "impact=df['Spent'].groupby(df['ad_id']).sum()/df['Approved_Conversion'].groupby(df['ad_id']).sum()"
   ]
  },
  {
   "cell_type": "code",
   "execution_count": 63,
   "id": "de363c0a",
   "metadata": {
    "execution": {
     "iopub.execute_input": "2022-10-31T13:37:10.101207Z",
     "iopub.status.busy": "2022-10-31T13:37:10.100415Z",
     "iopub.status.idle": "2022-10-31T13:37:10.110118Z",
     "shell.execute_reply": "2022-10-31T13:37:10.108322Z"
    },
    "papermill": {
     "duration": 0.052487,
     "end_time": "2022-10-31T13:37:10.113266",
     "exception": false,
     "start_time": "2022-10-31T13:37:10.060779",
     "status": "completed"
    },
    "tags": []
   },
   "outputs": [
    {
     "data": {
      "text/plain": [
       "ad_id\n",
       "708746       1.430000\n",
       "708749            inf\n",
       "708771            NaN\n",
       "708815            inf\n",
       "708818       1.290000\n",
       "              ...    \n",
       "1314410    179.094999\n",
       "1314411           inf\n",
       "1314412           inf\n",
       "1314414     99.355000\n",
       "1314415     82.804999\n",
       "Length: 1143, dtype: float64"
      ]
     },
     "execution_count": 63,
     "metadata": {},
     "output_type": "execute_result"
    }
   ],
   "source": [
    "impact"
   ]
  },
  {
   "cell_type": "code",
   "execution_count": 64,
   "id": "3cce50d5",
   "metadata": {
    "execution": {
     "iopub.execute_input": "2022-10-31T13:37:10.192284Z",
     "iopub.status.busy": "2022-10-31T13:37:10.191701Z",
     "iopub.status.idle": "2022-10-31T13:37:10.199841Z",
     "shell.execute_reply": "2022-10-31T13:37:10.197719Z"
    },
    "papermill": {
     "duration": 0.051579,
     "end_time": "2022-10-31T13:37:10.203171",
     "exception": false,
     "start_time": "2022-10-31T13:37:10.151592",
     "status": "completed"
    },
    "tags": []
   },
   "outputs": [],
   "source": [
    "df_2= df[['ad_id','xyz_campaign_id','Impressions','Spent','Approved_Conversion']]\n"
   ]
  },
  {
   "cell_type": "code",
   "execution_count": 65,
   "id": "c21b9a40",
   "metadata": {
    "execution": {
     "iopub.execute_input": "2022-10-31T13:37:10.287009Z",
     "iopub.status.busy": "2022-10-31T13:37:10.286435Z",
     "iopub.status.idle": "2022-10-31T13:37:10.301826Z",
     "shell.execute_reply": "2022-10-31T13:37:10.299579Z"
    },
    "papermill": {
     "duration": 0.06159,
     "end_time": "2022-10-31T13:37:10.304868",
     "exception": false,
     "start_time": "2022-10-31T13:37:10.243278",
     "status": "completed"
    },
    "tags": []
   },
   "outputs": [
    {
     "data": {
      "text/html": [
       "<div>\n",
       "<style scoped>\n",
       "    .dataframe tbody tr th:only-of-type {\n",
       "        vertical-align: middle;\n",
       "    }\n",
       "\n",
       "    .dataframe tbody tr th {\n",
       "        vertical-align: top;\n",
       "    }\n",
       "\n",
       "    .dataframe thead th {\n",
       "        text-align: right;\n",
       "    }\n",
       "</style>\n",
       "<table border=\"1\" class=\"dataframe\">\n",
       "  <thead>\n",
       "    <tr style=\"text-align: right;\">\n",
       "      <th></th>\n",
       "      <th>ad_id</th>\n",
       "      <th>xyz_campaign_id</th>\n",
       "      <th>Impressions</th>\n",
       "      <th>Spent</th>\n",
       "      <th>Approved_Conversion</th>\n",
       "    </tr>\n",
       "  </thead>\n",
       "  <tbody>\n",
       "    <tr>\n",
       "      <th>0</th>\n",
       "      <td>708746</td>\n",
       "      <td>campaign_1</td>\n",
       "      <td>7350</td>\n",
       "      <td>1.43</td>\n",
       "      <td>1</td>\n",
       "    </tr>\n",
       "    <tr>\n",
       "      <th>1</th>\n",
       "      <td>708749</td>\n",
       "      <td>campaign_1</td>\n",
       "      <td>17861</td>\n",
       "      <td>1.82</td>\n",
       "      <td>0</td>\n",
       "    </tr>\n",
       "    <tr>\n",
       "      <th>2</th>\n",
       "      <td>708771</td>\n",
       "      <td>campaign_1</td>\n",
       "      <td>693</td>\n",
       "      <td>0.00</td>\n",
       "      <td>0</td>\n",
       "    </tr>\n",
       "    <tr>\n",
       "      <th>3</th>\n",
       "      <td>708815</td>\n",
       "      <td>campaign_1</td>\n",
       "      <td>4259</td>\n",
       "      <td>1.25</td>\n",
       "      <td>0</td>\n",
       "    </tr>\n",
       "    <tr>\n",
       "      <th>4</th>\n",
       "      <td>708818</td>\n",
       "      <td>campaign_1</td>\n",
       "      <td>4133</td>\n",
       "      <td>1.29</td>\n",
       "      <td>1</td>\n",
       "    </tr>\n",
       "  </tbody>\n",
       "</table>\n",
       "</div>"
      ],
      "text/plain": [
       "    ad_id xyz_campaign_id  Impressions  Spent  Approved_Conversion\n",
       "0  708746      campaign_1         7350   1.43                    1\n",
       "1  708749      campaign_1        17861   1.82                    0\n",
       "2  708771      campaign_1          693   0.00                    0\n",
       "3  708815      campaign_1         4259   1.25                    0\n",
       "4  708818      campaign_1         4133   1.29                    1"
      ]
     },
     "execution_count": 65,
     "metadata": {},
     "output_type": "execute_result"
    }
   ],
   "source": [
    "df_2.head()"
   ]
  },
  {
   "cell_type": "code",
   "execution_count": 66,
   "id": "3ccf3fd0",
   "metadata": {
    "execution": {
     "iopub.execute_input": "2022-10-31T13:37:10.474928Z",
     "iopub.status.busy": "2022-10-31T13:37:10.474199Z",
     "iopub.status.idle": "2022-10-31T13:37:10.483207Z",
     "shell.execute_reply": "2022-10-31T13:37:10.480830Z"
    },
    "papermill": {
     "duration": 0.055616,
     "end_time": "2022-10-31T13:37:10.486965",
     "exception": false,
     "start_time": "2022-10-31T13:37:10.431349",
     "status": "completed"
    },
    "tags": []
   },
   "outputs": [],
   "source": [
    "df_2.set_index(['ad_id'], inplace=True)"
   ]
  },
  {
   "cell_type": "code",
   "execution_count": 67,
   "id": "c4f7dc23",
   "metadata": {
    "execution": {
     "iopub.execute_input": "2022-10-31T13:37:10.572315Z",
     "iopub.status.busy": "2022-10-31T13:37:10.571771Z",
     "iopub.status.idle": "2022-10-31T13:37:10.584317Z",
     "shell.execute_reply": "2022-10-31T13:37:10.582209Z"
    },
    "papermill": {
     "duration": 0.060325,
     "end_time": "2022-10-31T13:37:10.588374",
     "exception": false,
     "start_time": "2022-10-31T13:37:10.528049",
     "status": "completed"
    },
    "tags": []
   },
   "outputs": [
    {
     "data": {
      "text/plain": [
       "ad_id\n",
       "708746       1.430000\n",
       "708749            inf\n",
       "708771            NaN\n",
       "708815            inf\n",
       "708818       1.290000\n",
       "              ...    \n",
       "1314410    179.094999\n",
       "1314411           inf\n",
       "1314412           inf\n",
       "1314414     99.355000\n",
       "1314415     82.804999\n",
       "Name: cost_ratio, Length: 1143, dtype: float64"
      ]
     },
     "execution_count": 67,
     "metadata": {},
     "output_type": "execute_result"
    }
   ],
   "source": [
    "impact.rename('cost_ratio', inplace=True)"
   ]
  },
  {
   "cell_type": "code",
   "execution_count": 68,
   "id": "639a1fad",
   "metadata": {
    "execution": {
     "iopub.execute_input": "2022-10-31T13:37:10.676716Z",
     "iopub.status.busy": "2022-10-31T13:37:10.674614Z",
     "iopub.status.idle": "2022-10-31T13:37:10.685080Z",
     "shell.execute_reply": "2022-10-31T13:37:10.683245Z"
    },
    "papermill": {
     "duration": 0.057053,
     "end_time": "2022-10-31T13:37:10.687945",
     "exception": false,
     "start_time": "2022-10-31T13:37:10.630892",
     "status": "completed"
    },
    "tags": []
   },
   "outputs": [
    {
     "data": {
      "text/plain": [
       "Int64Index([ 708746,  708749,  708771,  708815,  708818,  708820,  708889,\n",
       "             708895,  708953,  708958,\n",
       "            ...\n",
       "            1314405, 1314406, 1314407, 1314408, 1314409, 1314410, 1314411,\n",
       "            1314412, 1314414, 1314415],\n",
       "           dtype='int64', name='ad_id', length=1143)"
      ]
     },
     "execution_count": 68,
     "metadata": {},
     "output_type": "execute_result"
    }
   ],
   "source": [
    "impact.index"
   ]
  },
  {
   "cell_type": "code",
   "execution_count": 69,
   "id": "10962a7c",
   "metadata": {
    "execution": {
     "iopub.execute_input": "2022-10-31T13:37:10.771378Z",
     "iopub.status.busy": "2022-10-31T13:37:10.770675Z",
     "iopub.status.idle": "2022-10-31T13:37:10.779466Z",
     "shell.execute_reply": "2022-10-31T13:37:10.777127Z"
    },
    "papermill": {
     "duration": 0.053463,
     "end_time": "2022-10-31T13:37:10.782426",
     "exception": false,
     "start_time": "2022-10-31T13:37:10.728963",
     "status": "completed"
    },
    "tags": []
   },
   "outputs": [],
   "source": [
    "#df_new= df_2.join(impact)\n",
    "df_new=df_2.merge( impact,left_index=True, right_index=True)"
   ]
  },
  {
   "cell_type": "code",
   "execution_count": 70,
   "id": "3a434d67",
   "metadata": {
    "execution": {
     "iopub.execute_input": "2022-10-31T13:37:10.862721Z",
     "iopub.status.busy": "2022-10-31T13:37:10.862321Z",
     "iopub.status.idle": "2022-10-31T13:37:10.871669Z",
     "shell.execute_reply": "2022-10-31T13:37:10.869214Z"
    },
    "papermill": {
     "duration": 0.053648,
     "end_time": "2022-10-31T13:37:10.874903",
     "exception": false,
     "start_time": "2022-10-31T13:37:10.821255",
     "status": "completed"
    },
    "tags": []
   },
   "outputs": [],
   "source": [
    "df_new.replace(np.inf,np.nan,inplace=True)"
   ]
  },
  {
   "cell_type": "code",
   "execution_count": 71,
   "id": "170ec6e9",
   "metadata": {
    "execution": {
     "iopub.execute_input": "2022-10-31T13:37:10.956517Z",
     "iopub.status.busy": "2022-10-31T13:37:10.956089Z",
     "iopub.status.idle": "2022-10-31T13:37:10.971355Z",
     "shell.execute_reply": "2022-10-31T13:37:10.970058Z"
    },
    "papermill": {
     "duration": 0.05921,
     "end_time": "2022-10-31T13:37:10.973898",
     "exception": false,
     "start_time": "2022-10-31T13:37:10.914688",
     "status": "completed"
    },
    "tags": []
   },
   "outputs": [
    {
     "data": {
      "text/html": [
       "<div>\n",
       "<style scoped>\n",
       "    .dataframe tbody tr th:only-of-type {\n",
       "        vertical-align: middle;\n",
       "    }\n",
       "\n",
       "    .dataframe tbody tr th {\n",
       "        vertical-align: top;\n",
       "    }\n",
       "\n",
       "    .dataframe thead th {\n",
       "        text-align: right;\n",
       "    }\n",
       "</style>\n",
       "<table border=\"1\" class=\"dataframe\">\n",
       "  <thead>\n",
       "    <tr style=\"text-align: right;\">\n",
       "      <th></th>\n",
       "      <th>xyz_campaign_id</th>\n",
       "      <th>Impressions</th>\n",
       "      <th>Spent</th>\n",
       "      <th>Approved_Conversion</th>\n",
       "      <th>cost_ratio</th>\n",
       "    </tr>\n",
       "    <tr>\n",
       "      <th>ad_id</th>\n",
       "      <th></th>\n",
       "      <th></th>\n",
       "      <th></th>\n",
       "      <th></th>\n",
       "      <th></th>\n",
       "    </tr>\n",
       "  </thead>\n",
       "  <tbody>\n",
       "    <tr>\n",
       "      <th>708746</th>\n",
       "      <td>campaign_1</td>\n",
       "      <td>7350</td>\n",
       "      <td>1.43</td>\n",
       "      <td>1</td>\n",
       "      <td>1.43</td>\n",
       "    </tr>\n",
       "    <tr>\n",
       "      <th>708749</th>\n",
       "      <td>campaign_1</td>\n",
       "      <td>17861</td>\n",
       "      <td>1.82</td>\n",
       "      <td>0</td>\n",
       "      <td>NaN</td>\n",
       "    </tr>\n",
       "    <tr>\n",
       "      <th>708771</th>\n",
       "      <td>campaign_1</td>\n",
       "      <td>693</td>\n",
       "      <td>0.00</td>\n",
       "      <td>0</td>\n",
       "      <td>NaN</td>\n",
       "    </tr>\n",
       "    <tr>\n",
       "      <th>708815</th>\n",
       "      <td>campaign_1</td>\n",
       "      <td>4259</td>\n",
       "      <td>1.25</td>\n",
       "      <td>0</td>\n",
       "      <td>NaN</td>\n",
       "    </tr>\n",
       "    <tr>\n",
       "      <th>708818</th>\n",
       "      <td>campaign_1</td>\n",
       "      <td>4133</td>\n",
       "      <td>1.29</td>\n",
       "      <td>1</td>\n",
       "      <td>1.29</td>\n",
       "    </tr>\n",
       "  </tbody>\n",
       "</table>\n",
       "</div>"
      ],
      "text/plain": [
       "       xyz_campaign_id  Impressions  Spent  Approved_Conversion  cost_ratio\n",
       "ad_id                                                                      \n",
       "708746      campaign_1         7350   1.43                    1        1.43\n",
       "708749      campaign_1        17861   1.82                    0         NaN\n",
       "708771      campaign_1          693   0.00                    0         NaN\n",
       "708815      campaign_1         4259   1.25                    0         NaN\n",
       "708818      campaign_1         4133   1.29                    1        1.29"
      ]
     },
     "execution_count": 71,
     "metadata": {},
     "output_type": "execute_result"
    }
   ],
   "source": [
    "df_new.head()"
   ]
  },
  {
   "cell_type": "code",
   "execution_count": 72,
   "id": "89a10555",
   "metadata": {
    "execution": {
     "iopub.execute_input": "2022-10-31T13:37:11.059616Z",
     "iopub.status.busy": "2022-10-31T13:37:11.059140Z",
     "iopub.status.idle": "2022-10-31T13:37:11.069110Z",
     "shell.execute_reply": "2022-10-31T13:37:11.067595Z"
    },
    "papermill": {
     "duration": 0.055253,
     "end_time": "2022-10-31T13:37:11.071498",
     "exception": false,
     "start_time": "2022-10-31T13:37:11.016245",
     "status": "completed"
    },
    "tags": []
   },
   "outputs": [],
   "source": [
    "df_3=df_new.dropna(axis=0)"
   ]
  },
  {
   "cell_type": "code",
   "execution_count": 73,
   "id": "29946230",
   "metadata": {
    "execution": {
     "iopub.execute_input": "2022-10-31T13:37:11.154276Z",
     "iopub.status.busy": "2022-10-31T13:37:11.153724Z",
     "iopub.status.idle": "2022-10-31T13:37:11.172045Z",
     "shell.execute_reply": "2022-10-31T13:37:11.169857Z"
    },
    "papermill": {
     "duration": 0.062105,
     "end_time": "2022-10-31T13:37:11.174800",
     "exception": false,
     "start_time": "2022-10-31T13:37:11.112695",
     "status": "completed"
    },
    "tags": []
   },
   "outputs": [
    {
     "name": "stdout",
     "output_type": "stream",
     "text": [
      "<class 'pandas.core.frame.DataFrame'>\n",
      "Int64Index: 584 entries, 708746 to 1314415\n",
      "Data columns (total 5 columns):\n",
      " #   Column               Non-Null Count  Dtype  \n",
      "---  ------               --------------  -----  \n",
      " 0   xyz_campaign_id      584 non-null    object \n",
      " 1   Impressions          584 non-null    int64  \n",
      " 2   Spent                584 non-null    float64\n",
      " 3   Approved_Conversion  584 non-null    int64  \n",
      " 4   cost_ratio           584 non-null    float64\n",
      "dtypes: float64(2), int64(2), object(1)\n",
      "memory usage: 27.4+ KB\n"
     ]
    }
   ],
   "source": [
    "df_3.info()"
   ]
  },
  {
   "cell_type": "code",
   "execution_count": 74,
   "id": "d19185c0",
   "metadata": {
    "execution": {
     "iopub.execute_input": "2022-10-31T13:37:11.259414Z",
     "iopub.status.busy": "2022-10-31T13:37:11.257844Z",
     "iopub.status.idle": "2022-10-31T13:37:11.279673Z",
     "shell.execute_reply": "2022-10-31T13:37:11.278216Z"
    },
    "papermill": {
     "duration": 0.068109,
     "end_time": "2022-10-31T13:37:11.282724",
     "exception": false,
     "start_time": "2022-10-31T13:37:11.214615",
     "status": "completed"
    },
    "tags": []
   },
   "outputs": [
    {
     "data": {
      "text/html": [
       "<div>\n",
       "<style scoped>\n",
       "    .dataframe tbody tr th:only-of-type {\n",
       "        vertical-align: middle;\n",
       "    }\n",
       "\n",
       "    .dataframe tbody tr th {\n",
       "        vertical-align: top;\n",
       "    }\n",
       "\n",
       "    .dataframe thead th {\n",
       "        text-align: right;\n",
       "    }\n",
       "</style>\n",
       "<table border=\"1\" class=\"dataframe\">\n",
       "  <thead>\n",
       "    <tr style=\"text-align: right;\">\n",
       "      <th></th>\n",
       "      <th>xyz_campaign_id</th>\n",
       "      <th>Impressions</th>\n",
       "      <th>Spent</th>\n",
       "      <th>Approved_Conversion</th>\n",
       "      <th>cost_ratio</th>\n",
       "    </tr>\n",
       "    <tr>\n",
       "      <th>ad_id</th>\n",
       "      <th></th>\n",
       "      <th></th>\n",
       "      <th></th>\n",
       "      <th></th>\n",
       "      <th></th>\n",
       "    </tr>\n",
       "  </thead>\n",
       "  <tbody>\n",
       "    <tr>\n",
       "      <th>1121098</th>\n",
       "      <td>campaign_3</td>\n",
       "      <td>1267550</td>\n",
       "      <td>236.769999</td>\n",
       "      <td>10</td>\n",
       "      <td>23.677000</td>\n",
       "    </tr>\n",
       "    <tr>\n",
       "      <th>1314398</th>\n",
       "      <td>campaign_3</td>\n",
       "      <td>1137635</td>\n",
       "      <td>301.049999</td>\n",
       "      <td>10</td>\n",
       "      <td>30.105000</td>\n",
       "    </tr>\n",
       "    <tr>\n",
       "      <th>1121677</th>\n",
       "      <td>campaign_3</td>\n",
       "      <td>1391924</td>\n",
       "      <td>422.840004</td>\n",
       "      <td>10</td>\n",
       "      <td>42.284000</td>\n",
       "    </tr>\n",
       "    <tr>\n",
       "      <th>1121824</th>\n",
       "      <td>campaign_3</td>\n",
       "      <td>1705246</td>\n",
       "      <td>429.479998</td>\n",
       "      <td>10</td>\n",
       "      <td>42.948000</td>\n",
       "    </tr>\n",
       "    <tr>\n",
       "      <th>1121206</th>\n",
       "      <td>campaign_3</td>\n",
       "      <td>227925</td>\n",
       "      <td>35.310000</td>\n",
       "      <td>12</td>\n",
       "      <td>2.942500</td>\n",
       "    </tr>\n",
       "    <tr>\n",
       "      <th>1121814</th>\n",
       "      <td>campaign_3</td>\n",
       "      <td>2223278</td>\n",
       "      <td>612.300003</td>\n",
       "      <td>13</td>\n",
       "      <td>47.100000</td>\n",
       "    </tr>\n",
       "    <tr>\n",
       "      <th>1121108</th>\n",
       "      <td>campaign_3</td>\n",
       "      <td>984521</td>\n",
       "      <td>163.899997</td>\n",
       "      <td>14</td>\n",
       "      <td>11.707143</td>\n",
       "    </tr>\n",
       "    <tr>\n",
       "      <th>1121091</th>\n",
       "      <td>campaign_3</td>\n",
       "      <td>1194718</td>\n",
       "      <td>254.049996</td>\n",
       "      <td>14</td>\n",
       "      <td>18.146428</td>\n",
       "    </tr>\n",
       "    <tr>\n",
       "      <th>1121100</th>\n",
       "      <td>campaign_3</td>\n",
       "      <td>3052003</td>\n",
       "      <td>639.949998</td>\n",
       "      <td>17</td>\n",
       "      <td>37.644118</td>\n",
       "    </tr>\n",
       "    <tr>\n",
       "      <th>1121104</th>\n",
       "      <td>campaign_3</td>\n",
       "      <td>2080666</td>\n",
       "      <td>360.150001</td>\n",
       "      <td>21</td>\n",
       "      <td>17.150000</td>\n",
       "    </tr>\n",
       "  </tbody>\n",
       "</table>\n",
       "</div>"
      ],
      "text/plain": [
       "        xyz_campaign_id  Impressions       Spent  Approved_Conversion  \\\n",
       "ad_id                                                                   \n",
       "1121098      campaign_3      1267550  236.769999                   10   \n",
       "1314398      campaign_3      1137635  301.049999                   10   \n",
       "1121677      campaign_3      1391924  422.840004                   10   \n",
       "1121824      campaign_3      1705246  429.479998                   10   \n",
       "1121206      campaign_3       227925   35.310000                   12   \n",
       "1121814      campaign_3      2223278  612.300003                   13   \n",
       "1121108      campaign_3       984521  163.899997                   14   \n",
       "1121091      campaign_3      1194718  254.049996                   14   \n",
       "1121100      campaign_3      3052003  639.949998                   17   \n",
       "1121104      campaign_3      2080666  360.150001                   21   \n",
       "\n",
       "         cost_ratio  \n",
       "ad_id                \n",
       "1121098   23.677000  \n",
       "1314398   30.105000  \n",
       "1121677   42.284000  \n",
       "1121824   42.948000  \n",
       "1121206    2.942500  \n",
       "1121814   47.100000  \n",
       "1121108   11.707143  \n",
       "1121091   18.146428  \n",
       "1121100   37.644118  \n",
       "1121104   17.150000  "
      ]
     },
     "execution_count": 74,
     "metadata": {},
     "output_type": "execute_result"
    }
   ],
   "source": [
    "df_3.sort_values(['Approved_Conversion','cost_ratio']).tail(10)"
   ]
  },
  {
   "cell_type": "markdown",
   "id": "c8867c71",
   "metadata": {
    "papermill": {
     "duration": 0.039701,
     "end_time": "2022-10-31T13:37:11.362891",
     "exception": false,
     "start_time": "2022-10-31T13:37:11.323190",
     "status": "completed"
    },
    "tags": []
   },
   "source": [
    "* Exploring the dimensions:\n",
    "Age: More people in the yougest age bracket 30-34\n",
    "Gender: More Males in the population\n",
    "\n",
    "* Correlation:\n",
    "1. Higher Ad impressions drive higher conversions ( Total and Approved) \n",
    "2. Higher impressions drive up the cost/spend amount. So those ads should be identified where the cost to acquisition ratio is high.\n",
    "3. Number of clicks do not impact the conversions much.\n",
    "4. Distribution of gender across campaigns not same.\n",
    "\n",
    "* Though Males convert more that Females on overall level, campaign 2 has more Females converting\n",
    "* Maximum users in 30-34 followed by 45-49 age group.\n",
    "* Though age wise user ditribution is same across campaigns, campaign 1 has users that convert best in the 40-44 age bracket. probably the ads included in this campaign appeal to that age group more. In the other two campaigns the trend is same and opposite to that of campaign_1.\n",
    "* Though there are more add campaigns with interest code ranging between 2-66 , there are still many conversions for ads with interest code beyond 66 code. When we compare the xyz campaign_3 with other two campaigns, we can see that campaign_3 has many adds with interests beyond code 66 and perhaps that is what is driving the higher conversions as well.\n",
    "* Percentage ad impression for each interest: For interest code 16 it is dispproportinately high. Interest code 29 has 8 % impressions but \n",
    "* delivers 12 % conversions. The impressions should be increased for other ads with interest code that are giving high conversions. \n",
    "* Redistribute the impressions based on the conversions.\n",
    "* High rate of conversion for Men in lowest age bracket.The conversions are most in 30-34 bracket and then in 45-49 age bracket. Females conversions high for ads with code greater than 66.\n",
    "* Females have higher spending\n",
    "* Males have higher conversions even with lower spending in age group 30-34 specially.\n",
    "* Higher age bracket has higher spending.\n",
    "* Between campaign_1 and campaign_2 the cost of conversion is lesser for campaign_1 while its conversion rate is higher. It is performing better than campaign_2. campaign_3 performs best in terms of conversions but cost highest also.\n",
    "* \n",
    "* \n",
    "\n",
    "\n"
   ]
  },
  {
   "cell_type": "markdown",
   "id": "e75bcca8",
   "metadata": {
    "papermill": {
     "duration": 0.039147,
     "end_time": "2022-10-31T13:37:11.441261",
     "exception": false,
     "start_time": "2022-10-31T13:37:11.402114",
     "status": "completed"
    },
    "tags": []
   },
   "source": [
    "Modelling -future prediction "
   ]
  },
  {
   "cell_type": "code",
   "execution_count": 75,
   "id": "c102ff0f",
   "metadata": {
    "execution": {
     "iopub.execute_input": "2022-10-31T13:37:11.522360Z",
     "iopub.status.busy": "2022-10-31T13:37:11.521535Z",
     "iopub.status.idle": "2022-10-31T13:37:11.529048Z",
     "shell.execute_reply": "2022-10-31T13:37:11.528169Z"
    },
    "papermill": {
     "duration": 0.050764,
     "end_time": "2022-10-31T13:37:11.531428",
     "exception": false,
     "start_time": "2022-10-31T13:37:11.480664",
     "status": "completed"
    },
    "tags": []
   },
   "outputs": [],
   "source": [
    "# renaming the campaigns for analysis purpose\n",
    "df['xyz_campaign_id'].replace({'campaign_1':916,'campaign_2':936,'campaign_3':1178}, inplace=True)\n"
   ]
  },
  {
   "cell_type": "code",
   "execution_count": 76,
   "id": "a9009b72",
   "metadata": {
    "execution": {
     "iopub.execute_input": "2022-10-31T13:37:11.616294Z",
     "iopub.status.busy": "2022-10-31T13:37:11.615786Z",
     "iopub.status.idle": "2022-10-31T13:37:11.631133Z",
     "shell.execute_reply": "2022-10-31T13:37:11.630115Z"
    },
    "papermill": {
     "duration": 0.059878,
     "end_time": "2022-10-31T13:37:11.633185",
     "exception": false,
     "start_time": "2022-10-31T13:37:11.573307",
     "status": "completed"
    },
    "tags": []
   },
   "outputs": [
    {
     "data": {
      "text/html": [
       "<div>\n",
       "<style scoped>\n",
       "    .dataframe tbody tr th:only-of-type {\n",
       "        vertical-align: middle;\n",
       "    }\n",
       "\n",
       "    .dataframe tbody tr th {\n",
       "        vertical-align: top;\n",
       "    }\n",
       "\n",
       "    .dataframe thead th {\n",
       "        text-align: right;\n",
       "    }\n",
       "</style>\n",
       "<table border=\"1\" class=\"dataframe\">\n",
       "  <thead>\n",
       "    <tr style=\"text-align: right;\">\n",
       "      <th></th>\n",
       "      <th>ad_id</th>\n",
       "      <th>xyz_campaign_id</th>\n",
       "      <th>fb_campaign_id</th>\n",
       "      <th>age</th>\n",
       "      <th>gender</th>\n",
       "      <th>interest</th>\n",
       "      <th>Impressions</th>\n",
       "      <th>Clicks</th>\n",
       "      <th>Spent</th>\n",
       "      <th>Total_Conversion</th>\n",
       "      <th>Approved_Conversion</th>\n",
       "    </tr>\n",
       "  </thead>\n",
       "  <tbody>\n",
       "    <tr>\n",
       "      <th>0</th>\n",
       "      <td>708746</td>\n",
       "      <td>916</td>\n",
       "      <td>103916</td>\n",
       "      <td>30-34</td>\n",
       "      <td>M</td>\n",
       "      <td>15</td>\n",
       "      <td>7350</td>\n",
       "      <td>1</td>\n",
       "      <td>1.43</td>\n",
       "      <td>2</td>\n",
       "      <td>1</td>\n",
       "    </tr>\n",
       "    <tr>\n",
       "      <th>1</th>\n",
       "      <td>708749</td>\n",
       "      <td>916</td>\n",
       "      <td>103917</td>\n",
       "      <td>30-34</td>\n",
       "      <td>M</td>\n",
       "      <td>16</td>\n",
       "      <td>17861</td>\n",
       "      <td>2</td>\n",
       "      <td>1.82</td>\n",
       "      <td>2</td>\n",
       "      <td>0</td>\n",
       "    </tr>\n",
       "    <tr>\n",
       "      <th>2</th>\n",
       "      <td>708771</td>\n",
       "      <td>916</td>\n",
       "      <td>103920</td>\n",
       "      <td>30-34</td>\n",
       "      <td>M</td>\n",
       "      <td>20</td>\n",
       "      <td>693</td>\n",
       "      <td>0</td>\n",
       "      <td>0.00</td>\n",
       "      <td>1</td>\n",
       "      <td>0</td>\n",
       "    </tr>\n",
       "    <tr>\n",
       "      <th>3</th>\n",
       "      <td>708815</td>\n",
       "      <td>916</td>\n",
       "      <td>103928</td>\n",
       "      <td>30-34</td>\n",
       "      <td>M</td>\n",
       "      <td>28</td>\n",
       "      <td>4259</td>\n",
       "      <td>1</td>\n",
       "      <td>1.25</td>\n",
       "      <td>1</td>\n",
       "      <td>0</td>\n",
       "    </tr>\n",
       "    <tr>\n",
       "      <th>4</th>\n",
       "      <td>708818</td>\n",
       "      <td>916</td>\n",
       "      <td>103928</td>\n",
       "      <td>30-34</td>\n",
       "      <td>M</td>\n",
       "      <td>28</td>\n",
       "      <td>4133</td>\n",
       "      <td>1</td>\n",
       "      <td>1.29</td>\n",
       "      <td>1</td>\n",
       "      <td>1</td>\n",
       "    </tr>\n",
       "  </tbody>\n",
       "</table>\n",
       "</div>"
      ],
      "text/plain": [
       "    ad_id  xyz_campaign_id  fb_campaign_id    age gender  interest  \\\n",
       "0  708746              916          103916  30-34      M        15   \n",
       "1  708749              916          103917  30-34      M        16   \n",
       "2  708771              916          103920  30-34      M        20   \n",
       "3  708815              916          103928  30-34      M        28   \n",
       "4  708818              916          103928  30-34      M        28   \n",
       "\n",
       "   Impressions  Clicks  Spent  Total_Conversion  Approved_Conversion  \n",
       "0         7350       1   1.43                 2                    1  \n",
       "1        17861       2   1.82                 2                    0  \n",
       "2          693       0   0.00                 1                    0  \n",
       "3         4259       1   1.25                 1                    0  \n",
       "4         4133       1   1.29                 1                    1  "
      ]
     },
     "execution_count": 76,
     "metadata": {},
     "output_type": "execute_result"
    }
   ],
   "source": [
    "df.head()"
   ]
  },
  {
   "cell_type": "code",
   "execution_count": 77,
   "id": "bb246bce",
   "metadata": {
    "execution": {
     "iopub.execute_input": "2022-10-31T13:37:11.714047Z",
     "iopub.status.busy": "2022-10-31T13:37:11.713672Z",
     "iopub.status.idle": "2022-10-31T13:37:11.923777Z",
     "shell.execute_reply": "2022-10-31T13:37:11.920942Z"
    },
    "papermill": {
     "duration": 0.255152,
     "end_time": "2022-10-31T13:37:11.927870",
     "exception": false,
     "start_time": "2022-10-31T13:37:11.672718",
     "status": "completed"
    },
    "tags": []
   },
   "outputs": [
    {
     "data": {
      "text/html": [
       "<div>\n",
       "<style scoped>\n",
       "    .dataframe tbody tr th:only-of-type {\n",
       "        vertical-align: middle;\n",
       "    }\n",
       "\n",
       "    .dataframe tbody tr th {\n",
       "        vertical-align: top;\n",
       "    }\n",
       "\n",
       "    .dataframe thead th {\n",
       "        text-align: right;\n",
       "    }\n",
       "</style>\n",
       "<table border=\"1\" class=\"dataframe\">\n",
       "  <thead>\n",
       "    <tr style=\"text-align: right;\">\n",
       "      <th></th>\n",
       "      <th>gender_1</th>\n",
       "    </tr>\n",
       "  </thead>\n",
       "  <tbody>\n",
       "    <tr>\n",
       "      <th>0</th>\n",
       "      <td>1.0</td>\n",
       "    </tr>\n",
       "    <tr>\n",
       "      <th>1</th>\n",
       "      <td>1.0</td>\n",
       "    </tr>\n",
       "    <tr>\n",
       "      <th>2</th>\n",
       "      <td>1.0</td>\n",
       "    </tr>\n",
       "    <tr>\n",
       "      <th>3</th>\n",
       "      <td>1.0</td>\n",
       "    </tr>\n",
       "    <tr>\n",
       "      <th>4</th>\n",
       "      <td>1.0</td>\n",
       "    </tr>\n",
       "  </tbody>\n",
       "</table>\n",
       "</div>"
      ],
      "text/plain": [
       "   gender_1\n",
       "0       1.0\n",
       "1       1.0\n",
       "2       1.0\n",
       "3       1.0\n",
       "4       1.0"
      ]
     },
     "execution_count": 77,
     "metadata": {},
     "output_type": "execute_result"
    }
   ],
   "source": [
    "from sklearn.preprocessing import OneHotEncoder\n",
    "onehotencoder = OneHotEncoder(sparse=False, handle_unknown=\"error\", drop='first')\n",
    "\n",
    "onehotencoder_df = pd.DataFrame(onehotencoder.fit_transform(df[['gender']]), columns=['gender_1'])\n",
    "\n",
    "onehotencoder_df.head()\n",
    "\n"
   ]
  },
  {
   "cell_type": "code",
   "execution_count": 78,
   "id": "712c7ead",
   "metadata": {
    "execution": {
     "iopub.execute_input": "2022-10-31T13:37:12.019127Z",
     "iopub.status.busy": "2022-10-31T13:37:12.017740Z",
     "iopub.status.idle": "2022-10-31T13:37:12.035772Z",
     "shell.execute_reply": "2022-10-31T13:37:12.034709Z"
    },
    "papermill": {
     "duration": 0.068284,
     "end_time": "2022-10-31T13:37:12.037929",
     "exception": false,
     "start_time": "2022-10-31T13:37:11.969645",
     "status": "completed"
    },
    "tags": []
   },
   "outputs": [
    {
     "data": {
      "text/html": [
       "<div>\n",
       "<style scoped>\n",
       "    .dataframe tbody tr th:only-of-type {\n",
       "        vertical-align: middle;\n",
       "    }\n",
       "\n",
       "    .dataframe tbody tr th {\n",
       "        vertical-align: top;\n",
       "    }\n",
       "\n",
       "    .dataframe thead th {\n",
       "        text-align: right;\n",
       "    }\n",
       "</style>\n",
       "<table border=\"1\" class=\"dataframe\">\n",
       "  <thead>\n",
       "    <tr style=\"text-align: right;\">\n",
       "      <th></th>\n",
       "      <th>ad_id</th>\n",
       "      <th>xyz_campaign_id</th>\n",
       "      <th>fb_campaign_id</th>\n",
       "      <th>age</th>\n",
       "      <th>gender</th>\n",
       "      <th>interest</th>\n",
       "      <th>Impressions</th>\n",
       "      <th>Clicks</th>\n",
       "      <th>Spent</th>\n",
       "      <th>Total_Conversion</th>\n",
       "      <th>Approved_Conversion</th>\n",
       "      <th>gender_1</th>\n",
       "    </tr>\n",
       "  </thead>\n",
       "  <tbody>\n",
       "    <tr>\n",
       "      <th>0</th>\n",
       "      <td>708746</td>\n",
       "      <td>916</td>\n",
       "      <td>103916</td>\n",
       "      <td>30-34</td>\n",
       "      <td>M</td>\n",
       "      <td>15</td>\n",
       "      <td>7350</td>\n",
       "      <td>1</td>\n",
       "      <td>1.43</td>\n",
       "      <td>2</td>\n",
       "      <td>1</td>\n",
       "      <td>1.0</td>\n",
       "    </tr>\n",
       "    <tr>\n",
       "      <th>1</th>\n",
       "      <td>708749</td>\n",
       "      <td>916</td>\n",
       "      <td>103917</td>\n",
       "      <td>30-34</td>\n",
       "      <td>M</td>\n",
       "      <td>16</td>\n",
       "      <td>17861</td>\n",
       "      <td>2</td>\n",
       "      <td>1.82</td>\n",
       "      <td>2</td>\n",
       "      <td>0</td>\n",
       "      <td>1.0</td>\n",
       "    </tr>\n",
       "    <tr>\n",
       "      <th>2</th>\n",
       "      <td>708771</td>\n",
       "      <td>916</td>\n",
       "      <td>103920</td>\n",
       "      <td>30-34</td>\n",
       "      <td>M</td>\n",
       "      <td>20</td>\n",
       "      <td>693</td>\n",
       "      <td>0</td>\n",
       "      <td>0.00</td>\n",
       "      <td>1</td>\n",
       "      <td>0</td>\n",
       "      <td>1.0</td>\n",
       "    </tr>\n",
       "    <tr>\n",
       "      <th>3</th>\n",
       "      <td>708815</td>\n",
       "      <td>916</td>\n",
       "      <td>103928</td>\n",
       "      <td>30-34</td>\n",
       "      <td>M</td>\n",
       "      <td>28</td>\n",
       "      <td>4259</td>\n",
       "      <td>1</td>\n",
       "      <td>1.25</td>\n",
       "      <td>1</td>\n",
       "      <td>0</td>\n",
       "      <td>1.0</td>\n",
       "    </tr>\n",
       "    <tr>\n",
       "      <th>4</th>\n",
       "      <td>708818</td>\n",
       "      <td>916</td>\n",
       "      <td>103928</td>\n",
       "      <td>30-34</td>\n",
       "      <td>M</td>\n",
       "      <td>28</td>\n",
       "      <td>4133</td>\n",
       "      <td>1</td>\n",
       "      <td>1.29</td>\n",
       "      <td>1</td>\n",
       "      <td>1</td>\n",
       "      <td>1.0</td>\n",
       "    </tr>\n",
       "  </tbody>\n",
       "</table>\n",
       "</div>"
      ],
      "text/plain": [
       "    ad_id  xyz_campaign_id  fb_campaign_id    age gender  interest  \\\n",
       "0  708746              916          103916  30-34      M        15   \n",
       "1  708749              916          103917  30-34      M        16   \n",
       "2  708771              916          103920  30-34      M        20   \n",
       "3  708815              916          103928  30-34      M        28   \n",
       "4  708818              916          103928  30-34      M        28   \n",
       "\n",
       "   Impressions  Clicks  Spent  Total_Conversion  Approved_Conversion  gender_1  \n",
       "0         7350       1   1.43                 2                    1       1.0  \n",
       "1        17861       2   1.82                 2                    0       1.0  \n",
       "2          693       0   0.00                 1                    0       1.0  \n",
       "3         4259       1   1.25                 1                    0       1.0  \n",
       "4         4133       1   1.29                 1                    1       1.0  "
      ]
     },
     "execution_count": 78,
     "metadata": {},
     "output_type": "execute_result"
    }
   ],
   "source": [
    "df=df.join(onehotencoder_df)\n",
    "df.head()"
   ]
  },
  {
   "cell_type": "code",
   "execution_count": 79,
   "id": "d0823b5e",
   "metadata": {
    "execution": {
     "iopub.execute_input": "2022-10-31T13:37:12.124522Z",
     "iopub.status.busy": "2022-10-31T13:37:12.123836Z",
     "iopub.status.idle": "2022-10-31T13:37:12.139783Z",
     "shell.execute_reply": "2022-10-31T13:37:12.138942Z"
    },
    "papermill": {
     "duration": 0.062298,
     "end_time": "2022-10-31T13:37:12.142078",
     "exception": false,
     "start_time": "2022-10-31T13:37:12.079780",
     "status": "completed"
    },
    "tags": []
   },
   "outputs": [
    {
     "data": {
      "text/html": [
       "<div>\n",
       "<style scoped>\n",
       "    .dataframe tbody tr th:only-of-type {\n",
       "        vertical-align: middle;\n",
       "    }\n",
       "\n",
       "    .dataframe tbody tr th {\n",
       "        vertical-align: top;\n",
       "    }\n",
       "\n",
       "    .dataframe thead th {\n",
       "        text-align: right;\n",
       "    }\n",
       "</style>\n",
       "<table border=\"1\" class=\"dataframe\">\n",
       "  <thead>\n",
       "    <tr style=\"text-align: right;\">\n",
       "      <th></th>\n",
       "      <th>age_1</th>\n",
       "      <th>age_2</th>\n",
       "      <th>age_3</th>\n",
       "    </tr>\n",
       "  </thead>\n",
       "  <tbody>\n",
       "    <tr>\n",
       "      <th>0</th>\n",
       "      <td>0.0</td>\n",
       "      <td>0.0</td>\n",
       "      <td>0.0</td>\n",
       "    </tr>\n",
       "    <tr>\n",
       "      <th>1</th>\n",
       "      <td>0.0</td>\n",
       "      <td>0.0</td>\n",
       "      <td>0.0</td>\n",
       "    </tr>\n",
       "    <tr>\n",
       "      <th>2</th>\n",
       "      <td>0.0</td>\n",
       "      <td>0.0</td>\n",
       "      <td>0.0</td>\n",
       "    </tr>\n",
       "    <tr>\n",
       "      <th>3</th>\n",
       "      <td>0.0</td>\n",
       "      <td>0.0</td>\n",
       "      <td>0.0</td>\n",
       "    </tr>\n",
       "    <tr>\n",
       "      <th>4</th>\n",
       "      <td>0.0</td>\n",
       "      <td>0.0</td>\n",
       "      <td>0.0</td>\n",
       "    </tr>\n",
       "  </tbody>\n",
       "</table>\n",
       "</div>"
      ],
      "text/plain": [
       "   age_1  age_2  age_3\n",
       "0    0.0    0.0    0.0\n",
       "1    0.0    0.0    0.0\n",
       "2    0.0    0.0    0.0\n",
       "3    0.0    0.0    0.0\n",
       "4    0.0    0.0    0.0"
      ]
     },
     "execution_count": 79,
     "metadata": {},
     "output_type": "execute_result"
    }
   ],
   "source": [
    "onehotencoder_df = pd.DataFrame(onehotencoder.fit_transform(df[['age']]), columns=['age_1','age_2','age_3'])\n",
    "\n",
    "onehotencoder_df.head()\n"
   ]
  },
  {
   "cell_type": "code",
   "execution_count": 80,
   "id": "2287d69d",
   "metadata": {
    "execution": {
     "iopub.execute_input": "2022-10-31T13:37:12.227722Z",
     "iopub.status.busy": "2022-10-31T13:37:12.227242Z",
     "iopub.status.idle": "2022-10-31T13:37:12.249062Z",
     "shell.execute_reply": "2022-10-31T13:37:12.247775Z"
    },
    "papermill": {
     "duration": 0.067238,
     "end_time": "2022-10-31T13:37:12.251381",
     "exception": false,
     "start_time": "2022-10-31T13:37:12.184143",
     "status": "completed"
    },
    "tags": []
   },
   "outputs": [
    {
     "data": {
      "text/html": [
       "<div>\n",
       "<style scoped>\n",
       "    .dataframe tbody tr th:only-of-type {\n",
       "        vertical-align: middle;\n",
       "    }\n",
       "\n",
       "    .dataframe tbody tr th {\n",
       "        vertical-align: top;\n",
       "    }\n",
       "\n",
       "    .dataframe thead th {\n",
       "        text-align: right;\n",
       "    }\n",
       "</style>\n",
       "<table border=\"1\" class=\"dataframe\">\n",
       "  <thead>\n",
       "    <tr style=\"text-align: right;\">\n",
       "      <th></th>\n",
       "      <th>ad_id</th>\n",
       "      <th>xyz_campaign_id</th>\n",
       "      <th>fb_campaign_id</th>\n",
       "      <th>age</th>\n",
       "      <th>gender</th>\n",
       "      <th>interest</th>\n",
       "      <th>Impressions</th>\n",
       "      <th>Clicks</th>\n",
       "      <th>Spent</th>\n",
       "      <th>Total_Conversion</th>\n",
       "      <th>Approved_Conversion</th>\n",
       "      <th>gender_1</th>\n",
       "      <th>age_1</th>\n",
       "      <th>age_2</th>\n",
       "      <th>age_3</th>\n",
       "    </tr>\n",
       "  </thead>\n",
       "  <tbody>\n",
       "    <tr>\n",
       "      <th>0</th>\n",
       "      <td>708746</td>\n",
       "      <td>916</td>\n",
       "      <td>103916</td>\n",
       "      <td>30-34</td>\n",
       "      <td>M</td>\n",
       "      <td>15</td>\n",
       "      <td>7350</td>\n",
       "      <td>1</td>\n",
       "      <td>1.43</td>\n",
       "      <td>2</td>\n",
       "      <td>1</td>\n",
       "      <td>1.0</td>\n",
       "      <td>0.0</td>\n",
       "      <td>0.0</td>\n",
       "      <td>0.0</td>\n",
       "    </tr>\n",
       "    <tr>\n",
       "      <th>1</th>\n",
       "      <td>708749</td>\n",
       "      <td>916</td>\n",
       "      <td>103917</td>\n",
       "      <td>30-34</td>\n",
       "      <td>M</td>\n",
       "      <td>16</td>\n",
       "      <td>17861</td>\n",
       "      <td>2</td>\n",
       "      <td>1.82</td>\n",
       "      <td>2</td>\n",
       "      <td>0</td>\n",
       "      <td>1.0</td>\n",
       "      <td>0.0</td>\n",
       "      <td>0.0</td>\n",
       "      <td>0.0</td>\n",
       "    </tr>\n",
       "    <tr>\n",
       "      <th>2</th>\n",
       "      <td>708771</td>\n",
       "      <td>916</td>\n",
       "      <td>103920</td>\n",
       "      <td>30-34</td>\n",
       "      <td>M</td>\n",
       "      <td>20</td>\n",
       "      <td>693</td>\n",
       "      <td>0</td>\n",
       "      <td>0.00</td>\n",
       "      <td>1</td>\n",
       "      <td>0</td>\n",
       "      <td>1.0</td>\n",
       "      <td>0.0</td>\n",
       "      <td>0.0</td>\n",
       "      <td>0.0</td>\n",
       "    </tr>\n",
       "    <tr>\n",
       "      <th>3</th>\n",
       "      <td>708815</td>\n",
       "      <td>916</td>\n",
       "      <td>103928</td>\n",
       "      <td>30-34</td>\n",
       "      <td>M</td>\n",
       "      <td>28</td>\n",
       "      <td>4259</td>\n",
       "      <td>1</td>\n",
       "      <td>1.25</td>\n",
       "      <td>1</td>\n",
       "      <td>0</td>\n",
       "      <td>1.0</td>\n",
       "      <td>0.0</td>\n",
       "      <td>0.0</td>\n",
       "      <td>0.0</td>\n",
       "    </tr>\n",
       "    <tr>\n",
       "      <th>4</th>\n",
       "      <td>708818</td>\n",
       "      <td>916</td>\n",
       "      <td>103928</td>\n",
       "      <td>30-34</td>\n",
       "      <td>M</td>\n",
       "      <td>28</td>\n",
       "      <td>4133</td>\n",
       "      <td>1</td>\n",
       "      <td>1.29</td>\n",
       "      <td>1</td>\n",
       "      <td>1</td>\n",
       "      <td>1.0</td>\n",
       "      <td>0.0</td>\n",
       "      <td>0.0</td>\n",
       "      <td>0.0</td>\n",
       "    </tr>\n",
       "  </tbody>\n",
       "</table>\n",
       "</div>"
      ],
      "text/plain": [
       "    ad_id  xyz_campaign_id  fb_campaign_id    age gender  interest  \\\n",
       "0  708746              916          103916  30-34      M        15   \n",
       "1  708749              916          103917  30-34      M        16   \n",
       "2  708771              916          103920  30-34      M        20   \n",
       "3  708815              916          103928  30-34      M        28   \n",
       "4  708818              916          103928  30-34      M        28   \n",
       "\n",
       "   Impressions  Clicks  Spent  Total_Conversion  Approved_Conversion  \\\n",
       "0         7350       1   1.43                 2                    1   \n",
       "1        17861       2   1.82                 2                    0   \n",
       "2          693       0   0.00                 1                    0   \n",
       "3         4259       1   1.25                 1                    0   \n",
       "4         4133       1   1.29                 1                    1   \n",
       "\n",
       "   gender_1  age_1  age_2  age_3  \n",
       "0       1.0    0.0    0.0    0.0  \n",
       "1       1.0    0.0    0.0    0.0  \n",
       "2       1.0    0.0    0.0    0.0  \n",
       "3       1.0    0.0    0.0    0.0  \n",
       "4       1.0    0.0    0.0    0.0  "
      ]
     },
     "execution_count": 80,
     "metadata": {},
     "output_type": "execute_result"
    }
   ],
   "source": [
    "df=df.join(onehotencoder_df)\n",
    "df.head()"
   ]
  },
  {
   "cell_type": "code",
   "execution_count": 81,
   "id": "da25a263",
   "metadata": {
    "execution": {
     "iopub.execute_input": "2022-10-31T13:37:12.337697Z",
     "iopub.status.busy": "2022-10-31T13:37:12.336058Z",
     "iopub.status.idle": "2022-10-31T13:37:12.356270Z",
     "shell.execute_reply": "2022-10-31T13:37:12.354837Z"
    },
    "papermill": {
     "duration": 0.067065,
     "end_time": "2022-10-31T13:37:12.359278",
     "exception": false,
     "start_time": "2022-10-31T13:37:12.292213",
     "status": "completed"
    },
    "tags": []
   },
   "outputs": [
    {
     "data": {
      "text/html": [
       "<div>\n",
       "<style scoped>\n",
       "    .dataframe tbody tr th:only-of-type {\n",
       "        vertical-align: middle;\n",
       "    }\n",
       "\n",
       "    .dataframe tbody tr th {\n",
       "        vertical-align: top;\n",
       "    }\n",
       "\n",
       "    .dataframe thead th {\n",
       "        text-align: right;\n",
       "    }\n",
       "</style>\n",
       "<table border=\"1\" class=\"dataframe\">\n",
       "  <thead>\n",
       "    <tr style=\"text-align: right;\">\n",
       "      <th></th>\n",
       "      <th>ad_id</th>\n",
       "      <th>xyz_campaign_id</th>\n",
       "      <th>fb_campaign_id</th>\n",
       "      <th>age</th>\n",
       "      <th>gender</th>\n",
       "      <th>interest</th>\n",
       "      <th>Impressions</th>\n",
       "      <th>Clicks</th>\n",
       "      <th>Spent</th>\n",
       "      <th>Total_Conversion</th>\n",
       "      <th>Approved_Conversion</th>\n",
       "      <th>gender_1</th>\n",
       "      <th>age_1</th>\n",
       "      <th>age_2</th>\n",
       "      <th>age_3</th>\n",
       "    </tr>\n",
       "  </thead>\n",
       "  <tbody>\n",
       "    <tr>\n",
       "      <th>0</th>\n",
       "      <td>708746</td>\n",
       "      <td>916</td>\n",
       "      <td>103916</td>\n",
       "      <td>30-34</td>\n",
       "      <td>M</td>\n",
       "      <td>15</td>\n",
       "      <td>7350</td>\n",
       "      <td>1</td>\n",
       "      <td>1.43</td>\n",
       "      <td>2</td>\n",
       "      <td>1</td>\n",
       "      <td>1.0</td>\n",
       "      <td>0.0</td>\n",
       "      <td>0.0</td>\n",
       "      <td>0.0</td>\n",
       "    </tr>\n",
       "    <tr>\n",
       "      <th>1</th>\n",
       "      <td>708749</td>\n",
       "      <td>916</td>\n",
       "      <td>103917</td>\n",
       "      <td>30-34</td>\n",
       "      <td>M</td>\n",
       "      <td>16</td>\n",
       "      <td>17861</td>\n",
       "      <td>2</td>\n",
       "      <td>1.82</td>\n",
       "      <td>2</td>\n",
       "      <td>0</td>\n",
       "      <td>1.0</td>\n",
       "      <td>0.0</td>\n",
       "      <td>0.0</td>\n",
       "      <td>0.0</td>\n",
       "    </tr>\n",
       "    <tr>\n",
       "      <th>2</th>\n",
       "      <td>708771</td>\n",
       "      <td>916</td>\n",
       "      <td>103920</td>\n",
       "      <td>30-34</td>\n",
       "      <td>M</td>\n",
       "      <td>20</td>\n",
       "      <td>693</td>\n",
       "      <td>0</td>\n",
       "      <td>0.00</td>\n",
       "      <td>1</td>\n",
       "      <td>0</td>\n",
       "      <td>1.0</td>\n",
       "      <td>0.0</td>\n",
       "      <td>0.0</td>\n",
       "      <td>0.0</td>\n",
       "    </tr>\n",
       "    <tr>\n",
       "      <th>3</th>\n",
       "      <td>708815</td>\n",
       "      <td>916</td>\n",
       "      <td>103928</td>\n",
       "      <td>30-34</td>\n",
       "      <td>M</td>\n",
       "      <td>28</td>\n",
       "      <td>4259</td>\n",
       "      <td>1</td>\n",
       "      <td>1.25</td>\n",
       "      <td>1</td>\n",
       "      <td>0</td>\n",
       "      <td>1.0</td>\n",
       "      <td>0.0</td>\n",
       "      <td>0.0</td>\n",
       "      <td>0.0</td>\n",
       "    </tr>\n",
       "    <tr>\n",
       "      <th>4</th>\n",
       "      <td>708818</td>\n",
       "      <td>916</td>\n",
       "      <td>103928</td>\n",
       "      <td>30-34</td>\n",
       "      <td>M</td>\n",
       "      <td>28</td>\n",
       "      <td>4133</td>\n",
       "      <td>1</td>\n",
       "      <td>1.29</td>\n",
       "      <td>1</td>\n",
       "      <td>1</td>\n",
       "      <td>1.0</td>\n",
       "      <td>0.0</td>\n",
       "      <td>0.0</td>\n",
       "      <td>0.0</td>\n",
       "    </tr>\n",
       "  </tbody>\n",
       "</table>\n",
       "</div>"
      ],
      "text/plain": [
       "    ad_id  xyz_campaign_id  fb_campaign_id    age gender  interest  \\\n",
       "0  708746              916          103916  30-34      M        15   \n",
       "1  708749              916          103917  30-34      M        16   \n",
       "2  708771              916          103920  30-34      M        20   \n",
       "3  708815              916          103928  30-34      M        28   \n",
       "4  708818              916          103928  30-34      M        28   \n",
       "\n",
       "   Impressions  Clicks  Spent  Total_Conversion  Approved_Conversion  \\\n",
       "0         7350       1   1.43                 2                    1   \n",
       "1        17861       2   1.82                 2                    0   \n",
       "2          693       0   0.00                 1                    0   \n",
       "3         4259       1   1.25                 1                    0   \n",
       "4         4133       1   1.29                 1                    1   \n",
       "\n",
       "   gender_1  age_1  age_2  age_3  \n",
       "0       1.0    0.0    0.0    0.0  \n",
       "1       1.0    0.0    0.0    0.0  \n",
       "2       1.0    0.0    0.0    0.0  \n",
       "3       1.0    0.0    0.0    0.0  \n",
       "4       1.0    0.0    0.0    0.0  "
      ]
     },
     "execution_count": 81,
     "metadata": {},
     "output_type": "execute_result"
    }
   ],
   "source": [
    "df_2=df.copy()\n",
    "df_2.head()"
   ]
  },
  {
   "cell_type": "code",
   "execution_count": 82,
   "id": "526c488b",
   "metadata": {
    "execution": {
     "iopub.execute_input": "2022-10-31T13:37:12.445823Z",
     "iopub.status.busy": "2022-10-31T13:37:12.444328Z",
     "iopub.status.idle": "2022-10-31T13:37:12.451938Z",
     "shell.execute_reply": "2022-10-31T13:37:12.450595Z"
    },
    "papermill": {
     "duration": 0.054918,
     "end_time": "2022-10-31T13:37:12.455289",
     "exception": false,
     "start_time": "2022-10-31T13:37:12.400371",
     "status": "completed"
    },
    "tags": []
   },
   "outputs": [],
   "source": [
    "df_2=df_2.drop(columns=['age','gender'])"
   ]
  },
  {
   "cell_type": "code",
   "execution_count": 83,
   "id": "9187545d",
   "metadata": {
    "execution": {
     "iopub.execute_input": "2022-10-31T13:37:12.543395Z",
     "iopub.status.busy": "2022-10-31T13:37:12.542086Z",
     "iopub.status.idle": "2022-10-31T13:37:12.561176Z",
     "shell.execute_reply": "2022-10-31T13:37:12.559827Z"
    },
    "papermill": {
     "duration": 0.064604,
     "end_time": "2022-10-31T13:37:12.563429",
     "exception": false,
     "start_time": "2022-10-31T13:37:12.498825",
     "status": "completed"
    },
    "tags": []
   },
   "outputs": [
    {
     "data": {
      "text/html": [
       "<div>\n",
       "<style scoped>\n",
       "    .dataframe tbody tr th:only-of-type {\n",
       "        vertical-align: middle;\n",
       "    }\n",
       "\n",
       "    .dataframe tbody tr th {\n",
       "        vertical-align: top;\n",
       "    }\n",
       "\n",
       "    .dataframe thead th {\n",
       "        text-align: right;\n",
       "    }\n",
       "</style>\n",
       "<table border=\"1\" class=\"dataframe\">\n",
       "  <thead>\n",
       "    <tr style=\"text-align: right;\">\n",
       "      <th></th>\n",
       "      <th>ad_id</th>\n",
       "      <th>xyz_campaign_id</th>\n",
       "      <th>fb_campaign_id</th>\n",
       "      <th>interest</th>\n",
       "      <th>Impressions</th>\n",
       "      <th>Clicks</th>\n",
       "      <th>Spent</th>\n",
       "      <th>Total_Conversion</th>\n",
       "      <th>Approved_Conversion</th>\n",
       "      <th>gender_1</th>\n",
       "      <th>age_1</th>\n",
       "      <th>age_2</th>\n",
       "      <th>age_3</th>\n",
       "    </tr>\n",
       "  </thead>\n",
       "  <tbody>\n",
       "    <tr>\n",
       "      <th>0</th>\n",
       "      <td>708746</td>\n",
       "      <td>916</td>\n",
       "      <td>103916</td>\n",
       "      <td>15</td>\n",
       "      <td>7350</td>\n",
       "      <td>1</td>\n",
       "      <td>1.43</td>\n",
       "      <td>2</td>\n",
       "      <td>1</td>\n",
       "      <td>1.0</td>\n",
       "      <td>0.0</td>\n",
       "      <td>0.0</td>\n",
       "      <td>0.0</td>\n",
       "    </tr>\n",
       "    <tr>\n",
       "      <th>1</th>\n",
       "      <td>708749</td>\n",
       "      <td>916</td>\n",
       "      <td>103917</td>\n",
       "      <td>16</td>\n",
       "      <td>17861</td>\n",
       "      <td>2</td>\n",
       "      <td>1.82</td>\n",
       "      <td>2</td>\n",
       "      <td>0</td>\n",
       "      <td>1.0</td>\n",
       "      <td>0.0</td>\n",
       "      <td>0.0</td>\n",
       "      <td>0.0</td>\n",
       "    </tr>\n",
       "    <tr>\n",
       "      <th>2</th>\n",
       "      <td>708771</td>\n",
       "      <td>916</td>\n",
       "      <td>103920</td>\n",
       "      <td>20</td>\n",
       "      <td>693</td>\n",
       "      <td>0</td>\n",
       "      <td>0.00</td>\n",
       "      <td>1</td>\n",
       "      <td>0</td>\n",
       "      <td>1.0</td>\n",
       "      <td>0.0</td>\n",
       "      <td>0.0</td>\n",
       "      <td>0.0</td>\n",
       "    </tr>\n",
       "    <tr>\n",
       "      <th>3</th>\n",
       "      <td>708815</td>\n",
       "      <td>916</td>\n",
       "      <td>103928</td>\n",
       "      <td>28</td>\n",
       "      <td>4259</td>\n",
       "      <td>1</td>\n",
       "      <td>1.25</td>\n",
       "      <td>1</td>\n",
       "      <td>0</td>\n",
       "      <td>1.0</td>\n",
       "      <td>0.0</td>\n",
       "      <td>0.0</td>\n",
       "      <td>0.0</td>\n",
       "    </tr>\n",
       "    <tr>\n",
       "      <th>4</th>\n",
       "      <td>708818</td>\n",
       "      <td>916</td>\n",
       "      <td>103928</td>\n",
       "      <td>28</td>\n",
       "      <td>4133</td>\n",
       "      <td>1</td>\n",
       "      <td>1.29</td>\n",
       "      <td>1</td>\n",
       "      <td>1</td>\n",
       "      <td>1.0</td>\n",
       "      <td>0.0</td>\n",
       "      <td>0.0</td>\n",
       "      <td>0.0</td>\n",
       "    </tr>\n",
       "  </tbody>\n",
       "</table>\n",
       "</div>"
      ],
      "text/plain": [
       "    ad_id  xyz_campaign_id  fb_campaign_id  interest  Impressions  Clicks  \\\n",
       "0  708746              916          103916        15         7350       1   \n",
       "1  708749              916          103917        16        17861       2   \n",
       "2  708771              916          103920        20          693       0   \n",
       "3  708815              916          103928        28         4259       1   \n",
       "4  708818              916          103928        28         4133       1   \n",
       "\n",
       "   Spent  Total_Conversion  Approved_Conversion  gender_1  age_1  age_2  age_3  \n",
       "0   1.43                 2                    1       1.0    0.0    0.0    0.0  \n",
       "1   1.82                 2                    0       1.0    0.0    0.0    0.0  \n",
       "2   0.00                 1                    0       1.0    0.0    0.0    0.0  \n",
       "3   1.25                 1                    0       1.0    0.0    0.0    0.0  \n",
       "4   1.29                 1                    1       1.0    0.0    0.0    0.0  "
      ]
     },
     "execution_count": 83,
     "metadata": {},
     "output_type": "execute_result"
    }
   ],
   "source": [
    "df_2.head()"
   ]
  },
  {
   "cell_type": "code",
   "execution_count": 84,
   "id": "bd2742d9",
   "metadata": {
    "execution": {
     "iopub.execute_input": "2022-10-31T13:37:12.652308Z",
     "iopub.status.busy": "2022-10-31T13:37:12.650534Z",
     "iopub.status.idle": "2022-10-31T13:37:12.660040Z",
     "shell.execute_reply": "2022-10-31T13:37:12.658439Z"
    },
    "papermill": {
     "duration": 0.055613,
     "end_time": "2022-10-31T13:37:12.662427",
     "exception": false,
     "start_time": "2022-10-31T13:37:12.606814",
     "status": "completed"
    },
    "tags": []
   },
   "outputs": [],
   "source": [
    "df_2=df_2[['ad_id', 'interest','Impressions','Clicks','Spent','Approved_Conversion','gender_1','age_1','age_2','age_3']]"
   ]
  },
  {
   "cell_type": "code",
   "execution_count": 85,
   "id": "168863b7",
   "metadata": {
    "execution": {
     "iopub.execute_input": "2022-10-31T13:37:12.745504Z",
     "iopub.status.busy": "2022-10-31T13:37:12.744983Z",
     "iopub.status.idle": "2022-10-31T13:37:12.764504Z",
     "shell.execute_reply": "2022-10-31T13:37:12.763209Z"
    },
    "papermill": {
     "duration": 0.06429,
     "end_time": "2022-10-31T13:37:12.767747",
     "exception": false,
     "start_time": "2022-10-31T13:37:12.703457",
     "status": "completed"
    },
    "tags": []
   },
   "outputs": [
    {
     "data": {
      "text/html": [
       "<div>\n",
       "<style scoped>\n",
       "    .dataframe tbody tr th:only-of-type {\n",
       "        vertical-align: middle;\n",
       "    }\n",
       "\n",
       "    .dataframe tbody tr th {\n",
       "        vertical-align: top;\n",
       "    }\n",
       "\n",
       "    .dataframe thead th {\n",
       "        text-align: right;\n",
       "    }\n",
       "</style>\n",
       "<table border=\"1\" class=\"dataframe\">\n",
       "  <thead>\n",
       "    <tr style=\"text-align: right;\">\n",
       "      <th></th>\n",
       "      <th>ad_id</th>\n",
       "      <th>interest</th>\n",
       "      <th>Impressions</th>\n",
       "      <th>Clicks</th>\n",
       "      <th>Spent</th>\n",
       "      <th>Approved_Conversion</th>\n",
       "      <th>gender_1</th>\n",
       "      <th>age_1</th>\n",
       "      <th>age_2</th>\n",
       "      <th>age_3</th>\n",
       "    </tr>\n",
       "  </thead>\n",
       "  <tbody>\n",
       "    <tr>\n",
       "      <th>0</th>\n",
       "      <td>708746</td>\n",
       "      <td>15</td>\n",
       "      <td>7350</td>\n",
       "      <td>1</td>\n",
       "      <td>1.43</td>\n",
       "      <td>1</td>\n",
       "      <td>1.0</td>\n",
       "      <td>0.0</td>\n",
       "      <td>0.0</td>\n",
       "      <td>0.0</td>\n",
       "    </tr>\n",
       "    <tr>\n",
       "      <th>1</th>\n",
       "      <td>708749</td>\n",
       "      <td>16</td>\n",
       "      <td>17861</td>\n",
       "      <td>2</td>\n",
       "      <td>1.82</td>\n",
       "      <td>0</td>\n",
       "      <td>1.0</td>\n",
       "      <td>0.0</td>\n",
       "      <td>0.0</td>\n",
       "      <td>0.0</td>\n",
       "    </tr>\n",
       "    <tr>\n",
       "      <th>2</th>\n",
       "      <td>708771</td>\n",
       "      <td>20</td>\n",
       "      <td>693</td>\n",
       "      <td>0</td>\n",
       "      <td>0.00</td>\n",
       "      <td>0</td>\n",
       "      <td>1.0</td>\n",
       "      <td>0.0</td>\n",
       "      <td>0.0</td>\n",
       "      <td>0.0</td>\n",
       "    </tr>\n",
       "    <tr>\n",
       "      <th>3</th>\n",
       "      <td>708815</td>\n",
       "      <td>28</td>\n",
       "      <td>4259</td>\n",
       "      <td>1</td>\n",
       "      <td>1.25</td>\n",
       "      <td>0</td>\n",
       "      <td>1.0</td>\n",
       "      <td>0.0</td>\n",
       "      <td>0.0</td>\n",
       "      <td>0.0</td>\n",
       "    </tr>\n",
       "    <tr>\n",
       "      <th>4</th>\n",
       "      <td>708818</td>\n",
       "      <td>28</td>\n",
       "      <td>4133</td>\n",
       "      <td>1</td>\n",
       "      <td>1.29</td>\n",
       "      <td>1</td>\n",
       "      <td>1.0</td>\n",
       "      <td>0.0</td>\n",
       "      <td>0.0</td>\n",
       "      <td>0.0</td>\n",
       "    </tr>\n",
       "  </tbody>\n",
       "</table>\n",
       "</div>"
      ],
      "text/plain": [
       "    ad_id  interest  Impressions  Clicks  Spent  Approved_Conversion  \\\n",
       "0  708746        15         7350       1   1.43                    1   \n",
       "1  708749        16        17861       2   1.82                    0   \n",
       "2  708771        20          693       0   0.00                    0   \n",
       "3  708815        28         4259       1   1.25                    0   \n",
       "4  708818        28         4133       1   1.29                    1   \n",
       "\n",
       "   gender_1  age_1  age_2  age_3  \n",
       "0       1.0    0.0    0.0    0.0  \n",
       "1       1.0    0.0    0.0    0.0  \n",
       "2       1.0    0.0    0.0    0.0  \n",
       "3       1.0    0.0    0.0    0.0  \n",
       "4       1.0    0.0    0.0    0.0  "
      ]
     },
     "execution_count": 85,
     "metadata": {},
     "output_type": "execute_result"
    }
   ],
   "source": [
    "df_2.head()"
   ]
  },
  {
   "cell_type": "code",
   "execution_count": 86,
   "id": "c21b3dc8",
   "metadata": {
    "execution": {
     "iopub.execute_input": "2022-10-31T13:37:12.853498Z",
     "iopub.status.busy": "2022-10-31T13:37:12.853000Z",
     "iopub.status.idle": "2022-10-31T13:37:22.050350Z",
     "shell.execute_reply": "2022-10-31T13:37:22.049189Z"
    },
    "papermill": {
     "duration": 9.243783,
     "end_time": "2022-10-31T13:37:22.053359",
     "exception": false,
     "start_time": "2022-10-31T13:37:12.809576",
     "status": "completed"
    },
    "tags": []
   },
   "outputs": [],
   "source": [
    "from sklearn.cluster import KMeans\n",
    "from sklearn.metrics import silhouette_score\n",
    "\n",
    "inertia=[]\n",
    "k=np.arange(1,9)\n",
    "\n",
    "for i in k:\n",
    "    model=KMeans(n_clusters= i, max_iter=5)\n",
    "    km = model.fit(df_2.values)\n",
    "    inertia.append(pd.Series({'k': i,\n",
    "                              'inertia': model.inertia_\n",
    "                             }))"
   ]
  },
  {
   "cell_type": "code",
   "execution_count": 87,
   "id": "58c5b6b6",
   "metadata": {
    "execution": {
     "iopub.execute_input": "2022-10-31T13:37:22.138458Z",
     "iopub.status.busy": "2022-10-31T13:37:22.137712Z",
     "iopub.status.idle": "2022-10-31T13:37:22.147913Z",
     "shell.execute_reply": "2022-10-31T13:37:22.146265Z"
    },
    "papermill": {
     "duration": 0.055023,
     "end_time": "2022-10-31T13:37:22.150793",
     "exception": false,
     "start_time": "2022-10-31T13:37:22.095770",
     "status": "completed"
    },
    "tags": []
   },
   "outputs": [],
   "source": [
    "inertias= pd.concat(inertia, axis=1).T.set_index('k')"
   ]
  },
  {
   "cell_type": "code",
   "execution_count": 88,
   "id": "7d24056b",
   "metadata": {
    "execution": {
     "iopub.execute_input": "2022-10-31T13:37:22.234261Z",
     "iopub.status.busy": "2022-10-31T13:37:22.233767Z",
     "iopub.status.idle": "2022-10-31T13:37:22.247690Z",
     "shell.execute_reply": "2022-10-31T13:37:22.245728Z"
    },
    "papermill": {
     "duration": 0.058888,
     "end_time": "2022-10-31T13:37:22.250443",
     "exception": false,
     "start_time": "2022-10-31T13:37:22.191555",
     "status": "completed"
    },
    "tags": []
   },
   "outputs": [
    {
     "data": {
      "text/html": [
       "<div>\n",
       "<style scoped>\n",
       "    .dataframe tbody tr th:only-of-type {\n",
       "        vertical-align: middle;\n",
       "    }\n",
       "\n",
       "    .dataframe tbody tr th {\n",
       "        vertical-align: top;\n",
       "    }\n",
       "\n",
       "    .dataframe thead th {\n",
       "        text-align: right;\n",
       "    }\n",
       "</style>\n",
       "<table border=\"1\" class=\"dataframe\">\n",
       "  <thead>\n",
       "    <tr style=\"text-align: right;\">\n",
       "      <th></th>\n",
       "      <th>inertia</th>\n",
       "    </tr>\n",
       "    <tr>\n",
       "      <th>k</th>\n",
       "      <th></th>\n",
       "    </tr>\n",
       "  </thead>\n",
       "  <tbody>\n",
       "    <tr>\n",
       "      <th>1.0</th>\n",
       "      <td>1.546878e+14</td>\n",
       "    </tr>\n",
       "    <tr>\n",
       "      <th>2.0</th>\n",
       "      <td>7.181349e+13</td>\n",
       "    </tr>\n",
       "    <tr>\n",
       "      <th>3.0</th>\n",
       "      <td>3.322939e+13</td>\n",
       "    </tr>\n",
       "    <tr>\n",
       "      <th>4.0</th>\n",
       "      <td>2.209222e+13</td>\n",
       "    </tr>\n",
       "    <tr>\n",
       "      <th>5.0</th>\n",
       "      <td>1.517213e+13</td>\n",
       "    </tr>\n",
       "    <tr>\n",
       "      <th>6.0</th>\n",
       "      <td>1.215980e+13</td>\n",
       "    </tr>\n",
       "    <tr>\n",
       "      <th>7.0</th>\n",
       "      <td>9.375689e+12</td>\n",
       "    </tr>\n",
       "    <tr>\n",
       "      <th>8.0</th>\n",
       "      <td>7.701042e+12</td>\n",
       "    </tr>\n",
       "  </tbody>\n",
       "</table>\n",
       "</div>"
      ],
      "text/plain": [
       "          inertia\n",
       "k                \n",
       "1.0  1.546878e+14\n",
       "2.0  7.181349e+13\n",
       "3.0  3.322939e+13\n",
       "4.0  2.209222e+13\n",
       "5.0  1.517213e+13\n",
       "6.0  1.215980e+13\n",
       "7.0  9.375689e+12\n",
       "8.0  7.701042e+12"
      ]
     },
     "execution_count": 88,
     "metadata": {},
     "output_type": "execute_result"
    }
   ],
   "source": [
    "inertias"
   ]
  },
  {
   "cell_type": "code",
   "execution_count": 89,
   "id": "30bece29",
   "metadata": {
    "execution": {
     "iopub.execute_input": "2022-10-31T13:37:22.334322Z",
     "iopub.status.busy": "2022-10-31T13:37:22.333869Z",
     "iopub.status.idle": "2022-10-31T13:37:22.523446Z",
     "shell.execute_reply": "2022-10-31T13:37:22.521950Z"
    },
    "papermill": {
     "duration": 0.233912,
     "end_time": "2022-10-31T13:37:22.525940",
     "exception": false,
     "start_time": "2022-10-31T13:37:22.292028",
     "status": "completed"
    },
    "tags": []
   },
   "outputs": [
    {
     "data": {
      "image/png": "[encoded data removed]",
      "text/plain": [
       "<Figure size 864x432 with 1 Axes>"
      ]
     },
     "metadata": {},
     "output_type": "display_data"
    }
   ],
   "source": [
    "# Plot k vs inertias\n",
    "\n",
    "plt.figure(figsize=(12,6))\n",
    "plt.plot(inertias.index, inertias['inertia'], '-*')\n",
    "plt.title('Best k using Elbow method')\n",
    "plt.xlabel('number of clusters, k')\n",
    "plt.ylabel('inertia')\n",
    "plt.xticks(k)\n",
    "plt.show()"
   ]
  },
  {
   "cell_type": "markdown",
   "id": "19511661",
   "metadata": {
    "papermill": {
     "duration": 0.042654,
     "end_time": "2022-10-31T13:37:22.611195",
     "exception": false,
     "start_time": "2022-10-31T13:37:22.568541",
     "status": "completed"
    },
    "tags": []
   },
   "source": [
    "There is a sharp drop in the inertia from cluster 1 to cluster 2 and further till cluster 3. We can choose # of clusters as 2 or 3\n"
   ]
  },
  {
   "cell_type": "code",
   "execution_count": 90,
   "id": "00be46ae",
   "metadata": {
    "execution": {
     "iopub.execute_input": "2022-10-31T13:37:22.697664Z",
     "iopub.status.busy": "2022-10-31T13:37:22.697250Z",
     "iopub.status.idle": "2022-10-31T13:37:30.804973Z",
     "shell.execute_reply": "2022-10-31T13:37:30.803928Z"
    },
    "papermill": {
     "duration": 8.153632,
     "end_time": "2022-10-31T13:37:30.807885",
     "exception": false,
     "start_time": "2022-10-31T13:37:22.654253",
     "status": "completed"
    },
    "tags": []
   },
   "outputs": [],
   "source": [
    "sc=[]\n",
    "k= np.arange(2,9)\n",
    "for i in k:\n",
    "    model = KMeans(n_clusters= i, max_iter=5)\n",
    "    pred = model.fit_predict(df_2.values)\n",
    "    sil_score= silhouette_score(df_2.values, pred)\n",
    "    sc.append(pd.Series({'k': i,\n",
    "                            'sc': sil_score\n",
    "                             }))"
   ]
  },
  {
   "cell_type": "code",
   "execution_count": 91,
   "id": "1a80ffe2",
   "metadata": {
    "execution": {
     "iopub.execute_input": "2022-10-31T13:37:30.915230Z",
     "iopub.status.busy": "2022-10-31T13:37:30.914800Z",
     "iopub.status.idle": "2022-10-31T13:37:30.929476Z",
     "shell.execute_reply": "2022-10-31T13:37:30.927498Z"
    },
    "papermill": {
     "duration": 0.06794,
     "end_time": "2022-10-31T13:37:30.931766",
     "exception": false,
     "start_time": "2022-10-31T13:37:30.863826",
     "status": "completed"
    },
    "tags": []
   },
   "outputs": [
    {
     "data": {
      "text/html": [
       "<div>\n",
       "<style scoped>\n",
       "    .dataframe tbody tr th:only-of-type {\n",
       "        vertical-align: middle;\n",
       "    }\n",
       "\n",
       "    .dataframe tbody tr th {\n",
       "        vertical-align: top;\n",
       "    }\n",
       "\n",
       "    .dataframe thead th {\n",
       "        text-align: right;\n",
       "    }\n",
       "</style>\n",
       "<table border=\"1\" class=\"dataframe\">\n",
       "  <thead>\n",
       "    <tr style=\"text-align: right;\">\n",
       "      <th></th>\n",
       "      <th>sc</th>\n",
       "    </tr>\n",
       "    <tr>\n",
       "      <th>k</th>\n",
       "      <th></th>\n",
       "    </tr>\n",
       "  </thead>\n",
       "  <tbody>\n",
       "    <tr>\n",
       "      <th>2.0</th>\n",
       "      <td>0.633742</td>\n",
       "    </tr>\n",
       "    <tr>\n",
       "      <th>3.0</th>\n",
       "      <td>0.641908</td>\n",
       "    </tr>\n",
       "    <tr>\n",
       "      <th>4.0</th>\n",
       "      <td>0.639734</td>\n",
       "    </tr>\n",
       "    <tr>\n",
       "      <th>5.0</th>\n",
       "      <td>0.641309</td>\n",
       "    </tr>\n",
       "    <tr>\n",
       "      <th>6.0</th>\n",
       "      <td>0.576962</td>\n",
       "    </tr>\n",
       "    <tr>\n",
       "      <th>7.0</th>\n",
       "      <td>0.623292</td>\n",
       "    </tr>\n",
       "    <tr>\n",
       "      <th>8.0</th>\n",
       "      <td>0.663458</td>\n",
       "    </tr>\n",
       "  </tbody>\n",
       "</table>\n",
       "</div>"
      ],
      "text/plain": [
       "           sc\n",
       "k            \n",
       "2.0  0.633742\n",
       "3.0  0.641908\n",
       "4.0  0.639734\n",
       "5.0  0.641309\n",
       "6.0  0.576962\n",
       "7.0  0.623292\n",
       "8.0  0.663458"
      ]
     },
     "execution_count": 91,
     "metadata": {},
     "output_type": "execute_result"
    }
   ],
   "source": [
    "score=pd.concat(sc, axis=1).T.set_index('k')\n",
    "score"
   ]
  },
  {
   "cell_type": "code",
   "execution_count": 92,
   "id": "c473e5f9",
   "metadata": {
    "execution": {
     "iopub.execute_input": "2022-10-31T13:37:31.020611Z",
     "iopub.status.busy": "2022-10-31T13:37:31.020224Z",
     "iopub.status.idle": "2022-10-31T13:37:31.197636Z",
     "shell.execute_reply": "2022-10-31T13:37:31.195997Z"
    },
    "papermill": {
     "duration": 0.225096,
     "end_time": "2022-10-31T13:37:31.200015",
     "exception": false,
     "start_time": "2022-10-31T13:37:30.974919",
     "status": "completed"
    },
    "tags": []
   },
   "outputs": [
    {
     "data": {
      "image/png": "[encoded data removed]",
      "text/plain": [
       "<Figure size 864x432 with 1 Axes>"
      ]
     },
     "metadata": {},
     "output_type": "display_data"
    }
   ],
   "source": [
    "# Plot k vs inertias\n",
    "\n",
    "plt.figure(figsize=(12,6))\n",
    "plt.plot(score.index, score['sc'], '-*')\n",
    "plt.title('SC plot')\n",
    "plt.xlabel('number of clusters, k')\n",
    "plt.ylabel('SC')\n",
    "plt.xticks(k)\n",
    "plt.show()"
   ]
  },
  {
   "cell_type": "markdown",
   "id": "2a0a7c82",
   "metadata": {
    "papermill": {
     "duration": 0.042513,
     "end_time": "2022-10-31T13:37:31.286387",
     "exception": false,
     "start_time": "2022-10-31T13:37:31.243874",
     "status": "completed"
    },
    "tags": []
   },
   "source": [
    "3 clusters seems ok but we have maximum silhoutte score at 8 clusters. We will go ahead with 3 as of now.\n"
   ]
  },
  {
   "cell_type": "code",
   "execution_count": 93,
   "id": "5977ea5e",
   "metadata": {
    "execution": {
     "iopub.execute_input": "2022-10-31T13:37:31.374210Z",
     "iopub.status.busy": "2022-10-31T13:37:31.373712Z",
     "iopub.status.idle": "2022-10-31T13:37:32.660287Z",
     "shell.execute_reply": "2022-10-31T13:37:32.659422Z"
    },
    "papermill": {
     "duration": 1.333516,
     "end_time": "2022-10-31T13:37:32.662559",
     "exception": false,
     "start_time": "2022-10-31T13:37:31.329043",
     "status": "completed"
    },
    "tags": []
   },
   "outputs": [
    {
     "data": {
      "text/plain": [
       "KMeans(max_iter=5, n_clusters=3)"
      ]
     },
     "execution_count": 93,
     "metadata": {},
     "output_type": "execute_result"
    }
   ],
   "source": [
    "model = KMeans(n_clusters= 3, max_iter=5)\n",
    "model.fit(df_2.values)"
   ]
  },
  {
   "cell_type": "code",
   "execution_count": 94,
   "id": "e8ab47be",
   "metadata": {
    "execution": {
     "iopub.execute_input": "2022-10-31T13:37:32.752523Z",
     "iopub.status.busy": "2022-10-31T13:37:32.751372Z",
     "iopub.status.idle": "2022-10-31T13:37:32.778629Z",
     "shell.execute_reply": "2022-10-31T13:37:32.777198Z"
    },
    "papermill": {
     "duration": 0.073129,
     "end_time": "2022-10-31T13:37:32.780772",
     "exception": false,
     "start_time": "2022-10-31T13:37:32.707643",
     "status": "completed"
    },
    "tags": []
   },
   "outputs": [
    {
     "data": {
      "text/html": [
       "<div>\n",
       "<style scoped>\n",
       "    .dataframe tbody tr th:only-of-type {\n",
       "        vertical-align: middle;\n",
       "    }\n",
       "\n",
       "    .dataframe tbody tr th {\n",
       "        vertical-align: top;\n",
       "    }\n",
       "\n",
       "    .dataframe thead th {\n",
       "        text-align: right;\n",
       "    }\n",
       "</style>\n",
       "<table border=\"1\" class=\"dataframe\">\n",
       "  <thead>\n",
       "    <tr style=\"text-align: right;\">\n",
       "      <th></th>\n",
       "      <th>ad_id</th>\n",
       "      <th>interest</th>\n",
       "      <th>Impressions</th>\n",
       "      <th>Clicks</th>\n",
       "      <th>Spent</th>\n",
       "      <th>Approved_Conversion</th>\n",
       "      <th>gender_1</th>\n",
       "      <th>age_1</th>\n",
       "      <th>age_2</th>\n",
       "      <th>age_3</th>\n",
       "      <th>Score</th>\n",
       "    </tr>\n",
       "  </thead>\n",
       "  <tbody>\n",
       "    <tr>\n",
       "      <th>0</th>\n",
       "      <td>708746</td>\n",
       "      <td>15</td>\n",
       "      <td>7350</td>\n",
       "      <td>1</td>\n",
       "      <td>1.430000</td>\n",
       "      <td>1</td>\n",
       "      <td>1.0</td>\n",
       "      <td>0.0</td>\n",
       "      <td>0.0</td>\n",
       "      <td>0.0</td>\n",
       "      <td>1</td>\n",
       "    </tr>\n",
       "    <tr>\n",
       "      <th>1</th>\n",
       "      <td>708749</td>\n",
       "      <td>16</td>\n",
       "      <td>17861</td>\n",
       "      <td>2</td>\n",
       "      <td>1.820000</td>\n",
       "      <td>0</td>\n",
       "      <td>1.0</td>\n",
       "      <td>0.0</td>\n",
       "      <td>0.0</td>\n",
       "      <td>0.0</td>\n",
       "      <td>1</td>\n",
       "    </tr>\n",
       "    <tr>\n",
       "      <th>2</th>\n",
       "      <td>708771</td>\n",
       "      <td>20</td>\n",
       "      <td>693</td>\n",
       "      <td>0</td>\n",
       "      <td>0.000000</td>\n",
       "      <td>0</td>\n",
       "      <td>1.0</td>\n",
       "      <td>0.0</td>\n",
       "      <td>0.0</td>\n",
       "      <td>0.0</td>\n",
       "      <td>1</td>\n",
       "    </tr>\n",
       "    <tr>\n",
       "      <th>3</th>\n",
       "      <td>708815</td>\n",
       "      <td>28</td>\n",
       "      <td>4259</td>\n",
       "      <td>1</td>\n",
       "      <td>1.250000</td>\n",
       "      <td>0</td>\n",
       "      <td>1.0</td>\n",
       "      <td>0.0</td>\n",
       "      <td>0.0</td>\n",
       "      <td>0.0</td>\n",
       "      <td>1</td>\n",
       "    </tr>\n",
       "    <tr>\n",
       "      <th>4</th>\n",
       "      <td>708818</td>\n",
       "      <td>28</td>\n",
       "      <td>4133</td>\n",
       "      <td>1</td>\n",
       "      <td>1.290000</td>\n",
       "      <td>1</td>\n",
       "      <td>1.0</td>\n",
       "      <td>0.0</td>\n",
       "      <td>0.0</td>\n",
       "      <td>0.0</td>\n",
       "      <td>1</td>\n",
       "    </tr>\n",
       "    <tr>\n",
       "      <th>...</th>\n",
       "      <td>...</td>\n",
       "      <td>...</td>\n",
       "      <td>...</td>\n",
       "      <td>...</td>\n",
       "      <td>...</td>\n",
       "      <td>...</td>\n",
       "      <td>...</td>\n",
       "      <td>...</td>\n",
       "      <td>...</td>\n",
       "      <td>...</td>\n",
       "      <td>...</td>\n",
       "    </tr>\n",
       "    <tr>\n",
       "      <th>1138</th>\n",
       "      <td>1314410</td>\n",
       "      <td>109</td>\n",
       "      <td>1129773</td>\n",
       "      <td>252</td>\n",
       "      <td>358.189997</td>\n",
       "      <td>2</td>\n",
       "      <td>0.0</td>\n",
       "      <td>0.0</td>\n",
       "      <td>0.0</td>\n",
       "      <td>1.0</td>\n",
       "      <td>2</td>\n",
       "    </tr>\n",
       "    <tr>\n",
       "      <th>1139</th>\n",
       "      <td>1314411</td>\n",
       "      <td>110</td>\n",
       "      <td>637549</td>\n",
       "      <td>120</td>\n",
       "      <td>173.880003</td>\n",
       "      <td>0</td>\n",
       "      <td>0.0</td>\n",
       "      <td>0.0</td>\n",
       "      <td>0.0</td>\n",
       "      <td>1.0</td>\n",
       "      <td>2</td>\n",
       "    </tr>\n",
       "    <tr>\n",
       "      <th>1140</th>\n",
       "      <td>1314412</td>\n",
       "      <td>111</td>\n",
       "      <td>151531</td>\n",
       "      <td>28</td>\n",
       "      <td>40.289999</td>\n",
       "      <td>0</td>\n",
       "      <td>0.0</td>\n",
       "      <td>0.0</td>\n",
       "      <td>0.0</td>\n",
       "      <td>1.0</td>\n",
       "      <td>0</td>\n",
       "    </tr>\n",
       "    <tr>\n",
       "      <th>1141</th>\n",
       "      <td>1314414</td>\n",
       "      <td>113</td>\n",
       "      <td>790253</td>\n",
       "      <td>135</td>\n",
       "      <td>198.710001</td>\n",
       "      <td>2</td>\n",
       "      <td>0.0</td>\n",
       "      <td>0.0</td>\n",
       "      <td>0.0</td>\n",
       "      <td>1.0</td>\n",
       "      <td>2</td>\n",
       "    </tr>\n",
       "    <tr>\n",
       "      <th>1142</th>\n",
       "      <td>1314415</td>\n",
       "      <td>114</td>\n",
       "      <td>513161</td>\n",
       "      <td>114</td>\n",
       "      <td>165.609999</td>\n",
       "      <td>2</td>\n",
       "      <td>0.0</td>\n",
       "      <td>0.0</td>\n",
       "      <td>0.0</td>\n",
       "      <td>1.0</td>\n",
       "      <td>0</td>\n",
       "    </tr>\n",
       "  </tbody>\n",
       "</table>\n",
       "<p>1143 rows × 11 columns</p>\n",
       "</div>"
      ],
      "text/plain": [
       "        ad_id  interest  Impressions  Clicks       Spent  Approved_Conversion  \\\n",
       "0      708746        15         7350       1    1.430000                    1   \n",
       "1      708749        16        17861       2    1.820000                    0   \n",
       "2      708771        20          693       0    0.000000                    0   \n",
       "3      708815        28         4259       1    1.250000                    0   \n",
       "4      708818        28         4133       1    1.290000                    1   \n",
       "...       ...       ...          ...     ...         ...                  ...   \n",
       "1138  1314410       109      1129773     252  358.189997                    2   \n",
       "1139  1314411       110       637549     120  173.880003                    0   \n",
       "1140  1314412       111       151531      28   40.289999                    0   \n",
       "1141  1314414       113       790253     135  198.710001                    2   \n",
       "1142  1314415       114       513161     114  165.609999                    2   \n",
       "\n",
       "      gender_1  age_1  age_2  age_3  Score  \n",
       "0          1.0    0.0    0.0    0.0      1  \n",
       "1          1.0    0.0    0.0    0.0      1  \n",
       "2          1.0    0.0    0.0    0.0      1  \n",
       "3          1.0    0.0    0.0    0.0      1  \n",
       "4          1.0    0.0    0.0    0.0      1  \n",
       "...        ...    ...    ...    ...    ...  \n",
       "1138       0.0    0.0    0.0    1.0      2  \n",
       "1139       0.0    0.0    0.0    1.0      2  \n",
       "1140       0.0    0.0    0.0    1.0      0  \n",
       "1141       0.0    0.0    0.0    1.0      2  \n",
       "1142       0.0    0.0    0.0    1.0      0  \n",
       "\n",
       "[1143 rows x 11 columns]"
      ]
     },
     "execution_count": 94,
     "metadata": {},
     "output_type": "execute_result"
    }
   ],
   "source": [
    "df_2['Score']= model.predict(df_2.values)\n",
    "#data.sample(5)\n",
    "df_2"
   ]
  },
  {
   "cell_type": "code",
   "execution_count": 95,
   "id": "c927170b",
   "metadata": {
    "execution": {
     "iopub.execute_input": "2022-10-31T13:37:32.867864Z",
     "iopub.status.busy": "2022-10-31T13:37:32.867349Z",
     "iopub.status.idle": "2022-10-31T13:37:34.174318Z",
     "shell.execute_reply": "2022-10-31T13:37:34.172478Z"
    },
    "papermill": {
     "duration": 1.353258,
     "end_time": "2022-10-31T13:37:34.176808",
     "exception": false,
     "start_time": "2022-10-31T13:37:32.823550",
     "status": "completed"
    },
    "tags": []
   },
   "outputs": [
    {
     "data": {
      "image/png": "[encoded data removed]",
      "text/plain": [
       "<Figure size 406.6x360 with 1 Axes>"
      ]
     },
     "metadata": {},
     "output_type": "display_data"
    },
    {
     "data": {
      "image/png": "[encoded data removed]",
      "text/plain": [
       "<Figure size 406.6x360 with 1 Axes>"
      ]
     },
     "metadata": {},
     "output_type": "display_data"
    },
    {
     "data": {
      "image/png": "[encoded data removed]",
      "text/plain": [
       "<Figure size 406.6x360 with 1 Axes>"
      ]
     },
     "metadata": {},
     "output_type": "display_data"
    }
   ],
   "source": [
    "sns.lmplot(x='Impressions', y='Clicks', data= df_2, hue='Score',fit_reg=False, markers=[\"o\", \"^\", \"+\"] ,palette='Set1')\n",
    "sns.lmplot(x='Spent', y='Clicks', data= df_2, hue='Score',fit_reg=False, markers=[\"o\", \"^\", \"+\"], palette=\"cool\" )\n",
    "sns.lmplot(x='Impressions', y='Spent', data= df_2, hue='Score',fit_reg=False, markers=[\"o\", \"^\", \"+\"] ,palette=\"cool\" )\n",
    "plt.show()"
   ]
  },
  {
   "cell_type": "code",
   "execution_count": 96,
   "id": "a190ef72",
   "metadata": {
    "execution": {
     "iopub.execute_input": "2022-10-31T13:37:34.268601Z",
     "iopub.status.busy": "2022-10-31T13:37:34.267336Z",
     "iopub.status.idle": "2022-10-31T13:37:34.284327Z",
     "shell.execute_reply": "2022-10-31T13:37:34.282916Z"
    },
    "papermill": {
     "duration": 0.064738,
     "end_time": "2022-10-31T13:37:34.286393",
     "exception": false,
     "start_time": "2022-10-31T13:37:34.221655",
     "status": "completed"
    },
    "tags": []
   },
   "outputs": [
    {
     "name": "stdout",
     "output_type": "stream",
     "text": [
      "number of ads : Score\n",
      "0    514\n",
      "1    518\n",
      "2    111\n",
      "Name: ad_id, dtype: int64\n",
      "breakup of conversions : Score\n",
      "0    449\n",
      "1    207\n",
      "2    423\n",
      "Name: Approved_Conversion, dtype: int64\n",
      "breakup of Impressions : Score\n",
      "0     96258881\n",
      "1      8611112\n",
      "2    108564835\n",
      "Name: Impressions, dtype: int64\n",
      "breakup of Spent : Score\n",
      "0    25723.970000\n",
      "1     3043.080000\n",
      "2    29938.179959\n",
      "Name: Spent, dtype: float64\n"
     ]
    }
   ],
   "source": [
    "print('number of ads :' , df_2.groupby('Score')['ad_id'].count())\n",
    "print('breakup of conversions :' , df_2.groupby('Score')['Approved_Conversion'].sum())\n",
    "print('breakup of Impressions :',  df_2.groupby('Score')['Impressions'].sum())\n",
    "print('breakup of Spent :',  df_2.groupby('Score')['Spent'].sum())"
   ]
  },
  {
   "cell_type": "code",
   "execution_count": 97,
   "id": "baac2aac",
   "metadata": {
    "execution": {
     "iopub.execute_input": "2022-10-31T13:37:34.374497Z",
     "iopub.status.busy": "2022-10-31T13:37:34.374078Z",
     "iopub.status.idle": "2022-10-31T13:37:34.382285Z",
     "shell.execute_reply": "2022-10-31T13:37:34.379592Z"
    },
    "papermill": {
     "duration": 0.058049,
     "end_time": "2022-10-31T13:37:34.386583",
     "exception": false,
     "start_time": "2022-10-31T13:37:34.328534",
     "status": "completed"
    },
    "tags": []
   },
   "outputs": [
    {
     "name": "stdout",
     "output_type": "stream",
     "text": [
      "avg_conv_cluster1= 3.780701754385965\n",
      "avg_conv_cluster2= 0.863013698630137\n",
      "avg_conv_cluster3= 0.3996138996138996\n",
      "avg cost to acq_cluster1= 70.56881660788864\n",
      "avg cost to acq_cluster2= 57.249410433106576\n",
      "avg cost to acq_cluster3= 14.70086956521739\n"
     ]
    }
   ],
   "source": [
    "print(\"avg_conv_cluster1=\", (431/114))\n",
    "print(\"avg_conv_cluster2=\", (441/511))\n",
    "print(\"avg_conv_cluster3=\", (207/518))\n",
    "print(\"avg cost to acq_cluster1=\", (30415.159958/431))\n",
    "print(\"avg cost to acq_cluster2=\", (25246.990001/441))\n",
    "print(\"avg cost to acq_cluster3=\", (3043.080000/207))\n"
   ]
  },
  {
   "cell_type": "code",
   "execution_count": 98,
   "id": "d92b6d52",
   "metadata": {
    "execution": {
     "iopub.execute_input": "2022-10-31T13:37:34.478184Z",
     "iopub.status.busy": "2022-10-31T13:37:34.477708Z",
     "iopub.status.idle": "2022-10-31T13:37:34.487136Z",
     "shell.execute_reply": "2022-10-31T13:37:34.484650Z"
    },
    "papermill": {
     "duration": 0.059085,
     "end_time": "2022-10-31T13:37:34.490250",
     "exception": false,
     "start_time": "2022-10-31T13:37:34.431165",
     "status": "completed"
    },
    "tags": []
   },
   "outputs": [],
   "source": [
    "df_cluster1=df_2[df_2['Score']==0]\n",
    "df_cluster2=df_2[df_2['Score']==1]\n",
    "df_cluster3=df_2[df_2['Score']==2]"
   ]
  },
  {
   "cell_type": "code",
   "execution_count": 99,
   "id": "786af975",
   "metadata": {
    "execution": {
     "iopub.execute_input": "2022-10-31T13:37:34.582358Z",
     "iopub.status.busy": "2022-10-31T13:37:34.581887Z",
     "iopub.status.idle": "2022-10-31T13:37:34.603311Z",
     "shell.execute_reply": "2022-10-31T13:37:34.602401Z"
    },
    "papermill": {
     "duration": 0.069103,
     "end_time": "2022-10-31T13:37:34.605880",
     "exception": false,
     "start_time": "2022-10-31T13:37:34.536777",
     "status": "completed"
    },
    "tags": []
   },
   "outputs": [],
   "source": [
    "cluster1=pd.merge(df_cluster1,df[[\"ad_id\",\"gender\",\"age\"]],on=\"ad_id\")\n",
    "cluster2=pd.merge(df_cluster2,df[[\"ad_id\",\"gender\",\"age\"]],on=\"ad_id\")\n",
    "cluster3=pd.merge(df_cluster3,df[[\"ad_id\",\"gender\",\"age\"]],on=\"ad_id\")\n"
   ]
  },
  {
   "cell_type": "code",
   "execution_count": 100,
   "id": "002fe582",
   "metadata": {
    "execution": {
     "iopub.execute_input": "2022-10-31T13:37:34.697569Z",
     "iopub.status.busy": "2022-10-31T13:37:34.696849Z",
     "iopub.status.idle": "2022-10-31T13:37:34.709146Z",
     "shell.execute_reply": "2022-10-31T13:37:34.708291Z"
    },
    "papermill": {
     "duration": 0.061462,
     "end_time": "2022-10-31T13:37:34.712082",
     "exception": false,
     "start_time": "2022-10-31T13:37:34.650620",
     "status": "completed"
    },
    "tags": []
   },
   "outputs": [
    {
     "data": {
      "text/plain": [
       "gender\n",
       "F    203\n",
       "M    311\n",
       "Name: ad_id, dtype: int64"
      ]
     },
     "execution_count": 100,
     "metadata": {},
     "output_type": "execute_result"
    }
   ],
   "source": [
    "cluster1.groupby('gender')[\"ad_id\"].count()"
   ]
  },
  {
   "cell_type": "code",
   "execution_count": 101,
   "id": "e9cf5edb",
   "metadata": {
    "execution": {
     "iopub.execute_input": "2022-10-31T13:37:34.803212Z",
     "iopub.status.busy": "2022-10-31T13:37:34.802527Z",
     "iopub.status.idle": "2022-10-31T13:37:34.810596Z",
     "shell.execute_reply": "2022-10-31T13:37:34.809901Z"
    },
    "papermill": {
     "duration": 0.055968,
     "end_time": "2022-10-31T13:37:34.812920",
     "exception": false,
     "start_time": "2022-10-31T13:37:34.756952",
     "status": "completed"
    },
    "tags": []
   },
   "outputs": [
    {
     "data": {
      "text/plain": [
       "gender\n",
       "F    275\n",
       "M    243\n",
       "Name: ad_id, dtype: int64"
      ]
     },
     "execution_count": 101,
     "metadata": {},
     "output_type": "execute_result"
    }
   ],
   "source": [
    "cluster2.groupby('gender')[\"ad_id\"].count()"
   ]
  },
  {
   "cell_type": "code",
   "execution_count": 102,
   "id": "7df42634",
   "metadata": {
    "execution": {
     "iopub.execute_input": "2022-10-31T13:37:34.905188Z",
     "iopub.status.busy": "2022-10-31T13:37:34.904450Z",
     "iopub.status.idle": "2022-10-31T13:37:34.916188Z",
     "shell.execute_reply": "2022-10-31T13:37:34.914053Z"
    },
    "papermill": {
     "duration": 0.060902,
     "end_time": "2022-10-31T13:37:34.919484",
     "exception": false,
     "start_time": "2022-10-31T13:37:34.858582",
     "status": "completed"
    },
    "tags": []
   },
   "outputs": [
    {
     "data": {
      "text/plain": [
       "gender\n",
       "F    73\n",
       "M    38\n",
       "Name: ad_id, dtype: int64"
      ]
     },
     "execution_count": 102,
     "metadata": {},
     "output_type": "execute_result"
    }
   ],
   "source": [
    "cluster3.groupby('gender')[\"ad_id\"].count()"
   ]
  },
  {
   "cell_type": "code",
   "execution_count": 103,
   "id": "a5b9d9dc",
   "metadata": {
    "execution": {
     "iopub.execute_input": "2022-10-31T13:37:35.013087Z",
     "iopub.status.busy": "2022-10-31T13:37:35.012591Z",
     "iopub.status.idle": "2022-10-31T13:37:35.305530Z",
     "shell.execute_reply": "2022-10-31T13:37:35.303806Z"
    },
    "papermill": {
     "duration": 0.343508,
     "end_time": "2022-10-31T13:37:35.308009",
     "exception": false,
     "start_time": "2022-10-31T13:37:34.964501",
     "status": "completed"
    },
    "tags": []
   },
   "outputs": [
    {
     "data": {
      "text/plain": [
       "interest\n",
       "2      18\n",
       "7      13\n",
       "10     24\n",
       "15     15\n",
       "16     15\n",
       "18     13\n",
       "19     22\n",
       "20     22\n",
       "21     22\n",
       "22     21\n",
       "23     17\n",
       "24     16\n",
       "25     17\n",
       "26     16\n",
       "27     15\n",
       "28     19\n",
       "29     24\n",
       "30     16\n",
       "31     15\n",
       "32     19\n",
       "36     13\n",
       "63     22\n",
       "64     24\n",
       "65     11\n",
       "66     11\n",
       "100     4\n",
       "101     4\n",
       "102     7\n",
       "103     4\n",
       "104     5\n",
       "105     5\n",
       "106     4\n",
       "107     4\n",
       "108     6\n",
       "109     4\n",
       "110     7\n",
       "111     5\n",
       "112     5\n",
       "113     5\n",
       "114     5\n",
       "Name: ad_id, dtype: int64"
      ]
     },
     "execution_count": 103,
     "metadata": {},
     "output_type": "execute_result"
    }
   ],
   "source": [
    "cluster1.groupby('interest')[\"ad_id\"].count()"
   ]
  },
  {
   "cell_type": "code",
   "execution_count": 104,
   "id": "2c36b055",
   "metadata": {
    "execution": {
     "iopub.execute_input": "2022-10-31T13:37:35.399249Z",
     "iopub.status.busy": "2022-10-31T13:37:35.398777Z",
     "iopub.status.idle": "2022-10-31T13:37:35.407302Z",
     "shell.execute_reply": "2022-10-31T13:37:35.406638Z"
    },
    "papermill": {
     "duration": 0.057281,
     "end_time": "2022-10-31T13:37:35.409614",
     "exception": false,
     "start_time": "2022-10-31T13:37:35.352333",
     "status": "completed"
    },
    "tags": []
   },
   "outputs": [
    {
     "data": {
      "text/plain": [
       "interest\n",
       "2       7\n",
       "7      10\n",
       "10     50\n",
       "15     31\n",
       "16    102\n",
       "18     23\n",
       "19      9\n",
       "20     25\n",
       "21     14\n",
       "22     11\n",
       "23      6\n",
       "24      8\n",
       "25      7\n",
       "26     23\n",
       "27     34\n",
       "28     25\n",
       "29     42\n",
       "30      9\n",
       "31     10\n",
       "32     12\n",
       "36      8\n",
       "63     20\n",
       "64     24\n",
       "65      8\n",
       "Name: ad_id, dtype: int64"
      ]
     },
     "execution_count": 104,
     "metadata": {},
     "output_type": "execute_result"
    }
   ],
   "source": [
    "cluster2.groupby('interest')[\"ad_id\"].count()"
   ]
  },
  {
   "cell_type": "code",
   "execution_count": 105,
   "id": "1bf5740d",
   "metadata": {
    "execution": {
     "iopub.execute_input": "2022-10-31T13:37:35.503017Z",
     "iopub.status.busy": "2022-10-31T13:37:35.502211Z",
     "iopub.status.idle": "2022-10-31T13:37:35.511458Z",
     "shell.execute_reply": "2022-10-31T13:37:35.510140Z"
    },
    "papermill": {
     "duration": 0.060307,
     "end_time": "2022-10-31T13:37:35.513318",
     "exception": false,
     "start_time": "2022-10-31T13:37:35.453011",
     "status": "completed"
    },
    "tags": []
   },
   "outputs": [
    {
     "data": {
      "text/plain": [
       "interest\n",
       "7       1\n",
       "10     11\n",
       "15      5\n",
       "16     23\n",
       "18      7\n",
       "19      1\n",
       "20      2\n",
       "22      1\n",
       "25      2\n",
       "26      2\n",
       "27     11\n",
       "28      7\n",
       "29     11\n",
       "32      2\n",
       "63      4\n",
       "100     2\n",
       "101     3\n",
       "103     1\n",
       "105     2\n",
       "106     1\n",
       "107     4\n",
       "108     1\n",
       "109     2\n",
       "110     1\n",
       "111     1\n",
       "112     2\n",
       "113     1\n",
       "Name: ad_id, dtype: int64"
      ]
     },
     "execution_count": 105,
     "metadata": {},
     "output_type": "execute_result"
    }
   ],
   "source": [
    "cluster3.groupby('interest')[\"ad_id\"].count()"
   ]
  },
  {
   "cell_type": "code",
   "execution_count": 106,
   "id": "5bf464ab",
   "metadata": {
    "execution": {
     "iopub.execute_input": "2022-10-31T13:37:35.603786Z",
     "iopub.status.busy": "2022-10-31T13:37:35.603249Z",
     "iopub.status.idle": "2022-10-31T13:37:35.612014Z",
     "shell.execute_reply": "2022-10-31T13:37:35.611124Z"
    },
    "papermill": {
     "duration": 0.058774,
     "end_time": "2022-10-31T13:37:35.614638",
     "exception": false,
     "start_time": "2022-10-31T13:37:35.555864",
     "status": "completed"
    },
    "tags": []
   },
   "outputs": [
    {
     "data": {
      "text/plain": [
       "559"
      ]
     },
     "execution_count": 106,
     "metadata": {},
     "output_type": "execute_result"
    }
   ],
   "source": [
    "# unique number of campaigns that have no conversion\n",
    "df[df['Approved_Conversion']==0]['ad_id'].nunique()"
   ]
  },
  {
   "cell_type": "code",
   "execution_count": 107,
   "id": "7167f29d",
   "metadata": {
    "execution": {
     "iopub.execute_input": "2022-10-31T13:37:35.718127Z",
     "iopub.status.busy": "2022-10-31T13:37:35.717322Z",
     "iopub.status.idle": "2022-10-31T13:37:35.726069Z",
     "shell.execute_reply": "2022-10-31T13:37:35.725149Z"
    },
    "papermill": {
     "duration": 0.058231,
     "end_time": "2022-10-31T13:37:35.727879",
     "exception": false,
     "start_time": "2022-10-31T13:37:35.669648",
     "status": "completed"
    },
    "tags": []
   },
   "outputs": [
    {
     "data": {
      "text/plain": [
       "224"
      ]
     },
     "execution_count": 107,
     "metadata": {},
     "output_type": "execute_result"
    }
   ],
   "source": [
    "cluster1[cluster1['Approved_Conversion']==0]['ad_id'].nunique()"
   ]
  },
  {
   "cell_type": "code",
   "execution_count": 108,
   "id": "717f10b7",
   "metadata": {
    "execution": {
     "iopub.execute_input": "2022-10-31T13:37:35.818161Z",
     "iopub.status.busy": "2022-10-31T13:37:35.817660Z",
     "iopub.status.idle": "2022-10-31T13:37:35.826865Z",
     "shell.execute_reply": "2022-10-31T13:37:35.826154Z"
    },
    "papermill": {
     "duration": 0.05736,
     "end_time": "2022-10-31T13:37:35.828976",
     "exception": false,
     "start_time": "2022-10-31T13:37:35.771616",
     "status": "completed"
    },
    "tags": []
   },
   "outputs": [
    {
     "data": {
      "text/plain": [
       "322"
      ]
     },
     "execution_count": 108,
     "metadata": {},
     "output_type": "execute_result"
    }
   ],
   "source": [
    "cluster2[cluster2['Approved_Conversion']==0]['ad_id'].nunique()"
   ]
  },
  {
   "cell_type": "code",
   "execution_count": 109,
   "id": "4dffb662",
   "metadata": {
    "execution": {
     "iopub.execute_input": "2022-10-31T13:37:35.927879Z",
     "iopub.status.busy": "2022-10-31T13:37:35.927035Z",
     "iopub.status.idle": "2022-10-31T13:37:35.935071Z",
     "shell.execute_reply": "2022-10-31T13:37:35.934419Z"
    },
    "papermill": {
     "duration": 0.062472,
     "end_time": "2022-10-31T13:37:35.937744",
     "exception": false,
     "start_time": "2022-10-31T13:37:35.875272",
     "status": "completed"
    },
    "tags": []
   },
   "outputs": [
    {
     "data": {
      "text/plain": [
       "13"
      ]
     },
     "execution_count": 109,
     "metadata": {},
     "output_type": "execute_result"
    }
   ],
   "source": [
    "cluster3[cluster3['Approved_Conversion']==0]['ad_id'].nunique()"
   ]
  }
 ],
 "metadata": {
  "kernelspec": {
   "display_name": "Python 3",
   "language": "python",
   "name": "python3"
  },
  "language_info": {
   "codemirror_mode": {
    "name": "ipython",
    "version": 3
   },
   "file_extension": ".py",
   "mimetype": "text/x-python",
   "name": "python",
   "nbconvert_exporter": "python",
   "pygments_lexer": "ipython3",
   "version": "3.7.12"
  },
  "papermill": {
   "default_parameters": {},
   "duration": 55.441216,
   "end_time": "2022-10-31T13:37:37.211058",
   "environment_variables": {},
   "exception": null,
   "input_path": "__notebook__.ipynb",
   "output_path": "__notebook__.ipynb",
   "parameters": {},
   "start_time": "2022-10-31T13:36:41.769842",
   "version": "2.3.4"
  }
 },
 "nbformat": 4,
 "nbformat_minor": 5
}

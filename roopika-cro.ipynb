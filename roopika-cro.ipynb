{
 "cells": [
  {
   "cell_type": "code",
   "execution_count": 1,
   "id": "7de758d3",
   "metadata": {
    "_cell_guid": "b1076dfc-b9ad-4769-8c92-a6c4dae69d19",
    "_uuid": "8f2839f25d086af736a60e9eeb907d3b93b6e0e5",
    "execution": {
     "iopub.execute_input": "2022-10-31T16:15:16.686764Z",
     "iopub.status.busy": "2022-10-31T16:15:16.685768Z",
     "iopub.status.idle": "2022-10-31T16:15:16.709656Z",
     "shell.execute_reply": "2022-10-31T16:15:16.708537Z"
    },
    "papermill": {
     "duration": 0.06572,
     "end_time": "2022-10-31T16:15:16.713174",
     "exception": false,
     "start_time": "2022-10-31T16:15:16.647454",
     "status": "completed"
    },
    "tags": []
   },
   "outputs": [
    {
     "name": "stdout",
     "output_type": "stream",
     "text": [
      "/kaggle/input/clicks-conversion-tracking/KAG_conversion_data.csv\n"
     ]
    }
   ],
   "source": [
    "# This Python 3 environment comes with many helpful analytics libraries installed\n",
    "# It is defined by the kaggle/python Docker image: https://github.com/kaggle/docker-python\n",
    "# For example, here's several helpful packages to load\n",
    "\n",
    "import numpy as np # linear algebra\n",
    "import pandas as pd # data processing, CSV file I/O (e.g. pd.read_csv)\n",
    "\n",
    "# Input data files are available in the read-only \"../input/\" directory\n",
    "# For example, running this (by clicking run or pressing Shift+Enter) will list all files under the input directory\n",
    "\n",
    "import os\n",
    "for dirname, _, filenames in os.walk('/kaggle/input'):\n",
    "    for filename in filenames:\n",
    "        print(os.path.join(dirname, filename))\n",
    "\n",
    "# You can write up to 20GB to the current directory (/kaggle/working/) that gets preserved as output when you create a version using \"Save & Run All\" \n",
    "# You can also write temporary files to /kaggle/temp/, but they won't be saved outside of the current session"
   ]
  },
  {
   "cell_type": "markdown",
   "id": "943d0668",
   "metadata": {
    "papermill": {
     "duration": 0.028459,
     "end_time": "2022-10-31T16:15:16.770454",
     "exception": false,
     "start_time": "2022-10-31T16:15:16.741995",
     "status": "completed"
    },
    "tags": []
   },
   "source": [
    "Data:\n",
    "\n",
    "The data used in this project is from an anonymous organisation’s social media ad campaign.\n",
    "\n",
    "1.) ad_id: an unique ID for each ad.\n",
    "\n",
    "2.) xyzcampaignid: an ID associated with each ad campaign of XYZ company.\n",
    "\n",
    "3.) fbcampaignid: an ID associated with how Facebook tracks each campaign.\n",
    "\n",
    "4.) age: age of the person to whom the ad is shown.\n",
    "\n",
    "5.) gender: gender of the person to whim the add is shown\n",
    "\n",
    "6.) interest: a code specifying the category to which the person’s interest belongs (interests are as mentioned in the person’s Facebook public profile).\n",
    "\n",
    "7.) Impressions: the number of times the ad was shown.\n",
    "\n",
    "8.) Clicks: number of clicks on for that ad.\n",
    "\n",
    "9.) Spent: Amount paid by company xyz to Facebook, to show that ad.\n",
    "\n",
    "10.) Total conversion: Total number of people who enquired about the product after seeing the ad.\n",
    "\n",
    "11.) Approved conversion: Total number of people who bought the product after seeing the ad.\n",
    "\n",
    "Aim:\n",
    "\n",
    "To optimize Sales conversion by comparing the campaigns run by XYZ company.\n",
    "To perform cluster analysis on the ad campaigns and profile the clusters to find the best performing cluster\n",
    "\n",
    "\n",
    "\n",
    "\n"
   ]
  },
  {
   "cell_type": "code",
   "execution_count": 2,
   "id": "4799a299",
   "metadata": {
    "execution": {
     "iopub.execute_input": "2022-10-31T16:15:16.828630Z",
     "iopub.status.busy": "2022-10-31T16:15:16.827699Z",
     "iopub.status.idle": "2022-10-31T16:15:16.853582Z",
     "shell.execute_reply": "2022-10-31T16:15:16.852399Z"
    },
    "papermill": {
     "duration": 0.057275,
     "end_time": "2022-10-31T16:15:16.856066",
     "exception": false,
     "start_time": "2022-10-31T16:15:16.798791",
     "status": "completed"
    },
    "tags": []
   },
   "outputs": [],
   "source": [
    "df=pd.read_csv(\"/kaggle/input/clicks-conversion-tracking/KAG_conversion_data.csv\")"
   ]
  },
  {
   "cell_type": "markdown",
   "id": "2389394d",
   "metadata": {
    "papermill": {
     "duration": 0.031517,
     "end_time": "2022-10-31T16:15:16.915658",
     "exception": false,
     "start_time": "2022-10-31T16:15:16.884141",
     "status": "completed"
    },
    "tags": []
   },
   "source": [
    "Exploratory Data Analysis"
   ]
  },
  {
   "cell_type": "code",
   "execution_count": 3,
   "id": "3d9824fb",
   "metadata": {
    "execution": {
     "iopub.execute_input": "2022-10-31T16:15:16.977110Z",
     "iopub.status.busy": "2022-10-31T16:15:16.976516Z",
     "iopub.status.idle": "2022-10-31T16:15:17.013741Z",
     "shell.execute_reply": "2022-10-31T16:15:17.012821Z"
    },
    "papermill": {
     "duration": 0.070077,
     "end_time": "2022-10-31T16:15:17.016154",
     "exception": false,
     "start_time": "2022-10-31T16:15:16.946077",
     "status": "completed"
    },
    "tags": []
   },
   "outputs": [
    {
     "data": {
      "text/html": [
       "<div>\n",
       "<style scoped>\n",
       "    .dataframe tbody tr th:only-of-type {\n",
       "        vertical-align: middle;\n",
       "    }\n",
       "\n",
       "    .dataframe tbody tr th {\n",
       "        vertical-align: top;\n",
       "    }\n",
       "\n",
       "    .dataframe thead th {\n",
       "        text-align: right;\n",
       "    }\n",
       "</style>\n",
       "<table border=\"1\" class=\"dataframe\">\n",
       "  <thead>\n",
       "    <tr style=\"text-align: right;\">\n",
       "      <th></th>\n",
       "      <th>ad_id</th>\n",
       "      <th>xyz_campaign_id</th>\n",
       "      <th>fb_campaign_id</th>\n",
       "      <th>age</th>\n",
       "      <th>gender</th>\n",
       "      <th>interest</th>\n",
       "      <th>Impressions</th>\n",
       "      <th>Clicks</th>\n",
       "      <th>Spent</th>\n",
       "      <th>Total_Conversion</th>\n",
       "      <th>Approved_Conversion</th>\n",
       "    </tr>\n",
       "  </thead>\n",
       "  <tbody>\n",
       "    <tr>\n",
       "      <th>0</th>\n",
       "      <td>708746</td>\n",
       "      <td>916</td>\n",
       "      <td>103916</td>\n",
       "      <td>30-34</td>\n",
       "      <td>M</td>\n",
       "      <td>15</td>\n",
       "      <td>7350</td>\n",
       "      <td>1</td>\n",
       "      <td>1.43</td>\n",
       "      <td>2</td>\n",
       "      <td>1</td>\n",
       "    </tr>\n",
       "    <tr>\n",
       "      <th>1</th>\n",
       "      <td>708749</td>\n",
       "      <td>916</td>\n",
       "      <td>103917</td>\n",
       "      <td>30-34</td>\n",
       "      <td>M</td>\n",
       "      <td>16</td>\n",
       "      <td>17861</td>\n",
       "      <td>2</td>\n",
       "      <td>1.82</td>\n",
       "      <td>2</td>\n",
       "      <td>0</td>\n",
       "    </tr>\n",
       "    <tr>\n",
       "      <th>2</th>\n",
       "      <td>708771</td>\n",
       "      <td>916</td>\n",
       "      <td>103920</td>\n",
       "      <td>30-34</td>\n",
       "      <td>M</td>\n",
       "      <td>20</td>\n",
       "      <td>693</td>\n",
       "      <td>0</td>\n",
       "      <td>0.00</td>\n",
       "      <td>1</td>\n",
       "      <td>0</td>\n",
       "    </tr>\n",
       "    <tr>\n",
       "      <th>3</th>\n",
       "      <td>708815</td>\n",
       "      <td>916</td>\n",
       "      <td>103928</td>\n",
       "      <td>30-34</td>\n",
       "      <td>M</td>\n",
       "      <td>28</td>\n",
       "      <td>4259</td>\n",
       "      <td>1</td>\n",
       "      <td>1.25</td>\n",
       "      <td>1</td>\n",
       "      <td>0</td>\n",
       "    </tr>\n",
       "    <tr>\n",
       "      <th>4</th>\n",
       "      <td>708818</td>\n",
       "      <td>916</td>\n",
       "      <td>103928</td>\n",
       "      <td>30-34</td>\n",
       "      <td>M</td>\n",
       "      <td>28</td>\n",
       "      <td>4133</td>\n",
       "      <td>1</td>\n",
       "      <td>1.29</td>\n",
       "      <td>1</td>\n",
       "      <td>1</td>\n",
       "    </tr>\n",
       "  </tbody>\n",
       "</table>\n",
       "</div>"
      ],
      "text/plain": [
       "    ad_id  xyz_campaign_id  fb_campaign_id    age gender  interest  \\\n",
       "0  708746              916          103916  30-34      M        15   \n",
       "1  708749              916          103917  30-34      M        16   \n",
       "2  708771              916          103920  30-34      M        20   \n",
       "3  708815              916          103928  30-34      M        28   \n",
       "4  708818              916          103928  30-34      M        28   \n",
       "\n",
       "   Impressions  Clicks  Spent  Total_Conversion  Approved_Conversion  \n",
       "0         7350       1   1.43                 2                    1  \n",
       "1        17861       2   1.82                 2                    0  \n",
       "2          693       0   0.00                 1                    0  \n",
       "3         4259       1   1.25                 1                    0  \n",
       "4         4133       1   1.29                 1                    1  "
      ]
     },
     "execution_count": 3,
     "metadata": {},
     "output_type": "execute_result"
    }
   ],
   "source": [
    "df.head()"
   ]
  },
  {
   "cell_type": "code",
   "execution_count": 4,
   "id": "6310ba52",
   "metadata": {
    "execution": {
     "iopub.execute_input": "2022-10-31T16:15:17.079092Z",
     "iopub.status.busy": "2022-10-31T16:15:17.078456Z",
     "iopub.status.idle": "2022-10-31T16:15:17.084732Z",
     "shell.execute_reply": "2022-10-31T16:15:17.083401Z"
    },
    "papermill": {
     "duration": 0.039038,
     "end_time": "2022-10-31T16:15:17.087013",
     "exception": false,
     "start_time": "2022-10-31T16:15:17.047975",
     "status": "completed"
    },
    "tags": []
   },
   "outputs": [
    {
     "data": {
      "text/plain": [
       "(1143, 11)"
      ]
     },
     "execution_count": 4,
     "metadata": {},
     "output_type": "execute_result"
    }
   ],
   "source": [
    "df.shape"
   ]
  },
  {
   "cell_type": "code",
   "execution_count": 5,
   "id": "bab9661d",
   "metadata": {
    "execution": {
     "iopub.execute_input": "2022-10-31T16:15:17.145784Z",
     "iopub.status.busy": "2022-10-31T16:15:17.145353Z",
     "iopub.status.idle": "2022-10-31T16:15:17.172693Z",
     "shell.execute_reply": "2022-10-31T16:15:17.171084Z"
    },
    "papermill": {
     "duration": 0.061086,
     "end_time": "2022-10-31T16:15:17.176276",
     "exception": false,
     "start_time": "2022-10-31T16:15:17.115190",
     "status": "completed"
    },
    "tags": []
   },
   "outputs": [
    {
     "name": "stdout",
     "output_type": "stream",
     "text": [
      "<class 'pandas.core.frame.DataFrame'>\n",
      "RangeIndex: 1143 entries, 0 to 1142\n",
      "Data columns (total 11 columns):\n",
      " #   Column               Non-Null Count  Dtype  \n",
      "---  ------               --------------  -----  \n",
      " 0   ad_id                1143 non-null   int64  \n",
      " 1   xyz_campaign_id      1143 non-null   int64  \n",
      " 2   fb_campaign_id       1143 non-null   int64  \n",
      " 3   age                  1143 non-null   object \n",
      " 4   gender               1143 non-null   object \n",
      " 5   interest             1143 non-null   int64  \n",
      " 6   Impressions          1143 non-null   int64  \n",
      " 7   Clicks               1143 non-null   int64  \n",
      " 8   Spent                1143 non-null   float64\n",
      " 9   Total_Conversion     1143 non-null   int64  \n",
      " 10  Approved_Conversion  1143 non-null   int64  \n",
      "dtypes: float64(1), int64(8), object(2)\n",
      "memory usage: 98.4+ KB\n"
     ]
    }
   ],
   "source": [
    "df.info()\n",
    "# no null values "
   ]
  },
  {
   "cell_type": "code",
   "execution_count": 6,
   "id": "adb00939",
   "metadata": {
    "execution": {
     "iopub.execute_input": "2022-10-31T16:15:17.236594Z",
     "iopub.status.busy": "2022-10-31T16:15:17.235925Z",
     "iopub.status.idle": "2022-10-31T16:15:17.277450Z",
     "shell.execute_reply": "2022-10-31T16:15:17.276207Z"
    },
    "papermill": {
     "duration": 0.074135,
     "end_time": "2022-10-31T16:15:17.279881",
     "exception": false,
     "start_time": "2022-10-31T16:15:17.205746",
     "status": "completed"
    },
    "tags": []
   },
   "outputs": [
    {
     "data": {
      "text/html": [
       "<div>\n",
       "<style scoped>\n",
       "    .dataframe tbody tr th:only-of-type {\n",
       "        vertical-align: middle;\n",
       "    }\n",
       "\n",
       "    .dataframe tbody tr th {\n",
       "        vertical-align: top;\n",
       "    }\n",
       "\n",
       "    .dataframe thead th {\n",
       "        text-align: right;\n",
       "    }\n",
       "</style>\n",
       "<table border=\"1\" class=\"dataframe\">\n",
       "  <thead>\n",
       "    <tr style=\"text-align: right;\">\n",
       "      <th></th>\n",
       "      <th>ad_id</th>\n",
       "      <th>xyz_campaign_id</th>\n",
       "      <th>fb_campaign_id</th>\n",
       "      <th>interest</th>\n",
       "      <th>Impressions</th>\n",
       "      <th>Clicks</th>\n",
       "      <th>Spent</th>\n",
       "      <th>Total_Conversion</th>\n",
       "      <th>Approved_Conversion</th>\n",
       "    </tr>\n",
       "  </thead>\n",
       "  <tbody>\n",
       "    <tr>\n",
       "      <th>count</th>\n",
       "      <td>1.143000e+03</td>\n",
       "      <td>1143.000000</td>\n",
       "      <td>1143.000000</td>\n",
       "      <td>1143.000000</td>\n",
       "      <td>1.143000e+03</td>\n",
       "      <td>1143.000000</td>\n",
       "      <td>1143.000000</td>\n",
       "      <td>1143.000000</td>\n",
       "      <td>1143.000000</td>\n",
       "    </tr>\n",
       "    <tr>\n",
       "      <th>mean</th>\n",
       "      <td>9.872611e+05</td>\n",
       "      <td>1067.382327</td>\n",
       "      <td>133783.989501</td>\n",
       "      <td>32.766404</td>\n",
       "      <td>1.867321e+05</td>\n",
       "      <td>33.390201</td>\n",
       "      <td>51.360656</td>\n",
       "      <td>2.855643</td>\n",
       "      <td>0.944007</td>\n",
       "    </tr>\n",
       "    <tr>\n",
       "      <th>std</th>\n",
       "      <td>1.939928e+05</td>\n",
       "      <td>121.629393</td>\n",
       "      <td>20500.308622</td>\n",
       "      <td>26.952131</td>\n",
       "      <td>3.127622e+05</td>\n",
       "      <td>56.892438</td>\n",
       "      <td>86.908418</td>\n",
       "      <td>4.483593</td>\n",
       "      <td>1.737708</td>\n",
       "    </tr>\n",
       "    <tr>\n",
       "      <th>min</th>\n",
       "      <td>7.087460e+05</td>\n",
       "      <td>916.000000</td>\n",
       "      <td>103916.000000</td>\n",
       "      <td>2.000000</td>\n",
       "      <td>8.700000e+01</td>\n",
       "      <td>0.000000</td>\n",
       "      <td>0.000000</td>\n",
       "      <td>0.000000</td>\n",
       "      <td>0.000000</td>\n",
       "    </tr>\n",
       "    <tr>\n",
       "      <th>25%</th>\n",
       "      <td>7.776325e+05</td>\n",
       "      <td>936.000000</td>\n",
       "      <td>115716.000000</td>\n",
       "      <td>16.000000</td>\n",
       "      <td>6.503500e+03</td>\n",
       "      <td>1.000000</td>\n",
       "      <td>1.480000</td>\n",
       "      <td>1.000000</td>\n",
       "      <td>0.000000</td>\n",
       "    </tr>\n",
       "    <tr>\n",
       "      <th>50%</th>\n",
       "      <td>1.121185e+06</td>\n",
       "      <td>1178.000000</td>\n",
       "      <td>144549.000000</td>\n",
       "      <td>25.000000</td>\n",
       "      <td>5.150900e+04</td>\n",
       "      <td>8.000000</td>\n",
       "      <td>12.370000</td>\n",
       "      <td>1.000000</td>\n",
       "      <td>1.000000</td>\n",
       "    </tr>\n",
       "    <tr>\n",
       "      <th>75%</th>\n",
       "      <td>1.121804e+06</td>\n",
       "      <td>1178.000000</td>\n",
       "      <td>144657.500000</td>\n",
       "      <td>31.000000</td>\n",
       "      <td>2.217690e+05</td>\n",
       "      <td>37.500000</td>\n",
       "      <td>60.025000</td>\n",
       "      <td>3.000000</td>\n",
       "      <td>1.000000</td>\n",
       "    </tr>\n",
       "    <tr>\n",
       "      <th>max</th>\n",
       "      <td>1.314415e+06</td>\n",
       "      <td>1178.000000</td>\n",
       "      <td>179982.000000</td>\n",
       "      <td>114.000000</td>\n",
       "      <td>3.052003e+06</td>\n",
       "      <td>421.000000</td>\n",
       "      <td>639.949998</td>\n",
       "      <td>60.000000</td>\n",
       "      <td>21.000000</td>\n",
       "    </tr>\n",
       "  </tbody>\n",
       "</table>\n",
       "</div>"
      ],
      "text/plain": [
       "              ad_id  xyz_campaign_id  fb_campaign_id     interest  \\\n",
       "count  1.143000e+03      1143.000000     1143.000000  1143.000000   \n",
       "mean   9.872611e+05      1067.382327   133783.989501    32.766404   \n",
       "std    1.939928e+05       121.629393    20500.308622    26.952131   \n",
       "min    7.087460e+05       916.000000   103916.000000     2.000000   \n",
       "25%    7.776325e+05       936.000000   115716.000000    16.000000   \n",
       "50%    1.121185e+06      1178.000000   144549.000000    25.000000   \n",
       "75%    1.121804e+06      1178.000000   144657.500000    31.000000   \n",
       "max    1.314415e+06      1178.000000   179982.000000   114.000000   \n",
       "\n",
       "        Impressions       Clicks        Spent  Total_Conversion  \\\n",
       "count  1.143000e+03  1143.000000  1143.000000       1143.000000   \n",
       "mean   1.867321e+05    33.390201    51.360656          2.855643   \n",
       "std    3.127622e+05    56.892438    86.908418          4.483593   \n",
       "min    8.700000e+01     0.000000     0.000000          0.000000   \n",
       "25%    6.503500e+03     1.000000     1.480000          1.000000   \n",
       "50%    5.150900e+04     8.000000    12.370000          1.000000   \n",
       "75%    2.217690e+05    37.500000    60.025000          3.000000   \n",
       "max    3.052003e+06   421.000000   639.949998         60.000000   \n",
       "\n",
       "       Approved_Conversion  \n",
       "count          1143.000000  \n",
       "mean              0.944007  \n",
       "std               1.737708  \n",
       "min               0.000000  \n",
       "25%               0.000000  \n",
       "50%               1.000000  \n",
       "75%               1.000000  \n",
       "max              21.000000  "
      ]
     },
     "execution_count": 6,
     "metadata": {},
     "output_type": "execute_result"
    }
   ],
   "source": [
    "df.describe()\n"
   ]
  },
  {
   "cell_type": "code",
   "execution_count": 7,
   "id": "3e09236c",
   "metadata": {
    "execution": {
     "iopub.execute_input": "2022-10-31T16:15:17.344744Z",
     "iopub.status.busy": "2022-10-31T16:15:17.343928Z",
     "iopub.status.idle": "2022-10-31T16:15:17.362833Z",
     "shell.execute_reply": "2022-10-31T16:15:17.361649Z"
    },
    "papermill": {
     "duration": 0.05336,
     "end_time": "2022-10-31T16:15:17.365202",
     "exception": false,
     "start_time": "2022-10-31T16:15:17.311842",
     "status": "completed"
    },
    "tags": []
   },
   "outputs": [
    {
     "data": {
      "text/html": [
       "<div>\n",
       "<style scoped>\n",
       "    .dataframe tbody tr th:only-of-type {\n",
       "        vertical-align: middle;\n",
       "    }\n",
       "\n",
       "    .dataframe tbody tr th {\n",
       "        vertical-align: top;\n",
       "    }\n",
       "\n",
       "    .dataframe thead th {\n",
       "        text-align: right;\n",
       "    }\n",
       "</style>\n",
       "<table border=\"1\" class=\"dataframe\">\n",
       "  <thead>\n",
       "    <tr style=\"text-align: right;\">\n",
       "      <th></th>\n",
       "      <th>age</th>\n",
       "      <th>gender</th>\n",
       "    </tr>\n",
       "  </thead>\n",
       "  <tbody>\n",
       "    <tr>\n",
       "      <th>count</th>\n",
       "      <td>1143</td>\n",
       "      <td>1143</td>\n",
       "    </tr>\n",
       "    <tr>\n",
       "      <th>unique</th>\n",
       "      <td>4</td>\n",
       "      <td>2</td>\n",
       "    </tr>\n",
       "    <tr>\n",
       "      <th>top</th>\n",
       "      <td>30-34</td>\n",
       "      <td>M</td>\n",
       "    </tr>\n",
       "    <tr>\n",
       "      <th>freq</th>\n",
       "      <td>426</td>\n",
       "      <td>592</td>\n",
       "    </tr>\n",
       "  </tbody>\n",
       "</table>\n",
       "</div>"
      ],
      "text/plain": [
       "          age gender\n",
       "count    1143   1143\n",
       "unique      4      2\n",
       "top     30-34      M\n",
       "freq      426    592"
      ]
     },
     "execution_count": 7,
     "metadata": {},
     "output_type": "execute_result"
    }
   ],
   "source": [
    "df.describe(include=['object'])"
   ]
  },
  {
   "cell_type": "code",
   "execution_count": 8,
   "id": "f66f8036",
   "metadata": {
    "execution": {
     "iopub.execute_input": "2022-10-31T16:15:17.426397Z",
     "iopub.status.busy": "2022-10-31T16:15:17.425966Z",
     "iopub.status.idle": "2022-10-31T16:15:18.582072Z",
     "shell.execute_reply": "2022-10-31T16:15:18.580817Z"
    },
    "papermill": {
     "duration": 1.189525,
     "end_time": "2022-10-31T16:15:18.584786",
     "exception": false,
     "start_time": "2022-10-31T16:15:17.395261",
     "status": "completed"
    },
    "tags": []
   },
   "outputs": [],
   "source": [
    "import matplotlib.pyplot as plt\n",
    "import seaborn as sns"
   ]
  },
  {
   "cell_type": "code",
   "execution_count": 9,
   "id": "09d62576",
   "metadata": {
    "execution": {
     "iopub.execute_input": "2022-10-31T16:15:18.653391Z",
     "iopub.status.busy": "2022-10-31T16:15:18.652985Z",
     "iopub.status.idle": "2022-10-31T16:15:18.684436Z",
     "shell.execute_reply": "2022-10-31T16:15:18.682950Z"
    },
    "papermill": {
     "duration": 0.073239,
     "end_time": "2022-10-31T16:15:18.687240",
     "exception": false,
     "start_time": "2022-10-31T16:15:18.614001",
     "status": "completed"
    },
    "tags": []
   },
   "outputs": [
    {
     "data": {
      "text/html": [
       "<div>\n",
       "<style scoped>\n",
       "    .dataframe tbody tr th:only-of-type {\n",
       "        vertical-align: middle;\n",
       "    }\n",
       "\n",
       "    .dataframe tbody tr th {\n",
       "        vertical-align: top;\n",
       "    }\n",
       "\n",
       "    .dataframe thead th {\n",
       "        text-align: right;\n",
       "    }\n",
       "</style>\n",
       "<table border=\"1\" class=\"dataframe\">\n",
       "  <thead>\n",
       "    <tr style=\"text-align: right;\">\n",
       "      <th></th>\n",
       "      <th>ad_id</th>\n",
       "      <th>xyz_campaign_id</th>\n",
       "      <th>fb_campaign_id</th>\n",
       "      <th>interest</th>\n",
       "      <th>Impressions</th>\n",
       "      <th>Clicks</th>\n",
       "      <th>Spent</th>\n",
       "      <th>Total_Conversion</th>\n",
       "      <th>Approved_Conversion</th>\n",
       "    </tr>\n",
       "  </thead>\n",
       "  <tbody>\n",
       "    <tr>\n",
       "      <th>ad_id</th>\n",
       "      <td>1.000000</td>\n",
       "      <td>0.929892</td>\n",
       "      <td>0.972002</td>\n",
       "      <td>0.456483</td>\n",
       "      <td>0.462308</td>\n",
       "      <td>0.431981</td>\n",
       "      <td>0.433053</td>\n",
       "      <td>0.346539</td>\n",
       "      <td>0.271331</td>\n",
       "    </tr>\n",
       "    <tr>\n",
       "      <th>xyz_campaign_id</th>\n",
       "      <td>0.929892</td>\n",
       "      <td>1.000000</td>\n",
       "      <td>0.872392</td>\n",
       "      <td>0.272282</td>\n",
       "      <td>0.495273</td>\n",
       "      <td>0.469729</td>\n",
       "      <td>0.476689</td>\n",
       "      <td>0.346684</td>\n",
       "      <td>0.284968</td>\n",
       "    </tr>\n",
       "    <tr>\n",
       "      <th>fb_campaign_id</th>\n",
       "      <td>0.972002</td>\n",
       "      <td>0.872392</td>\n",
       "      <td>1.000000</td>\n",
       "      <td>0.595753</td>\n",
       "      <td>0.439439</td>\n",
       "      <td>0.406978</td>\n",
       "      <td>0.403532</td>\n",
       "      <td>0.344170</td>\n",
       "      <td>0.257658</td>\n",
       "    </tr>\n",
       "    <tr>\n",
       "      <th>interest</th>\n",
       "      <td>0.456483</td>\n",
       "      <td>0.272282</td>\n",
       "      <td>0.595753</td>\n",
       "      <td>1.000000</td>\n",
       "      <td>0.101973</td>\n",
       "      <td>0.088706</td>\n",
       "      <td>0.070226</td>\n",
       "      <td>0.120270</td>\n",
       "      <td>0.058353</td>\n",
       "    </tr>\n",
       "    <tr>\n",
       "      <th>Impressions</th>\n",
       "      <td>0.462308</td>\n",
       "      <td>0.495273</td>\n",
       "      <td>0.439439</td>\n",
       "      <td>0.101973</td>\n",
       "      <td>1.000000</td>\n",
       "      <td>0.948514</td>\n",
       "      <td>0.970386</td>\n",
       "      <td>0.812838</td>\n",
       "      <td>0.684249</td>\n",
       "    </tr>\n",
       "    <tr>\n",
       "      <th>Clicks</th>\n",
       "      <td>0.431981</td>\n",
       "      <td>0.469729</td>\n",
       "      <td>0.406978</td>\n",
       "      <td>0.088706</td>\n",
       "      <td>0.948514</td>\n",
       "      <td>1.000000</td>\n",
       "      <td>0.992906</td>\n",
       "      <td>0.694632</td>\n",
       "      <td>0.559526</td>\n",
       "    </tr>\n",
       "    <tr>\n",
       "      <th>Spent</th>\n",
       "      <td>0.433053</td>\n",
       "      <td>0.476689</td>\n",
       "      <td>0.403532</td>\n",
       "      <td>0.070226</td>\n",
       "      <td>0.970386</td>\n",
       "      <td>0.992906</td>\n",
       "      <td>1.000000</td>\n",
       "      <td>0.725379</td>\n",
       "      <td>0.593178</td>\n",
       "    </tr>\n",
       "    <tr>\n",
       "      <th>Total_Conversion</th>\n",
       "      <td>0.346539</td>\n",
       "      <td>0.346684</td>\n",
       "      <td>0.344170</td>\n",
       "      <td>0.120270</td>\n",
       "      <td>0.812838</td>\n",
       "      <td>0.694632</td>\n",
       "      <td>0.725379</td>\n",
       "      <td>1.000000</td>\n",
       "      <td>0.864034</td>\n",
       "    </tr>\n",
       "    <tr>\n",
       "      <th>Approved_Conversion</th>\n",
       "      <td>0.271331</td>\n",
       "      <td>0.284968</td>\n",
       "      <td>0.257658</td>\n",
       "      <td>0.058353</td>\n",
       "      <td>0.684249</td>\n",
       "      <td>0.559526</td>\n",
       "      <td>0.593178</td>\n",
       "      <td>0.864034</td>\n",
       "      <td>1.000000</td>\n",
       "    </tr>\n",
       "  </tbody>\n",
       "</table>\n",
       "</div>"
      ],
      "text/plain": [
       "                        ad_id  xyz_campaign_id  fb_campaign_id  interest  \\\n",
       "ad_id                1.000000         0.929892        0.972002  0.456483   \n",
       "xyz_campaign_id      0.929892         1.000000        0.872392  0.272282   \n",
       "fb_campaign_id       0.972002         0.872392        1.000000  0.595753   \n",
       "interest             0.456483         0.272282        0.595753  1.000000   \n",
       "Impressions          0.462308         0.495273        0.439439  0.101973   \n",
       "Clicks               0.431981         0.469729        0.406978  0.088706   \n",
       "Spent                0.433053         0.476689        0.403532  0.070226   \n",
       "Total_Conversion     0.346539         0.346684        0.344170  0.120270   \n",
       "Approved_Conversion  0.271331         0.284968        0.257658  0.058353   \n",
       "\n",
       "                     Impressions    Clicks     Spent  Total_Conversion  \\\n",
       "ad_id                   0.462308  0.431981  0.433053          0.346539   \n",
       "xyz_campaign_id         0.495273  0.469729  0.476689          0.346684   \n",
       "fb_campaign_id          0.439439  0.406978  0.403532          0.344170   \n",
       "interest                0.101973  0.088706  0.070226          0.120270   \n",
       "Impressions             1.000000  0.948514  0.970386          0.812838   \n",
       "Clicks                  0.948514  1.000000  0.992906          0.694632   \n",
       "Spent                   0.970386  0.992906  1.000000          0.725379   \n",
       "Total_Conversion        0.812838  0.694632  0.725379          1.000000   \n",
       "Approved_Conversion     0.684249  0.559526  0.593178          0.864034   \n",
       "\n",
       "                     Approved_Conversion  \n",
       "ad_id                           0.271331  \n",
       "xyz_campaign_id                 0.284968  \n",
       "fb_campaign_id                  0.257658  \n",
       "interest                        0.058353  \n",
       "Impressions                     0.684249  \n",
       "Clicks                          0.559526  \n",
       "Spent                           0.593178  \n",
       "Total_Conversion                0.864034  \n",
       "Approved_Conversion             1.000000  "
      ]
     },
     "execution_count": 9,
     "metadata": {},
     "output_type": "execute_result"
    }
   ],
   "source": [
    "df.corr()"
   ]
  },
  {
   "cell_type": "markdown",
   "id": "380a8bb9",
   "metadata": {
    "papermill": {
     "duration": 0.029113,
     "end_time": "2022-10-31T16:15:18.753968",
     "exception": false,
     "start_time": "2022-10-31T16:15:18.724855",
     "status": "completed"
    },
    "tags": []
   },
   "source": [
    "Visualizing the correlation data ( including only the quantitative variables)"
   ]
  },
  {
   "cell_type": "code",
   "execution_count": 10,
   "id": "4635b9e5",
   "metadata": {
    "execution": {
     "iopub.execute_input": "2022-10-31T16:15:18.813737Z",
     "iopub.status.busy": "2022-10-31T16:15:18.813027Z",
     "iopub.status.idle": "2022-10-31T16:15:19.207089Z",
     "shell.execute_reply": "2022-10-31T16:15:19.205944Z"
    },
    "papermill": {
     "duration": 0.426451,
     "end_time": "2022-10-31T16:15:19.209391",
     "exception": false,
     "start_time": "2022-10-31T16:15:18.782940",
     "status": "completed"
    },
    "tags": []
   },
   "outputs": [
    {
     "data": {
      "image/png": "[encoded data removed]",
      "text/plain": [
       "<Figure size 432x288 with 2 Axes>"
      ]
     },
     "metadata": {
      "needs_background": "light"
     },
     "output_type": "display_data"
    }
   ],
   "source": [
    "g=sns.heatmap(df[[\"Impressions\",\"Clicks\",\"Spent\",\"Total_Conversion\",\"Approved_Conversion\"]].corr(),annot=True ,fmt=\".2f\", cmap=\"YlGnBu\")"
   ]
  },
  {
   "cell_type": "markdown",
   "id": "4b6cb7c4",
   "metadata": {
    "papermill": {
     "duration": 0.029746,
     "end_time": "2022-10-31T16:15:19.268834",
     "exception": false,
     "start_time": "2022-10-31T16:15:19.239088",
     "status": "completed"
    },
    "tags": []
   },
   "source": [
    "* impressions and clicks are high corr,\n",
    "* impression and spent are high corr,\n",
    "* impression and total_conversion are high corr,\n",
    "* impression and approved_conv are moderately correlated,\n",
    "* clicks and spent are high corr,\n",
    "* clicks and total conv and approved conv are medium correlated,\n",
    "* spent and total_conv and spent are moderately correlated,\n",
    "* spent and approved conv are moderately correlated,\n",
    "* total conv and approved conversion are highly correlated.\n",
    "\n",
    " \n",
    "The more the ad is shown the higher the total conv and approved conv"
   ]
  },
  {
   "cell_type": "code",
   "execution_count": 11,
   "id": "79381399",
   "metadata": {
    "execution": {
     "iopub.execute_input": "2022-10-31T16:15:19.329389Z",
     "iopub.status.busy": "2022-10-31T16:15:19.328705Z",
     "iopub.status.idle": "2022-10-31T16:15:19.337095Z",
     "shell.execute_reply": "2022-10-31T16:15:19.336078Z"
    },
    "papermill": {
     "duration": 0.041161,
     "end_time": "2022-10-31T16:15:19.339264",
     "exception": false,
     "start_time": "2022-10-31T16:15:19.298103",
     "status": "completed"
    },
    "tags": []
   },
   "outputs": [
    {
     "data": {
      "text/plain": [
       "array([ 916,  936, 1178])"
      ]
     },
     "execution_count": 11,
     "metadata": {},
     "output_type": "execute_result"
    }
   ],
   "source": [
    "# 3 unique campaigns run by xyz company\n",
    "df['xyz_campaign_id'].unique()"
   ]
  },
  {
   "cell_type": "markdown",
   "id": "5a7db2bb",
   "metadata": {
    "papermill": {
     "duration": 0.029117,
     "end_time": "2022-10-31T16:15:19.397786",
     "exception": false,
     "start_time": "2022-10-31T16:15:19.368669",
     "status": "completed"
    },
    "tags": []
   },
   "source": [
    "https://datatofish.com/replace-values-pandas-dataframe/---good link for replace functionality"
   ]
  },
  {
   "cell_type": "code",
   "execution_count": 12,
   "id": "51e615a3",
   "metadata": {
    "execution": {
     "iopub.execute_input": "2022-10-31T16:15:19.459512Z",
     "iopub.status.busy": "2022-10-31T16:15:19.458786Z",
     "iopub.status.idle": "2022-10-31T16:15:19.475764Z",
     "shell.execute_reply": "2022-10-31T16:15:19.474569Z"
    },
    "papermill": {
     "duration": 0.050282,
     "end_time": "2022-10-31T16:15:19.478070",
     "exception": false,
     "start_time": "2022-10-31T16:15:19.427788",
     "status": "completed"
    },
    "tags": []
   },
   "outputs": [
    {
     "data": {
      "text/html": [
       "<div>\n",
       "<style scoped>\n",
       "    .dataframe tbody tr th:only-of-type {\n",
       "        vertical-align: middle;\n",
       "    }\n",
       "\n",
       "    .dataframe tbody tr th {\n",
       "        vertical-align: top;\n",
       "    }\n",
       "\n",
       "    .dataframe thead th {\n",
       "        text-align: right;\n",
       "    }\n",
       "</style>\n",
       "<table border=\"1\" class=\"dataframe\">\n",
       "  <thead>\n",
       "    <tr style=\"text-align: right;\">\n",
       "      <th></th>\n",
       "      <th>ad_id</th>\n",
       "      <th>xyz_campaign_id</th>\n",
       "      <th>fb_campaign_id</th>\n",
       "      <th>age</th>\n",
       "      <th>gender</th>\n",
       "      <th>interest</th>\n",
       "      <th>Impressions</th>\n",
       "      <th>Clicks</th>\n",
       "      <th>Spent</th>\n",
       "      <th>Total_Conversion</th>\n",
       "      <th>Approved_Conversion</th>\n",
       "    </tr>\n",
       "  </thead>\n",
       "  <tbody>\n",
       "    <tr>\n",
       "      <th>0</th>\n",
       "      <td>708746</td>\n",
       "      <td>campaign_1</td>\n",
       "      <td>103916</td>\n",
       "      <td>30-34</td>\n",
       "      <td>M</td>\n",
       "      <td>15</td>\n",
       "      <td>7350</td>\n",
       "      <td>1</td>\n",
       "      <td>1.43</td>\n",
       "      <td>2</td>\n",
       "      <td>1</td>\n",
       "    </tr>\n",
       "    <tr>\n",
       "      <th>1</th>\n",
       "      <td>708749</td>\n",
       "      <td>campaign_1</td>\n",
       "      <td>103917</td>\n",
       "      <td>30-34</td>\n",
       "      <td>M</td>\n",
       "      <td>16</td>\n",
       "      <td>17861</td>\n",
       "      <td>2</td>\n",
       "      <td>1.82</td>\n",
       "      <td>2</td>\n",
       "      <td>0</td>\n",
       "    </tr>\n",
       "    <tr>\n",
       "      <th>2</th>\n",
       "      <td>708771</td>\n",
       "      <td>campaign_1</td>\n",
       "      <td>103920</td>\n",
       "      <td>30-34</td>\n",
       "      <td>M</td>\n",
       "      <td>20</td>\n",
       "      <td>693</td>\n",
       "      <td>0</td>\n",
       "      <td>0.00</td>\n",
       "      <td>1</td>\n",
       "      <td>0</td>\n",
       "    </tr>\n",
       "    <tr>\n",
       "      <th>3</th>\n",
       "      <td>708815</td>\n",
       "      <td>campaign_1</td>\n",
       "      <td>103928</td>\n",
       "      <td>30-34</td>\n",
       "      <td>M</td>\n",
       "      <td>28</td>\n",
       "      <td>4259</td>\n",
       "      <td>1</td>\n",
       "      <td>1.25</td>\n",
       "      <td>1</td>\n",
       "      <td>0</td>\n",
       "    </tr>\n",
       "    <tr>\n",
       "      <th>4</th>\n",
       "      <td>708818</td>\n",
       "      <td>campaign_1</td>\n",
       "      <td>103928</td>\n",
       "      <td>30-34</td>\n",
       "      <td>M</td>\n",
       "      <td>28</td>\n",
       "      <td>4133</td>\n",
       "      <td>1</td>\n",
       "      <td>1.29</td>\n",
       "      <td>1</td>\n",
       "      <td>1</td>\n",
       "    </tr>\n",
       "  </tbody>\n",
       "</table>\n",
       "</div>"
      ],
      "text/plain": [
       "    ad_id xyz_campaign_id  fb_campaign_id    age gender  interest  \\\n",
       "0  708746      campaign_1          103916  30-34      M        15   \n",
       "1  708749      campaign_1          103917  30-34      M        16   \n",
       "2  708771      campaign_1          103920  30-34      M        20   \n",
       "3  708815      campaign_1          103928  30-34      M        28   \n",
       "4  708818      campaign_1          103928  30-34      M        28   \n",
       "\n",
       "   Impressions  Clicks  Spent  Total_Conversion  Approved_Conversion  \n",
       "0         7350       1   1.43                 2                    1  \n",
       "1        17861       2   1.82                 2                    0  \n",
       "2          693       0   0.00                 1                    0  \n",
       "3         4259       1   1.25                 1                    0  \n",
       "4         4133       1   1.29                 1                    1  "
      ]
     },
     "execution_count": 12,
     "metadata": {},
     "output_type": "execute_result"
    }
   ],
   "source": [
    "# renaming the campaigns for analysis purpose\n",
    "df['xyz_campaign_id'].replace({916:'campaign_1',936:'campaign_2',1178:'campaign_3'}, inplace=True)\n",
    "df.head()"
   ]
  },
  {
   "cell_type": "code",
   "execution_count": 13,
   "id": "d81548bb",
   "metadata": {
    "execution": {
     "iopub.execute_input": "2022-10-31T16:15:19.540340Z",
     "iopub.status.busy": "2022-10-31T16:15:19.539682Z",
     "iopub.status.idle": "2022-10-31T16:15:19.547250Z",
     "shell.execute_reply": "2022-10-31T16:15:19.545652Z"
    },
    "papermill": {
     "duration": 0.041631,
     "end_time": "2022-10-31T16:15:19.549673",
     "exception": false,
     "start_time": "2022-10-31T16:15:19.508042",
     "status": "completed"
    },
    "tags": []
   },
   "outputs": [
    {
     "name": "stdout",
     "output_type": "stream",
     "text": [
      "number_of_fb_campaigns: 691\n",
      "number_of_ads: 1143\n"
     ]
    }
   ],
   "source": [
    "print(\"number_of_fb_campaigns:\",df['fb_campaign_id'].nunique())\n",
    "# number of FB campaigns\n",
    "\n",
    "print(\"number_of_ads:\",df['ad_id'].nunique())"
   ]
  },
  {
   "cell_type": "markdown",
   "id": "a1f6fad4",
   "metadata": {
    "papermill": {
     "duration": 0.029834,
     "end_time": "2022-10-31T16:15:19.610563",
     "exception": false,
     "start_time": "2022-10-31T16:15:19.580729",
     "status": "completed"
    },
    "tags": []
   },
   "source": [
    "EDA for the 3 campaigns run by the XYZ company"
   ]
  },
  {
   "cell_type": "code",
   "execution_count": 14,
   "id": "7e82c84e",
   "metadata": {
    "execution": {
     "iopub.execute_input": "2022-10-31T16:15:19.672594Z",
     "iopub.status.busy": "2022-10-31T16:15:19.672158Z",
     "iopub.status.idle": "2022-10-31T16:15:19.873697Z",
     "shell.execute_reply": "2022-10-31T16:15:19.872328Z"
    },
    "papermill": {
     "duration": 0.235568,
     "end_time": "2022-10-31T16:15:19.876263",
     "exception": false,
     "start_time": "2022-10-31T16:15:19.640695",
     "status": "completed"
    },
    "tags": []
   },
   "outputs": [
    {
     "data": {
      "text/plain": [
       "<AxesSubplot:xlabel='xyz_campaign_id', ylabel='count'>"
      ]
     },
     "execution_count": 14,
     "metadata": {},
     "output_type": "execute_result"
    },
    {
     "data": {
      "image/png": "[encoded data removed]",
      "text/plain": [
       "<Figure size 432x288 with 1 Axes>"
      ]
     },
     "metadata": {
      "needs_background": "light"
     },
     "output_type": "display_data"
    }
   ],
   "source": [
    "sns.countplot(x='xyz_campaign_id', data=df)\n",
    "# we can see that maximum adds were shown to campaign_3"
   ]
  },
  {
   "cell_type": "code",
   "execution_count": 15,
   "id": "6019f08e",
   "metadata": {
    "execution": {
     "iopub.execute_input": "2022-10-31T16:15:19.939933Z",
     "iopub.status.busy": "2022-10-31T16:15:19.938962Z",
     "iopub.status.idle": "2022-10-31T16:15:20.364838Z",
     "shell.execute_reply": "2022-10-31T16:15:20.363906Z"
    },
    "papermill": {
     "duration": 0.460894,
     "end_time": "2022-10-31T16:15:20.367776",
     "exception": false,
     "start_time": "2022-10-31T16:15:19.906882",
     "status": "completed"
    },
    "tags": []
   },
   "outputs": [
    {
     "data": {
      "image/png": "[encoded data removed]",
      "text/plain": [
       "<Figure size 432x288 with 1 Axes>"
      ]
     },
     "metadata": {
      "needs_background": "light"
     },
     "output_type": "display_data"
    }
   ],
   "source": [
    "ax=sns.countplot(x ='xyz_campaign_id',hue=\"Approved_Conversion\", data = df) \n",
    "plt.grid(axis='y')\n",
    "sns.move_legend(ax, \"upper left\", bbox_to_anchor=(1, 1))\n",
    "# campaign_3 has maximum approved conversions\n"
   ]
  },
  {
   "cell_type": "code",
   "execution_count": 16,
   "id": "8863903c",
   "metadata": {
    "execution": {
     "iopub.execute_input": "2022-10-31T16:15:20.433985Z",
     "iopub.status.busy": "2022-10-31T16:15:20.433284Z",
     "iopub.status.idle": "2022-10-31T16:15:20.646630Z",
     "shell.execute_reply": "2022-10-31T16:15:20.645617Z"
    },
    "papermill": {
     "duration": 0.248759,
     "end_time": "2022-10-31T16:15:20.648911",
     "exception": false,
     "start_time": "2022-10-31T16:15:20.400152",
     "status": "completed"
    },
    "tags": []
   },
   "outputs": [
    {
     "data": {
      "image/png": "[encoded data removed]",
      "text/plain": [
       "<Figure size 432x288 with 1 Axes>"
      ]
     },
     "metadata": {
      "needs_background": "light"
     },
     "output_type": "display_data"
    }
   ],
   "source": [
    "ax=sns.scatterplot(x ='xyz_campaign_id',y=\"Clicks\", data = df) \n",
    "# campaign_3 clicks are more"
   ]
  },
  {
   "cell_type": "code",
   "execution_count": 17,
   "id": "a977c70f",
   "metadata": {
    "execution": {
     "iopub.execute_input": "2022-10-31T16:15:20.713081Z",
     "iopub.status.busy": "2022-10-31T16:15:20.712396Z",
     "iopub.status.idle": "2022-10-31T16:15:21.357888Z",
     "shell.execute_reply": "2022-10-31T16:15:21.356609Z"
    },
    "papermill": {
     "duration": 0.680262,
     "end_time": "2022-10-31T16:15:21.360274",
     "exception": false,
     "start_time": "2022-10-31T16:15:20.680012",
     "status": "completed"
    },
    "tags": []
   },
   "outputs": [
    {
     "data": {
      "image/png": "[encoded data removed]",
      "text/plain": [
       "<Figure size 432x288 with 1 Axes>"
      ]
     },
     "metadata": {
      "needs_background": "light"
     },
     "output_type": "display_data"
    }
   ],
   "source": [
    "ax=sns.countplot(x ='xyz_campaign_id',hue=\"Total_Conversion\", data = df) \n",
    "plt.grid(axis='y')\n",
    "sns.move_legend(ax, \"upper left\", bbox_to_anchor=(1, 1))"
   ]
  },
  {
   "cell_type": "code",
   "execution_count": 18,
   "id": "867053d5",
   "metadata": {
    "execution": {
     "iopub.execute_input": "2022-10-31T16:15:21.425832Z",
     "iopub.status.busy": "2022-10-31T16:15:21.425127Z",
     "iopub.status.idle": "2022-10-31T16:15:21.658550Z",
     "shell.execute_reply": "2022-10-31T16:15:21.657769Z"
    },
    "papermill": {
     "duration": 0.26896,
     "end_time": "2022-10-31T16:15:21.660814",
     "exception": false,
     "start_time": "2022-10-31T16:15:21.391854",
     "status": "completed"
    },
    "tags": []
   },
   "outputs": [
    {
     "data": {
      "image/png": "[encoded data removed]",
      "text/plain": [
       "<Figure size 432x288 with 1 Axes>"
      ]
     },
     "metadata": {
      "needs_background": "light"
     },
     "output_type": "display_data"
    }
   ],
   "source": [
    "ax=sns.countplot(x ='xyz_campaign_id',hue=\"gender\", data = df) \n",
    "plt.grid(axis='y')\n",
    "sns.move_legend(ax, \"upper left\", bbox_to_anchor=(1, 1))\n",
    "\n",
    "# distribution of gender over campaigns not same"
   ]
  },
  {
   "cell_type": "code",
   "execution_count": 19,
   "id": "936213e1",
   "metadata": {
    "execution": {
     "iopub.execute_input": "2022-10-31T16:15:21.731272Z",
     "iopub.status.busy": "2022-10-31T16:15:21.730493Z",
     "iopub.status.idle": "2022-10-31T16:15:22.103214Z",
     "shell.execute_reply": "2022-10-31T16:15:22.102008Z"
    },
    "papermill": {
     "duration": 0.411767,
     "end_time": "2022-10-31T16:15:22.105671",
     "exception": false,
     "start_time": "2022-10-31T16:15:21.693904",
     "status": "completed"
    },
    "tags": []
   },
   "outputs": [
    {
     "data": {
      "image/png": "[encoded data removed]",
      "text/plain": [
       "<Figure size 432x288 with 1 Axes>"
      ]
     },
     "metadata": {
      "needs_background": "light"
     },
     "output_type": "display_data"
    }
   ],
   "source": [
    "ax=sns.countplot(hue ='Approved_Conversion',x=\"gender\", data = df) \n",
    "plt.grid(axis='y')\n",
    "sns.move_legend(ax, \"upper left\", bbox_to_anchor=(1, 1))\n",
    "# Males convert more than females"
   ]
  },
  {
   "cell_type": "code",
   "execution_count": 20,
   "id": "99110797",
   "metadata": {
    "execution": {
     "iopub.execute_input": "2022-10-31T16:15:22.172474Z",
     "iopub.status.busy": "2022-10-31T16:15:22.171797Z",
     "iopub.status.idle": "2022-10-31T16:15:22.575815Z",
     "shell.execute_reply": "2022-10-31T16:15:22.574621Z"
    },
    "papermill": {
     "duration": 0.440024,
     "end_time": "2022-10-31T16:15:22.578178",
     "exception": false,
     "start_time": "2022-10-31T16:15:22.138154",
     "status": "completed"
    },
    "tags": []
   },
   "outputs": [
    {
     "data": {
      "image/png": "[encoded data removed]",
      "text/plain": [
       "<Figure size 432x288 with 1 Axes>"
      ]
     },
     "metadata": {
      "needs_background": "light"
     },
     "output_type": "display_data"
    }
   ],
   "source": [
    "ax=sns.barplot(x ='xyz_campaign_id',y='Approved_Conversion',hue='gender', data = df) \n",
    "sns.move_legend(ax, \"upper left\", bbox_to_anchor=(1, 1))\n",
    "\n",
    "# unlike campaign 1 and campaign 2 , campaign 3 has more females with conversions"
   ]
  },
  {
   "cell_type": "markdown",
   "id": "8973377c",
   "metadata": {
    "papermill": {
     "duration": 0.032052,
     "end_time": "2022-10-31T16:15:22.642582",
     "exception": false,
     "start_time": "2022-10-31T16:15:22.610530",
     "status": "completed"
    },
    "tags": []
   },
   "source": [
    "distribution of conversions with campaigns over age"
   ]
  },
  {
   "cell_type": "code",
   "execution_count": 21,
   "id": "c4845237",
   "metadata": {
    "execution": {
     "iopub.execute_input": "2022-10-31T16:15:22.709900Z",
     "iopub.status.busy": "2022-10-31T16:15:22.709257Z",
     "iopub.status.idle": "2022-10-31T16:15:23.171109Z",
     "shell.execute_reply": "2022-10-31T16:15:23.169783Z"
    },
    "papermill": {
     "duration": 0.498428,
     "end_time": "2022-10-31T16:15:23.173871",
     "exception": false,
     "start_time": "2022-10-31T16:15:22.675443",
     "status": "completed"
    },
    "tags": []
   },
   "outputs": [
    {
     "data": {
      "image/png": "[encoded data removed]",
      "text/plain": [
       "<Figure size 432x288 with 1 Axes>"
      ]
     },
     "metadata": {
      "needs_background": "light"
     },
     "output_type": "display_data"
    }
   ],
   "source": [
    "ax=sns.countplot(x='age',hue='Approved_Conversion', data=df)\n",
    "sns.move_legend(ax, \"upper left\", bbox_to_anchor=(1, 1))\n",
    "# maximum users are in 30-34 age bracket and also maximum conversions are from same age group"
   ]
  },
  {
   "cell_type": "code",
   "execution_count": 22,
   "id": "96bdb6cf",
   "metadata": {
    "execution": {
     "iopub.execute_input": "2022-10-31T16:15:23.242569Z",
     "iopub.status.busy": "2022-10-31T16:15:23.242121Z",
     "iopub.status.idle": "2022-10-31T16:15:23.639657Z",
     "shell.execute_reply": "2022-10-31T16:15:23.638244Z"
    },
    "papermill": {
     "duration": 0.434566,
     "end_time": "2022-10-31T16:15:23.642102",
     "exception": false,
     "start_time": "2022-10-31T16:15:23.207536",
     "status": "completed"
    },
    "tags": []
   },
   "outputs": [
    {
     "data": {
      "image/png": "[encoded data removed]",
      "text/plain": [
       "<Figure size 432x288 with 1 Axes>"
      ]
     },
     "metadata": {
      "needs_background": "light"
     },
     "output_type": "display_data"
    }
   ],
   "source": [
    "ax=sns.countplot(x='xyz_campaign_id',hue='age', data=df)\n",
    "sns.move_legend(ax, \"upper left\", bbox_to_anchor=(1, 1))\n",
    "# maximum users are in 30-34 age, 45-49 age  bracket and also maximum conversions are from same age group\n",
    "# maximum people /ads were in campaign 3 and so maximum conversions in 30-34 age bracket"
   ]
  },
  {
   "cell_type": "code",
   "execution_count": 23,
   "id": "e25bf1d6",
   "metadata": {
    "execution": {
     "iopub.execute_input": "2022-10-31T16:15:23.710157Z",
     "iopub.status.busy": "2022-10-31T16:15:23.709489Z",
     "iopub.status.idle": "2022-10-31T16:15:25.613643Z",
     "shell.execute_reply": "2022-10-31T16:15:25.612540Z"
    },
    "papermill": {
     "duration": 1.941151,
     "end_time": "2022-10-31T16:15:25.616264",
     "exception": false,
     "start_time": "2022-10-31T16:15:23.675113",
     "status": "completed"
    },
    "tags": []
   },
   "outputs": [
    {
     "data": {
      "text/plain": [
       "<AxesSubplot:xlabel='xyz_campaign_id', ylabel='Approved_Conversion'>"
      ]
     },
     "execution_count": 23,
     "metadata": {},
     "output_type": "execute_result"
    },
    {
     "data": {
      "image/png": "[encoded data removed]",
      "text/plain": [
       "<Figure size 432x288 with 1 Axes>"
      ]
     },
     "metadata": {},
     "output_type": "display_data"
    }
   ],
   "source": [
    "import seaborn as sns\n",
    "sns.set(style=\"whitegrid\")\n",
    "tips = sns.load_dataset(\"tips\")\n",
    "sns.barplot(x=df[\"xyz_campaign_id\"], y=df[\"Approved_Conversion\"], hue=df[\"age\"], data=tips)\n",
    "\n",
    "# distribution of conversions in each campaign by age\n",
    "# campaign_1 has most conversions for age group 40-44 and least for 30-34. \n",
    "\n",
    "#In other 2 campaigns it is reverse trend. Maximum for 30-34 and minimum for 40-44.\n"
   ]
  },
  {
   "cell_type": "code",
   "execution_count": 24,
   "id": "b6e4d6a1",
   "metadata": {
    "execution": {
     "iopub.execute_input": "2022-10-31T16:15:25.686510Z",
     "iopub.status.busy": "2022-10-31T16:15:25.685990Z",
     "iopub.status.idle": "2022-10-31T16:15:25.925538Z",
     "shell.execute_reply": "2022-10-31T16:15:25.924344Z"
    },
    "papermill": {
     "duration": 0.277519,
     "end_time": "2022-10-31T16:15:25.928161",
     "exception": false,
     "start_time": "2022-10-31T16:15:25.650642",
     "status": "completed"
    },
    "tags": []
   },
   "outputs": [
    {
     "data": {
      "image/png": "[encoded data removed]",
      "text/plain": [
       "<Figure size 1080x504 with 1 Axes>"
      ]
     },
     "metadata": {},
     "output_type": "display_data"
    }
   ],
   "source": [
    "fig=plt.figure(figsize=(15,7))\n",
    "\n",
    "sns.scatterplot(y='Impressions',x='xyz_campaign_id', data=df)\n",
    "\n",
    "\n",
    "plt.show()"
   ]
  },
  {
   "cell_type": "code",
   "execution_count": 25,
   "id": "524383dc",
   "metadata": {
    "execution": {
     "iopub.execute_input": "2022-10-31T16:15:26.000649Z",
     "iopub.status.busy": "2022-10-31T16:15:26.000215Z",
     "iopub.status.idle": "2022-10-31T16:15:26.278245Z",
     "shell.execute_reply": "2022-10-31T16:15:26.277308Z"
    },
    "papermill": {
     "duration": 0.31717,
     "end_time": "2022-10-31T16:15:26.280614",
     "exception": false,
     "start_time": "2022-10-31T16:15:25.963444",
     "status": "completed"
    },
    "tags": []
   },
   "outputs": [
    {
     "data": {
      "image/png": "[encoded data removed]",
      "text/plain": [
       "<Figure size 1080x504 with 1 Axes>"
      ]
     },
     "metadata": {},
     "output_type": "display_data"
    }
   ],
   "source": [
    "fig=plt.figure(figsize=(15,7))\n",
    "\n",
    "sns.scatterplot(y='Impressions',x='Approved_Conversion', data=df)\n",
    "\n",
    "\n",
    "plt.show()"
   ]
  },
  {
   "cell_type": "markdown",
   "id": "5ba5a334",
   "metadata": {
    "papermill": {
     "duration": 0.034448,
     "end_time": "2022-10-31T16:15:26.349968",
     "exception": false,
     "start_time": "2022-10-31T16:15:26.315520",
     "status": "completed"
    },
    "tags": []
   },
   "source": [
    "higher Impressions drive higher conversions"
   ]
  },
  {
   "cell_type": "code",
   "execution_count": 26,
   "id": "0ad7e59e",
   "metadata": {
    "execution": {
     "iopub.execute_input": "2022-10-31T16:15:26.422916Z",
     "iopub.status.busy": "2022-10-31T16:15:26.422238Z",
     "iopub.status.idle": "2022-10-31T16:15:26.431447Z",
     "shell.execute_reply": "2022-10-31T16:15:26.430283Z"
    },
    "papermill": {
     "duration": 0.049574,
     "end_time": "2022-10-31T16:15:26.434112",
     "exception": false,
     "start_time": "2022-10-31T16:15:26.384538",
     "status": "completed"
    },
    "tags": []
   },
   "outputs": [
    {
     "data": {
      "text/plain": [
       "xyz_campaign_id\n",
       "campaign_1      113\n",
       "campaign_2     1984\n",
       "campaign_3    36068\n",
       "Name: Clicks, dtype: int64"
      ]
     },
     "execution_count": 26,
     "metadata": {},
     "output_type": "execute_result"
    }
   ],
   "source": [
    "df['Clicks'].groupby(by=df['xyz_campaign_id']).sum()"
   ]
  },
  {
   "cell_type": "code",
   "execution_count": 27,
   "id": "b7c468d9",
   "metadata": {
    "execution": {
     "iopub.execute_input": "2022-10-31T16:15:26.505477Z",
     "iopub.status.busy": "2022-10-31T16:15:26.505050Z",
     "iopub.status.idle": "2022-10-31T16:15:26.515012Z",
     "shell.execute_reply": "2022-10-31T16:15:26.513907Z"
    },
    "papermill": {
     "duration": 0.048619,
     "end_time": "2022-10-31T16:15:26.517311",
     "exception": false,
     "start_time": "2022-10-31T16:15:26.468692",
     "status": "completed"
    },
    "tags": []
   },
   "outputs": [
    {
     "data": {
      "text/plain": [
       "xyz_campaign_id\n",
       "campaign_1     24\n",
       "campaign_2    183\n",
       "campaign_3    872\n",
       "Name: Approved_Conversion, dtype: int64"
      ]
     },
     "execution_count": 27,
     "metadata": {},
     "output_type": "execute_result"
    }
   ],
   "source": [
    "df['Approved_Conversion'].groupby(by=df['xyz_campaign_id']).sum()"
   ]
  },
  {
   "cell_type": "code",
   "execution_count": 28,
   "id": "84ba8a9b",
   "metadata": {
    "execution": {
     "iopub.execute_input": "2022-10-31T16:15:26.588950Z",
     "iopub.status.busy": "2022-10-31T16:15:26.588147Z",
     "iopub.status.idle": "2022-10-31T16:15:26.597617Z",
     "shell.execute_reply": "2022-10-31T16:15:26.596632Z"
    },
    "papermill": {
     "duration": 0.047867,
     "end_time": "2022-10-31T16:15:26.599827",
     "exception": false,
     "start_time": "2022-10-31T16:15:26.551960",
     "status": "completed"
    },
    "tags": []
   },
   "outputs": [
    {
     "data": {
      "text/plain": [
       "xyz_campaign_id\n",
       "campaign_1      58\n",
       "campaign_2     537\n",
       "campaign_3    2669\n",
       "Name: Total_Conversion, dtype: int64"
      ]
     },
     "execution_count": 28,
     "metadata": {},
     "output_type": "execute_result"
    }
   ],
   "source": [
    "df['Total_Conversion'].groupby(by=df['xyz_campaign_id']).sum()"
   ]
  },
  {
   "cell_type": "code",
   "execution_count": 29,
   "id": "57a37e2b",
   "metadata": {
    "execution": {
     "iopub.execute_input": "2022-10-31T16:15:26.673860Z",
     "iopub.status.busy": "2022-10-31T16:15:26.673046Z",
     "iopub.status.idle": "2022-10-31T16:15:26.682087Z",
     "shell.execute_reply": "2022-10-31T16:15:26.681103Z"
    },
    "papermill": {
     "duration": 0.047622,
     "end_time": "2022-10-31T16:15:26.684359",
     "exception": false,
     "start_time": "2022-10-31T16:15:26.636737",
     "status": "completed"
    },
    "tags": []
   },
   "outputs": [
    {
     "data": {
      "text/plain": [
       "xyz_campaign_id\n",
       "campaign_1     54\n",
       "campaign_2    464\n",
       "campaign_3    625\n",
       "Name: ad_id, dtype: int64"
      ]
     },
     "execution_count": 29,
     "metadata": {},
     "output_type": "execute_result"
    }
   ],
   "source": [
    "df['ad_id'].groupby(by=df['xyz_campaign_id']).count()"
   ]
  },
  {
   "cell_type": "code",
   "execution_count": 30,
   "id": "9062f1f9",
   "metadata": {
    "execution": {
     "iopub.execute_input": "2022-10-31T16:15:26.756073Z",
     "iopub.status.busy": "2022-10-31T16:15:26.755674Z",
     "iopub.status.idle": "2022-10-31T16:15:26.765889Z",
     "shell.execute_reply": "2022-10-31T16:15:26.764972Z"
    },
    "papermill": {
     "duration": 0.04899,
     "end_time": "2022-10-31T16:15:26.768291",
     "exception": false,
     "start_time": "2022-10-31T16:15:26.719301",
     "status": "completed"
    },
    "tags": []
   },
   "outputs": [
    {
     "data": {
      "text/plain": [
       "xyz_campaign_id\n",
       "campaign_1       482925\n",
       "campaign_2      8128187\n",
       "campaign_3    204823716\n",
       "Name: Impressions, dtype: int64"
      ]
     },
     "execution_count": 30,
     "metadata": {},
     "output_type": "execute_result"
    }
   ],
   "source": [
    "df['Impressions'].groupby(by=df['xyz_campaign_id']).sum()"
   ]
  },
  {
   "cell_type": "code",
   "execution_count": 31,
   "id": "3c6d9e48",
   "metadata": {
    "execution": {
     "iopub.execute_input": "2022-10-31T16:15:26.840862Z",
     "iopub.status.busy": "2022-10-31T16:15:26.840187Z",
     "iopub.status.idle": "2022-10-31T16:15:26.847668Z",
     "shell.execute_reply": "2022-10-31T16:15:26.846512Z"
    },
    "papermill": {
     "duration": 0.046301,
     "end_time": "2022-10-31T16:15:26.849831",
     "exception": false,
     "start_time": "2022-10-31T16:15:26.803530",
     "status": "completed"
    },
    "tags": []
   },
   "outputs": [
    {
     "data": {
      "text/plain": [
       "array([ 15,  16,  20,  28,  29,  27,  31,   7,  30,  24,  21,  32,  18,\n",
       "        63,  65,  25,  10,  19,  26,  36,  23,  64,  22,   2,  66, 100,\n",
       "       101, 102, 103, 105, 107, 110, 111, 112, 113, 108, 109, 114, 104,\n",
       "       106])"
      ]
     },
     "execution_count": 31,
     "metadata": {},
     "output_type": "execute_result"
    }
   ],
   "source": [
    "df['interest'].unique()"
   ]
  },
  {
   "cell_type": "code",
   "execution_count": 32,
   "id": "cdee3935",
   "metadata": {
    "execution": {
     "iopub.execute_input": "2022-10-31T16:15:26.922450Z",
     "iopub.status.busy": "2022-10-31T16:15:26.921812Z",
     "iopub.status.idle": "2022-10-31T16:15:26.936188Z",
     "shell.execute_reply": "2022-10-31T16:15:26.935036Z"
    },
    "papermill": {
     "duration": 0.053821,
     "end_time": "2022-10-31T16:15:26.938626",
     "exception": false,
     "start_time": "2022-10-31T16:15:26.884805",
     "status": "completed"
    },
    "tags": []
   },
   "outputs": [
    {
     "data": {
      "text/plain": [
       "16.0     38\n",
       "10.0     35\n",
       "29.0     35\n",
       "27.0     26\n",
       "63.0     26\n",
       "28.0     26\n",
       "64.0     24\n",
       "20.0     24\n",
       "19.0     23\n",
       "22.0     22\n",
       "21.0     22\n",
       "32.0     21\n",
       "18.0     20\n",
       "15.0     20\n",
       "25.0     19\n",
       "2.0      18\n",
       "26.0     18\n",
       "23.0     17\n",
       "24.0     16\n",
       "30.0     16\n",
       "31.0     15\n",
       "7.0      14\n",
       "36.0     13\n",
       "65.0     11\n",
       "66.0     11\n",
       "107.0     8\n",
       "110.0     8\n",
       "102.0     7\n",
       "105.0     7\n",
       "101.0     7\n",
       "112.0     7\n",
       "108.0     7\n",
       "100.0     6\n",
       "111.0     6\n",
       "113.0     6\n",
       "109.0     6\n",
       "103.0     5\n",
       "114.0     5\n",
       "104.0     5\n",
       "106.0     5\n",
       "Name: interest, dtype: int64"
      ]
     },
     "execution_count": 32,
     "metadata": {},
     "output_type": "execute_result"
    }
   ],
   "source": [
    "df['interest'].where(df['xyz_campaign_id']=='campaign_3').value_counts()"
   ]
  },
  {
   "cell_type": "code",
   "execution_count": 33,
   "id": "d126c135",
   "metadata": {
    "execution": {
     "iopub.execute_input": "2022-10-31T16:15:27.012052Z",
     "iopub.status.busy": "2022-10-31T16:15:27.011607Z",
     "iopub.status.idle": "2022-10-31T16:15:27.025729Z",
     "shell.execute_reply": "2022-10-31T16:15:27.024596Z"
    },
    "papermill": {
     "duration": 0.053787,
     "end_time": "2022-10-31T16:15:27.028286",
     "exception": false,
     "start_time": "2022-10-31T16:15:26.974499",
     "status": "completed"
    },
    "tags": []
   },
   "outputs": [
    {
     "data": {
      "text/plain": [
       "16.0    86\n",
       "10.0    48\n",
       "29.0    39\n",
       "27.0    31\n",
       "64.0    24\n",
       "26.0    23\n",
       "20.0    22\n",
       "15.0    22\n",
       "18.0    22\n",
       "28.0    21\n",
       "63.0    18\n",
       "21.0    13\n",
       "22.0    11\n",
       "32.0    11\n",
       "36.0     8\n",
       "19.0     8\n",
       "31.0     8\n",
       "7.0      8\n",
       "30.0     8\n",
       "2.0      7\n",
       "24.0     7\n",
       "65.0     7\n",
       "23.0     6\n",
       "25.0     6\n",
       "Name: interest, dtype: int64"
      ]
     },
     "execution_count": 33,
     "metadata": {},
     "output_type": "execute_result"
    }
   ],
   "source": [
    "df['interest'].where(df['xyz_campaign_id']=='campaign_2').value_counts()"
   ]
  },
  {
   "cell_type": "code",
   "execution_count": 34,
   "id": "f392f0e2",
   "metadata": {
    "execution": {
     "iopub.execute_input": "2022-10-31T16:15:27.103237Z",
     "iopub.status.busy": "2022-10-31T16:15:27.102374Z",
     "iopub.status.idle": "2022-10-31T16:15:27.668895Z",
     "shell.execute_reply": "2022-10-31T16:15:27.667970Z"
    },
    "papermill": {
     "duration": 0.606513,
     "end_time": "2022-10-31T16:15:27.671109",
     "exception": false,
     "start_time": "2022-10-31T16:15:27.064596",
     "status": "completed"
    },
    "tags": []
   },
   "outputs": [
    {
     "data": {
      "image/png": "[encoded data removed]",
      "text/plain": [
       "<Figure size 1080x504 with 1 Axes>"
      ]
     },
     "metadata": {},
     "output_type": "display_data"
    }
   ],
   "source": [
    "fig=plt.figure(figsize=(15,7))\n",
    "\n",
    "sns.countplot(x='interest', data=df)\n",
    "\n",
    "\n",
    "plt.show()"
   ]
  },
  {
   "cell_type": "code",
   "execution_count": 35,
   "id": "a15ff4a3",
   "metadata": {
    "execution": {
     "iopub.execute_input": "2022-10-31T16:15:27.746007Z",
     "iopub.status.busy": "2022-10-31T16:15:27.745288Z",
     "iopub.status.idle": "2022-10-31T16:15:28.013254Z",
     "shell.execute_reply": "2022-10-31T16:15:28.012375Z"
    },
    "papermill": {
     "duration": 0.307812,
     "end_time": "2022-10-31T16:15:28.015725",
     "exception": false,
     "start_time": "2022-10-31T16:15:27.707913",
     "status": "completed"
    },
    "tags": []
   },
   "outputs": [
    {
     "data": {
      "image/png": "[encoded data removed]",
      "text/plain": [
       "<Figure size 1080x504 with 1 Axes>"
      ]
     },
     "metadata": {},
     "output_type": "display_data"
    }
   ],
   "source": [
    "fig=plt.figure(figsize=(15,7))\n",
    "\n",
    "sns.scatterplot(y='interest',x='Approved_Conversion', data=df)\n",
    "\n",
    "\n",
    "plt.show()"
   ]
  },
  {
   "cell_type": "code",
   "execution_count": 36,
   "id": "75385a44",
   "metadata": {
    "execution": {
     "iopub.execute_input": "2022-10-31T16:15:28.091531Z",
     "iopub.status.busy": "2022-10-31T16:15:28.091089Z",
     "iopub.status.idle": "2022-10-31T16:15:28.917754Z",
     "shell.execute_reply": "2022-10-31T16:15:28.916531Z"
    },
    "papermill": {
     "duration": 0.867812,
     "end_time": "2022-10-31T16:15:28.920327",
     "exception": false,
     "start_time": "2022-10-31T16:15:28.052515",
     "status": "completed"
    },
    "tags": []
   },
   "outputs": [
    {
     "data": {
      "image/png": "[encoded data removed]",
      "text/plain": [
       "<Figure size 1080x504 with 1 Axes>"
      ]
     },
     "metadata": {},
     "output_type": "display_data"
    }
   ],
   "source": [
    "fig=plt.figure(figsize=(15,7))\n",
    "\n",
    "sns.countplot(x='interest',hue='xyz_campaign_id', data=df)\n",
    "\n",
    "\n",
    "plt.show()"
   ]
  },
  {
   "cell_type": "markdown",
   "id": "7bc80007",
   "metadata": {
    "papermill": {
     "duration": 0.037434,
     "end_time": "2022-10-31T16:15:28.995068",
     "exception": false,
     "start_time": "2022-10-31T16:15:28.957634",
     "status": "completed"
    },
    "tags": []
   },
   "source": [
    "\n",
    "Though there are more add campaigns with interest code ranging between 2-66 , there are still many conversions for ads with interest code beyond 66 code.\n",
    "When we compare the xyz campaign_3 with xyz campaign_2 we can see that campaign_3 has many adds with interests beyond code 66 and perhaps that is what is driving the higher conversions as well."
   ]
  },
  {
   "cell_type": "code",
   "execution_count": 37,
   "id": "6d98a9d2",
   "metadata": {
    "execution": {
     "iopub.execute_input": "2022-10-31T16:15:29.074326Z",
     "iopub.status.busy": "2022-10-31T16:15:29.073906Z",
     "iopub.status.idle": "2022-10-31T16:15:29.085162Z",
     "shell.execute_reply": "2022-10-31T16:15:29.083919Z"
    },
    "papermill": {
     "duration": 0.054644,
     "end_time": "2022-10-31T16:15:29.087763",
     "exception": false,
     "start_time": "2022-10-31T16:15:29.033119",
     "status": "completed"
    },
    "tags": []
   },
   "outputs": [
    {
     "data": {
      "text/plain": [
       "interest\n",
       "2       0.809449\n",
       "7       1.224186\n",
       "10      8.428729\n",
       "15      5.034725\n",
       "16     14.903624\n",
       "18      4.051114\n",
       "19      2.850152\n",
       "20      3.232793\n",
       "21      1.327488\n",
       "22      1.857898\n",
       "23      0.860388\n",
       "24      1.057407\n",
       "25      2.460573\n",
       "26      2.281089\n",
       "27      7.661602\n",
       "28      5.134977\n",
       "29      8.793622\n",
       "30      1.026441\n",
       "31      0.503813\n",
       "32      3.024465\n",
       "36      0.432417\n",
       "63      3.919529\n",
       "64      2.382676\n",
       "65      0.814088\n",
       "66      0.418585\n",
       "100     0.948154\n",
       "101     1.387052\n",
       "102     0.543938\n",
       "103     0.900065\n",
       "104     0.661612\n",
       "105     1.244572\n",
       "106     0.746097\n",
       "107     2.099990\n",
       "108     1.294730\n",
       "109     1.396382\n",
       "110     1.140732\n",
       "111     0.698525\n",
       "112     1.089125\n",
       "113     0.857669\n",
       "114     0.499527\n",
       "Name: Impressions, dtype: float64"
      ]
     },
     "execution_count": 37,
     "metadata": {},
     "output_type": "execute_result"
    }
   ],
   "source": [
    "(df['Impressions'].groupby(df['interest']).sum()/df['Impressions'].sum())*100\n",
    "# percentage ad impression for each interest. For interest code 16 it is dispproportinately high. interest code 29 has 8 % impressions but \n",
    "#delivers 12 % conversions. The impressions should be increased for other ads with interest code that are giving high conversions. Redistribute\n",
    "#the impressions based on the conversions."
   ]
  },
  {
   "cell_type": "code",
   "execution_count": 38,
   "id": "ca4524d8",
   "metadata": {
    "execution": {
     "iopub.execute_input": "2022-10-31T16:15:29.165157Z",
     "iopub.status.busy": "2022-10-31T16:15:29.164771Z",
     "iopub.status.idle": "2022-10-31T16:15:29.175896Z",
     "shell.execute_reply": "2022-10-31T16:15:29.174929Z"
    },
    "papermill": {
     "duration": 0.05243,
     "end_time": "2022-10-31T16:15:29.178037",
     "exception": false,
     "start_time": "2022-10-31T16:15:29.125607",
     "status": "completed"
    },
    "tags": []
   },
   "outputs": [
    {
     "data": {
      "text/plain": [
       "interest\n",
       "2       1.760890\n",
       "7       1.760890\n",
       "10      8.433735\n",
       "15      5.838740\n",
       "16     13.067655\n",
       "18      3.058387\n",
       "19      3.058387\n",
       "20      4.355885\n",
       "21      2.502317\n",
       "22      1.112141\n",
       "23      0.648749\n",
       "24      1.390176\n",
       "25      1.760890\n",
       "26      2.131603\n",
       "27      5.004634\n",
       "28      3.892493\n",
       "29     12.233550\n",
       "30      1.112141\n",
       "31      1.482854\n",
       "32      3.243744\n",
       "36      0.926784\n",
       "63      3.151066\n",
       "64      2.502317\n",
       "65      1.760890\n",
       "66      0.370714\n",
       "100     0.834106\n",
       "101     2.316960\n",
       "102     0.648749\n",
       "103     0.463392\n",
       "104     0.741427\n",
       "105     0.556070\n",
       "106     0.463392\n",
       "107     1.853568\n",
       "108     0.648749\n",
       "109     0.741427\n",
       "110     0.834106\n",
       "111     0.926784\n",
       "112     1.390176\n",
       "113     0.648749\n",
       "114     0.370714\n",
       "Name: Approved_Conversion, dtype: float64"
      ]
     },
     "execution_count": 38,
     "metadata": {},
     "output_type": "execute_result"
    }
   ],
   "source": [
    "(df[\"Approved_Conversion\"].groupby(df['interest']).sum()/df[\"Approved_Conversion\"].sum())*100"
   ]
  },
  {
   "cell_type": "code",
   "execution_count": 39,
   "id": "26be876e",
   "metadata": {
    "execution": {
     "iopub.execute_input": "2022-10-31T16:15:29.255504Z",
     "iopub.status.busy": "2022-10-31T16:15:29.255093Z",
     "iopub.status.idle": "2022-10-31T16:15:32.024918Z",
     "shell.execute_reply": "2022-10-31T16:15:32.023926Z"
    },
    "papermill": {
     "duration": 2.811221,
     "end_time": "2022-10-31T16:15:32.027073",
     "exception": false,
     "start_time": "2022-10-31T16:15:29.215852",
     "status": "completed"
    },
    "tags": []
   },
   "outputs": [
    {
     "data": {
      "image/png": "[encoded data removed]",
      "text/plain": [
       "<Figure size 1080x504 with 1 Axes>"
      ]
     },
     "metadata": {},
     "output_type": "display_data"
    }
   ],
   "source": [
    "fig=plt.figure(figsize=(15,7))\n",
    "\n",
    "ax=sns.barplot(x=df[\"xyz_campaign_id\"], y=df[\"Approved_Conversion\"], hue=df[\"interest\"], data=df)\n",
    "sns.move_legend(ax, \"upper left\", bbox_to_anchor=(1, 1))"
   ]
  },
  {
   "cell_type": "code",
   "execution_count": 40,
   "id": "b7afdea7",
   "metadata": {
    "execution": {
     "iopub.execute_input": "2022-10-31T16:15:32.107076Z",
     "iopub.status.busy": "2022-10-31T16:15:32.106643Z",
     "iopub.status.idle": "2022-10-31T16:15:32.121564Z",
     "shell.execute_reply": "2022-10-31T16:15:32.120599Z"
    },
    "papermill": {
     "duration": 0.057177,
     "end_time": "2022-10-31T16:15:32.123640",
     "exception": false,
     "start_time": "2022-10-31T16:15:32.066463",
     "status": "completed"
    },
    "tags": []
   },
   "outputs": [
    {
     "data": {
      "text/html": [
       "<div>\n",
       "<style scoped>\n",
       "    .dataframe tbody tr th:only-of-type {\n",
       "        vertical-align: middle;\n",
       "    }\n",
       "\n",
       "    .dataframe tbody tr th {\n",
       "        vertical-align: top;\n",
       "    }\n",
       "\n",
       "    .dataframe thead th {\n",
       "        text-align: right;\n",
       "    }\n",
       "</style>\n",
       "<table border=\"1\" class=\"dataframe\">\n",
       "  <thead>\n",
       "    <tr style=\"text-align: right;\">\n",
       "      <th></th>\n",
       "      <th>ad_id</th>\n",
       "      <th>xyz_campaign_id</th>\n",
       "      <th>fb_campaign_id</th>\n",
       "      <th>age</th>\n",
       "      <th>gender</th>\n",
       "      <th>interest</th>\n",
       "      <th>Impressions</th>\n",
       "      <th>Clicks</th>\n",
       "      <th>Spent</th>\n",
       "      <th>Total_Conversion</th>\n",
       "      <th>Approved_Conversion</th>\n",
       "    </tr>\n",
       "  </thead>\n",
       "  <tbody>\n",
       "    <tr>\n",
       "      <th>0</th>\n",
       "      <td>708746</td>\n",
       "      <td>campaign_1</td>\n",
       "      <td>103916</td>\n",
       "      <td>30-34</td>\n",
       "      <td>M</td>\n",
       "      <td>15</td>\n",
       "      <td>7350</td>\n",
       "      <td>1</td>\n",
       "      <td>1.43</td>\n",
       "      <td>2</td>\n",
       "      <td>1</td>\n",
       "    </tr>\n",
       "    <tr>\n",
       "      <th>1</th>\n",
       "      <td>708749</td>\n",
       "      <td>campaign_1</td>\n",
       "      <td>103917</td>\n",
       "      <td>30-34</td>\n",
       "      <td>M</td>\n",
       "      <td>16</td>\n",
       "      <td>17861</td>\n",
       "      <td>2</td>\n",
       "      <td>1.82</td>\n",
       "      <td>2</td>\n",
       "      <td>0</td>\n",
       "    </tr>\n",
       "    <tr>\n",
       "      <th>2</th>\n",
       "      <td>708771</td>\n",
       "      <td>campaign_1</td>\n",
       "      <td>103920</td>\n",
       "      <td>30-34</td>\n",
       "      <td>M</td>\n",
       "      <td>20</td>\n",
       "      <td>693</td>\n",
       "      <td>0</td>\n",
       "      <td>0.00</td>\n",
       "      <td>1</td>\n",
       "      <td>0</td>\n",
       "    </tr>\n",
       "    <tr>\n",
       "      <th>3</th>\n",
       "      <td>708815</td>\n",
       "      <td>campaign_1</td>\n",
       "      <td>103928</td>\n",
       "      <td>30-34</td>\n",
       "      <td>M</td>\n",
       "      <td>28</td>\n",
       "      <td>4259</td>\n",
       "      <td>1</td>\n",
       "      <td>1.25</td>\n",
       "      <td>1</td>\n",
       "      <td>0</td>\n",
       "    </tr>\n",
       "    <tr>\n",
       "      <th>4</th>\n",
       "      <td>708818</td>\n",
       "      <td>campaign_1</td>\n",
       "      <td>103928</td>\n",
       "      <td>30-34</td>\n",
       "      <td>M</td>\n",
       "      <td>28</td>\n",
       "      <td>4133</td>\n",
       "      <td>1</td>\n",
       "      <td>1.29</td>\n",
       "      <td>1</td>\n",
       "      <td>1</td>\n",
       "    </tr>\n",
       "  </tbody>\n",
       "</table>\n",
       "</div>"
      ],
      "text/plain": [
       "    ad_id xyz_campaign_id  fb_campaign_id    age gender  interest  \\\n",
       "0  708746      campaign_1          103916  30-34      M        15   \n",
       "1  708749      campaign_1          103917  30-34      M        16   \n",
       "2  708771      campaign_1          103920  30-34      M        20   \n",
       "3  708815      campaign_1          103928  30-34      M        28   \n",
       "4  708818      campaign_1          103928  30-34      M        28   \n",
       "\n",
       "   Impressions  Clicks  Spent  Total_Conversion  Approved_Conversion  \n",
       "0         7350       1   1.43                 2                    1  \n",
       "1        17861       2   1.82                 2                    0  \n",
       "2          693       0   0.00                 1                    0  \n",
       "3         4259       1   1.25                 1                    0  \n",
       "4         4133       1   1.29                 1                    1  "
      ]
     },
     "execution_count": 40,
     "metadata": {},
     "output_type": "execute_result"
    }
   ],
   "source": [
    "df.head()"
   ]
  },
  {
   "cell_type": "code",
   "execution_count": 41,
   "id": "cebc9ddb",
   "metadata": {
    "execution": {
     "iopub.execute_input": "2022-10-31T16:15:32.202366Z",
     "iopub.status.busy": "2022-10-31T16:15:32.201964Z",
     "iopub.status.idle": "2022-10-31T16:15:32.215649Z",
     "shell.execute_reply": "2022-10-31T16:15:32.214552Z"
    },
    "papermill": {
     "duration": 0.055996,
     "end_time": "2022-10-31T16:15:32.217769",
     "exception": false,
     "start_time": "2022-10-31T16:15:32.161773",
     "status": "completed"
    },
    "tags": []
   },
   "outputs": [
    {
     "data": {
      "text/plain": [
       "interest\n",
       "2      4\n",
       "7      3\n",
       "10    21\n",
       "15     9\n",
       "16    32\n",
       "18     7\n",
       "19     3\n",
       "20     7\n",
       "21     5\n",
       "22     3\n",
       "23     2\n",
       "24     4\n",
       "25     2\n",
       "26     8\n",
       "27    10\n",
       "28     8\n",
       "29    19\n",
       "30     3\n",
       "31     5\n",
       "32     6\n",
       "36     2\n",
       "63     6\n",
       "64     9\n",
       "65     5\n",
       "Name: Approved_Conversion, dtype: int64"
      ]
     },
     "execution_count": 41,
     "metadata": {},
     "output_type": "execute_result"
    }
   ],
   "source": [
    "df[(df['xyz_campaign_id']== 'campaign_2') & (df['Approved_Conversion']>0)]['Approved_Conversion'].groupby(df['interest']).sum()\n"
   ]
  },
  {
   "cell_type": "code",
   "execution_count": 42,
   "id": "cdf4bd3b",
   "metadata": {
    "execution": {
     "iopub.execute_input": "2022-10-31T16:15:32.297168Z",
     "iopub.status.busy": "2022-10-31T16:15:32.295887Z",
     "iopub.status.idle": "2022-10-31T16:15:32.309170Z",
     "shell.execute_reply": "2022-10-31T16:15:32.308199Z"
    },
    "papermill": {
     "duration": 0.055497,
     "end_time": "2022-10-31T16:15:32.311551",
     "exception": false,
     "start_time": "2022-10-31T16:15:32.256054",
     "status": "completed"
    },
    "tags": []
   },
   "outputs": [
    {
     "data": {
      "text/plain": [
       "interest  gender\n",
       "16        F         20\n",
       "          M         12\n",
       "Name: Approved_Conversion, dtype: int64"
      ]
     },
     "execution_count": 42,
     "metadata": {},
     "output_type": "execute_result"
    }
   ],
   "source": [
    "df[(df['xyz_campaign_id']== 'campaign_2') & (df['Approved_Conversion']>0) & (df['interest']== 16)].groupby(['interest','gender'])['Approved_Conversion'].sum()\n"
   ]
  },
  {
   "cell_type": "code",
   "execution_count": 43,
   "id": "b14c74d4",
   "metadata": {
    "execution": {
     "iopub.execute_input": "2022-10-31T16:15:32.390532Z",
     "iopub.status.busy": "2022-10-31T16:15:32.389545Z",
     "iopub.status.idle": "2022-10-31T16:15:32.402774Z",
     "shell.execute_reply": "2022-10-31T16:15:32.401644Z"
    },
    "papermill": {
     "duration": 0.055394,
     "end_time": "2022-10-31T16:15:32.405169",
     "exception": false,
     "start_time": "2022-10-31T16:15:32.349775",
     "status": "completed"
    },
    "tags": []
   },
   "outputs": [
    {
     "data": {
      "text/plain": [
       "interest  gender\n",
       "29        F         10\n",
       "          M          9\n",
       "Name: Approved_Conversion, dtype: int64"
      ]
     },
     "execution_count": 43,
     "metadata": {},
     "output_type": "execute_result"
    }
   ],
   "source": [
    "df[(df['xyz_campaign_id']== 'campaign_2') & (df['Approved_Conversion']>0) & (df['interest']== 29)].groupby(['interest','gender'])['Approved_Conversion'].sum()\n"
   ]
  },
  {
   "cell_type": "code",
   "execution_count": 44,
   "id": "3a81df61",
   "metadata": {
    "execution": {
     "iopub.execute_input": "2022-10-31T16:15:32.485265Z",
     "iopub.status.busy": "2022-10-31T16:15:32.484506Z",
     "iopub.status.idle": "2022-10-31T16:15:32.497029Z",
     "shell.execute_reply": "2022-10-31T16:15:32.495821Z"
    },
    "papermill": {
     "duration": 0.055489,
     "end_time": "2022-10-31T16:15:32.499932",
     "exception": false,
     "start_time": "2022-10-31T16:15:32.444443",
     "status": "completed"
    },
    "tags": []
   },
   "outputs": [
    {
     "data": {
      "text/plain": [
       "interest  age  \n",
       "16        30-34    12\n",
       "          35-39     7\n",
       "          40-44     5\n",
       "          45-49     8\n",
       "Name: Approved_Conversion, dtype: int64"
      ]
     },
     "execution_count": 44,
     "metadata": {},
     "output_type": "execute_result"
    }
   ],
   "source": [
    "df[(df['xyz_campaign_id']== 'campaign_2') & (df['Approved_Conversion']>0) & (df['interest']== 16)].groupby(['interest','age'])['Approved_Conversion'].sum()\n"
   ]
  },
  {
   "cell_type": "code",
   "execution_count": 45,
   "id": "da93d77e",
   "metadata": {
    "execution": {
     "iopub.execute_input": "2022-10-31T16:15:32.579373Z",
     "iopub.status.busy": "2022-10-31T16:15:32.578722Z",
     "iopub.status.idle": "2022-10-31T16:15:32.590909Z",
     "shell.execute_reply": "2022-10-31T16:15:32.589804Z"
    },
    "papermill": {
     "duration": 0.05424,
     "end_time": "2022-10-31T16:15:32.593081",
     "exception": false,
     "start_time": "2022-10-31T16:15:32.538841",
     "status": "completed"
    },
    "tags": []
   },
   "outputs": [
    {
     "data": {
      "text/plain": [
       "interest  age  \n",
       "29        30-34    7\n",
       "          35-39    7\n",
       "          40-44    2\n",
       "          45-49    3\n",
       "Name: Approved_Conversion, dtype: int64"
      ]
     },
     "execution_count": 45,
     "metadata": {},
     "output_type": "execute_result"
    }
   ],
   "source": [
    "df[(df['xyz_campaign_id']== 'campaign_2') & (df['Approved_Conversion']>0) & (df['interest']== 29)].groupby(['interest','age'])['Approved_Conversion'].sum()\n"
   ]
  },
  {
   "cell_type": "code",
   "execution_count": 46,
   "id": "179ce711",
   "metadata": {
    "execution": {
     "iopub.execute_input": "2022-10-31T16:15:32.672192Z",
     "iopub.status.busy": "2022-10-31T16:15:32.671565Z",
     "iopub.status.idle": "2022-10-31T16:15:32.683654Z",
     "shell.execute_reply": "2022-10-31T16:15:32.682473Z"
    },
    "papermill": {
     "duration": 0.054526,
     "end_time": "2022-10-31T16:15:32.686066",
     "exception": false,
     "start_time": "2022-10-31T16:15:32.631540",
     "status": "completed"
    },
    "tags": []
   },
   "outputs": [
    {
     "data": {
      "text/plain": [
       "interest\n",
       "10    2\n",
       "15    4\n",
       "16    8\n",
       "20    1\n",
       "21    1\n",
       "27    1\n",
       "28    2\n",
       "29    3\n",
       "31    1\n",
       "32    1\n",
       "Name: Approved_Conversion, dtype: int64"
      ]
     },
     "execution_count": 46,
     "metadata": {},
     "output_type": "execute_result"
    }
   ],
   "source": [
    "df[(df['xyz_campaign_id']== 'campaign_1') & (df['Approved_Conversion']>0)].groupby(df['interest'])['Approved_Conversion'].sum()"
   ]
  },
  {
   "cell_type": "code",
   "execution_count": 47,
   "id": "0b1525bf",
   "metadata": {
    "execution": {
     "iopub.execute_input": "2022-10-31T16:15:32.766332Z",
     "iopub.status.busy": "2022-10-31T16:15:32.765919Z",
     "iopub.status.idle": "2022-10-31T16:15:32.775291Z",
     "shell.execute_reply": "2022-10-31T16:15:32.774390Z"
    },
    "papermill": {
     "duration": 0.052243,
     "end_time": "2022-10-31T16:15:32.777367",
     "exception": false,
     "start_time": "2022-10-31T16:15:32.725124",
     "status": "completed"
    },
    "tags": []
   },
   "outputs": [
    {
     "data": {
      "text/plain": [
       "Approved_Conversion\n",
       "0    30\n",
       "1    24\n",
       "Name: ad_id, dtype: int64"
      ]
     },
     "execution_count": 47,
     "metadata": {},
     "output_type": "execute_result"
    }
   ],
   "source": [
    "df[(df['xyz_campaign_id']== 'campaign_1')].groupby(['Approved_Conversion'])['ad_id'].count()"
   ]
  },
  {
   "cell_type": "code",
   "execution_count": 48,
   "id": "ca32735c",
   "metadata": {
    "execution": {
     "iopub.execute_input": "2022-10-31T16:15:32.857816Z",
     "iopub.status.busy": "2022-10-31T16:15:32.857035Z",
     "iopub.status.idle": "2022-10-31T16:15:32.869075Z",
     "shell.execute_reply": "2022-10-31T16:15:32.868079Z"
    },
    "papermill": {
     "duration": 0.054556,
     "end_time": "2022-10-31T16:15:32.871242",
     "exception": false,
     "start_time": "2022-10-31T16:15:32.816686",
     "status": "completed"
    },
    "tags": []
   },
   "outputs": [
    {
     "data": {
      "text/plain": [
       "interest  gender\n",
       "16        F         2\n",
       "          M         6\n",
       "Name: Approved_Conversion, dtype: int64"
      ]
     },
     "execution_count": 48,
     "metadata": {},
     "output_type": "execute_result"
    }
   ],
   "source": [
    "df[(df['xyz_campaign_id']== 'campaign_1') & (df['Approved_Conversion']>0) & (df['interest']== 16)].groupby(['interest','gender'])['Approved_Conversion'].sum()\n"
   ]
  },
  {
   "cell_type": "code",
   "execution_count": 49,
   "id": "2ff10a46",
   "metadata": {
    "execution": {
     "iopub.execute_input": "2022-10-31T16:15:32.951001Z",
     "iopub.status.busy": "2022-10-31T16:15:32.950314Z",
     "iopub.status.idle": "2022-10-31T16:15:32.962048Z",
     "shell.execute_reply": "2022-10-31T16:15:32.960996Z"
    },
    "papermill": {
     "duration": 0.054312,
     "end_time": "2022-10-31T16:15:32.964479",
     "exception": false,
     "start_time": "2022-10-31T16:15:32.910167",
     "status": "completed"
    },
    "tags": []
   },
   "outputs": [
    {
     "data": {
      "text/plain": [
       "interest  age  \n",
       "16        30-34    3\n",
       "          35-39    3\n",
       "          40-44    2\n",
       "Name: Approved_Conversion, dtype: int64"
      ]
     },
     "execution_count": 49,
     "metadata": {},
     "output_type": "execute_result"
    }
   ],
   "source": [
    "df[(df['xyz_campaign_id']== 'campaign_1') & (df['Approved_Conversion']>0) & (df['interest']== 16)].groupby(['interest','age'])['Approved_Conversion'].sum()\n"
   ]
  },
  {
   "cell_type": "markdown",
   "id": "f49553bf",
   "metadata": {
    "papermill": {
     "duration": 0.038348,
     "end_time": "2022-10-31T16:15:33.041694",
     "exception": false,
     "start_time": "2022-10-31T16:15:33.003346",
     "status": "completed"
    },
    "tags": []
   },
   "source": [
    "Notes: https://sparkbyexamples.com/pandas/pandas-groupby-multiple-columns/"
   ]
  },
  {
   "cell_type": "code",
   "execution_count": 50,
   "id": "d62f3068",
   "metadata": {
    "execution": {
     "iopub.execute_input": "2022-10-31T16:15:33.122062Z",
     "iopub.status.busy": "2022-10-31T16:15:33.120999Z",
     "iopub.status.idle": "2022-10-31T16:15:33.134602Z",
     "shell.execute_reply": "2022-10-31T16:15:33.133411Z"
    },
    "papermill": {
     "duration": 0.056473,
     "end_time": "2022-10-31T16:15:33.136835",
     "exception": false,
     "start_time": "2022-10-31T16:15:33.080362",
     "status": "completed"
    },
    "tags": []
   },
   "outputs": [
    {
     "data": {
      "text/plain": [
       "interest\n",
       "2       15\n",
       "7       16\n",
       "10      68\n",
       "15      50\n",
       "16     101\n",
       "18      26\n",
       "19      30\n",
       "20      39\n",
       "21      21\n",
       "22       9\n",
       "23       5\n",
       "24      11\n",
       "25      17\n",
       "26      15\n",
       "27      43\n",
       "28      32\n",
       "29     110\n",
       "30       9\n",
       "31      10\n",
       "32      28\n",
       "36       8\n",
       "63      28\n",
       "64      18\n",
       "65      14\n",
       "66       4\n",
       "100      9\n",
       "101     25\n",
       "102      7\n",
       "103      5\n",
       "104      8\n",
       "105      6\n",
       "106      5\n",
       "107     20\n",
       "108      7\n",
       "109      8\n",
       "110      9\n",
       "111     10\n",
       "112     15\n",
       "113      7\n",
       "114      4\n",
       "Name: Approved_Conversion, dtype: int64"
      ]
     },
     "execution_count": 50,
     "metadata": {},
     "output_type": "execute_result"
    }
   ],
   "source": [
    "df[(df['xyz_campaign_id']== 'campaign_3') & (df['Approved_Conversion']>0)]['Approved_Conversion'].groupby(df['interest']).sum()"
   ]
  },
  {
   "cell_type": "code",
   "execution_count": 51,
   "id": "b6247b93",
   "metadata": {
    "execution": {
     "iopub.execute_input": "2022-10-31T16:15:33.218604Z",
     "iopub.status.busy": "2022-10-31T16:15:33.218040Z",
     "iopub.status.idle": "2022-10-31T16:15:33.231618Z",
     "shell.execute_reply": "2022-10-31T16:15:33.230567Z"
    },
    "papermill": {
     "duration": 0.057545,
     "end_time": "2022-10-31T16:15:33.234151",
     "exception": false,
     "start_time": "2022-10-31T16:15:33.176606",
     "status": "completed"
    },
    "tags": []
   },
   "outputs": [
    {
     "data": {
      "text/plain": [
       "interest  age  \n",
       "16        30-34    45\n",
       "          35-39    21\n",
       "          40-44    18\n",
       "          45-49    17\n",
       "Name: Approved_Conversion, dtype: int64"
      ]
     },
     "execution_count": 51,
     "metadata": {},
     "output_type": "execute_result"
    }
   ],
   "source": [
    "df[(df['xyz_campaign_id']== 'campaign_3') & (df['Approved_Conversion']>0) & (df['interest']==16)].groupby(['interest','age'])['Approved_Conversion'].sum()\n"
   ]
  },
  {
   "cell_type": "code",
   "execution_count": 52,
   "id": "d4451816",
   "metadata": {
    "execution": {
     "iopub.execute_input": "2022-10-31T16:15:33.316403Z",
     "iopub.status.busy": "2022-10-31T16:15:33.315968Z",
     "iopub.status.idle": "2022-10-31T16:15:33.329154Z",
     "shell.execute_reply": "2022-10-31T16:15:33.328000Z"
    },
    "papermill": {
     "duration": 0.056517,
     "end_time": "2022-10-31T16:15:33.331459",
     "exception": false,
     "start_time": "2022-10-31T16:15:33.274942",
     "status": "completed"
    },
    "tags": []
   },
   "outputs": [
    {
     "data": {
      "text/plain": [
       "interest  age  \n",
       "29        30-34    46\n",
       "          35-39    22\n",
       "          40-44     8\n",
       "          45-49    34\n",
       "Name: Approved_Conversion, dtype: int64"
      ]
     },
     "execution_count": 52,
     "metadata": {},
     "output_type": "execute_result"
    }
   ],
   "source": [
    "df[(df['xyz_campaign_id']== 'campaign_3') & (df['Approved_Conversion']>0) & (df['interest']==29)].groupby(['interest','age'])['Approved_Conversion'].sum()\n"
   ]
  },
  {
   "cell_type": "code",
   "execution_count": 53,
   "id": "4b8df41e",
   "metadata": {
    "execution": {
     "iopub.execute_input": "2022-10-31T16:15:33.413375Z",
     "iopub.status.busy": "2022-10-31T16:15:33.412713Z",
     "iopub.status.idle": "2022-10-31T16:15:33.424904Z",
     "shell.execute_reply": "2022-10-31T16:15:33.423820Z"
    },
    "papermill": {
     "duration": 0.056067,
     "end_time": "2022-10-31T16:15:33.427074",
     "exception": false,
     "start_time": "2022-10-31T16:15:33.371007",
     "status": "completed"
    },
    "tags": []
   },
   "outputs": [
    {
     "data": {
      "text/plain": [
       "interest  gender\n",
       "16        F         30\n",
       "          M         71\n",
       "Name: Approved_Conversion, dtype: int64"
      ]
     },
     "execution_count": 53,
     "metadata": {},
     "output_type": "execute_result"
    }
   ],
   "source": [
    "df[(df['xyz_campaign_id']== 'campaign_3') & (df['Approved_Conversion']>0) & (df['interest']== 16)].groupby(['interest','gender'])['Approved_Conversion'].sum()\n"
   ]
  },
  {
   "cell_type": "code",
   "execution_count": 54,
   "id": "6b4b787a",
   "metadata": {
    "execution": {
     "iopub.execute_input": "2022-10-31T16:15:33.508536Z",
     "iopub.status.busy": "2022-10-31T16:15:33.507794Z",
     "iopub.status.idle": "2022-10-31T16:15:33.520370Z",
     "shell.execute_reply": "2022-10-31T16:15:33.519217Z"
    },
    "papermill": {
     "duration": 0.056067,
     "end_time": "2022-10-31T16:15:33.522585",
     "exception": false,
     "start_time": "2022-10-31T16:15:33.466518",
     "status": "completed"
    },
    "tags": []
   },
   "outputs": [
    {
     "data": {
      "text/plain": [
       "interest  gender\n",
       "29        F         43\n",
       "          M         67\n",
       "Name: Approved_Conversion, dtype: int64"
      ]
     },
     "execution_count": 54,
     "metadata": {},
     "output_type": "execute_result"
    }
   ],
   "source": [
    "df[(df['xyz_campaign_id']== 'campaign_3') & (df['Approved_Conversion']>0) & (df['interest']== 29)].groupby(['interest','gender'])['Approved_Conversion'].sum()\n"
   ]
  },
  {
   "cell_type": "code",
   "execution_count": 55,
   "id": "3d8636a2",
   "metadata": {
    "execution": {
     "iopub.execute_input": "2022-10-31T16:15:33.604254Z",
     "iopub.status.busy": "2022-10-31T16:15:33.603594Z",
     "iopub.status.idle": "2022-10-31T16:15:33.616634Z",
     "shell.execute_reply": "2022-10-31T16:15:33.615314Z"
    },
    "papermill": {
     "duration": 0.057095,
     "end_time": "2022-10-31T16:15:33.619389",
     "exception": false,
     "start_time": "2022-10-31T16:15:33.562294",
     "status": "completed"
    },
    "tags": []
   },
   "outputs": [
    {
     "name": "stdout",
     "output_type": "stream",
     "text": [
      "<class 'pandas.core.frame.DataFrame'>\n",
      "RangeIndex: 1143 entries, 0 to 1142\n",
      "Data columns (total 11 columns):\n",
      " #   Column               Non-Null Count  Dtype  \n",
      "---  ------               --------------  -----  \n",
      " 0   ad_id                1143 non-null   int64  \n",
      " 1   xyz_campaign_id      1143 non-null   object \n",
      " 2   fb_campaign_id       1143 non-null   int64  \n",
      " 3   age                  1143 non-null   object \n",
      " 4   gender               1143 non-null   object \n",
      " 5   interest             1143 non-null   int64  \n",
      " 6   Impressions          1143 non-null   int64  \n",
      " 7   Clicks               1143 non-null   int64  \n",
      " 8   Spent                1143 non-null   float64\n",
      " 9   Total_Conversion     1143 non-null   int64  \n",
      " 10  Approved_Conversion  1143 non-null   int64  \n",
      "dtypes: float64(1), int64(7), object(3)\n",
      "memory usage: 98.4+ KB\n"
     ]
    }
   ],
   "source": [
    "df.info()\n"
   ]
  },
  {
   "cell_type": "code",
   "execution_count": 56,
   "id": "158d1857",
   "metadata": {
    "execution": {
     "iopub.execute_input": "2022-10-31T16:15:33.703489Z",
     "iopub.status.busy": "2022-10-31T16:15:33.702441Z",
     "iopub.status.idle": "2022-10-31T16:15:33.710676Z",
     "shell.execute_reply": "2022-10-31T16:15:33.709151Z"
    },
    "papermill": {
     "duration": 0.052386,
     "end_time": "2022-10-31T16:15:33.713191",
     "exception": false,
     "start_time": "2022-10-31T16:15:33.660805",
     "status": "completed"
    },
    "tags": []
   },
   "outputs": [
    {
     "name": "stdout",
     "output_type": "stream",
     "text": [
      "[1705246, 2080666, 2223278, 2286228, 3052003]\n"
     ]
    }
   ],
   "source": [
    "#df['Impressions'].nunique()\n",
    "x=list(df['Impressions'].sort_values().tail())\n",
    "print(x)"
   ]
  },
  {
   "cell_type": "code",
   "execution_count": 57,
   "id": "2cbaae0a",
   "metadata": {
    "execution": {
     "iopub.execute_input": "2022-10-31T16:15:33.796297Z",
     "iopub.status.busy": "2022-10-31T16:15:33.795850Z",
     "iopub.status.idle": "2022-10-31T16:15:33.806122Z",
     "shell.execute_reply": "2022-10-31T16:15:33.804792Z"
    },
    "papermill": {
     "duration": 0.055231,
     "end_time": "2022-10-31T16:15:33.808880",
     "exception": false,
     "start_time": "2022-10-31T16:15:33.753649",
     "status": "completed"
    },
    "tags": []
   },
   "outputs": [],
   "source": [
    "#for i in x:\n",
    "df2=df.where(df['Impressions']>=1705246)\n",
    "    "
   ]
  },
  {
   "cell_type": "code",
   "execution_count": 58,
   "id": "7ce5dc00",
   "metadata": {
    "execution": {
     "iopub.execute_input": "2022-10-31T16:15:33.890728Z",
     "iopub.status.busy": "2022-10-31T16:15:33.889925Z",
     "iopub.status.idle": "2022-10-31T16:15:33.914455Z",
     "shell.execute_reply": "2022-10-31T16:15:33.913319Z"
    },
    "papermill": {
     "duration": 0.067941,
     "end_time": "2022-10-31T16:15:33.916896",
     "exception": false,
     "start_time": "2022-10-31T16:15:33.848955",
     "status": "completed"
    },
    "tags": []
   },
   "outputs": [
    {
     "data": {
      "text/html": [
       "<div>\n",
       "<style scoped>\n",
       "    .dataframe tbody tr th:only-of-type {\n",
       "        vertical-align: middle;\n",
       "    }\n",
       "\n",
       "    .dataframe tbody tr th {\n",
       "        vertical-align: top;\n",
       "    }\n",
       "\n",
       "    .dataframe thead th {\n",
       "        text-align: right;\n",
       "    }\n",
       "</style>\n",
       "<table border=\"1\" class=\"dataframe\">\n",
       "  <thead>\n",
       "    <tr style=\"text-align: right;\">\n",
       "      <th></th>\n",
       "      <th>ad_id</th>\n",
       "      <th>xyz_campaign_id</th>\n",
       "      <th>fb_campaign_id</th>\n",
       "      <th>age</th>\n",
       "      <th>gender</th>\n",
       "      <th>interest</th>\n",
       "      <th>Impressions</th>\n",
       "      <th>Clicks</th>\n",
       "      <th>Spent</th>\n",
       "      <th>Total_Conversion</th>\n",
       "      <th>Approved_Conversion</th>\n",
       "    </tr>\n",
       "  </thead>\n",
       "  <tbody>\n",
       "    <tr>\n",
       "      <th>525</th>\n",
       "      <td>1121100.0</td>\n",
       "      <td>campaign_3</td>\n",
       "      <td>144532.0</td>\n",
       "      <td>30-34</td>\n",
       "      <td>M</td>\n",
       "      <td>15.0</td>\n",
       "      <td>3052003.0</td>\n",
       "      <td>340.0</td>\n",
       "      <td>639.949998</td>\n",
       "      <td>60.0</td>\n",
       "      <td>17.0</td>\n",
       "    </tr>\n",
       "    <tr>\n",
       "      <th>528</th>\n",
       "      <td>1121104.0</td>\n",
       "      <td>campaign_3</td>\n",
       "      <td>144533.0</td>\n",
       "      <td>30-34</td>\n",
       "      <td>M</td>\n",
       "      <td>16.0</td>\n",
       "      <td>2080666.0</td>\n",
       "      <td>202.0</td>\n",
       "      <td>360.150001</td>\n",
       "      <td>40.0</td>\n",
       "      <td>21.0</td>\n",
       "    </tr>\n",
       "    <tr>\n",
       "      <th>765</th>\n",
       "      <td>1121601.0</td>\n",
       "      <td>campaign_3</td>\n",
       "      <td>144624.0</td>\n",
       "      <td>45-49</td>\n",
       "      <td>M</td>\n",
       "      <td>16.0</td>\n",
       "      <td>2286228.0</td>\n",
       "      <td>353.0</td>\n",
       "      <td>603.380002</td>\n",
       "      <td>16.0</td>\n",
       "      <td>7.0</td>\n",
       "    </tr>\n",
       "    <tr>\n",
       "      <th>860</th>\n",
       "      <td>1121814.0</td>\n",
       "      <td>campaign_3</td>\n",
       "      <td>144659.0</td>\n",
       "      <td>30-34</td>\n",
       "      <td>F</td>\n",
       "      <td>27.0</td>\n",
       "      <td>2223278.0</td>\n",
       "      <td>421.0</td>\n",
       "      <td>612.300003</td>\n",
       "      <td>38.0</td>\n",
       "      <td>13.0</td>\n",
       "    </tr>\n",
       "    <tr>\n",
       "      <th>867</th>\n",
       "      <td>1121824.0</td>\n",
       "      <td>campaign_3</td>\n",
       "      <td>144661.0</td>\n",
       "      <td>30-34</td>\n",
       "      <td>F</td>\n",
       "      <td>29.0</td>\n",
       "      <td>1705246.0</td>\n",
       "      <td>295.0</td>\n",
       "      <td>429.479998</td>\n",
       "      <td>23.0</td>\n",
       "      <td>10.0</td>\n",
       "    </tr>\n",
       "  </tbody>\n",
       "</table>\n",
       "</div>"
      ],
      "text/plain": [
       "         ad_id xyz_campaign_id  fb_campaign_id    age gender  interest  \\\n",
       "525  1121100.0      campaign_3        144532.0  30-34      M      15.0   \n",
       "528  1121104.0      campaign_3        144533.0  30-34      M      16.0   \n",
       "765  1121601.0      campaign_3        144624.0  45-49      M      16.0   \n",
       "860  1121814.0      campaign_3        144659.0  30-34      F      27.0   \n",
       "867  1121824.0      campaign_3        144661.0  30-34      F      29.0   \n",
       "\n",
       "     Impressions  Clicks       Spent  Total_Conversion  Approved_Conversion  \n",
       "525    3052003.0   340.0  639.949998              60.0                 17.0  \n",
       "528    2080666.0   202.0  360.150001              40.0                 21.0  \n",
       "765    2286228.0   353.0  603.380002              16.0                  7.0  \n",
       "860    2223278.0   421.0  612.300003              38.0                 13.0  \n",
       "867    1705246.0   295.0  429.479998              23.0                 10.0  "
      ]
     },
     "execution_count": 58,
     "metadata": {},
     "output_type": "execute_result"
    }
   ],
   "source": [
    "df2.dropna()\n",
    "# campaign_3 gets maximum/high impressions driving approved conversions"
   ]
  },
  {
   "cell_type": "code",
   "execution_count": 59,
   "id": "8e11dd17",
   "metadata": {
    "execution": {
     "iopub.execute_input": "2022-10-31T16:15:34.000171Z",
     "iopub.status.busy": "2022-10-31T16:15:33.998865Z",
     "iopub.status.idle": "2022-10-31T16:15:34.298322Z",
     "shell.execute_reply": "2022-10-31T16:15:34.297378Z"
    },
    "papermill": {
     "duration": 0.343559,
     "end_time": "2022-10-31T16:15:34.300881",
     "exception": false,
     "start_time": "2022-10-31T16:15:33.957322",
     "status": "completed"
    },
    "tags": []
   },
   "outputs": [
    {
     "data": {
      "text/plain": [
       "<AxesSubplot:xlabel='Spent', ylabel='xyz_campaign_id'>"
      ]
     },
     "execution_count": 59,
     "metadata": {},
     "output_type": "execute_result"
    },
    {
     "data": {
      "image/png": "[encoded data removed]",
      "text/plain": [
       "<Figure size 1080x504 with 1 Axes>"
      ]
     },
     "metadata": {},
     "output_type": "display_data"
    }
   ],
   "source": [
    "fig=plt.figure(figsize=(15,7))\n",
    "\n",
    "sns.scatterplot(x='Spent', y='xyz_campaign_id', data=df)\n"
   ]
  },
  {
   "cell_type": "code",
   "execution_count": 60,
   "id": "ac80d704",
   "metadata": {
    "execution": {
     "iopub.execute_input": "2022-10-31T16:15:34.385793Z",
     "iopub.status.busy": "2022-10-31T16:15:34.384799Z",
     "iopub.status.idle": "2022-10-31T16:15:34.803202Z",
     "shell.execute_reply": "2022-10-31T16:15:34.802276Z"
    },
    "papermill": {
     "duration": 0.462506,
     "end_time": "2022-10-31T16:15:34.805455",
     "exception": false,
     "start_time": "2022-10-31T16:15:34.342949",
     "status": "completed"
    },
    "tags": []
   },
   "outputs": [
    {
     "data": {
      "image/png": "[encoded data removed]",
      "text/plain": [
       "<Figure size 432x288 with 1 Axes>"
      ]
     },
     "metadata": {},
     "output_type": "display_data"
    }
   ],
   "source": [
    "ax=sns.scatterplot(x='Approved_Conversion',y='Spent', hue='xyz_campaign_id', data=df)\n",
    "sns.move_legend(ax, \"upper left\", bbox_to_anchor=(1, 1))\n",
    "\n",
    "# spent is higher for approved conversion ranging from 5 to upwards "
   ]
  },
  {
   "cell_type": "markdown",
   "id": "9bf79d2a",
   "metadata": {
    "papermill": {
     "duration": 0.04156,
     "end_time": "2022-10-31T16:15:34.888173",
     "exception": false,
     "start_time": "2022-10-31T16:15:34.846613",
     "status": "completed"
    },
    "tags": []
   },
   "source": [
    "https://seaborn.pydata.org/generated/seaborn.scatterplot.html"
   ]
  },
  {
   "cell_type": "code",
   "execution_count": 61,
   "id": "f9fc1cc6",
   "metadata": {
    "execution": {
     "iopub.execute_input": "2022-10-31T16:15:34.972935Z",
     "iopub.status.busy": "2022-10-31T16:15:34.972289Z",
     "iopub.status.idle": "2022-10-31T16:15:37.124278Z",
     "shell.execute_reply": "2022-10-31T16:15:37.123152Z"
    },
    "papermill": {
     "duration": 2.197502,
     "end_time": "2022-10-31T16:15:37.126950",
     "exception": false,
     "start_time": "2022-10-31T16:15:34.929448",
     "status": "completed"
    },
    "tags": []
   },
   "outputs": [
    {
     "data": {
      "image/png": "[encoded data removed]",
      "text/plain": [
       "<Figure size 440.8x864 with 8 Axes>"
      ]
     },
     "metadata": {},
     "output_type": "display_data"
    }
   ],
   "source": [
    "f = sns.FacetGrid(df, col=\"gender\", row='age')\n",
    "f.map(plt.scatter, \"interest\", \"Approved_Conversion\", alpha=.4)\n",
    "f.add_legend();"
   ]
  },
  {
   "cell_type": "markdown",
   "id": "f43cba84",
   "metadata": {
    "papermill": {
     "duration": 0.043718,
     "end_time": "2022-10-31T16:15:37.215853",
     "exception": false,
     "start_time": "2022-10-31T16:15:37.172135",
     "status": "completed"
    },
    "tags": []
   },
   "source": [
    "High rate of conversion for Men in lowest age bracket.The conversions are most in 30-34 bracket and then in 45-49 age bracket.\n",
    "Females conversions high for ads with code greater than 66"
   ]
  },
  {
   "cell_type": "code",
   "execution_count": 62,
   "id": "732b052a",
   "metadata": {
    "execution": {
     "iopub.execute_input": "2022-10-31T16:15:37.304082Z",
     "iopub.status.busy": "2022-10-31T16:15:37.303409Z",
     "iopub.status.idle": "2022-10-31T16:15:39.240713Z",
     "shell.execute_reply": "2022-10-31T16:15:39.239577Z"
    },
    "papermill": {
     "duration": 1.984476,
     "end_time": "2022-10-31T16:15:39.243301",
     "exception": false,
     "start_time": "2022-10-31T16:15:37.258825",
     "status": "completed"
    },
    "tags": []
   },
   "outputs": [
    {
     "data": {
      "image/png": "[encoded data removed]",
      "text/plain": [
       "<Figure size 440.8x864 with 8 Axes>"
      ]
     },
     "metadata": {},
     "output_type": "display_data"
    }
   ],
   "source": [
    "f = sns.FacetGrid(df, col=\"gender\", row='age')\n",
    "f.map(plt.scatter, \"Spent\", \"Approved_Conversion\", alpha=.4)\n",
    "f.add_legend();"
   ]
  },
  {
   "cell_type": "markdown",
   "id": "c4758154",
   "metadata": {
    "papermill": {
     "duration": 0.044518,
     "end_time": "2022-10-31T16:15:39.332327",
     "exception": false,
     "start_time": "2022-10-31T16:15:39.287809",
     "status": "completed"
    },
    "tags": []
   },
   "source": [
    "* Females have higher spending\n",
    "* Males have higher conversions even with lower spending in age group 30-34 specially.\n",
    "* Higher age bracket has higher spending"
   ]
  },
  {
   "cell_type": "markdown",
   "id": "75af403e",
   "metadata": {
    "papermill": {
     "duration": 0.042983,
     "end_time": "2022-10-31T16:15:39.418647",
     "exception": false,
     "start_time": "2022-10-31T16:15:39.375664",
     "status": "completed"
    },
    "tags": []
   },
   "source": []
  },
  {
   "cell_type": "markdown",
   "id": "546301cb",
   "metadata": {
    "papermill": {
     "duration": 0.043072,
     "end_time": "2022-10-31T16:15:39.504913",
     "exception": false,
     "start_time": "2022-10-31T16:15:39.461841",
     "status": "completed"
    },
    "tags": []
   },
   "source": [
    "Conversion rate per ad, per campaign "
   ]
  },
  {
   "cell_type": "code",
   "execution_count": 63,
   "id": "7cca07f7",
   "metadata": {
    "execution": {
     "iopub.execute_input": "2022-10-31T16:15:39.593711Z",
     "iopub.status.busy": "2022-10-31T16:15:39.593317Z",
     "iopub.status.idle": "2022-10-31T16:15:39.606645Z",
     "shell.execute_reply": "2022-10-31T16:15:39.605183Z"
    },
    "papermill": {
     "duration": 0.060529,
     "end_time": "2022-10-31T16:15:39.608964",
     "exception": false,
     "start_time": "2022-10-31T16:15:39.548435",
     "status": "completed"
    },
    "tags": []
   },
   "outputs": [
    {
     "data": {
      "text/plain": [
       "xyz_campaign_id\n",
       "campaign_1     44.444444\n",
       "campaign_2     39.439655\n",
       "campaign_3    139.520000\n",
       "dtype: float64"
      ]
     },
     "execution_count": 63,
     "metadata": {},
     "output_type": "execute_result"
    }
   ],
   "source": [
    "(df['Approved_Conversion'].groupby(by=df['xyz_campaign_id']).sum()/df['ad_id'].groupby(by=df['xyz_campaign_id']).count())*100"
   ]
  },
  {
   "cell_type": "code",
   "execution_count": 64,
   "id": "7f637ac8",
   "metadata": {
    "execution": {
     "iopub.execute_input": "2022-10-31T16:15:39.700021Z",
     "iopub.status.busy": "2022-10-31T16:15:39.699638Z",
     "iopub.status.idle": "2022-10-31T16:15:39.709959Z",
     "shell.execute_reply": "2022-10-31T16:15:39.708691Z"
    },
    "papermill": {
     "duration": 0.058713,
     "end_time": "2022-10-31T16:15:39.712470",
     "exception": false,
     "start_time": "2022-10-31T16:15:39.653757",
     "status": "completed"
    },
    "tags": []
   },
   "outputs": [
    {
     "data": {
      "text/plain": [
       "xyz_campaign_id\n",
       "campaign_1     54\n",
       "campaign_2    464\n",
       "campaign_3    625\n",
       "Name: ad_id, dtype: int64"
      ]
     },
     "execution_count": 64,
     "metadata": {},
     "output_type": "execute_result"
    }
   ],
   "source": [
    "df['ad_id'].groupby(by=df['xyz_campaign_id']).count()"
   ]
  },
  {
   "cell_type": "markdown",
   "id": "ab66da47",
   "metadata": {
    "papermill": {
     "duration": 0.043703,
     "end_time": "2022-10-31T16:15:39.800515",
     "exception": false,
     "start_time": "2022-10-31T16:15:39.756812",
     "status": "completed"
    },
    "tags": []
   },
   "source": [
    "conversion rate per campaign distributed by gender"
   ]
  },
  {
   "cell_type": "code",
   "execution_count": 65,
   "id": "e78463f0",
   "metadata": {
    "execution": {
     "iopub.execute_input": "2022-10-31T16:15:39.890973Z",
     "iopub.status.busy": "2022-10-31T16:15:39.890580Z",
     "iopub.status.idle": "2022-10-31T16:15:39.907217Z",
     "shell.execute_reply": "2022-10-31T16:15:39.906009Z"
    },
    "papermill": {
     "duration": 0.064372,
     "end_time": "2022-10-31T16:15:39.909537",
     "exception": false,
     "start_time": "2022-10-31T16:15:39.845165",
     "status": "completed"
    },
    "tags": []
   },
   "outputs": [
    {
     "data": {
      "text/plain": [
       "xyz_campaign_id  gender\n",
       "campaign_1       F         14.814815\n",
       "                 M         29.629630\n",
       "campaign_2       F         20.689655\n",
       "                 M         18.750000\n",
       "campaign_3       F         62.560000\n",
       "                 M         76.960000\n",
       "dtype: float64"
      ]
     },
     "execution_count": 65,
     "metadata": {},
     "output_type": "execute_result"
    }
   ],
   "source": [
    "(df['Approved_Conversion'].groupby([df['xyz_campaign_id'],df['gender']]).sum()/df['ad_id'].groupby(by=df['xyz_campaign_id']).count())*100"
   ]
  },
  {
   "cell_type": "code",
   "execution_count": 66,
   "id": "1ce79a6a",
   "metadata": {
    "execution": {
     "iopub.execute_input": "2022-10-31T16:15:40.080778Z",
     "iopub.status.busy": "2022-10-31T16:15:40.080380Z",
     "iopub.status.idle": "2022-10-31T16:15:40.093148Z",
     "shell.execute_reply": "2022-10-31T16:15:40.091800Z"
    },
    "papermill": {
     "duration": 0.141149,
     "end_time": "2022-10-31T16:15:40.095606",
     "exception": false,
     "start_time": "2022-10-31T16:15:39.954457",
     "status": "completed"
    },
    "tags": []
   },
   "outputs": [
    {
     "data": {
      "text/plain": [
       "xyz_campaign_id\n",
       "campaign_1     209.259259\n",
       "campaign_2     427.586207\n",
       "campaign_3    5770.880000\n",
       "dtype: float64"
      ]
     },
     "execution_count": 66,
     "metadata": {},
     "output_type": "execute_result"
    }
   ],
   "source": [
    "(df['Clicks'].groupby(by=df['xyz_campaign_id']).sum()/df['ad_id'].groupby(by=df['xyz_campaign_id']).count())*100"
   ]
  },
  {
   "cell_type": "markdown",
   "id": "84f9e6fb",
   "metadata": {
    "papermill": {
     "duration": 0.044445,
     "end_time": "2022-10-31T16:15:40.185393",
     "exception": false,
     "start_time": "2022-10-31T16:15:40.140948",
     "status": "completed"
    },
    "tags": []
   },
   "source": [
    "Cost to conversion OR cost of acquisition for the ads in each campaign\n"
   ]
  },
  {
   "cell_type": "code",
   "execution_count": 67,
   "id": "dab4aec4",
   "metadata": {
    "execution": {
     "iopub.execute_input": "2022-10-31T16:15:40.276681Z",
     "iopub.status.busy": "2022-10-31T16:15:40.276284Z",
     "iopub.status.idle": "2022-10-31T16:15:40.288108Z",
     "shell.execute_reply": "2022-10-31T16:15:40.287057Z"
    },
    "papermill": {
     "duration": 0.060059,
     "end_time": "2022-10-31T16:15:40.290436",
     "exception": false,
     "start_time": "2022-10-31T16:15:40.230377",
     "status": "completed"
    },
    "tags": []
   },
   "outputs": [
    {
     "data": {
      "text/plain": [
       "xyz_campaign_id\n",
       "campaign_1     6.237917\n",
       "campaign_2    15.810765\n",
       "campaign_3    63.832741\n",
       "dtype: float64"
      ]
     },
     "execution_count": 67,
     "metadata": {},
     "output_type": "execute_result"
    }
   ],
   "source": [
    "df['Spent'].groupby(by=df['xyz_campaign_id']).sum()/df['Approved_Conversion'].groupby(by=df['xyz_campaign_id']).sum()"
   ]
  },
  {
   "cell_type": "markdown",
   "id": "fa8bf6de",
   "metadata": {
    "papermill": {
     "duration": 0.044752,
     "end_time": "2022-10-31T16:15:40.380075",
     "exception": false,
     "start_time": "2022-10-31T16:15:40.335323",
     "status": "completed"
    },
    "tags": []
   },
   "source": [
    "Between campaign_1 and campaign_2 the cost of conversion is lesser for campaign_1 while its conversion rate is higher. It is performing better than campaign_2. campaign_3 performs best in terms of conversions but cost highest also"
   ]
  },
  {
   "cell_type": "markdown",
   "id": "402dffd1",
   "metadata": {
    "papermill": {
     "duration": 0.044382,
     "end_time": "2022-10-31T16:15:40.469371",
     "exception": false,
     "start_time": "2022-10-31T16:15:40.424989",
     "status": "completed"
    },
    "tags": []
   },
   "source": [
    "Measuring the impact of each advertisement based on the conversion and cost "
   ]
  },
  {
   "cell_type": "code",
   "execution_count": 68,
   "id": "7561b964",
   "metadata": {
    "execution": {
     "iopub.execute_input": "2022-10-31T16:15:40.560907Z",
     "iopub.status.busy": "2022-10-31T16:15:40.560474Z",
     "iopub.status.idle": "2022-10-31T16:15:40.567851Z",
     "shell.execute_reply": "2022-10-31T16:15:40.566965Z"
    },
    "papermill": {
     "duration": 0.055797,
     "end_time": "2022-10-31T16:15:40.569898",
     "exception": false,
     "start_time": "2022-10-31T16:15:40.514101",
     "status": "completed"
    },
    "tags": []
   },
   "outputs": [],
   "source": [
    "impact=df['Spent'].groupby(df['ad_id']).sum()/df['Approved_Conversion'].groupby(df['ad_id']).sum()"
   ]
  },
  {
   "cell_type": "code",
   "execution_count": 69,
   "id": "cb850cb6",
   "metadata": {
    "execution": {
     "iopub.execute_input": "2022-10-31T16:15:40.671927Z",
     "iopub.status.busy": "2022-10-31T16:15:40.671520Z",
     "iopub.status.idle": "2022-10-31T16:15:40.680075Z",
     "shell.execute_reply": "2022-10-31T16:15:40.679171Z"
    },
    "papermill": {
     "duration": 0.067334,
     "end_time": "2022-10-31T16:15:40.682966",
     "exception": false,
     "start_time": "2022-10-31T16:15:40.615632",
     "status": "completed"
    },
    "tags": []
   },
   "outputs": [
    {
     "data": {
      "text/plain": [
       "ad_id\n",
       "708746       1.430000\n",
       "708749            inf\n",
       "708771            NaN\n",
       "708815            inf\n",
       "708818       1.290000\n",
       "              ...    \n",
       "1314410    179.094999\n",
       "1314411           inf\n",
       "1314412           inf\n",
       "1314414     99.355000\n",
       "1314415     82.804999\n",
       "Length: 1143, dtype: float64"
      ]
     },
     "execution_count": 69,
     "metadata": {},
     "output_type": "execute_result"
    }
   ],
   "source": [
    "impact"
   ]
  },
  {
   "cell_type": "code",
   "execution_count": 70,
   "id": "fbc8c8cc",
   "metadata": {
    "execution": {
     "iopub.execute_input": "2022-10-31T16:15:40.780028Z",
     "iopub.status.busy": "2022-10-31T16:15:40.779612Z",
     "iopub.status.idle": "2022-10-31T16:15:40.785740Z",
     "shell.execute_reply": "2022-10-31T16:15:40.784609Z"
    },
    "papermill": {
     "duration": 0.054886,
     "end_time": "2022-10-31T16:15:40.787892",
     "exception": false,
     "start_time": "2022-10-31T16:15:40.733006",
     "status": "completed"
    },
    "tags": []
   },
   "outputs": [],
   "source": [
    "df_2= df[['ad_id','xyz_campaign_id','Impressions','Spent','Approved_Conversion']]\n"
   ]
  },
  {
   "cell_type": "code",
   "execution_count": 71,
   "id": "c4a1992b",
   "metadata": {
    "execution": {
     "iopub.execute_input": "2022-10-31T16:15:40.880201Z",
     "iopub.status.busy": "2022-10-31T16:15:40.879746Z",
     "iopub.status.idle": "2022-10-31T16:15:40.892302Z",
     "shell.execute_reply": "2022-10-31T16:15:40.891117Z"
    },
    "papermill": {
     "duration": 0.061429,
     "end_time": "2022-10-31T16:15:40.894614",
     "exception": false,
     "start_time": "2022-10-31T16:15:40.833185",
     "status": "completed"
    },
    "tags": []
   },
   "outputs": [
    {
     "data": {
      "text/html": [
       "<div>\n",
       "<style scoped>\n",
       "    .dataframe tbody tr th:only-of-type {\n",
       "        vertical-align: middle;\n",
       "    }\n",
       "\n",
       "    .dataframe tbody tr th {\n",
       "        vertical-align: top;\n",
       "    }\n",
       "\n",
       "    .dataframe thead th {\n",
       "        text-align: right;\n",
       "    }\n",
       "</style>\n",
       "<table border=\"1\" class=\"dataframe\">\n",
       "  <thead>\n",
       "    <tr style=\"text-align: right;\">\n",
       "      <th></th>\n",
       "      <th>ad_id</th>\n",
       "      <th>xyz_campaign_id</th>\n",
       "      <th>Impressions</th>\n",
       "      <th>Spent</th>\n",
       "      <th>Approved_Conversion</th>\n",
       "    </tr>\n",
       "  </thead>\n",
       "  <tbody>\n",
       "    <tr>\n",
       "      <th>0</th>\n",
       "      <td>708746</td>\n",
       "      <td>campaign_1</td>\n",
       "      <td>7350</td>\n",
       "      <td>1.43</td>\n",
       "      <td>1</td>\n",
       "    </tr>\n",
       "    <tr>\n",
       "      <th>1</th>\n",
       "      <td>708749</td>\n",
       "      <td>campaign_1</td>\n",
       "      <td>17861</td>\n",
       "      <td>1.82</td>\n",
       "      <td>0</td>\n",
       "    </tr>\n",
       "    <tr>\n",
       "      <th>2</th>\n",
       "      <td>708771</td>\n",
       "      <td>campaign_1</td>\n",
       "      <td>693</td>\n",
       "      <td>0.00</td>\n",
       "      <td>0</td>\n",
       "    </tr>\n",
       "    <tr>\n",
       "      <th>3</th>\n",
       "      <td>708815</td>\n",
       "      <td>campaign_1</td>\n",
       "      <td>4259</td>\n",
       "      <td>1.25</td>\n",
       "      <td>0</td>\n",
       "    </tr>\n",
       "    <tr>\n",
       "      <th>4</th>\n",
       "      <td>708818</td>\n",
       "      <td>campaign_1</td>\n",
       "      <td>4133</td>\n",
       "      <td>1.29</td>\n",
       "      <td>1</td>\n",
       "    </tr>\n",
       "  </tbody>\n",
       "</table>\n",
       "</div>"
      ],
      "text/plain": [
       "    ad_id xyz_campaign_id  Impressions  Spent  Approved_Conversion\n",
       "0  708746      campaign_1         7350   1.43                    1\n",
       "1  708749      campaign_1        17861   1.82                    0\n",
       "2  708771      campaign_1          693   0.00                    0\n",
       "3  708815      campaign_1         4259   1.25                    0\n",
       "4  708818      campaign_1         4133   1.29                    1"
      ]
     },
     "execution_count": 71,
     "metadata": {},
     "output_type": "execute_result"
    }
   ],
   "source": [
    "df_2.head()"
   ]
  },
  {
   "cell_type": "code",
   "execution_count": 72,
   "id": "23b34b3a",
   "metadata": {
    "execution": {
     "iopub.execute_input": "2022-10-31T16:15:40.988938Z",
     "iopub.status.busy": "2022-10-31T16:15:40.988508Z",
     "iopub.status.idle": "2022-10-31T16:15:40.994960Z",
     "shell.execute_reply": "2022-10-31T16:15:40.993834Z"
    },
    "papermill": {
     "duration": 0.056897,
     "end_time": "2022-10-31T16:15:40.997102",
     "exception": false,
     "start_time": "2022-10-31T16:15:40.940205",
     "status": "completed"
    },
    "tags": []
   },
   "outputs": [],
   "source": [
    "df_2.set_index(['ad_id'], inplace=True)"
   ]
  },
  {
   "cell_type": "code",
   "execution_count": 73,
   "id": "4c1538bc",
   "metadata": {
    "execution": {
     "iopub.execute_input": "2022-10-31T16:15:41.089430Z",
     "iopub.status.busy": "2022-10-31T16:15:41.088995Z",
     "iopub.status.idle": "2022-10-31T16:15:41.098104Z",
     "shell.execute_reply": "2022-10-31T16:15:41.096998Z"
    },
    "papermill": {
     "duration": 0.058272,
     "end_time": "2022-10-31T16:15:41.100212",
     "exception": false,
     "start_time": "2022-10-31T16:15:41.041940",
     "status": "completed"
    },
    "tags": []
   },
   "outputs": [
    {
     "data": {
      "text/plain": [
       "ad_id\n",
       "708746       1.430000\n",
       "708749            inf\n",
       "708771            NaN\n",
       "708815            inf\n",
       "708818       1.290000\n",
       "              ...    \n",
       "1314410    179.094999\n",
       "1314411           inf\n",
       "1314412           inf\n",
       "1314414     99.355000\n",
       "1314415     82.804999\n",
       "Name: cost_ratio, Length: 1143, dtype: float64"
      ]
     },
     "execution_count": 73,
     "metadata": {},
     "output_type": "execute_result"
    }
   ],
   "source": [
    "impact.rename('cost_ratio', inplace=True)"
   ]
  },
  {
   "cell_type": "code",
   "execution_count": 74,
   "id": "5f03f100",
   "metadata": {
    "execution": {
     "iopub.execute_input": "2022-10-31T16:15:41.192808Z",
     "iopub.status.busy": "2022-10-31T16:15:41.192053Z",
     "iopub.status.idle": "2022-10-31T16:15:41.198548Z",
     "shell.execute_reply": "2022-10-31T16:15:41.197814Z"
    },
    "papermill": {
     "duration": 0.055078,
     "end_time": "2022-10-31T16:15:41.200560",
     "exception": false,
     "start_time": "2022-10-31T16:15:41.145482",
     "status": "completed"
    },
    "tags": []
   },
   "outputs": [
    {
     "data": {
      "text/plain": [
       "Int64Index([ 708746,  708749,  708771,  708815,  708818,  708820,  708889,\n",
       "             708895,  708953,  708958,\n",
       "            ...\n",
       "            1314405, 1314406, 1314407, 1314408, 1314409, 1314410, 1314411,\n",
       "            1314412, 1314414, 1314415],\n",
       "           dtype='int64', name='ad_id', length=1143)"
      ]
     },
     "execution_count": 74,
     "metadata": {},
     "output_type": "execute_result"
    }
   ],
   "source": [
    "impact.index"
   ]
  },
  {
   "cell_type": "code",
   "execution_count": 75,
   "id": "5cbba0a1",
   "metadata": {
    "execution": {
     "iopub.execute_input": "2022-10-31T16:15:41.292711Z",
     "iopub.status.busy": "2022-10-31T16:15:41.292284Z",
     "iopub.status.idle": "2022-10-31T16:15:41.299594Z",
     "shell.execute_reply": "2022-10-31T16:15:41.298183Z"
    },
    "papermill": {
     "duration": 0.056158,
     "end_time": "2022-10-31T16:15:41.301695",
     "exception": false,
     "start_time": "2022-10-31T16:15:41.245537",
     "status": "completed"
    },
    "tags": []
   },
   "outputs": [],
   "source": [
    "#df_new= df_2.join(impact)\n",
    "df_new=df_2.merge( impact,left_index=True, right_index=True)"
   ]
  },
  {
   "cell_type": "code",
   "execution_count": 76,
   "id": "9c12e907",
   "metadata": {
    "execution": {
     "iopub.execute_input": "2022-10-31T16:15:41.393738Z",
     "iopub.status.busy": "2022-10-31T16:15:41.393341Z",
     "iopub.status.idle": "2022-10-31T16:15:41.399338Z",
     "shell.execute_reply": "2022-10-31T16:15:41.398577Z"
    },
    "papermill": {
     "duration": 0.054912,
     "end_time": "2022-10-31T16:15:41.401263",
     "exception": false,
     "start_time": "2022-10-31T16:15:41.346351",
     "status": "completed"
    },
    "tags": []
   },
   "outputs": [],
   "source": [
    "df_new.replace(np.inf,np.nan,inplace=True)"
   ]
  },
  {
   "cell_type": "code",
   "execution_count": 77,
   "id": "d7b774e8",
   "metadata": {
    "execution": {
     "iopub.execute_input": "2022-10-31T16:15:41.493312Z",
     "iopub.status.busy": "2022-10-31T16:15:41.492854Z",
     "iopub.status.idle": "2022-10-31T16:15:41.506060Z",
     "shell.execute_reply": "2022-10-31T16:15:41.504932Z"
    },
    "papermill": {
     "duration": 0.062304,
     "end_time": "2022-10-31T16:15:41.508417",
     "exception": false,
     "start_time": "2022-10-31T16:15:41.446113",
     "status": "completed"
    },
    "tags": []
   },
   "outputs": [
    {
     "data": {
      "text/html": [
       "<div>\n",
       "<style scoped>\n",
       "    .dataframe tbody tr th:only-of-type {\n",
       "        vertical-align: middle;\n",
       "    }\n",
       "\n",
       "    .dataframe tbody tr th {\n",
       "        vertical-align: top;\n",
       "    }\n",
       "\n",
       "    .dataframe thead th {\n",
       "        text-align: right;\n",
       "    }\n",
       "</style>\n",
       "<table border=\"1\" class=\"dataframe\">\n",
       "  <thead>\n",
       "    <tr style=\"text-align: right;\">\n",
       "      <th></th>\n",
       "      <th>xyz_campaign_id</th>\n",
       "      <th>Impressions</th>\n",
       "      <th>Spent</th>\n",
       "      <th>Approved_Conversion</th>\n",
       "      <th>cost_ratio</th>\n",
       "    </tr>\n",
       "    <tr>\n",
       "      <th>ad_id</th>\n",
       "      <th></th>\n",
       "      <th></th>\n",
       "      <th></th>\n",
       "      <th></th>\n",
       "      <th></th>\n",
       "    </tr>\n",
       "  </thead>\n",
       "  <tbody>\n",
       "    <tr>\n",
       "      <th>708746</th>\n",
       "      <td>campaign_1</td>\n",
       "      <td>7350</td>\n",
       "      <td>1.43</td>\n",
       "      <td>1</td>\n",
       "      <td>1.43</td>\n",
       "    </tr>\n",
       "    <tr>\n",
       "      <th>708749</th>\n",
       "      <td>campaign_1</td>\n",
       "      <td>17861</td>\n",
       "      <td>1.82</td>\n",
       "      <td>0</td>\n",
       "      <td>NaN</td>\n",
       "    </tr>\n",
       "    <tr>\n",
       "      <th>708771</th>\n",
       "      <td>campaign_1</td>\n",
       "      <td>693</td>\n",
       "      <td>0.00</td>\n",
       "      <td>0</td>\n",
       "      <td>NaN</td>\n",
       "    </tr>\n",
       "    <tr>\n",
       "      <th>708815</th>\n",
       "      <td>campaign_1</td>\n",
       "      <td>4259</td>\n",
       "      <td>1.25</td>\n",
       "      <td>0</td>\n",
       "      <td>NaN</td>\n",
       "    </tr>\n",
       "    <tr>\n",
       "      <th>708818</th>\n",
       "      <td>campaign_1</td>\n",
       "      <td>4133</td>\n",
       "      <td>1.29</td>\n",
       "      <td>1</td>\n",
       "      <td>1.29</td>\n",
       "    </tr>\n",
       "  </tbody>\n",
       "</table>\n",
       "</div>"
      ],
      "text/plain": [
       "       xyz_campaign_id  Impressions  Spent  Approved_Conversion  cost_ratio\n",
       "ad_id                                                                      \n",
       "708746      campaign_1         7350   1.43                    1        1.43\n",
       "708749      campaign_1        17861   1.82                    0         NaN\n",
       "708771      campaign_1          693   0.00                    0         NaN\n",
       "708815      campaign_1         4259   1.25                    0         NaN\n",
       "708818      campaign_1         4133   1.29                    1        1.29"
      ]
     },
     "execution_count": 77,
     "metadata": {},
     "output_type": "execute_result"
    }
   ],
   "source": [
    "df_new.head()"
   ]
  },
  {
   "cell_type": "code",
   "execution_count": 78,
   "id": "5bad515a",
   "metadata": {
    "execution": {
     "iopub.execute_input": "2022-10-31T16:15:41.600622Z",
     "iopub.status.busy": "2022-10-31T16:15:41.600173Z",
     "iopub.status.idle": "2022-10-31T16:15:41.607108Z",
     "shell.execute_reply": "2022-10-31T16:15:41.606302Z"
    },
    "papermill": {
     "duration": 0.056071,
     "end_time": "2022-10-31T16:15:41.609283",
     "exception": false,
     "start_time": "2022-10-31T16:15:41.553212",
     "status": "completed"
    },
    "tags": []
   },
   "outputs": [],
   "source": [
    "df_3=df_new.dropna(axis=0)"
   ]
  },
  {
   "cell_type": "code",
   "execution_count": 79,
   "id": "00b8faf0",
   "metadata": {
    "execution": {
     "iopub.execute_input": "2022-10-31T16:15:41.703434Z",
     "iopub.status.busy": "2022-10-31T16:15:41.702123Z",
     "iopub.status.idle": "2022-10-31T16:15:41.717430Z",
     "shell.execute_reply": "2022-10-31T16:15:41.715927Z"
    },
    "papermill": {
     "duration": 0.065254,
     "end_time": "2022-10-31T16:15:41.720216",
     "exception": false,
     "start_time": "2022-10-31T16:15:41.654962",
     "status": "completed"
    },
    "tags": []
   },
   "outputs": [
    {
     "name": "stdout",
     "output_type": "stream",
     "text": [
      "<class 'pandas.core.frame.DataFrame'>\n",
      "Int64Index: 584 entries, 708746 to 1314415\n",
      "Data columns (total 5 columns):\n",
      " #   Column               Non-Null Count  Dtype  \n",
      "---  ------               --------------  -----  \n",
      " 0   xyz_campaign_id      584 non-null    object \n",
      " 1   Impressions          584 non-null    int64  \n",
      " 2   Spent                584 non-null    float64\n",
      " 3   Approved_Conversion  584 non-null    int64  \n",
      " 4   cost_ratio           584 non-null    float64\n",
      "dtypes: float64(2), int64(2), object(1)\n",
      "memory usage: 27.4+ KB\n"
     ]
    }
   ],
   "source": [
    "df_3.info()"
   ]
  },
  {
   "cell_type": "code",
   "execution_count": 80,
   "id": "261165c9",
   "metadata": {
    "execution": {
     "iopub.execute_input": "2022-10-31T16:15:41.813281Z",
     "iopub.status.busy": "2022-10-31T16:15:41.812852Z",
     "iopub.status.idle": "2022-10-31T16:15:41.830125Z",
     "shell.execute_reply": "2022-10-31T16:15:41.829290Z"
    },
    "papermill": {
     "duration": 0.066692,
     "end_time": "2022-10-31T16:15:41.832448",
     "exception": false,
     "start_time": "2022-10-31T16:15:41.765756",
     "status": "completed"
    },
    "tags": []
   },
   "outputs": [
    {
     "data": {
      "text/html": [
       "<div>\n",
       "<style scoped>\n",
       "    .dataframe tbody tr th:only-of-type {\n",
       "        vertical-align: middle;\n",
       "    }\n",
       "\n",
       "    .dataframe tbody tr th {\n",
       "        vertical-align: top;\n",
       "    }\n",
       "\n",
       "    .dataframe thead th {\n",
       "        text-align: right;\n",
       "    }\n",
       "</style>\n",
       "<table border=\"1\" class=\"dataframe\">\n",
       "  <thead>\n",
       "    <tr style=\"text-align: right;\">\n",
       "      <th></th>\n",
       "      <th>xyz_campaign_id</th>\n",
       "      <th>Impressions</th>\n",
       "      <th>Spent</th>\n",
       "      <th>Approved_Conversion</th>\n",
       "      <th>cost_ratio</th>\n",
       "    </tr>\n",
       "    <tr>\n",
       "      <th>ad_id</th>\n",
       "      <th></th>\n",
       "      <th></th>\n",
       "      <th></th>\n",
       "      <th></th>\n",
       "      <th></th>\n",
       "    </tr>\n",
       "  </thead>\n",
       "  <tbody>\n",
       "    <tr>\n",
       "      <th>1121098</th>\n",
       "      <td>campaign_3</td>\n",
       "      <td>1267550</td>\n",
       "      <td>236.769999</td>\n",
       "      <td>10</td>\n",
       "      <td>23.677000</td>\n",
       "    </tr>\n",
       "    <tr>\n",
       "      <th>1314398</th>\n",
       "      <td>campaign_3</td>\n",
       "      <td>1137635</td>\n",
       "      <td>301.049999</td>\n",
       "      <td>10</td>\n",
       "      <td>30.105000</td>\n",
       "    </tr>\n",
       "    <tr>\n",
       "      <th>1121677</th>\n",
       "      <td>campaign_3</td>\n",
       "      <td>1391924</td>\n",
       "      <td>422.840004</td>\n",
       "      <td>10</td>\n",
       "      <td>42.284000</td>\n",
       "    </tr>\n",
       "    <tr>\n",
       "      <th>1121824</th>\n",
       "      <td>campaign_3</td>\n",
       "      <td>1705246</td>\n",
       "      <td>429.479998</td>\n",
       "      <td>10</td>\n",
       "      <td>42.948000</td>\n",
       "    </tr>\n",
       "    <tr>\n",
       "      <th>1121206</th>\n",
       "      <td>campaign_3</td>\n",
       "      <td>227925</td>\n",
       "      <td>35.310000</td>\n",
       "      <td>12</td>\n",
       "      <td>2.942500</td>\n",
       "    </tr>\n",
       "    <tr>\n",
       "      <th>1121814</th>\n",
       "      <td>campaign_3</td>\n",
       "      <td>2223278</td>\n",
       "      <td>612.300003</td>\n",
       "      <td>13</td>\n",
       "      <td>47.100000</td>\n",
       "    </tr>\n",
       "    <tr>\n",
       "      <th>1121108</th>\n",
       "      <td>campaign_3</td>\n",
       "      <td>984521</td>\n",
       "      <td>163.899997</td>\n",
       "      <td>14</td>\n",
       "      <td>11.707143</td>\n",
       "    </tr>\n",
       "    <tr>\n",
       "      <th>1121091</th>\n",
       "      <td>campaign_3</td>\n",
       "      <td>1194718</td>\n",
       "      <td>254.049996</td>\n",
       "      <td>14</td>\n",
       "      <td>18.146428</td>\n",
       "    </tr>\n",
       "    <tr>\n",
       "      <th>1121100</th>\n",
       "      <td>campaign_3</td>\n",
       "      <td>3052003</td>\n",
       "      <td>639.949998</td>\n",
       "      <td>17</td>\n",
       "      <td>37.644118</td>\n",
       "    </tr>\n",
       "    <tr>\n",
       "      <th>1121104</th>\n",
       "      <td>campaign_3</td>\n",
       "      <td>2080666</td>\n",
       "      <td>360.150001</td>\n",
       "      <td>21</td>\n",
       "      <td>17.150000</td>\n",
       "    </tr>\n",
       "  </tbody>\n",
       "</table>\n",
       "</div>"
      ],
      "text/plain": [
       "        xyz_campaign_id  Impressions       Spent  Approved_Conversion  \\\n",
       "ad_id                                                                   \n",
       "1121098      campaign_3      1267550  236.769999                   10   \n",
       "1314398      campaign_3      1137635  301.049999                   10   \n",
       "1121677      campaign_3      1391924  422.840004                   10   \n",
       "1121824      campaign_3      1705246  429.479998                   10   \n",
       "1121206      campaign_3       227925   35.310000                   12   \n",
       "1121814      campaign_3      2223278  612.300003                   13   \n",
       "1121108      campaign_3       984521  163.899997                   14   \n",
       "1121091      campaign_3      1194718  254.049996                   14   \n",
       "1121100      campaign_3      3052003  639.949998                   17   \n",
       "1121104      campaign_3      2080666  360.150001                   21   \n",
       "\n",
       "         cost_ratio  \n",
       "ad_id                \n",
       "1121098   23.677000  \n",
       "1314398   30.105000  \n",
       "1121677   42.284000  \n",
       "1121824   42.948000  \n",
       "1121206    2.942500  \n",
       "1121814   47.100000  \n",
       "1121108   11.707143  \n",
       "1121091   18.146428  \n",
       "1121100   37.644118  \n",
       "1121104   17.150000  "
      ]
     },
     "execution_count": 80,
     "metadata": {},
     "output_type": "execute_result"
    }
   ],
   "source": [
    "df_3.sort_values(['Approved_Conversion','cost_ratio']).tail(10)"
   ]
  },
  {
   "cell_type": "markdown",
   "id": "4ea7841b",
   "metadata": {
    "papermill": {
     "duration": 0.045799,
     "end_time": "2022-10-31T16:15:41.923913",
     "exception": false,
     "start_time": "2022-10-31T16:15:41.878114",
     "status": "completed"
    },
    "tags": []
   },
   "source": [
    "* Exploring the dimensions:\n",
    "Age: More people in the yougest age bracket 30-34\n",
    "Gender: More Males in the population\n",
    "\n",
    "INSIGHTS:\n",
    "\n",
    "* Correlation:\n",
    "1. Higher Ad impressions drive higher conversions ( Total and Approved) \n",
    "2. Higher impressions drive up the cost/spend amount. So those ads should be identified where the cost to acquisition ratio is high.\n",
    "3. Number of clicks do not impact the conversions much.\n",
    "4. Distribution of gender across campaigns not same.\n",
    "\n",
    "* Though Males convert more that Females on overall level, campaign 2 has more Females converting\n",
    "* Maximum users in 30-34 followed by 45-49 age group.\n",
    "* Though age wise user ditribution is same across campaigns, campaign 1 has users that convert best in the 40-44 age bracket. probably the ads included in this campaign appeal to that age group more. In the other two campaigns the trend is same and opposite to that of campaign_1.\n",
    "* Though there are more add campaigns with interest code ranging between 2-66 , there are still many conversions for ads with interest code beyond 66 code. When we compare the xyz campaign_3 with other two campaigns, we can see that campaign_3 has many adds with interests beyond code 66 and perhaps that is what is driving the higher conversions as well.\n",
    "* Percentage ad impression for each interest: For interest code 16 it is dispproportinately high. Interest code 29 has 8 % impressions but \n",
    "* delivers 12 % conversions. The impressions should be increased for other ads with interest code that are giving high conversions. \n",
    "* Redistribute the impressions based on the conversions.\n",
    "* High rate of conversion for Men in lowest age bracket.The conversions are most in 30-34 bracket and then in 45-49 age bracket. Females conversions high for ads with code greater than 66.\n",
    "* Females have higher spending\n",
    "* Males have higher conversions even with lower spending in age group 30-34 specially.\n",
    "* Higher age bracket has higher spending.\n",
    "\n",
    "RECOMMENDATIONS:\n",
    "* **Between campaign_1 and campaign_2 the cost of conversion is lesser for campaign_1 while its conversion rate is higher. It is performing better than campaign_2. \n",
    "campaign_3 performs best in terms of conversions but cost highest also.****\n",
    "* Females should be targetted with ads in the range above 100. They have better conversion rate for those ads\n",
    "\n",
    "* Young men convert more so they should be targetted more\n",
    "* Ads with high cost to acquisition ratio should be dropped or their impressions should be reduced and replaced with ads with higher conversion rate and lower cost ratio\n",
    "* Campaign 1 should be given more ads as it has lower cost to acquisition ratio.\n",
    "\n",
    "\n",
    "\n",
    "\n",
    "\n"
   ]
  },
  {
   "cell_type": "markdown",
   "id": "91e3f754",
   "metadata": {
    "papermill": {
     "duration": 0.046447,
     "end_time": "2022-10-31T16:15:42.017089",
     "exception": false,
     "start_time": "2022-10-31T16:15:41.970642",
     "status": "completed"
    },
    "tags": []
   },
   "source": [
    "Modelling -future prediction "
   ]
  },
  {
   "cell_type": "code",
   "execution_count": 81,
   "id": "ef0e8177",
   "metadata": {
    "execution": {
     "iopub.execute_input": "2022-10-31T16:15:42.115776Z",
     "iopub.status.busy": "2022-10-31T16:15:42.114764Z",
     "iopub.status.idle": "2022-10-31T16:15:42.121797Z",
     "shell.execute_reply": "2022-10-31T16:15:42.120893Z"
    },
    "papermill": {
     "duration": 0.060218,
     "end_time": "2022-10-31T16:15:42.123934",
     "exception": false,
     "start_time": "2022-10-31T16:15:42.063716",
     "status": "completed"
    },
    "tags": []
   },
   "outputs": [],
   "source": [
    "# renaming the campaigns for analysis purpose\n",
    "df['xyz_campaign_id'].replace({'campaign_1':916,'campaign_2':936,'campaign_3':1178}, inplace=True)\n"
   ]
  },
  {
   "cell_type": "code",
   "execution_count": 82,
   "id": "0bff1a55",
   "metadata": {
    "execution": {
     "iopub.execute_input": "2022-10-31T16:15:42.221717Z",
     "iopub.status.busy": "2022-10-31T16:15:42.221315Z",
     "iopub.status.idle": "2022-10-31T16:15:42.235520Z",
     "shell.execute_reply": "2022-10-31T16:15:42.234544Z"
    },
    "papermill": {
     "duration": 0.067516,
     "end_time": "2022-10-31T16:15:42.237674",
     "exception": false,
     "start_time": "2022-10-31T16:15:42.170158",
     "status": "completed"
    },
    "tags": []
   },
   "outputs": [
    {
     "data": {
      "text/html": [
       "<div>\n",
       "<style scoped>\n",
       "    .dataframe tbody tr th:only-of-type {\n",
       "        vertical-align: middle;\n",
       "    }\n",
       "\n",
       "    .dataframe tbody tr th {\n",
       "        vertical-align: top;\n",
       "    }\n",
       "\n",
       "    .dataframe thead th {\n",
       "        text-align: right;\n",
       "    }\n",
       "</style>\n",
       "<table border=\"1\" class=\"dataframe\">\n",
       "  <thead>\n",
       "    <tr style=\"text-align: right;\">\n",
       "      <th></th>\n",
       "      <th>ad_id</th>\n",
       "      <th>xyz_campaign_id</th>\n",
       "      <th>fb_campaign_id</th>\n",
       "      <th>age</th>\n",
       "      <th>gender</th>\n",
       "      <th>interest</th>\n",
       "      <th>Impressions</th>\n",
       "      <th>Clicks</th>\n",
       "      <th>Spent</th>\n",
       "      <th>Total_Conversion</th>\n",
       "      <th>Approved_Conversion</th>\n",
       "    </tr>\n",
       "  </thead>\n",
       "  <tbody>\n",
       "    <tr>\n",
       "      <th>0</th>\n",
       "      <td>708746</td>\n",
       "      <td>916</td>\n",
       "      <td>103916</td>\n",
       "      <td>30-34</td>\n",
       "      <td>M</td>\n",
       "      <td>15</td>\n",
       "      <td>7350</td>\n",
       "      <td>1</td>\n",
       "      <td>1.43</td>\n",
       "      <td>2</td>\n",
       "      <td>1</td>\n",
       "    </tr>\n",
       "    <tr>\n",
       "      <th>1</th>\n",
       "      <td>708749</td>\n",
       "      <td>916</td>\n",
       "      <td>103917</td>\n",
       "      <td>30-34</td>\n",
       "      <td>M</td>\n",
       "      <td>16</td>\n",
       "      <td>17861</td>\n",
       "      <td>2</td>\n",
       "      <td>1.82</td>\n",
       "      <td>2</td>\n",
       "      <td>0</td>\n",
       "    </tr>\n",
       "    <tr>\n",
       "      <th>2</th>\n",
       "      <td>708771</td>\n",
       "      <td>916</td>\n",
       "      <td>103920</td>\n",
       "      <td>30-34</td>\n",
       "      <td>M</td>\n",
       "      <td>20</td>\n",
       "      <td>693</td>\n",
       "      <td>0</td>\n",
       "      <td>0.00</td>\n",
       "      <td>1</td>\n",
       "      <td>0</td>\n",
       "    </tr>\n",
       "    <tr>\n",
       "      <th>3</th>\n",
       "      <td>708815</td>\n",
       "      <td>916</td>\n",
       "      <td>103928</td>\n",
       "      <td>30-34</td>\n",
       "      <td>M</td>\n",
       "      <td>28</td>\n",
       "      <td>4259</td>\n",
       "      <td>1</td>\n",
       "      <td>1.25</td>\n",
       "      <td>1</td>\n",
       "      <td>0</td>\n",
       "    </tr>\n",
       "    <tr>\n",
       "      <th>4</th>\n",
       "      <td>708818</td>\n",
       "      <td>916</td>\n",
       "      <td>103928</td>\n",
       "      <td>30-34</td>\n",
       "      <td>M</td>\n",
       "      <td>28</td>\n",
       "      <td>4133</td>\n",
       "      <td>1</td>\n",
       "      <td>1.29</td>\n",
       "      <td>1</td>\n",
       "      <td>1</td>\n",
       "    </tr>\n",
       "  </tbody>\n",
       "</table>\n",
       "</div>"
      ],
      "text/plain": [
       "    ad_id  xyz_campaign_id  fb_campaign_id    age gender  interest  \\\n",
       "0  708746              916          103916  30-34      M        15   \n",
       "1  708749              916          103917  30-34      M        16   \n",
       "2  708771              916          103920  30-34      M        20   \n",
       "3  708815              916          103928  30-34      M        28   \n",
       "4  708818              916          103928  30-34      M        28   \n",
       "\n",
       "   Impressions  Clicks  Spent  Total_Conversion  Approved_Conversion  \n",
       "0         7350       1   1.43                 2                    1  \n",
       "1        17861       2   1.82                 2                    0  \n",
       "2          693       0   0.00                 1                    0  \n",
       "3         4259       1   1.25                 1                    0  \n",
       "4         4133       1   1.29                 1                    1  "
      ]
     },
     "execution_count": 82,
     "metadata": {},
     "output_type": "execute_result"
    }
   ],
   "source": [
    "df.head()"
   ]
  },
  {
   "cell_type": "code",
   "execution_count": 83,
   "id": "55acf160",
   "metadata": {
    "execution": {
     "iopub.execute_input": "2022-10-31T16:15:42.335250Z",
     "iopub.status.busy": "2022-10-31T16:15:42.334533Z",
     "iopub.status.idle": "2022-10-31T16:15:42.491194Z",
     "shell.execute_reply": "2022-10-31T16:15:42.489986Z"
    },
    "papermill": {
     "duration": 0.206702,
     "end_time": "2022-10-31T16:15:42.493818",
     "exception": false,
     "start_time": "2022-10-31T16:15:42.287116",
     "status": "completed"
    },
    "tags": []
   },
   "outputs": [
    {
     "data": {
      "text/html": [
       "<div>\n",
       "<style scoped>\n",
       "    .dataframe tbody tr th:only-of-type {\n",
       "        vertical-align: middle;\n",
       "    }\n",
       "\n",
       "    .dataframe tbody tr th {\n",
       "        vertical-align: top;\n",
       "    }\n",
       "\n",
       "    .dataframe thead th {\n",
       "        text-align: right;\n",
       "    }\n",
       "</style>\n",
       "<table border=\"1\" class=\"dataframe\">\n",
       "  <thead>\n",
       "    <tr style=\"text-align: right;\">\n",
       "      <th></th>\n",
       "      <th>gender_1</th>\n",
       "    </tr>\n",
       "  </thead>\n",
       "  <tbody>\n",
       "    <tr>\n",
       "      <th>0</th>\n",
       "      <td>1.0</td>\n",
       "    </tr>\n",
       "    <tr>\n",
       "      <th>1</th>\n",
       "      <td>1.0</td>\n",
       "    </tr>\n",
       "    <tr>\n",
       "      <th>2</th>\n",
       "      <td>1.0</td>\n",
       "    </tr>\n",
       "    <tr>\n",
       "      <th>3</th>\n",
       "      <td>1.0</td>\n",
       "    </tr>\n",
       "    <tr>\n",
       "      <th>4</th>\n",
       "      <td>1.0</td>\n",
       "    </tr>\n",
       "  </tbody>\n",
       "</table>\n",
       "</div>"
      ],
      "text/plain": [
       "   gender_1\n",
       "0       1.0\n",
       "1       1.0\n",
       "2       1.0\n",
       "3       1.0\n",
       "4       1.0"
      ]
     },
     "execution_count": 83,
     "metadata": {},
     "output_type": "execute_result"
    }
   ],
   "source": [
    "from sklearn.preprocessing import OneHotEncoder\n",
    "onehotencoder = OneHotEncoder(sparse=False, handle_unknown=\"error\", drop='first')\n",
    "\n",
    "onehotencoder_df = pd.DataFrame(onehotencoder.fit_transform(df[['gender']]), columns=['gender_1'])\n",
    "\n",
    "onehotencoder_df.head()\n",
    "\n"
   ]
  },
  {
   "cell_type": "code",
   "execution_count": 84,
   "id": "5787dec9",
   "metadata": {
    "execution": {
     "iopub.execute_input": "2022-10-31T16:15:42.589611Z",
     "iopub.status.busy": "2022-10-31T16:15:42.589080Z",
     "iopub.status.idle": "2022-10-31T16:15:42.606583Z",
     "shell.execute_reply": "2022-10-31T16:15:42.605413Z"
    },
    "papermill": {
     "duration": 0.067655,
     "end_time": "2022-10-31T16:15:42.608719",
     "exception": false,
     "start_time": "2022-10-31T16:15:42.541064",
     "status": "completed"
    },
    "tags": []
   },
   "outputs": [
    {
     "data": {
      "text/html": [
       "<div>\n",
       "<style scoped>\n",
       "    .dataframe tbody tr th:only-of-type {\n",
       "        vertical-align: middle;\n",
       "    }\n",
       "\n",
       "    .dataframe tbody tr th {\n",
       "        vertical-align: top;\n",
       "    }\n",
       "\n",
       "    .dataframe thead th {\n",
       "        text-align: right;\n",
       "    }\n",
       "</style>\n",
       "<table border=\"1\" class=\"dataframe\">\n",
       "  <thead>\n",
       "    <tr style=\"text-align: right;\">\n",
       "      <th></th>\n",
       "      <th>ad_id</th>\n",
       "      <th>xyz_campaign_id</th>\n",
       "      <th>fb_campaign_id</th>\n",
       "      <th>age</th>\n",
       "      <th>gender</th>\n",
       "      <th>interest</th>\n",
       "      <th>Impressions</th>\n",
       "      <th>Clicks</th>\n",
       "      <th>Spent</th>\n",
       "      <th>Total_Conversion</th>\n",
       "      <th>Approved_Conversion</th>\n",
       "      <th>gender_1</th>\n",
       "    </tr>\n",
       "  </thead>\n",
       "  <tbody>\n",
       "    <tr>\n",
       "      <th>0</th>\n",
       "      <td>708746</td>\n",
       "      <td>916</td>\n",
       "      <td>103916</td>\n",
       "      <td>30-34</td>\n",
       "      <td>M</td>\n",
       "      <td>15</td>\n",
       "      <td>7350</td>\n",
       "      <td>1</td>\n",
       "      <td>1.43</td>\n",
       "      <td>2</td>\n",
       "      <td>1</td>\n",
       "      <td>1.0</td>\n",
       "    </tr>\n",
       "    <tr>\n",
       "      <th>1</th>\n",
       "      <td>708749</td>\n",
       "      <td>916</td>\n",
       "      <td>103917</td>\n",
       "      <td>30-34</td>\n",
       "      <td>M</td>\n",
       "      <td>16</td>\n",
       "      <td>17861</td>\n",
       "      <td>2</td>\n",
       "      <td>1.82</td>\n",
       "      <td>2</td>\n",
       "      <td>0</td>\n",
       "      <td>1.0</td>\n",
       "    </tr>\n",
       "    <tr>\n",
       "      <th>2</th>\n",
       "      <td>708771</td>\n",
       "      <td>916</td>\n",
       "      <td>103920</td>\n",
       "      <td>30-34</td>\n",
       "      <td>M</td>\n",
       "      <td>20</td>\n",
       "      <td>693</td>\n",
       "      <td>0</td>\n",
       "      <td>0.00</td>\n",
       "      <td>1</td>\n",
       "      <td>0</td>\n",
       "      <td>1.0</td>\n",
       "    </tr>\n",
       "    <tr>\n",
       "      <th>3</th>\n",
       "      <td>708815</td>\n",
       "      <td>916</td>\n",
       "      <td>103928</td>\n",
       "      <td>30-34</td>\n",
       "      <td>M</td>\n",
       "      <td>28</td>\n",
       "      <td>4259</td>\n",
       "      <td>1</td>\n",
       "      <td>1.25</td>\n",
       "      <td>1</td>\n",
       "      <td>0</td>\n",
       "      <td>1.0</td>\n",
       "    </tr>\n",
       "    <tr>\n",
       "      <th>4</th>\n",
       "      <td>708818</td>\n",
       "      <td>916</td>\n",
       "      <td>103928</td>\n",
       "      <td>30-34</td>\n",
       "      <td>M</td>\n",
       "      <td>28</td>\n",
       "      <td>4133</td>\n",
       "      <td>1</td>\n",
       "      <td>1.29</td>\n",
       "      <td>1</td>\n",
       "      <td>1</td>\n",
       "      <td>1.0</td>\n",
       "    </tr>\n",
       "  </tbody>\n",
       "</table>\n",
       "</div>"
      ],
      "text/plain": [
       "    ad_id  xyz_campaign_id  fb_campaign_id    age gender  interest  \\\n",
       "0  708746              916          103916  30-34      M        15   \n",
       "1  708749              916          103917  30-34      M        16   \n",
       "2  708771              916          103920  30-34      M        20   \n",
       "3  708815              916          103928  30-34      M        28   \n",
       "4  708818              916          103928  30-34      M        28   \n",
       "\n",
       "   Impressions  Clicks  Spent  Total_Conversion  Approved_Conversion  gender_1  \n",
       "0         7350       1   1.43                 2                    1       1.0  \n",
       "1        17861       2   1.82                 2                    0       1.0  \n",
       "2          693       0   0.00                 1                    0       1.0  \n",
       "3         4259       1   1.25                 1                    0       1.0  \n",
       "4         4133       1   1.29                 1                    1       1.0  "
      ]
     },
     "execution_count": 84,
     "metadata": {},
     "output_type": "execute_result"
    }
   ],
   "source": [
    "df=df.join(onehotencoder_df)\n",
    "df.head()"
   ]
  },
  {
   "cell_type": "code",
   "execution_count": 85,
   "id": "c73f0261",
   "metadata": {
    "execution": {
     "iopub.execute_input": "2022-10-31T16:15:42.703746Z",
     "iopub.status.busy": "2022-10-31T16:15:42.703335Z",
     "iopub.status.idle": "2022-10-31T16:15:42.719057Z",
     "shell.execute_reply": "2022-10-31T16:15:42.717750Z"
    },
    "papermill": {
     "duration": 0.065941,
     "end_time": "2022-10-31T16:15:42.721487",
     "exception": false,
     "start_time": "2022-10-31T16:15:42.655546",
     "status": "completed"
    },
    "tags": []
   },
   "outputs": [
    {
     "data": {
      "text/html": [
       "<div>\n",
       "<style scoped>\n",
       "    .dataframe tbody tr th:only-of-type {\n",
       "        vertical-align: middle;\n",
       "    }\n",
       "\n",
       "    .dataframe tbody tr th {\n",
       "        vertical-align: top;\n",
       "    }\n",
       "\n",
       "    .dataframe thead th {\n",
       "        text-align: right;\n",
       "    }\n",
       "</style>\n",
       "<table border=\"1\" class=\"dataframe\">\n",
       "  <thead>\n",
       "    <tr style=\"text-align: right;\">\n",
       "      <th></th>\n",
       "      <th>age_1</th>\n",
       "      <th>age_2</th>\n",
       "      <th>age_3</th>\n",
       "    </tr>\n",
       "  </thead>\n",
       "  <tbody>\n",
       "    <tr>\n",
       "      <th>0</th>\n",
       "      <td>0.0</td>\n",
       "      <td>0.0</td>\n",
       "      <td>0.0</td>\n",
       "    </tr>\n",
       "    <tr>\n",
       "      <th>1</th>\n",
       "      <td>0.0</td>\n",
       "      <td>0.0</td>\n",
       "      <td>0.0</td>\n",
       "    </tr>\n",
       "    <tr>\n",
       "      <th>2</th>\n",
       "      <td>0.0</td>\n",
       "      <td>0.0</td>\n",
       "      <td>0.0</td>\n",
       "    </tr>\n",
       "    <tr>\n",
       "      <th>3</th>\n",
       "      <td>0.0</td>\n",
       "      <td>0.0</td>\n",
       "      <td>0.0</td>\n",
       "    </tr>\n",
       "    <tr>\n",
       "      <th>4</th>\n",
       "      <td>0.0</td>\n",
       "      <td>0.0</td>\n",
       "      <td>0.0</td>\n",
       "    </tr>\n",
       "  </tbody>\n",
       "</table>\n",
       "</div>"
      ],
      "text/plain": [
       "   age_1  age_2  age_3\n",
       "0    0.0    0.0    0.0\n",
       "1    0.0    0.0    0.0\n",
       "2    0.0    0.0    0.0\n",
       "3    0.0    0.0    0.0\n",
       "4    0.0    0.0    0.0"
      ]
     },
     "execution_count": 85,
     "metadata": {},
     "output_type": "execute_result"
    }
   ],
   "source": [
    "onehotencoder_df = pd.DataFrame(onehotencoder.fit_transform(df[['age']]), columns=['age_1','age_2','age_3'])\n",
    "\n",
    "onehotencoder_df.head()\n"
   ]
  },
  {
   "cell_type": "code",
   "execution_count": 86,
   "id": "24cce92e",
   "metadata": {
    "execution": {
     "iopub.execute_input": "2022-10-31T16:15:42.818009Z",
     "iopub.status.busy": "2022-10-31T16:15:42.817368Z",
     "iopub.status.idle": "2022-10-31T16:15:42.836833Z",
     "shell.execute_reply": "2022-10-31T16:15:42.835693Z"
    },
    "papermill": {
     "duration": 0.069985,
     "end_time": "2022-10-31T16:15:42.839004",
     "exception": false,
     "start_time": "2022-10-31T16:15:42.769019",
     "status": "completed"
    },
    "tags": []
   },
   "outputs": [
    {
     "data": {
      "text/html": [
       "<div>\n",
       "<style scoped>\n",
       "    .dataframe tbody tr th:only-of-type {\n",
       "        vertical-align: middle;\n",
       "    }\n",
       "\n",
       "    .dataframe tbody tr th {\n",
       "        vertical-align: top;\n",
       "    }\n",
       "\n",
       "    .dataframe thead th {\n",
       "        text-align: right;\n",
       "    }\n",
       "</style>\n",
       "<table border=\"1\" class=\"dataframe\">\n",
       "  <thead>\n",
       "    <tr style=\"text-align: right;\">\n",
       "      <th></th>\n",
       "      <th>ad_id</th>\n",
       "      <th>xyz_campaign_id</th>\n",
       "      <th>fb_campaign_id</th>\n",
       "      <th>age</th>\n",
       "      <th>gender</th>\n",
       "      <th>interest</th>\n",
       "      <th>Impressions</th>\n",
       "      <th>Clicks</th>\n",
       "      <th>Spent</th>\n",
       "      <th>Total_Conversion</th>\n",
       "      <th>Approved_Conversion</th>\n",
       "      <th>gender_1</th>\n",
       "      <th>age_1</th>\n",
       "      <th>age_2</th>\n",
       "      <th>age_3</th>\n",
       "    </tr>\n",
       "  </thead>\n",
       "  <tbody>\n",
       "    <tr>\n",
       "      <th>0</th>\n",
       "      <td>708746</td>\n",
       "      <td>916</td>\n",
       "      <td>103916</td>\n",
       "      <td>30-34</td>\n",
       "      <td>M</td>\n",
       "      <td>15</td>\n",
       "      <td>7350</td>\n",
       "      <td>1</td>\n",
       "      <td>1.43</td>\n",
       "      <td>2</td>\n",
       "      <td>1</td>\n",
       "      <td>1.0</td>\n",
       "      <td>0.0</td>\n",
       "      <td>0.0</td>\n",
       "      <td>0.0</td>\n",
       "    </tr>\n",
       "    <tr>\n",
       "      <th>1</th>\n",
       "      <td>708749</td>\n",
       "      <td>916</td>\n",
       "      <td>103917</td>\n",
       "      <td>30-34</td>\n",
       "      <td>M</td>\n",
       "      <td>16</td>\n",
       "      <td>17861</td>\n",
       "      <td>2</td>\n",
       "      <td>1.82</td>\n",
       "      <td>2</td>\n",
       "      <td>0</td>\n",
       "      <td>1.0</td>\n",
       "      <td>0.0</td>\n",
       "      <td>0.0</td>\n",
       "      <td>0.0</td>\n",
       "    </tr>\n",
       "    <tr>\n",
       "      <th>2</th>\n",
       "      <td>708771</td>\n",
       "      <td>916</td>\n",
       "      <td>103920</td>\n",
       "      <td>30-34</td>\n",
       "      <td>M</td>\n",
       "      <td>20</td>\n",
       "      <td>693</td>\n",
       "      <td>0</td>\n",
       "      <td>0.00</td>\n",
       "      <td>1</td>\n",
       "      <td>0</td>\n",
       "      <td>1.0</td>\n",
       "      <td>0.0</td>\n",
       "      <td>0.0</td>\n",
       "      <td>0.0</td>\n",
       "    </tr>\n",
       "    <tr>\n",
       "      <th>3</th>\n",
       "      <td>708815</td>\n",
       "      <td>916</td>\n",
       "      <td>103928</td>\n",
       "      <td>30-34</td>\n",
       "      <td>M</td>\n",
       "      <td>28</td>\n",
       "      <td>4259</td>\n",
       "      <td>1</td>\n",
       "      <td>1.25</td>\n",
       "      <td>1</td>\n",
       "      <td>0</td>\n",
       "      <td>1.0</td>\n",
       "      <td>0.0</td>\n",
       "      <td>0.0</td>\n",
       "      <td>0.0</td>\n",
       "    </tr>\n",
       "    <tr>\n",
       "      <th>4</th>\n",
       "      <td>708818</td>\n",
       "      <td>916</td>\n",
       "      <td>103928</td>\n",
       "      <td>30-34</td>\n",
       "      <td>M</td>\n",
       "      <td>28</td>\n",
       "      <td>4133</td>\n",
       "      <td>1</td>\n",
       "      <td>1.29</td>\n",
       "      <td>1</td>\n",
       "      <td>1</td>\n",
       "      <td>1.0</td>\n",
       "      <td>0.0</td>\n",
       "      <td>0.0</td>\n",
       "      <td>0.0</td>\n",
       "    </tr>\n",
       "  </tbody>\n",
       "</table>\n",
       "</div>"
      ],
      "text/plain": [
       "    ad_id  xyz_campaign_id  fb_campaign_id    age gender  interest  \\\n",
       "0  708746              916          103916  30-34      M        15   \n",
       "1  708749              916          103917  30-34      M        16   \n",
       "2  708771              916          103920  30-34      M        20   \n",
       "3  708815              916          103928  30-34      M        28   \n",
       "4  708818              916          103928  30-34      M        28   \n",
       "\n",
       "   Impressions  Clicks  Spent  Total_Conversion  Approved_Conversion  \\\n",
       "0         7350       1   1.43                 2                    1   \n",
       "1        17861       2   1.82                 2                    0   \n",
       "2          693       0   0.00                 1                    0   \n",
       "3         4259       1   1.25                 1                    0   \n",
       "4         4133       1   1.29                 1                    1   \n",
       "\n",
       "   gender_1  age_1  age_2  age_3  \n",
       "0       1.0    0.0    0.0    0.0  \n",
       "1       1.0    0.0    0.0    0.0  \n",
       "2       1.0    0.0    0.0    0.0  \n",
       "3       1.0    0.0    0.0    0.0  \n",
       "4       1.0    0.0    0.0    0.0  "
      ]
     },
     "execution_count": 86,
     "metadata": {},
     "output_type": "execute_result"
    }
   ],
   "source": [
    "df=df.join(onehotencoder_df)\n",
    "df.head()"
   ]
  },
  {
   "cell_type": "code",
   "execution_count": 87,
   "id": "56d1940f",
   "metadata": {
    "execution": {
     "iopub.execute_input": "2022-10-31T16:15:42.935861Z",
     "iopub.status.busy": "2022-10-31T16:15:42.935204Z",
     "iopub.status.idle": "2022-10-31T16:15:42.954216Z",
     "shell.execute_reply": "2022-10-31T16:15:42.952971Z"
    },
    "papermill": {
     "duration": 0.070326,
     "end_time": "2022-10-31T16:15:42.956453",
     "exception": false,
     "start_time": "2022-10-31T16:15:42.886127",
     "status": "completed"
    },
    "tags": []
   },
   "outputs": [
    {
     "data": {
      "text/html": [
       "<div>\n",
       "<style scoped>\n",
       "    .dataframe tbody tr th:only-of-type {\n",
       "        vertical-align: middle;\n",
       "    }\n",
       "\n",
       "    .dataframe tbody tr th {\n",
       "        vertical-align: top;\n",
       "    }\n",
       "\n",
       "    .dataframe thead th {\n",
       "        text-align: right;\n",
       "    }\n",
       "</style>\n",
       "<table border=\"1\" class=\"dataframe\">\n",
       "  <thead>\n",
       "    <tr style=\"text-align: right;\">\n",
       "      <th></th>\n",
       "      <th>ad_id</th>\n",
       "      <th>xyz_campaign_id</th>\n",
       "      <th>fb_campaign_id</th>\n",
       "      <th>age</th>\n",
       "      <th>gender</th>\n",
       "      <th>interest</th>\n",
       "      <th>Impressions</th>\n",
       "      <th>Clicks</th>\n",
       "      <th>Spent</th>\n",
       "      <th>Total_Conversion</th>\n",
       "      <th>Approved_Conversion</th>\n",
       "      <th>gender_1</th>\n",
       "      <th>age_1</th>\n",
       "      <th>age_2</th>\n",
       "      <th>age_3</th>\n",
       "    </tr>\n",
       "  </thead>\n",
       "  <tbody>\n",
       "    <tr>\n",
       "      <th>0</th>\n",
       "      <td>708746</td>\n",
       "      <td>916</td>\n",
       "      <td>103916</td>\n",
       "      <td>30-34</td>\n",
       "      <td>M</td>\n",
       "      <td>15</td>\n",
       "      <td>7350</td>\n",
       "      <td>1</td>\n",
       "      <td>1.43</td>\n",
       "      <td>2</td>\n",
       "      <td>1</td>\n",
       "      <td>1.0</td>\n",
       "      <td>0.0</td>\n",
       "      <td>0.0</td>\n",
       "      <td>0.0</td>\n",
       "    </tr>\n",
       "    <tr>\n",
       "      <th>1</th>\n",
       "      <td>708749</td>\n",
       "      <td>916</td>\n",
       "      <td>103917</td>\n",
       "      <td>30-34</td>\n",
       "      <td>M</td>\n",
       "      <td>16</td>\n",
       "      <td>17861</td>\n",
       "      <td>2</td>\n",
       "      <td>1.82</td>\n",
       "      <td>2</td>\n",
       "      <td>0</td>\n",
       "      <td>1.0</td>\n",
       "      <td>0.0</td>\n",
       "      <td>0.0</td>\n",
       "      <td>0.0</td>\n",
       "    </tr>\n",
       "    <tr>\n",
       "      <th>2</th>\n",
       "      <td>708771</td>\n",
       "      <td>916</td>\n",
       "      <td>103920</td>\n",
       "      <td>30-34</td>\n",
       "      <td>M</td>\n",
       "      <td>20</td>\n",
       "      <td>693</td>\n",
       "      <td>0</td>\n",
       "      <td>0.00</td>\n",
       "      <td>1</td>\n",
       "      <td>0</td>\n",
       "      <td>1.0</td>\n",
       "      <td>0.0</td>\n",
       "      <td>0.0</td>\n",
       "      <td>0.0</td>\n",
       "    </tr>\n",
       "    <tr>\n",
       "      <th>3</th>\n",
       "      <td>708815</td>\n",
       "      <td>916</td>\n",
       "      <td>103928</td>\n",
       "      <td>30-34</td>\n",
       "      <td>M</td>\n",
       "      <td>28</td>\n",
       "      <td>4259</td>\n",
       "      <td>1</td>\n",
       "      <td>1.25</td>\n",
       "      <td>1</td>\n",
       "      <td>0</td>\n",
       "      <td>1.0</td>\n",
       "      <td>0.0</td>\n",
       "      <td>0.0</td>\n",
       "      <td>0.0</td>\n",
       "    </tr>\n",
       "    <tr>\n",
       "      <th>4</th>\n",
       "      <td>708818</td>\n",
       "      <td>916</td>\n",
       "      <td>103928</td>\n",
       "      <td>30-34</td>\n",
       "      <td>M</td>\n",
       "      <td>28</td>\n",
       "      <td>4133</td>\n",
       "      <td>1</td>\n",
       "      <td>1.29</td>\n",
       "      <td>1</td>\n",
       "      <td>1</td>\n",
       "      <td>1.0</td>\n",
       "      <td>0.0</td>\n",
       "      <td>0.0</td>\n",
       "      <td>0.0</td>\n",
       "    </tr>\n",
       "  </tbody>\n",
       "</table>\n",
       "</div>"
      ],
      "text/plain": [
       "    ad_id  xyz_campaign_id  fb_campaign_id    age gender  interest  \\\n",
       "0  708746              916          103916  30-34      M        15   \n",
       "1  708749              916          103917  30-34      M        16   \n",
       "2  708771              916          103920  30-34      M        20   \n",
       "3  708815              916          103928  30-34      M        28   \n",
       "4  708818              916          103928  30-34      M        28   \n",
       "\n",
       "   Impressions  Clicks  Spent  Total_Conversion  Approved_Conversion  \\\n",
       "0         7350       1   1.43                 2                    1   \n",
       "1        17861       2   1.82                 2                    0   \n",
       "2          693       0   0.00                 1                    0   \n",
       "3         4259       1   1.25                 1                    0   \n",
       "4         4133       1   1.29                 1                    1   \n",
       "\n",
       "   gender_1  age_1  age_2  age_3  \n",
       "0       1.0    0.0    0.0    0.0  \n",
       "1       1.0    0.0    0.0    0.0  \n",
       "2       1.0    0.0    0.0    0.0  \n",
       "3       1.0    0.0    0.0    0.0  \n",
       "4       1.0    0.0    0.0    0.0  "
      ]
     },
     "execution_count": 87,
     "metadata": {},
     "output_type": "execute_result"
    }
   ],
   "source": [
    "df_2=df.copy()\n",
    "df_2.head()"
   ]
  },
  {
   "cell_type": "code",
   "execution_count": 88,
   "id": "48c4f20f",
   "metadata": {
    "execution": {
     "iopub.execute_input": "2022-10-31T16:15:43.054967Z",
     "iopub.status.busy": "2022-10-31T16:15:43.054295Z",
     "iopub.status.idle": "2022-10-31T16:15:43.060708Z",
     "shell.execute_reply": "2022-10-31T16:15:43.059736Z"
    },
    "papermill": {
     "duration": 0.058246,
     "end_time": "2022-10-31T16:15:43.063078",
     "exception": false,
     "start_time": "2022-10-31T16:15:43.004832",
     "status": "completed"
    },
    "tags": []
   },
   "outputs": [],
   "source": [
    "df_2=df_2.drop(columns=['age','gender'])"
   ]
  },
  {
   "cell_type": "code",
   "execution_count": 89,
   "id": "415f3dc9",
   "metadata": {
    "execution": {
     "iopub.execute_input": "2022-10-31T16:15:43.161504Z",
     "iopub.status.busy": "2022-10-31T16:15:43.161100Z",
     "iopub.status.idle": "2022-10-31T16:15:43.178740Z",
     "shell.execute_reply": "2022-10-31T16:15:43.177537Z"
    },
    "papermill": {
     "duration": 0.070584,
     "end_time": "2022-10-31T16:15:43.181349",
     "exception": false,
     "start_time": "2022-10-31T16:15:43.110765",
     "status": "completed"
    },
    "tags": []
   },
   "outputs": [
    {
     "data": {
      "text/html": [
       "<div>\n",
       "<style scoped>\n",
       "    .dataframe tbody tr th:only-of-type {\n",
       "        vertical-align: middle;\n",
       "    }\n",
       "\n",
       "    .dataframe tbody tr th {\n",
       "        vertical-align: top;\n",
       "    }\n",
       "\n",
       "    .dataframe thead th {\n",
       "        text-align: right;\n",
       "    }\n",
       "</style>\n",
       "<table border=\"1\" class=\"dataframe\">\n",
       "  <thead>\n",
       "    <tr style=\"text-align: right;\">\n",
       "      <th></th>\n",
       "      <th>ad_id</th>\n",
       "      <th>xyz_campaign_id</th>\n",
       "      <th>fb_campaign_id</th>\n",
       "      <th>interest</th>\n",
       "      <th>Impressions</th>\n",
       "      <th>Clicks</th>\n",
       "      <th>Spent</th>\n",
       "      <th>Total_Conversion</th>\n",
       "      <th>Approved_Conversion</th>\n",
       "      <th>gender_1</th>\n",
       "      <th>age_1</th>\n",
       "      <th>age_2</th>\n",
       "      <th>age_3</th>\n",
       "    </tr>\n",
       "  </thead>\n",
       "  <tbody>\n",
       "    <tr>\n",
       "      <th>0</th>\n",
       "      <td>708746</td>\n",
       "      <td>916</td>\n",
       "      <td>103916</td>\n",
       "      <td>15</td>\n",
       "      <td>7350</td>\n",
       "      <td>1</td>\n",
       "      <td>1.43</td>\n",
       "      <td>2</td>\n",
       "      <td>1</td>\n",
       "      <td>1.0</td>\n",
       "      <td>0.0</td>\n",
       "      <td>0.0</td>\n",
       "      <td>0.0</td>\n",
       "    </tr>\n",
       "    <tr>\n",
       "      <th>1</th>\n",
       "      <td>708749</td>\n",
       "      <td>916</td>\n",
       "      <td>103917</td>\n",
       "      <td>16</td>\n",
       "      <td>17861</td>\n",
       "      <td>2</td>\n",
       "      <td>1.82</td>\n",
       "      <td>2</td>\n",
       "      <td>0</td>\n",
       "      <td>1.0</td>\n",
       "      <td>0.0</td>\n",
       "      <td>0.0</td>\n",
       "      <td>0.0</td>\n",
       "    </tr>\n",
       "    <tr>\n",
       "      <th>2</th>\n",
       "      <td>708771</td>\n",
       "      <td>916</td>\n",
       "      <td>103920</td>\n",
       "      <td>20</td>\n",
       "      <td>693</td>\n",
       "      <td>0</td>\n",
       "      <td>0.00</td>\n",
       "      <td>1</td>\n",
       "      <td>0</td>\n",
       "      <td>1.0</td>\n",
       "      <td>0.0</td>\n",
       "      <td>0.0</td>\n",
       "      <td>0.0</td>\n",
       "    </tr>\n",
       "    <tr>\n",
       "      <th>3</th>\n",
       "      <td>708815</td>\n",
       "      <td>916</td>\n",
       "      <td>103928</td>\n",
       "      <td>28</td>\n",
       "      <td>4259</td>\n",
       "      <td>1</td>\n",
       "      <td>1.25</td>\n",
       "      <td>1</td>\n",
       "      <td>0</td>\n",
       "      <td>1.0</td>\n",
       "      <td>0.0</td>\n",
       "      <td>0.0</td>\n",
       "      <td>0.0</td>\n",
       "    </tr>\n",
       "    <tr>\n",
       "      <th>4</th>\n",
       "      <td>708818</td>\n",
       "      <td>916</td>\n",
       "      <td>103928</td>\n",
       "      <td>28</td>\n",
       "      <td>4133</td>\n",
       "      <td>1</td>\n",
       "      <td>1.29</td>\n",
       "      <td>1</td>\n",
       "      <td>1</td>\n",
       "      <td>1.0</td>\n",
       "      <td>0.0</td>\n",
       "      <td>0.0</td>\n",
       "      <td>0.0</td>\n",
       "    </tr>\n",
       "  </tbody>\n",
       "</table>\n",
       "</div>"
      ],
      "text/plain": [
       "    ad_id  xyz_campaign_id  fb_campaign_id  interest  Impressions  Clicks  \\\n",
       "0  708746              916          103916        15         7350       1   \n",
       "1  708749              916          103917        16        17861       2   \n",
       "2  708771              916          103920        20          693       0   \n",
       "3  708815              916          103928        28         4259       1   \n",
       "4  708818              916          103928        28         4133       1   \n",
       "\n",
       "   Spent  Total_Conversion  Approved_Conversion  gender_1  age_1  age_2  age_3  \n",
       "0   1.43                 2                    1       1.0    0.0    0.0    0.0  \n",
       "1   1.82                 2                    0       1.0    0.0    0.0    0.0  \n",
       "2   0.00                 1                    0       1.0    0.0    0.0    0.0  \n",
       "3   1.25                 1                    0       1.0    0.0    0.0    0.0  \n",
       "4   1.29                 1                    1       1.0    0.0    0.0    0.0  "
      ]
     },
     "execution_count": 89,
     "metadata": {},
     "output_type": "execute_result"
    }
   ],
   "source": [
    "df_2.head()"
   ]
  },
  {
   "cell_type": "code",
   "execution_count": 90,
   "id": "1ebdbf41",
   "metadata": {
    "execution": {
     "iopub.execute_input": "2022-10-31T16:15:43.280505Z",
     "iopub.status.busy": "2022-10-31T16:15:43.279096Z",
     "iopub.status.idle": "2022-10-31T16:15:43.286113Z",
     "shell.execute_reply": "2022-10-31T16:15:43.284908Z"
    },
    "papermill": {
     "duration": 0.058225,
     "end_time": "2022-10-31T16:15:43.288308",
     "exception": false,
     "start_time": "2022-10-31T16:15:43.230083",
     "status": "completed"
    },
    "tags": []
   },
   "outputs": [],
   "source": [
    "df_2=df_2[['ad_id', 'interest','Impressions','Clicks','Spent','Approved_Conversion','gender_1','age_1','age_2','age_3']]"
   ]
  },
  {
   "cell_type": "code",
   "execution_count": 91,
   "id": "6d4f4d60",
   "metadata": {
    "execution": {
     "iopub.execute_input": "2022-10-31T16:15:43.386385Z",
     "iopub.status.busy": "2022-10-31T16:15:43.385105Z",
     "iopub.status.idle": "2022-10-31T16:15:43.402160Z",
     "shell.execute_reply": "2022-10-31T16:15:43.400984Z"
    },
    "papermill": {
     "duration": 0.068369,
     "end_time": "2022-10-31T16:15:43.404699",
     "exception": false,
     "start_time": "2022-10-31T16:15:43.336330",
     "status": "completed"
    },
    "tags": []
   },
   "outputs": [
    {
     "data": {
      "text/html": [
       "<div>\n",
       "<style scoped>\n",
       "    .dataframe tbody tr th:only-of-type {\n",
       "        vertical-align: middle;\n",
       "    }\n",
       "\n",
       "    .dataframe tbody tr th {\n",
       "        vertical-align: top;\n",
       "    }\n",
       "\n",
       "    .dataframe thead th {\n",
       "        text-align: right;\n",
       "    }\n",
       "</style>\n",
       "<table border=\"1\" class=\"dataframe\">\n",
       "  <thead>\n",
       "    <tr style=\"text-align: right;\">\n",
       "      <th></th>\n",
       "      <th>ad_id</th>\n",
       "      <th>interest</th>\n",
       "      <th>Impressions</th>\n",
       "      <th>Clicks</th>\n",
       "      <th>Spent</th>\n",
       "      <th>Approved_Conversion</th>\n",
       "      <th>gender_1</th>\n",
       "      <th>age_1</th>\n",
       "      <th>age_2</th>\n",
       "      <th>age_3</th>\n",
       "    </tr>\n",
       "  </thead>\n",
       "  <tbody>\n",
       "    <tr>\n",
       "      <th>0</th>\n",
       "      <td>708746</td>\n",
       "      <td>15</td>\n",
       "      <td>7350</td>\n",
       "      <td>1</td>\n",
       "      <td>1.43</td>\n",
       "      <td>1</td>\n",
       "      <td>1.0</td>\n",
       "      <td>0.0</td>\n",
       "      <td>0.0</td>\n",
       "      <td>0.0</td>\n",
       "    </tr>\n",
       "    <tr>\n",
       "      <th>1</th>\n",
       "      <td>708749</td>\n",
       "      <td>16</td>\n",
       "      <td>17861</td>\n",
       "      <td>2</td>\n",
       "      <td>1.82</td>\n",
       "      <td>0</td>\n",
       "      <td>1.0</td>\n",
       "      <td>0.0</td>\n",
       "      <td>0.0</td>\n",
       "      <td>0.0</td>\n",
       "    </tr>\n",
       "    <tr>\n",
       "      <th>2</th>\n",
       "      <td>708771</td>\n",
       "      <td>20</td>\n",
       "      <td>693</td>\n",
       "      <td>0</td>\n",
       "      <td>0.00</td>\n",
       "      <td>0</td>\n",
       "      <td>1.0</td>\n",
       "      <td>0.0</td>\n",
       "      <td>0.0</td>\n",
       "      <td>0.0</td>\n",
       "    </tr>\n",
       "    <tr>\n",
       "      <th>3</th>\n",
       "      <td>708815</td>\n",
       "      <td>28</td>\n",
       "      <td>4259</td>\n",
       "      <td>1</td>\n",
       "      <td>1.25</td>\n",
       "      <td>0</td>\n",
       "      <td>1.0</td>\n",
       "      <td>0.0</td>\n",
       "      <td>0.0</td>\n",
       "      <td>0.0</td>\n",
       "    </tr>\n",
       "    <tr>\n",
       "      <th>4</th>\n",
       "      <td>708818</td>\n",
       "      <td>28</td>\n",
       "      <td>4133</td>\n",
       "      <td>1</td>\n",
       "      <td>1.29</td>\n",
       "      <td>1</td>\n",
       "      <td>1.0</td>\n",
       "      <td>0.0</td>\n",
       "      <td>0.0</td>\n",
       "      <td>0.0</td>\n",
       "    </tr>\n",
       "  </tbody>\n",
       "</table>\n",
       "</div>"
      ],
      "text/plain": [
       "    ad_id  interest  Impressions  Clicks  Spent  Approved_Conversion  \\\n",
       "0  708746        15         7350       1   1.43                    1   \n",
       "1  708749        16        17861       2   1.82                    0   \n",
       "2  708771        20          693       0   0.00                    0   \n",
       "3  708815        28         4259       1   1.25                    0   \n",
       "4  708818        28         4133       1   1.29                    1   \n",
       "\n",
       "   gender_1  age_1  age_2  age_3  \n",
       "0       1.0    0.0    0.0    0.0  \n",
       "1       1.0    0.0    0.0    0.0  \n",
       "2       1.0    0.0    0.0    0.0  \n",
       "3       1.0    0.0    0.0    0.0  \n",
       "4       1.0    0.0    0.0    0.0  "
      ]
     },
     "execution_count": 91,
     "metadata": {},
     "output_type": "execute_result"
    }
   ],
   "source": [
    "df_2.head()"
   ]
  },
  {
   "cell_type": "code",
   "execution_count": 92,
   "id": "45b6a3b5",
   "metadata": {
    "execution": {
     "iopub.execute_input": "2022-10-31T16:15:43.502815Z",
     "iopub.status.busy": "2022-10-31T16:15:43.502045Z",
     "iopub.status.idle": "2022-10-31T16:15:53.325842Z",
     "shell.execute_reply": "2022-10-31T16:15:53.324490Z"
    },
    "papermill": {
     "duration": 9.875903,
     "end_time": "2022-10-31T16:15:53.328842",
     "exception": false,
     "start_time": "2022-10-31T16:15:43.452939",
     "status": "completed"
    },
    "tags": []
   },
   "outputs": [],
   "source": [
    "from sklearn.cluster import KMeans\n",
    "from sklearn.metrics import silhouette_score\n",
    "\n",
    "inertia=[]\n",
    "k=np.arange(1,9)\n",
    "\n",
    "for i in k:\n",
    "    model=KMeans(n_clusters= i, max_iter=5)\n",
    "    km = model.fit(df_2.values)\n",
    "    inertia.append(pd.Series({'k': i,\n",
    "                              'inertia': model.inertia_\n",
    "                             }))"
   ]
  },
  {
   "cell_type": "code",
   "execution_count": 93,
   "id": "6fc0c308",
   "metadata": {
    "execution": {
     "iopub.execute_input": "2022-10-31T16:15:53.429485Z",
     "iopub.status.busy": "2022-10-31T16:15:53.429025Z",
     "iopub.status.idle": "2022-10-31T16:15:53.438608Z",
     "shell.execute_reply": "2022-10-31T16:15:53.437576Z"
    },
    "papermill": {
     "duration": 0.062253,
     "end_time": "2022-10-31T16:15:53.440946",
     "exception": false,
     "start_time": "2022-10-31T16:15:53.378693",
     "status": "completed"
    },
    "tags": []
   },
   "outputs": [],
   "source": [
    "inertias= pd.concat(inertia, axis=1).T.set_index('k')"
   ]
  },
  {
   "cell_type": "code",
   "execution_count": 94,
   "id": "d7cf245d",
   "metadata": {
    "execution": {
     "iopub.execute_input": "2022-10-31T16:15:53.538757Z",
     "iopub.status.busy": "2022-10-31T16:15:53.537661Z",
     "iopub.status.idle": "2022-10-31T16:15:53.549205Z",
     "shell.execute_reply": "2022-10-31T16:15:53.548058Z"
    },
    "papermill": {
     "duration": 0.063068,
     "end_time": "2022-10-31T16:15:53.551827",
     "exception": false,
     "start_time": "2022-10-31T16:15:53.488759",
     "status": "completed"
    },
    "tags": []
   },
   "outputs": [
    {
     "data": {
      "text/html": [
       "<div>\n",
       "<style scoped>\n",
       "    .dataframe tbody tr th:only-of-type {\n",
       "        vertical-align: middle;\n",
       "    }\n",
       "\n",
       "    .dataframe tbody tr th {\n",
       "        vertical-align: top;\n",
       "    }\n",
       "\n",
       "    .dataframe thead th {\n",
       "        text-align: right;\n",
       "    }\n",
       "</style>\n",
       "<table border=\"1\" class=\"dataframe\">\n",
       "  <thead>\n",
       "    <tr style=\"text-align: right;\">\n",
       "      <th></th>\n",
       "      <th>inertia</th>\n",
       "    </tr>\n",
       "    <tr>\n",
       "      <th>k</th>\n",
       "      <th></th>\n",
       "    </tr>\n",
       "  </thead>\n",
       "  <tbody>\n",
       "    <tr>\n",
       "      <th>1.0</th>\n",
       "      <td>1.546878e+14</td>\n",
       "    </tr>\n",
       "    <tr>\n",
       "      <th>2.0</th>\n",
       "      <td>7.179832e+13</td>\n",
       "    </tr>\n",
       "    <tr>\n",
       "      <th>3.0</th>\n",
       "      <td>3.322774e+13</td>\n",
       "    </tr>\n",
       "    <tr>\n",
       "      <th>4.0</th>\n",
       "      <td>2.208926e+13</td>\n",
       "    </tr>\n",
       "    <tr>\n",
       "      <th>5.0</th>\n",
       "      <td>1.515302e+13</td>\n",
       "    </tr>\n",
       "    <tr>\n",
       "      <th>6.0</th>\n",
       "      <td>1.220321e+13</td>\n",
       "    </tr>\n",
       "    <tr>\n",
       "      <th>7.0</th>\n",
       "      <td>9.411915e+12</td>\n",
       "    </tr>\n",
       "    <tr>\n",
       "      <th>8.0</th>\n",
       "      <td>7.739360e+12</td>\n",
       "    </tr>\n",
       "  </tbody>\n",
       "</table>\n",
       "</div>"
      ],
      "text/plain": [
       "          inertia\n",
       "k                \n",
       "1.0  1.546878e+14\n",
       "2.0  7.179832e+13\n",
       "3.0  3.322774e+13\n",
       "4.0  2.208926e+13\n",
       "5.0  1.515302e+13\n",
       "6.0  1.220321e+13\n",
       "7.0  9.411915e+12\n",
       "8.0  7.739360e+12"
      ]
     },
     "execution_count": 94,
     "metadata": {},
     "output_type": "execute_result"
    }
   ],
   "source": [
    "inertias"
   ]
  },
  {
   "cell_type": "code",
   "execution_count": 95,
   "id": "efc0b553",
   "metadata": {
    "execution": {
     "iopub.execute_input": "2022-10-31T16:15:53.652310Z",
     "iopub.status.busy": "2022-10-31T16:15:53.651271Z",
     "iopub.status.idle": "2022-10-31T16:15:53.922410Z",
     "shell.execute_reply": "2022-10-31T16:15:53.921260Z"
    },
    "papermill": {
     "duration": 0.323387,
     "end_time": "2022-10-31T16:15:53.924858",
     "exception": false,
     "start_time": "2022-10-31T16:15:53.601471",
     "status": "completed"
    },
    "tags": []
   },
   "outputs": [
    {
     "data": {
      "image/png": "[encoded data removed]",
      "text/plain": [
       "<Figure size 864x432 with 1 Axes>"
      ]
     },
     "metadata": {},
     "output_type": "display_data"
    }
   ],
   "source": [
    "# Plot k vs inertias\n",
    "\n",
    "plt.figure(figsize=(12,6))\n",
    "plt.plot(inertias.index, inertias['inertia'], '-*')\n",
    "plt.title('Best k using Elbow method')\n",
    "plt.xlabel('number of clusters, k')\n",
    "plt.ylabel('inertia')\n",
    "plt.xticks(k)\n",
    "plt.show()"
   ]
  },
  {
   "cell_type": "markdown",
   "id": "a9a5e05e",
   "metadata": {
    "papermill": {
     "duration": 0.048806,
     "end_time": "2022-10-31T16:15:54.023092",
     "exception": false,
     "start_time": "2022-10-31T16:15:53.974286",
     "status": "completed"
    },
    "tags": []
   },
   "source": [
    "There is a sharp drop in the inertia from cluster 1 to cluster 2 and further till cluster 3. We can choose # of clusters as 2 or 3\n"
   ]
  },
  {
   "cell_type": "code",
   "execution_count": 96,
   "id": "5472a160",
   "metadata": {
    "execution": {
     "iopub.execute_input": "2022-10-31T16:15:54.123752Z",
     "iopub.status.busy": "2022-10-31T16:15:54.122750Z",
     "iopub.status.idle": "2022-10-31T16:16:02.103411Z",
     "shell.execute_reply": "2022-10-31T16:16:02.101446Z"
    },
    "papermill": {
     "duration": 8.036449,
     "end_time": "2022-10-31T16:16:02.109099",
     "exception": false,
     "start_time": "2022-10-31T16:15:54.072650",
     "status": "completed"
    },
    "tags": []
   },
   "outputs": [],
   "source": [
    "sc=[]\n",
    "k= np.arange(2,9)\n",
    "for i in k:\n",
    "    model = KMeans(n_clusters= i, max_iter=5)\n",
    "    pred = model.fit_predict(df_2.values)\n",
    "    sil_score= silhouette_score(df_2.values, pred)\n",
    "    sc.append(pd.Series({'k': i,\n",
    "                            'sc': sil_score\n",
    "                             }))"
   ]
  },
  {
   "cell_type": "code",
   "execution_count": 97,
   "id": "6f424655",
   "metadata": {
    "execution": {
     "iopub.execute_input": "2022-10-31T16:16:02.254276Z",
     "iopub.status.busy": "2022-10-31T16:16:02.253464Z",
     "iopub.status.idle": "2022-10-31T16:16:02.267352Z",
     "shell.execute_reply": "2022-10-31T16:16:02.266570Z"
    },
    "papermill": {
     "duration": 0.06731,
     "end_time": "2022-10-31T16:16:02.269741",
     "exception": false,
     "start_time": "2022-10-31T16:16:02.202431",
     "status": "completed"
    },
    "tags": []
   },
   "outputs": [
    {
     "data": {
      "text/html": [
       "<div>\n",
       "<style scoped>\n",
       "    .dataframe tbody tr th:only-of-type {\n",
       "        vertical-align: middle;\n",
       "    }\n",
       "\n",
       "    .dataframe tbody tr th {\n",
       "        vertical-align: top;\n",
       "    }\n",
       "\n",
       "    .dataframe thead th {\n",
       "        text-align: right;\n",
       "    }\n",
       "</style>\n",
       "<table border=\"1\" class=\"dataframe\">\n",
       "  <thead>\n",
       "    <tr style=\"text-align: right;\">\n",
       "      <th></th>\n",
       "      <th>sc</th>\n",
       "    </tr>\n",
       "    <tr>\n",
       "      <th>k</th>\n",
       "      <th></th>\n",
       "    </tr>\n",
       "  </thead>\n",
       "  <tbody>\n",
       "    <tr>\n",
       "      <th>2.0</th>\n",
       "      <td>0.638055</td>\n",
       "    </tr>\n",
       "    <tr>\n",
       "      <th>3.0</th>\n",
       "      <td>0.641908</td>\n",
       "    </tr>\n",
       "    <tr>\n",
       "      <th>4.0</th>\n",
       "      <td>0.640442</td>\n",
       "    </tr>\n",
       "    <tr>\n",
       "      <th>5.0</th>\n",
       "      <td>0.641797</td>\n",
       "    </tr>\n",
       "    <tr>\n",
       "      <th>6.0</th>\n",
       "      <td>0.613237</td>\n",
       "    </tr>\n",
       "    <tr>\n",
       "      <th>7.0</th>\n",
       "      <td>0.623550</td>\n",
       "    </tr>\n",
       "    <tr>\n",
       "      <th>8.0</th>\n",
       "      <td>0.663310</td>\n",
       "    </tr>\n",
       "  </tbody>\n",
       "</table>\n",
       "</div>"
      ],
      "text/plain": [
       "           sc\n",
       "k            \n",
       "2.0  0.638055\n",
       "3.0  0.641908\n",
       "4.0  0.640442\n",
       "5.0  0.641797\n",
       "6.0  0.613237\n",
       "7.0  0.623550\n",
       "8.0  0.663310"
      ]
     },
     "execution_count": 97,
     "metadata": {},
     "output_type": "execute_result"
    }
   ],
   "source": [
    "score=pd.concat(sc, axis=1).T.set_index('k')\n",
    "score"
   ]
  },
  {
   "cell_type": "code",
   "execution_count": 98,
   "id": "45bc9e2b",
   "metadata": {
    "execution": {
     "iopub.execute_input": "2022-10-31T16:16:02.371485Z",
     "iopub.status.busy": "2022-10-31T16:16:02.370603Z",
     "iopub.status.idle": "2022-10-31T16:16:02.620072Z",
     "shell.execute_reply": "2022-10-31T16:16:02.618180Z"
    },
    "papermill": {
     "duration": 0.303685,
     "end_time": "2022-10-31T16:16:02.623743",
     "exception": false,
     "start_time": "2022-10-31T16:16:02.320058",
     "status": "completed"
    },
    "tags": []
   },
   "outputs": [
    {
     "data": {
      "image/png": "[encoded data removed]",
      "text/plain": [
       "<Figure size 864x432 with 1 Axes>"
      ]
     },
     "metadata": {},
     "output_type": "display_data"
    }
   ],
   "source": [
    "# Plot k vs inertias\n",
    "\n",
    "plt.figure(figsize=(12,6))\n",
    "plt.plot(score.index, score['sc'], '-*')\n",
    "plt.title('SC plot')\n",
    "plt.xlabel('number of clusters, k')\n",
    "plt.ylabel('SC')\n",
    "plt.xticks(k)\n",
    "plt.show()"
   ]
  },
  {
   "cell_type": "markdown",
   "id": "210920e4",
   "metadata": {
    "papermill": {
     "duration": 0.054468,
     "end_time": "2022-10-31T16:16:02.748928",
     "exception": false,
     "start_time": "2022-10-31T16:16:02.694460",
     "status": "completed"
    },
    "tags": []
   },
   "source": [
    "3 clusters seems ok but we have maximum silhoutte score at 8 clusters. We will go ahead with 3 as of now.\n"
   ]
  },
  {
   "cell_type": "code",
   "execution_count": 99,
   "id": "aa5fb830",
   "metadata": {
    "execution": {
     "iopub.execute_input": "2022-10-31T16:16:02.853046Z",
     "iopub.status.busy": "2022-10-31T16:16:02.852210Z",
     "iopub.status.idle": "2022-10-31T16:16:04.070702Z",
     "shell.execute_reply": "2022-10-31T16:16:04.069802Z"
    },
    "papermill": {
     "duration": 1.272997,
     "end_time": "2022-10-31T16:16:04.073659",
     "exception": false,
     "start_time": "2022-10-31T16:16:02.800662",
     "status": "completed"
    },
    "tags": []
   },
   "outputs": [
    {
     "data": {
      "text/plain": [
       "KMeans(max_iter=5, n_clusters=3)"
      ]
     },
     "execution_count": 99,
     "metadata": {},
     "output_type": "execute_result"
    }
   ],
   "source": [
    "model = KMeans(n_clusters= 3, max_iter=5)\n",
    "model.fit(df_2.values)"
   ]
  },
  {
   "cell_type": "code",
   "execution_count": 100,
   "id": "d8e9ad42",
   "metadata": {
    "execution": {
     "iopub.execute_input": "2022-10-31T16:16:04.204848Z",
     "iopub.status.busy": "2022-10-31T16:16:04.203564Z",
     "iopub.status.idle": "2022-10-31T16:16:04.238373Z",
     "shell.execute_reply": "2022-10-31T16:16:04.237239Z"
    },
    "papermill": {
     "duration": 0.088829,
     "end_time": "2022-10-31T16:16:04.240860",
     "exception": false,
     "start_time": "2022-10-31T16:16:04.152031",
     "status": "completed"
    },
    "tags": []
   },
   "outputs": [
    {
     "data": {
      "text/html": [
       "<div>\n",
       "<style scoped>\n",
       "    .dataframe tbody tr th:only-of-type {\n",
       "        vertical-align: middle;\n",
       "    }\n",
       "\n",
       "    .dataframe tbody tr th {\n",
       "        vertical-align: top;\n",
       "    }\n",
       "\n",
       "    .dataframe thead th {\n",
       "        text-align: right;\n",
       "    }\n",
       "</style>\n",
       "<table border=\"1\" class=\"dataframe\">\n",
       "  <thead>\n",
       "    <tr style=\"text-align: right;\">\n",
       "      <th></th>\n",
       "      <th>ad_id</th>\n",
       "      <th>interest</th>\n",
       "      <th>Impressions</th>\n",
       "      <th>Clicks</th>\n",
       "      <th>Spent</th>\n",
       "      <th>Approved_Conversion</th>\n",
       "      <th>gender_1</th>\n",
       "      <th>age_1</th>\n",
       "      <th>age_2</th>\n",
       "      <th>age_3</th>\n",
       "      <th>Score</th>\n",
       "    </tr>\n",
       "  </thead>\n",
       "  <tbody>\n",
       "    <tr>\n",
       "      <th>0</th>\n",
       "      <td>708746</td>\n",
       "      <td>15</td>\n",
       "      <td>7350</td>\n",
       "      <td>1</td>\n",
       "      <td>1.430000</td>\n",
       "      <td>1</td>\n",
       "      <td>1.0</td>\n",
       "      <td>0.0</td>\n",
       "      <td>0.0</td>\n",
       "      <td>0.0</td>\n",
       "      <td>2</td>\n",
       "    </tr>\n",
       "    <tr>\n",
       "      <th>1</th>\n",
       "      <td>708749</td>\n",
       "      <td>16</td>\n",
       "      <td>17861</td>\n",
       "      <td>2</td>\n",
       "      <td>1.820000</td>\n",
       "      <td>0</td>\n",
       "      <td>1.0</td>\n",
       "      <td>0.0</td>\n",
       "      <td>0.0</td>\n",
       "      <td>0.0</td>\n",
       "      <td>2</td>\n",
       "    </tr>\n",
       "    <tr>\n",
       "      <th>2</th>\n",
       "      <td>708771</td>\n",
       "      <td>20</td>\n",
       "      <td>693</td>\n",
       "      <td>0</td>\n",
       "      <td>0.000000</td>\n",
       "      <td>0</td>\n",
       "      <td>1.0</td>\n",
       "      <td>0.0</td>\n",
       "      <td>0.0</td>\n",
       "      <td>0.0</td>\n",
       "      <td>2</td>\n",
       "    </tr>\n",
       "    <tr>\n",
       "      <th>3</th>\n",
       "      <td>708815</td>\n",
       "      <td>28</td>\n",
       "      <td>4259</td>\n",
       "      <td>1</td>\n",
       "      <td>1.250000</td>\n",
       "      <td>0</td>\n",
       "      <td>1.0</td>\n",
       "      <td>0.0</td>\n",
       "      <td>0.0</td>\n",
       "      <td>0.0</td>\n",
       "      <td>2</td>\n",
       "    </tr>\n",
       "    <tr>\n",
       "      <th>4</th>\n",
       "      <td>708818</td>\n",
       "      <td>28</td>\n",
       "      <td>4133</td>\n",
       "      <td>1</td>\n",
       "      <td>1.290000</td>\n",
       "      <td>1</td>\n",
       "      <td>1.0</td>\n",
       "      <td>0.0</td>\n",
       "      <td>0.0</td>\n",
       "      <td>0.0</td>\n",
       "      <td>2</td>\n",
       "    </tr>\n",
       "    <tr>\n",
       "      <th>...</th>\n",
       "      <td>...</td>\n",
       "      <td>...</td>\n",
       "      <td>...</td>\n",
       "      <td>...</td>\n",
       "      <td>...</td>\n",
       "      <td>...</td>\n",
       "      <td>...</td>\n",
       "      <td>...</td>\n",
       "      <td>...</td>\n",
       "      <td>...</td>\n",
       "      <td>...</td>\n",
       "    </tr>\n",
       "    <tr>\n",
       "      <th>1138</th>\n",
       "      <td>1314410</td>\n",
       "      <td>109</td>\n",
       "      <td>1129773</td>\n",
       "      <td>252</td>\n",
       "      <td>358.189997</td>\n",
       "      <td>2</td>\n",
       "      <td>0.0</td>\n",
       "      <td>0.0</td>\n",
       "      <td>0.0</td>\n",
       "      <td>1.0</td>\n",
       "      <td>1</td>\n",
       "    </tr>\n",
       "    <tr>\n",
       "      <th>1139</th>\n",
       "      <td>1314411</td>\n",
       "      <td>110</td>\n",
       "      <td>637549</td>\n",
       "      <td>120</td>\n",
       "      <td>173.880003</td>\n",
       "      <td>0</td>\n",
       "      <td>0.0</td>\n",
       "      <td>0.0</td>\n",
       "      <td>0.0</td>\n",
       "      <td>1.0</td>\n",
       "      <td>1</td>\n",
       "    </tr>\n",
       "    <tr>\n",
       "      <th>1140</th>\n",
       "      <td>1314412</td>\n",
       "      <td>111</td>\n",
       "      <td>151531</td>\n",
       "      <td>28</td>\n",
       "      <td>40.289999</td>\n",
       "      <td>0</td>\n",
       "      <td>0.0</td>\n",
       "      <td>0.0</td>\n",
       "      <td>0.0</td>\n",
       "      <td>1.0</td>\n",
       "      <td>0</td>\n",
       "    </tr>\n",
       "    <tr>\n",
       "      <th>1141</th>\n",
       "      <td>1314414</td>\n",
       "      <td>113</td>\n",
       "      <td>790253</td>\n",
       "      <td>135</td>\n",
       "      <td>198.710001</td>\n",
       "      <td>2</td>\n",
       "      <td>0.0</td>\n",
       "      <td>0.0</td>\n",
       "      <td>0.0</td>\n",
       "      <td>1.0</td>\n",
       "      <td>1</td>\n",
       "    </tr>\n",
       "    <tr>\n",
       "      <th>1142</th>\n",
       "      <td>1314415</td>\n",
       "      <td>114</td>\n",
       "      <td>513161</td>\n",
       "      <td>114</td>\n",
       "      <td>165.609999</td>\n",
       "      <td>2</td>\n",
       "      <td>0.0</td>\n",
       "      <td>0.0</td>\n",
       "      <td>0.0</td>\n",
       "      <td>1.0</td>\n",
       "      <td>0</td>\n",
       "    </tr>\n",
       "  </tbody>\n",
       "</table>\n",
       "<p>1143 rows × 11 columns</p>\n",
       "</div>"
      ],
      "text/plain": [
       "        ad_id  interest  Impressions  Clicks       Spent  Approved_Conversion  \\\n",
       "0      708746        15         7350       1    1.430000                    1   \n",
       "1      708749        16        17861       2    1.820000                    0   \n",
       "2      708771        20          693       0    0.000000                    0   \n",
       "3      708815        28         4259       1    1.250000                    0   \n",
       "4      708818        28         4133       1    1.290000                    1   \n",
       "...       ...       ...          ...     ...         ...                  ...   \n",
       "1138  1314410       109      1129773     252  358.189997                    2   \n",
       "1139  1314411       110       637549     120  173.880003                    0   \n",
       "1140  1314412       111       151531      28   40.289999                    0   \n",
       "1141  1314414       113       790253     135  198.710001                    2   \n",
       "1142  1314415       114       513161     114  165.609999                    2   \n",
       "\n",
       "      gender_1  age_1  age_2  age_3  Score  \n",
       "0          1.0    0.0    0.0    0.0      2  \n",
       "1          1.0    0.0    0.0    0.0      2  \n",
       "2          1.0    0.0    0.0    0.0      2  \n",
       "3          1.0    0.0    0.0    0.0      2  \n",
       "4          1.0    0.0    0.0    0.0      2  \n",
       "...        ...    ...    ...    ...    ...  \n",
       "1138       0.0    0.0    0.0    1.0      1  \n",
       "1139       0.0    0.0    0.0    1.0      1  \n",
       "1140       0.0    0.0    0.0    1.0      0  \n",
       "1141       0.0    0.0    0.0    1.0      1  \n",
       "1142       0.0    0.0    0.0    1.0      0  \n",
       "\n",
       "[1143 rows x 11 columns]"
      ]
     },
     "execution_count": 100,
     "metadata": {},
     "output_type": "execute_result"
    }
   ],
   "source": [
    "df_2['Score']= model.predict(df_2.values)\n",
    "#data.sample(5)\n",
    "df_2"
   ]
  },
  {
   "cell_type": "code",
   "execution_count": 101,
   "id": "4fe057dc",
   "metadata": {
    "execution": {
     "iopub.execute_input": "2022-10-31T16:16:04.342387Z",
     "iopub.status.busy": "2022-10-31T16:16:04.341248Z",
     "iopub.status.idle": "2022-10-31T16:16:05.780137Z",
     "shell.execute_reply": "2022-10-31T16:16:05.778987Z"
    },
    "papermill": {
     "duration": 1.492322,
     "end_time": "2022-10-31T16:16:05.782870",
     "exception": false,
     "start_time": "2022-10-31T16:16:04.290548",
     "status": "completed"
    },
    "tags": []
   },
   "outputs": [
    {
     "data": {
      "image/png": "[encoded data removed]",
      "text/plain": [
       "<Figure size 406.6x360 with 1 Axes>"
      ]
     },
     "metadata": {},
     "output_type": "display_data"
    },
    {
     "data": {
      "image/png": "[encoded data removed]",
      "text/plain": [
       "<Figure size 406.6x360 with 1 Axes>"
      ]
     },
     "metadata": {},
     "output_type": "display_data"
    },
    {
     "data": {
      "image/png": "[encoded data removed]",
      "text/plain": [
       "<Figure size 406.6x360 with 1 Axes>"
      ]
     },
     "metadata": {},
     "output_type": "display_data"
    }
   ],
   "source": [
    "sns.lmplot(x='Impressions', y='Clicks', data= df_2, hue='Score',fit_reg=False, markers=[\"o\", \"^\", \"+\"] ,palette='Set1')\n",
    "sns.lmplot(x='Spent', y='Clicks', data= df_2, hue='Score',fit_reg=False, markers=[\"o\", \"^\", \"+\"], palette=\"cool\" )\n",
    "sns.lmplot(x='Impressions', y='Spent', data= df_2, hue='Score',fit_reg=False, markers=[\"o\", \"^\", \"+\"] ,palette=\"cool\" )\n",
    "plt.show()"
   ]
  },
  {
   "cell_type": "code",
   "execution_count": 102,
   "id": "2ede54c1",
   "metadata": {
    "execution": {
     "iopub.execute_input": "2022-10-31T16:16:05.888029Z",
     "iopub.status.busy": "2022-10-31T16:16:05.887370Z",
     "iopub.status.idle": "2022-10-31T16:16:05.900784Z",
     "shell.execute_reply": "2022-10-31T16:16:05.899282Z"
    },
    "papermill": {
     "duration": 0.068247,
     "end_time": "2022-10-31T16:16:05.903058",
     "exception": false,
     "start_time": "2022-10-31T16:16:05.834811",
     "status": "completed"
    },
    "tags": []
   },
   "outputs": [
    {
     "name": "stdout",
     "output_type": "stream",
     "text": [
      "number of ads : Score\n",
      "0    514\n",
      "1    111\n",
      "2    518\n",
      "Name: ad_id, dtype: int64\n",
      "breakup of conversions : Score\n",
      "0    449\n",
      "1    423\n",
      "2    207\n",
      "Name: Approved_Conversion, dtype: int64\n",
      "breakup of Impressions : Score\n",
      "0     96258881\n",
      "1    108564835\n",
      "2      8611112\n",
      "Name: Impressions, dtype: int64\n",
      "breakup of Spent : Score\n",
      "0    25723.970000\n",
      "1    29938.179959\n",
      "2     3043.080000\n",
      "Name: Spent, dtype: float64\n"
     ]
    }
   ],
   "source": [
    "print('number of ads :' , df_2.groupby('Score')['ad_id'].count())\n",
    "print('breakup of conversions :' , df_2.groupby('Score')['Approved_Conversion'].sum())\n",
    "print('breakup of Impressions :',  df_2.groupby('Score')['Impressions'].sum())\n",
    "print('breakup of Spent :',  df_2.groupby('Score')['Spent'].sum())"
   ]
  },
  {
   "cell_type": "code",
   "execution_count": 103,
   "id": "365dcbba",
   "metadata": {
    "execution": {
     "iopub.execute_input": "2022-10-31T16:16:06.009614Z",
     "iopub.status.busy": "2022-10-31T16:16:06.008467Z",
     "iopub.status.idle": "2022-10-31T16:16:06.016835Z",
     "shell.execute_reply": "2022-10-31T16:16:06.015246Z"
    },
    "papermill": {
     "duration": 0.064674,
     "end_time": "2022-10-31T16:16:06.019303",
     "exception": false,
     "start_time": "2022-10-31T16:16:05.954629",
     "status": "completed"
    },
    "tags": []
   },
   "outputs": [
    {
     "name": "stdout",
     "output_type": "stream",
     "text": [
      "avg_conv_cluster1= 3.780701754385965\n",
      "avg_conv_cluster2= 0.863013698630137\n",
      "avg_conv_cluster3= 0.3996138996138996\n",
      "avg cost to acq_cluster1= 70.56881660788864\n",
      "avg cost to acq_cluster2= 57.249410433106576\n",
      "avg cost to acq_cluster3= 14.70086956521739\n"
     ]
    }
   ],
   "source": [
    "print(\"avg_conv_cluster1=\", (431/114))\n",
    "print(\"avg_conv_cluster2=\", (441/511))\n",
    "print(\"avg_conv_cluster3=\", (207/518))\n",
    "print(\"avg cost to acq_cluster1=\", (30415.159958/431))\n",
    "print(\"avg cost to acq_cluster2=\", (25246.990001/441))\n",
    "print(\"avg cost to acq_cluster3=\", (3043.080000/207))\n"
   ]
  },
  {
   "cell_type": "code",
   "execution_count": 104,
   "id": "4f18448c",
   "metadata": {
    "execution": {
     "iopub.execute_input": "2022-10-31T16:16:06.124472Z",
     "iopub.status.busy": "2022-10-31T16:16:06.123029Z",
     "iopub.status.idle": "2022-10-31T16:16:06.132508Z",
     "shell.execute_reply": "2022-10-31T16:16:06.130938Z"
    },
    "papermill": {
     "duration": 0.064538,
     "end_time": "2022-10-31T16:16:06.135086",
     "exception": false,
     "start_time": "2022-10-31T16:16:06.070548",
     "status": "completed"
    },
    "tags": []
   },
   "outputs": [],
   "source": [
    "df_cluster1=df_2[df_2['Score']==0]\n",
    "df_cluster2=df_2[df_2['Score']==1]\n",
    "df_cluster3=df_2[df_2['Score']==2]"
   ]
  },
  {
   "cell_type": "code",
   "execution_count": 105,
   "id": "6bf36189",
   "metadata": {
    "execution": {
     "iopub.execute_input": "2022-10-31T16:16:06.242525Z",
     "iopub.status.busy": "2022-10-31T16:16:06.242079Z",
     "iopub.status.idle": "2022-10-31T16:16:06.263111Z",
     "shell.execute_reply": "2022-10-31T16:16:06.261548Z"
    },
    "papermill": {
     "duration": 0.077958,
     "end_time": "2022-10-31T16:16:06.265944",
     "exception": false,
     "start_time": "2022-10-31T16:16:06.187986",
     "status": "completed"
    },
    "tags": []
   },
   "outputs": [],
   "source": [
    "cluster1=pd.merge(df_cluster1,df[[\"ad_id\",\"gender\",\"age\"]],on=\"ad_id\")\n",
    "cluster2=pd.merge(df_cluster2,df[[\"ad_id\",\"gender\",\"age\"]],on=\"ad_id\")\n",
    "cluster3=pd.merge(df_cluster3,df[[\"ad_id\",\"gender\",\"age\"]],on=\"ad_id\")\n"
   ]
  },
  {
   "cell_type": "code",
   "execution_count": 106,
   "id": "3dd12eca",
   "metadata": {
    "execution": {
     "iopub.execute_input": "2022-10-31T16:16:06.370490Z",
     "iopub.status.busy": "2022-10-31T16:16:06.370054Z",
     "iopub.status.idle": "2022-10-31T16:16:06.379858Z",
     "shell.execute_reply": "2022-10-31T16:16:06.378834Z"
    },
    "papermill": {
     "duration": 0.06456,
     "end_time": "2022-10-31T16:16:06.382268",
     "exception": false,
     "start_time": "2022-10-31T16:16:06.317708",
     "status": "completed"
    },
    "tags": []
   },
   "outputs": [
    {
     "data": {
      "text/plain": [
       "gender\n",
       "F    203\n",
       "M    311\n",
       "Name: ad_id, dtype: int64"
      ]
     },
     "execution_count": 106,
     "metadata": {},
     "output_type": "execute_result"
    }
   ],
   "source": [
    "cluster1.groupby('gender')[\"ad_id\"].count()"
   ]
  },
  {
   "cell_type": "code",
   "execution_count": 107,
   "id": "e810c1e5",
   "metadata": {
    "execution": {
     "iopub.execute_input": "2022-10-31T16:16:06.487300Z",
     "iopub.status.busy": "2022-10-31T16:16:06.486853Z",
     "iopub.status.idle": "2022-10-31T16:16:06.497073Z",
     "shell.execute_reply": "2022-10-31T16:16:06.495997Z"
    },
    "papermill": {
     "duration": 0.065454,
     "end_time": "2022-10-31T16:16:06.499337",
     "exception": false,
     "start_time": "2022-10-31T16:16:06.433883",
     "status": "completed"
    },
    "tags": []
   },
   "outputs": [
    {
     "data": {
      "text/plain": [
       "gender\n",
       "F    73\n",
       "M    38\n",
       "Name: ad_id, dtype: int64"
      ]
     },
     "execution_count": 107,
     "metadata": {},
     "output_type": "execute_result"
    }
   ],
   "source": [
    "cluster2.groupby('gender')[\"ad_id\"].count()"
   ]
  },
  {
   "cell_type": "code",
   "execution_count": 108,
   "id": "f4b11748",
   "metadata": {
    "execution": {
     "iopub.execute_input": "2022-10-31T16:16:06.605491Z",
     "iopub.status.busy": "2022-10-31T16:16:06.605050Z",
     "iopub.status.idle": "2022-10-31T16:16:06.615665Z",
     "shell.execute_reply": "2022-10-31T16:16:06.614025Z"
    },
    "papermill": {
     "duration": 0.067261,
     "end_time": "2022-10-31T16:16:06.618700",
     "exception": false,
     "start_time": "2022-10-31T16:16:06.551439",
     "status": "completed"
    },
    "tags": []
   },
   "outputs": [
    {
     "data": {
      "text/plain": [
       "gender\n",
       "F    275\n",
       "M    243\n",
       "Name: ad_id, dtype: int64"
      ]
     },
     "execution_count": 108,
     "metadata": {},
     "output_type": "execute_result"
    }
   ],
   "source": [
    "cluster3.groupby('gender')[\"ad_id\"].count()"
   ]
  },
  {
   "cell_type": "code",
   "execution_count": 109,
   "id": "e53c7aaa",
   "metadata": {
    "execution": {
     "iopub.execute_input": "2022-10-31T16:16:06.725736Z",
     "iopub.status.busy": "2022-10-31T16:16:06.725316Z",
     "iopub.status.idle": "2022-10-31T16:16:06.929792Z",
     "shell.execute_reply": "2022-10-31T16:16:06.928649Z"
    },
    "papermill": {
     "duration": 0.260239,
     "end_time": "2022-10-31T16:16:06.932419",
     "exception": false,
     "start_time": "2022-10-31T16:16:06.672180",
     "status": "completed"
    },
    "tags": []
   },
   "outputs": [
    {
     "data": {
      "text/plain": [
       "interest\n",
       "2      18\n",
       "7      13\n",
       "10     24\n",
       "15     15\n",
       "16     15\n",
       "18     13\n",
       "19     22\n",
       "20     22\n",
       "21     22\n",
       "22     21\n",
       "23     17\n",
       "24     16\n",
       "25     17\n",
       "26     16\n",
       "27     15\n",
       "28     19\n",
       "29     24\n",
       "30     16\n",
       "31     15\n",
       "32     19\n",
       "36     13\n",
       "63     22\n",
       "64     24\n",
       "65     11\n",
       "66     11\n",
       "100     4\n",
       "101     4\n",
       "102     7\n",
       "103     4\n",
       "104     5\n",
       "105     5\n",
       "106     4\n",
       "107     4\n",
       "108     6\n",
       "109     4\n",
       "110     7\n",
       "111     5\n",
       "112     5\n",
       "113     5\n",
       "114     5\n",
       "Name: ad_id, dtype: int64"
      ]
     },
     "execution_count": 109,
     "metadata": {},
     "output_type": "execute_result"
    }
   ],
   "source": [
    "cluster1.groupby('interest')[\"ad_id\"].count()"
   ]
  },
  {
   "cell_type": "code",
   "execution_count": 110,
   "id": "3910de7b",
   "metadata": {
    "execution": {
     "iopub.execute_input": "2022-10-31T16:16:07.039539Z",
     "iopub.status.busy": "2022-10-31T16:16:07.038464Z",
     "iopub.status.idle": "2022-10-31T16:16:07.048100Z",
     "shell.execute_reply": "2022-10-31T16:16:07.046813Z"
    },
    "papermill": {
     "duration": 0.065974,
     "end_time": "2022-10-31T16:16:07.050291",
     "exception": false,
     "start_time": "2022-10-31T16:16:06.984317",
     "status": "completed"
    },
    "tags": []
   },
   "outputs": [
    {
     "data": {
      "text/plain": [
       "interest\n",
       "7       1\n",
       "10     11\n",
       "15      5\n",
       "16     23\n",
       "18      7\n",
       "19      1\n",
       "20      2\n",
       "22      1\n",
       "25      2\n",
       "26      2\n",
       "27     11\n",
       "28      7\n",
       "29     11\n",
       "32      2\n",
       "63      4\n",
       "100     2\n",
       "101     3\n",
       "103     1\n",
       "105     2\n",
       "106     1\n",
       "107     4\n",
       "108     1\n",
       "109     2\n",
       "110     1\n",
       "111     1\n",
       "112     2\n",
       "113     1\n",
       "Name: ad_id, dtype: int64"
      ]
     },
     "execution_count": 110,
     "metadata": {},
     "output_type": "execute_result"
    }
   ],
   "source": [
    "cluster2.groupby('interest')[\"ad_id\"].count()"
   ]
  },
  {
   "cell_type": "code",
   "execution_count": 111,
   "id": "332cac36",
   "metadata": {
    "execution": {
     "iopub.execute_input": "2022-10-31T16:16:07.157653Z",
     "iopub.status.busy": "2022-10-31T16:16:07.157168Z",
     "iopub.status.idle": "2022-10-31T16:16:07.167175Z",
     "shell.execute_reply": "2022-10-31T16:16:07.165680Z"
    },
    "papermill": {
     "duration": 0.066679,
     "end_time": "2022-10-31T16:16:07.169499",
     "exception": false,
     "start_time": "2022-10-31T16:16:07.102820",
     "status": "completed"
    },
    "tags": []
   },
   "outputs": [
    {
     "data": {
      "text/plain": [
       "interest\n",
       "2       7\n",
       "7      10\n",
       "10     50\n",
       "15     31\n",
       "16    102\n",
       "18     23\n",
       "19      9\n",
       "20     25\n",
       "21     14\n",
       "22     11\n",
       "23      6\n",
       "24      8\n",
       "25      7\n",
       "26     23\n",
       "27     34\n",
       "28     25\n",
       "29     42\n",
       "30      9\n",
       "31     10\n",
       "32     12\n",
       "36      8\n",
       "63     20\n",
       "64     24\n",
       "65      8\n",
       "Name: ad_id, dtype: int64"
      ]
     },
     "execution_count": 111,
     "metadata": {},
     "output_type": "execute_result"
    }
   ],
   "source": [
    "cluster3.groupby('interest')[\"ad_id\"].count()"
   ]
  },
  {
   "cell_type": "code",
   "execution_count": 112,
   "id": "163a607c",
   "metadata": {
    "execution": {
     "iopub.execute_input": "2022-10-31T16:16:07.277838Z",
     "iopub.status.busy": "2022-10-31T16:16:07.277464Z",
     "iopub.status.idle": "2022-10-31T16:16:07.284841Z",
     "shell.execute_reply": "2022-10-31T16:16:07.283793Z"
    },
    "papermill": {
     "duration": 0.065271,
     "end_time": "2022-10-31T16:16:07.287137",
     "exception": false,
     "start_time": "2022-10-31T16:16:07.221866",
     "status": "completed"
    },
    "tags": []
   },
   "outputs": [
    {
     "data": {
      "text/plain": [
       "559"
      ]
     },
     "execution_count": 112,
     "metadata": {},
     "output_type": "execute_result"
    }
   ],
   "source": [
    "# unique number of campaigns that have no conversion\n",
    "df[df['Approved_Conversion']==0]['ad_id'].nunique()"
   ]
  },
  {
   "cell_type": "code",
   "execution_count": 113,
   "id": "02d4d871",
   "metadata": {
    "execution": {
     "iopub.execute_input": "2022-10-31T16:16:07.394621Z",
     "iopub.status.busy": "2022-10-31T16:16:07.394216Z",
     "iopub.status.idle": "2022-10-31T16:16:07.401846Z",
     "shell.execute_reply": "2022-10-31T16:16:07.401024Z"
    },
    "papermill": {
     "duration": 0.062987,
     "end_time": "2022-10-31T16:16:07.403731",
     "exception": false,
     "start_time": "2022-10-31T16:16:07.340744",
     "status": "completed"
    },
    "tags": []
   },
   "outputs": [
    {
     "data": {
      "text/plain": [
       "224"
      ]
     },
     "execution_count": 113,
     "metadata": {},
     "output_type": "execute_result"
    }
   ],
   "source": [
    "cluster1[cluster1['Approved_Conversion']==0]['ad_id'].nunique()"
   ]
  },
  {
   "cell_type": "code",
   "execution_count": 114,
   "id": "5c8ca3b8",
   "metadata": {
    "execution": {
     "iopub.execute_input": "2022-10-31T16:16:07.510964Z",
     "iopub.status.busy": "2022-10-31T16:16:07.509996Z",
     "iopub.status.idle": "2022-10-31T16:16:07.518762Z",
     "shell.execute_reply": "2022-10-31T16:16:07.517447Z"
    },
    "papermill": {
     "duration": 0.064932,
     "end_time": "2022-10-31T16:16:07.521249",
     "exception": false,
     "start_time": "2022-10-31T16:16:07.456317",
     "status": "completed"
    },
    "tags": []
   },
   "outputs": [
    {
     "data": {
      "text/plain": [
       "13"
      ]
     },
     "execution_count": 114,
     "metadata": {},
     "output_type": "execute_result"
    }
   ],
   "source": [
    "cluster2[cluster2['Approved_Conversion']==0]['ad_id'].nunique()"
   ]
  },
  {
   "cell_type": "code",
   "execution_count": 115,
   "id": "0795c571",
   "metadata": {
    "execution": {
     "iopub.execute_input": "2022-10-31T16:16:07.629681Z",
     "iopub.status.busy": "2022-10-31T16:16:07.628949Z",
     "iopub.status.idle": "2022-10-31T16:16:07.636854Z",
     "shell.execute_reply": "2022-10-31T16:16:07.636035Z"
    },
    "papermill": {
     "duration": 0.064209,
     "end_time": "2022-10-31T16:16:07.639032",
     "exception": false,
     "start_time": "2022-10-31T16:16:07.574823",
     "status": "completed"
    },
    "tags": []
   },
   "outputs": [
    {
     "data": {
      "text/plain": [
       "322"
      ]
     },
     "execution_count": 115,
     "metadata": {},
     "output_type": "execute_result"
    }
   ],
   "source": [
    "cluster3[cluster3['Approved_Conversion']==0]['ad_id'].nunique()"
   ]
  }
 ],
 "metadata": {
  "kernelspec": {
   "display_name": "Python 3",
   "language": "python",
   "name": "python3"
  },
  "language_info": {
   "codemirror_mode": {
    "name": "ipython",
    "version": 3
   },
   "file_extension": ".py",
   "mimetype": "text/x-python",
   "name": "python",
   "nbconvert_exporter": "python",
   "pygments_lexer": "ipython3",
   "version": "3.7.12"
  },
  "papermill": {
   "default_parameters": {},
   "duration": 60.683831,
   "end_time": "2022-10-31T16:16:08.514667",
   "environment_variables": {},
   "exception": null,
   "input_path": "__notebook__.ipynb",
   "output_path": "__notebook__.ipynb",
   "parameters": {},
   "start_time": "2022-10-31T16:15:07.830836",
   "version": "2.3.4"
  }
 },
 "nbformat": 4,
 "nbformat_minor": 5
}

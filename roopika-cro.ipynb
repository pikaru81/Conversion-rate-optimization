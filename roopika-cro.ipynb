{
 "cells": [
  {
   "cell_type": "code",
   "execution_count": 1,
   "id": "7e2564fa",
   "metadata": {
    "_cell_guid": "b1076dfc-b9ad-4769-8c92-a6c4dae69d19",
    "_uuid": "8f2839f25d086af736a60e9eeb907d3b93b6e0e5",
    "execution": {
     "iopub.execute_input": "2022-10-25T16:28:50.704275Z",
     "iopub.status.busy": "2022-10-25T16:28:50.703399Z",
     "iopub.status.idle": "2022-10-25T16:28:50.721118Z",
     "shell.execute_reply": "2022-10-25T16:28:50.720171Z"
    },
    "papermill": {
     "duration": 0.051564,
     "end_time": "2022-10-25T16:28:50.724290",
     "exception": false,
     "start_time": "2022-10-25T16:28:50.672726",
     "status": "completed"
    },
    "tags": []
   },
   "outputs": [
    {
     "name": "stdout",
     "output_type": "stream",
     "text": [
      "/kaggle/input/clicks-conversion-tracking/KAG_conversion_data.csv\n"
     ]
    }
   ],
   "source": [
    "# This Python 3 environment comes with many helpful analytics libraries installed\n",
    "# It is defined by the kaggle/python Docker image: https://github.com/kaggle/docker-python\n",
    "# For example, here's several helpful packages to load\n",
    "\n",
    "import numpy as np # linear algebra\n",
    "import pandas as pd # data processing, CSV file I/O (e.g. pd.read_csv)\n",
    "\n",
    "# Input data files are available in the read-only \"../input/\" directory\n",
    "# For example, running this (by clicking run or pressing Shift+Enter) will list all files under the input directory\n",
    "\n",
    "import os\n",
    "for dirname, _, filenames in os.walk('/kaggle/input'):\n",
    "    for filename in filenames:\n",
    "        print(os.path.join(dirname, filename))\n",
    "\n",
    "# You can write up to 20GB to the current directory (/kaggle/working/) that gets preserved as output when you create a version using \"Save & Run All\" \n",
    "# You can also write temporary files to /kaggle/temp/, but they won't be saved outside of the current session"
   ]
  },
  {
   "cell_type": "markdown",
   "id": "f4c25dfb",
   "metadata": {
    "papermill": {
     "duration": 0.025523,
     "end_time": "2022-10-25T16:28:50.776363",
     "exception": false,
     "start_time": "2022-10-25T16:28:50.750840",
     "status": "completed"
    },
    "tags": []
   },
   "source": [
    "Data:\n",
    "\n",
    "The data used in this project is from an anonymous organisation’s social media ad campaign.\n",
    "\n",
    "1.) ad_id: an unique ID for each ad.\n",
    "\n",
    "2.) xyzcampaignid: an ID associated with each ad campaign of XYZ company.\n",
    "\n",
    "3.) fbcampaignid: an ID associated with how Facebook tracks each campaign.\n",
    "\n",
    "4.) age: age of the person to whom the ad is shown.\n",
    "\n",
    "5.) gender: gender of the person to whim the add is shown\n",
    "\n",
    "6.) interest: a code specifying the category to which the person’s interest belongs (interests are as mentioned in the person’s Facebook public profile).\n",
    "\n",
    "7.) Impressions: the number of times the ad was shown.\n",
    "\n",
    "8.) Clicks: number of clicks on for that ad.\n",
    "\n",
    "9.) Spent: Amount paid by company xyz to Facebook, to show that ad.\n",
    "\n",
    "10.) Total conversion: Total number of people who enquired about the product after seeing the ad.\n",
    "\n",
    "11.) Approved conversion: Total number of people who bought the product after seeing the ad.\n",
    "\n",
    "Aim:\n",
    "\n",
    "To optimize Sales conversion and analyze the campaign performance\n",
    "\n",
    "\n",
    "\n",
    "\n"
   ]
  },
  {
   "cell_type": "code",
   "execution_count": 2,
   "id": "1a3d8739",
   "metadata": {
    "execution": {
     "iopub.execute_input": "2022-10-25T16:28:50.830085Z",
     "iopub.status.busy": "2022-10-25T16:28:50.829552Z",
     "iopub.status.idle": "2022-10-25T16:28:50.850907Z",
     "shell.execute_reply": "2022-10-25T16:28:50.849557Z"
    },
    "papermill": {
     "duration": 0.051676,
     "end_time": "2022-10-25T16:28:50.854137",
     "exception": false,
     "start_time": "2022-10-25T16:28:50.802461",
     "status": "completed"
    },
    "tags": []
   },
   "outputs": [],
   "source": [
    "df=pd.read_csv(\"/kaggle/input/clicks-conversion-tracking/KAG_conversion_data.csv\")"
   ]
  },
  {
   "cell_type": "markdown",
   "id": "c87d2fd2",
   "metadata": {
    "papermill": {
     "duration": 0.026413,
     "end_time": "2022-10-25T16:28:50.909531",
     "exception": false,
     "start_time": "2022-10-25T16:28:50.883118",
     "status": "completed"
    },
    "tags": []
   },
   "source": [
    "Exploratory Data Analysis"
   ]
  },
  {
   "cell_type": "code",
   "execution_count": 3,
   "id": "e9a07e19",
   "metadata": {
    "execution": {
     "iopub.execute_input": "2022-10-25T16:28:50.964725Z",
     "iopub.status.busy": "2022-10-25T16:28:50.964225Z",
     "iopub.status.idle": "2022-10-25T16:28:51.001499Z",
     "shell.execute_reply": "2022-10-25T16:28:50.999212Z"
    },
    "papermill": {
     "duration": 0.069642,
     "end_time": "2022-10-25T16:28:51.006003",
     "exception": false,
     "start_time": "2022-10-25T16:28:50.936361",
     "status": "completed"
    },
    "tags": []
   },
   "outputs": [
    {
     "data": {
      "text/html": [
       "<div>\n",
       "<style scoped>\n",
       "    .dataframe tbody tr th:only-of-type {\n",
       "        vertical-align: middle;\n",
       "    }\n",
       "\n",
       "    .dataframe tbody tr th {\n",
       "        vertical-align: top;\n",
       "    }\n",
       "\n",
       "    .dataframe thead th {\n",
       "        text-align: right;\n",
       "    }\n",
       "</style>\n",
       "<table border=\"1\" class=\"dataframe\">\n",
       "  <thead>\n",
       "    <tr style=\"text-align: right;\">\n",
       "      <th></th>\n",
       "      <th>ad_id</th>\n",
       "      <th>xyz_campaign_id</th>\n",
       "      <th>fb_campaign_id</th>\n",
       "      <th>age</th>\n",
       "      <th>gender</th>\n",
       "      <th>interest</th>\n",
       "      <th>Impressions</th>\n",
       "      <th>Clicks</th>\n",
       "      <th>Spent</th>\n",
       "      <th>Total_Conversion</th>\n",
       "      <th>Approved_Conversion</th>\n",
       "    </tr>\n",
       "  </thead>\n",
       "  <tbody>\n",
       "    <tr>\n",
       "      <th>0</th>\n",
       "      <td>708746</td>\n",
       "      <td>916</td>\n",
       "      <td>103916</td>\n",
       "      <td>30-34</td>\n",
       "      <td>M</td>\n",
       "      <td>15</td>\n",
       "      <td>7350</td>\n",
       "      <td>1</td>\n",
       "      <td>1.43</td>\n",
       "      <td>2</td>\n",
       "      <td>1</td>\n",
       "    </tr>\n",
       "    <tr>\n",
       "      <th>1</th>\n",
       "      <td>708749</td>\n",
       "      <td>916</td>\n",
       "      <td>103917</td>\n",
       "      <td>30-34</td>\n",
       "      <td>M</td>\n",
       "      <td>16</td>\n",
       "      <td>17861</td>\n",
       "      <td>2</td>\n",
       "      <td>1.82</td>\n",
       "      <td>2</td>\n",
       "      <td>0</td>\n",
       "    </tr>\n",
       "    <tr>\n",
       "      <th>2</th>\n",
       "      <td>708771</td>\n",
       "      <td>916</td>\n",
       "      <td>103920</td>\n",
       "      <td>30-34</td>\n",
       "      <td>M</td>\n",
       "      <td>20</td>\n",
       "      <td>693</td>\n",
       "      <td>0</td>\n",
       "      <td>0.00</td>\n",
       "      <td>1</td>\n",
       "      <td>0</td>\n",
       "    </tr>\n",
       "    <tr>\n",
       "      <th>3</th>\n",
       "      <td>708815</td>\n",
       "      <td>916</td>\n",
       "      <td>103928</td>\n",
       "      <td>30-34</td>\n",
       "      <td>M</td>\n",
       "      <td>28</td>\n",
       "      <td>4259</td>\n",
       "      <td>1</td>\n",
       "      <td>1.25</td>\n",
       "      <td>1</td>\n",
       "      <td>0</td>\n",
       "    </tr>\n",
       "    <tr>\n",
       "      <th>4</th>\n",
       "      <td>708818</td>\n",
       "      <td>916</td>\n",
       "      <td>103928</td>\n",
       "      <td>30-34</td>\n",
       "      <td>M</td>\n",
       "      <td>28</td>\n",
       "      <td>4133</td>\n",
       "      <td>1</td>\n",
       "      <td>1.29</td>\n",
       "      <td>1</td>\n",
       "      <td>1</td>\n",
       "    </tr>\n",
       "  </tbody>\n",
       "</table>\n",
       "</div>"
      ],
      "text/plain": [
       "    ad_id  xyz_campaign_id  fb_campaign_id    age gender  interest  \\\n",
       "0  708746              916          103916  30-34      M        15   \n",
       "1  708749              916          103917  30-34      M        16   \n",
       "2  708771              916          103920  30-34      M        20   \n",
       "3  708815              916          103928  30-34      M        28   \n",
       "4  708818              916          103928  30-34      M        28   \n",
       "\n",
       "   Impressions  Clicks  Spent  Total_Conversion  Approved_Conversion  \n",
       "0         7350       1   1.43                 2                    1  \n",
       "1        17861       2   1.82                 2                    0  \n",
       "2          693       0   0.00                 1                    0  \n",
       "3         4259       1   1.25                 1                    0  \n",
       "4         4133       1   1.29                 1                    1  "
      ]
     },
     "execution_count": 3,
     "metadata": {},
     "output_type": "execute_result"
    }
   ],
   "source": [
    "df.head()"
   ]
  },
  {
   "cell_type": "code",
   "execution_count": 4,
   "id": "d912efb3",
   "metadata": {
    "execution": {
     "iopub.execute_input": "2022-10-25T16:28:51.069497Z",
     "iopub.status.busy": "2022-10-25T16:28:51.068267Z",
     "iopub.status.idle": "2022-10-25T16:28:51.077128Z",
     "shell.execute_reply": "2022-10-25T16:28:51.075489Z"
    },
    "papermill": {
     "duration": 0.041433,
     "end_time": "2022-10-25T16:28:51.080543",
     "exception": false,
     "start_time": "2022-10-25T16:28:51.039110",
     "status": "completed"
    },
    "tags": []
   },
   "outputs": [
    {
     "data": {
      "text/plain": [
       "(1143, 11)"
      ]
     },
     "execution_count": 4,
     "metadata": {},
     "output_type": "execute_result"
    }
   ],
   "source": [
    "df.shape"
   ]
  },
  {
   "cell_type": "code",
   "execution_count": 5,
   "id": "d32d86d7",
   "metadata": {
    "execution": {
     "iopub.execute_input": "2022-10-25T16:28:51.138965Z",
     "iopub.status.busy": "2022-10-25T16:28:51.138096Z",
     "iopub.status.idle": "2022-10-25T16:28:51.163234Z",
     "shell.execute_reply": "2022-10-25T16:28:51.162349Z"
    },
    "papermill": {
     "duration": 0.057142,
     "end_time": "2022-10-25T16:28:51.166337",
     "exception": false,
     "start_time": "2022-10-25T16:28:51.109195",
     "status": "completed"
    },
    "tags": []
   },
   "outputs": [
    {
     "name": "stdout",
     "output_type": "stream",
     "text": [
      "<class 'pandas.core.frame.DataFrame'>\n",
      "RangeIndex: 1143 entries, 0 to 1142\n",
      "Data columns (total 11 columns):\n",
      " #   Column               Non-Null Count  Dtype  \n",
      "---  ------               --------------  -----  \n",
      " 0   ad_id                1143 non-null   int64  \n",
      " 1   xyz_campaign_id      1143 non-null   int64  \n",
      " 2   fb_campaign_id       1143 non-null   int64  \n",
      " 3   age                  1143 non-null   object \n",
      " 4   gender               1143 non-null   object \n",
      " 5   interest             1143 non-null   int64  \n",
      " 6   Impressions          1143 non-null   int64  \n",
      " 7   Clicks               1143 non-null   int64  \n",
      " 8   Spent                1143 non-null   float64\n",
      " 9   Total_Conversion     1143 non-null   int64  \n",
      " 10  Approved_Conversion  1143 non-null   int64  \n",
      "dtypes: float64(1), int64(8), object(2)\n",
      "memory usage: 98.4+ KB\n"
     ]
    }
   ],
   "source": [
    "df.info()\n",
    "# no null values "
   ]
  },
  {
   "cell_type": "code",
   "execution_count": 6,
   "id": "176533dd",
   "metadata": {
    "execution": {
     "iopub.execute_input": "2022-10-25T16:28:51.222266Z",
     "iopub.status.busy": "2022-10-25T16:28:51.221759Z",
     "iopub.status.idle": "2022-10-25T16:28:51.264574Z",
     "shell.execute_reply": "2022-10-25T16:28:51.263326Z"
    },
    "papermill": {
     "duration": 0.073625,
     "end_time": "2022-10-25T16:28:51.267159",
     "exception": false,
     "start_time": "2022-10-25T16:28:51.193534",
     "status": "completed"
    },
    "tags": []
   },
   "outputs": [
    {
     "data": {
      "text/html": [
       "<div>\n",
       "<style scoped>\n",
       "    .dataframe tbody tr th:only-of-type {\n",
       "        vertical-align: middle;\n",
       "    }\n",
       "\n",
       "    .dataframe tbody tr th {\n",
       "        vertical-align: top;\n",
       "    }\n",
       "\n",
       "    .dataframe thead th {\n",
       "        text-align: right;\n",
       "    }\n",
       "</style>\n",
       "<table border=\"1\" class=\"dataframe\">\n",
       "  <thead>\n",
       "    <tr style=\"text-align: right;\">\n",
       "      <th></th>\n",
       "      <th>ad_id</th>\n",
       "      <th>xyz_campaign_id</th>\n",
       "      <th>fb_campaign_id</th>\n",
       "      <th>interest</th>\n",
       "      <th>Impressions</th>\n",
       "      <th>Clicks</th>\n",
       "      <th>Spent</th>\n",
       "      <th>Total_Conversion</th>\n",
       "      <th>Approved_Conversion</th>\n",
       "    </tr>\n",
       "  </thead>\n",
       "  <tbody>\n",
       "    <tr>\n",
       "      <th>count</th>\n",
       "      <td>1.143000e+03</td>\n",
       "      <td>1143.000000</td>\n",
       "      <td>1143.000000</td>\n",
       "      <td>1143.000000</td>\n",
       "      <td>1.143000e+03</td>\n",
       "      <td>1143.000000</td>\n",
       "      <td>1143.000000</td>\n",
       "      <td>1143.000000</td>\n",
       "      <td>1143.000000</td>\n",
       "    </tr>\n",
       "    <tr>\n",
       "      <th>mean</th>\n",
       "      <td>9.872611e+05</td>\n",
       "      <td>1067.382327</td>\n",
       "      <td>133783.989501</td>\n",
       "      <td>32.766404</td>\n",
       "      <td>1.867321e+05</td>\n",
       "      <td>33.390201</td>\n",
       "      <td>51.360656</td>\n",
       "      <td>2.855643</td>\n",
       "      <td>0.944007</td>\n",
       "    </tr>\n",
       "    <tr>\n",
       "      <th>std</th>\n",
       "      <td>1.939928e+05</td>\n",
       "      <td>121.629393</td>\n",
       "      <td>20500.308622</td>\n",
       "      <td>26.952131</td>\n",
       "      <td>3.127622e+05</td>\n",
       "      <td>56.892438</td>\n",
       "      <td>86.908418</td>\n",
       "      <td>4.483593</td>\n",
       "      <td>1.737708</td>\n",
       "    </tr>\n",
       "    <tr>\n",
       "      <th>min</th>\n",
       "      <td>7.087460e+05</td>\n",
       "      <td>916.000000</td>\n",
       "      <td>103916.000000</td>\n",
       "      <td>2.000000</td>\n",
       "      <td>8.700000e+01</td>\n",
       "      <td>0.000000</td>\n",
       "      <td>0.000000</td>\n",
       "      <td>0.000000</td>\n",
       "      <td>0.000000</td>\n",
       "    </tr>\n",
       "    <tr>\n",
       "      <th>25%</th>\n",
       "      <td>7.776325e+05</td>\n",
       "      <td>936.000000</td>\n",
       "      <td>115716.000000</td>\n",
       "      <td>16.000000</td>\n",
       "      <td>6.503500e+03</td>\n",
       "      <td>1.000000</td>\n",
       "      <td>1.480000</td>\n",
       "      <td>1.000000</td>\n",
       "      <td>0.000000</td>\n",
       "    </tr>\n",
       "    <tr>\n",
       "      <th>50%</th>\n",
       "      <td>1.121185e+06</td>\n",
       "      <td>1178.000000</td>\n",
       "      <td>144549.000000</td>\n",
       "      <td>25.000000</td>\n",
       "      <td>5.150900e+04</td>\n",
       "      <td>8.000000</td>\n",
       "      <td>12.370000</td>\n",
       "      <td>1.000000</td>\n",
       "      <td>1.000000</td>\n",
       "    </tr>\n",
       "    <tr>\n",
       "      <th>75%</th>\n",
       "      <td>1.121804e+06</td>\n",
       "      <td>1178.000000</td>\n",
       "      <td>144657.500000</td>\n",
       "      <td>31.000000</td>\n",
       "      <td>2.217690e+05</td>\n",
       "      <td>37.500000</td>\n",
       "      <td>60.025000</td>\n",
       "      <td>3.000000</td>\n",
       "      <td>1.000000</td>\n",
       "    </tr>\n",
       "    <tr>\n",
       "      <th>max</th>\n",
       "      <td>1.314415e+06</td>\n",
       "      <td>1178.000000</td>\n",
       "      <td>179982.000000</td>\n",
       "      <td>114.000000</td>\n",
       "      <td>3.052003e+06</td>\n",
       "      <td>421.000000</td>\n",
       "      <td>639.949998</td>\n",
       "      <td>60.000000</td>\n",
       "      <td>21.000000</td>\n",
       "    </tr>\n",
       "  </tbody>\n",
       "</table>\n",
       "</div>"
      ],
      "text/plain": [
       "              ad_id  xyz_campaign_id  fb_campaign_id     interest  \\\n",
       "count  1.143000e+03      1143.000000     1143.000000  1143.000000   \n",
       "mean   9.872611e+05      1067.382327   133783.989501    32.766404   \n",
       "std    1.939928e+05       121.629393    20500.308622    26.952131   \n",
       "min    7.087460e+05       916.000000   103916.000000     2.000000   \n",
       "25%    7.776325e+05       936.000000   115716.000000    16.000000   \n",
       "50%    1.121185e+06      1178.000000   144549.000000    25.000000   \n",
       "75%    1.121804e+06      1178.000000   144657.500000    31.000000   \n",
       "max    1.314415e+06      1178.000000   179982.000000   114.000000   \n",
       "\n",
       "        Impressions       Clicks        Spent  Total_Conversion  \\\n",
       "count  1.143000e+03  1143.000000  1143.000000       1143.000000   \n",
       "mean   1.867321e+05    33.390201    51.360656          2.855643   \n",
       "std    3.127622e+05    56.892438    86.908418          4.483593   \n",
       "min    8.700000e+01     0.000000     0.000000          0.000000   \n",
       "25%    6.503500e+03     1.000000     1.480000          1.000000   \n",
       "50%    5.150900e+04     8.000000    12.370000          1.000000   \n",
       "75%    2.217690e+05    37.500000    60.025000          3.000000   \n",
       "max    3.052003e+06   421.000000   639.949998         60.000000   \n",
       "\n",
       "       Approved_Conversion  \n",
       "count          1143.000000  \n",
       "mean              0.944007  \n",
       "std               1.737708  \n",
       "min               0.000000  \n",
       "25%               0.000000  \n",
       "50%               1.000000  \n",
       "75%               1.000000  \n",
       "max              21.000000  "
      ]
     },
     "execution_count": 6,
     "metadata": {},
     "output_type": "execute_result"
    }
   ],
   "source": [
    "df.describe()\n"
   ]
  },
  {
   "cell_type": "code",
   "execution_count": 7,
   "id": "a32141f0",
   "metadata": {
    "execution": {
     "iopub.execute_input": "2022-10-25T16:28:51.325847Z",
     "iopub.status.busy": "2022-10-25T16:28:51.324893Z",
     "iopub.status.idle": "2022-10-25T16:28:51.342607Z",
     "shell.execute_reply": "2022-10-25T16:28:51.341375Z"
    },
    "papermill": {
     "duration": 0.049983,
     "end_time": "2022-10-25T16:28:51.345298",
     "exception": false,
     "start_time": "2022-10-25T16:28:51.295315",
     "status": "completed"
    },
    "tags": []
   },
   "outputs": [
    {
     "data": {
      "text/html": [
       "<div>\n",
       "<style scoped>\n",
       "    .dataframe tbody tr th:only-of-type {\n",
       "        vertical-align: middle;\n",
       "    }\n",
       "\n",
       "    .dataframe tbody tr th {\n",
       "        vertical-align: top;\n",
       "    }\n",
       "\n",
       "    .dataframe thead th {\n",
       "        text-align: right;\n",
       "    }\n",
       "</style>\n",
       "<table border=\"1\" class=\"dataframe\">\n",
       "  <thead>\n",
       "    <tr style=\"text-align: right;\">\n",
       "      <th></th>\n",
       "      <th>age</th>\n",
       "      <th>gender</th>\n",
       "    </tr>\n",
       "  </thead>\n",
       "  <tbody>\n",
       "    <tr>\n",
       "      <th>count</th>\n",
       "      <td>1143</td>\n",
       "      <td>1143</td>\n",
       "    </tr>\n",
       "    <tr>\n",
       "      <th>unique</th>\n",
       "      <td>4</td>\n",
       "      <td>2</td>\n",
       "    </tr>\n",
       "    <tr>\n",
       "      <th>top</th>\n",
       "      <td>30-34</td>\n",
       "      <td>M</td>\n",
       "    </tr>\n",
       "    <tr>\n",
       "      <th>freq</th>\n",
       "      <td>426</td>\n",
       "      <td>592</td>\n",
       "    </tr>\n",
       "  </tbody>\n",
       "</table>\n",
       "</div>"
      ],
      "text/plain": [
       "          age gender\n",
       "count    1143   1143\n",
       "unique      4      2\n",
       "top     30-34      M\n",
       "freq      426    592"
      ]
     },
     "execution_count": 7,
     "metadata": {},
     "output_type": "execute_result"
    }
   ],
   "source": [
    "df.describe(include=['object'])"
   ]
  },
  {
   "cell_type": "code",
   "execution_count": 8,
   "id": "69b8a515",
   "metadata": {
    "execution": {
     "iopub.execute_input": "2022-10-25T16:28:51.403907Z",
     "iopub.status.busy": "2022-10-25T16:28:51.402922Z",
     "iopub.status.idle": "2022-10-25T16:28:52.611586Z",
     "shell.execute_reply": "2022-10-25T16:28:52.610167Z"
    },
    "papermill": {
     "duration": 1.241761,
     "end_time": "2022-10-25T16:28:52.614814",
     "exception": false,
     "start_time": "2022-10-25T16:28:51.373053",
     "status": "completed"
    },
    "tags": []
   },
   "outputs": [],
   "source": [
    "import matplotlib.pyplot as plt\n",
    "import seaborn as sns"
   ]
  },
  {
   "cell_type": "code",
   "execution_count": 9,
   "id": "de9578b7",
   "metadata": {
    "execution": {
     "iopub.execute_input": "2022-10-25T16:28:52.671525Z",
     "iopub.status.busy": "2022-10-25T16:28:52.670558Z",
     "iopub.status.idle": "2022-10-25T16:28:52.693397Z",
     "shell.execute_reply": "2022-10-25T16:28:52.690908Z"
    },
    "papermill": {
     "duration": 0.054046,
     "end_time": "2022-10-25T16:28:52.696108",
     "exception": false,
     "start_time": "2022-10-25T16:28:52.642062",
     "status": "completed"
    },
    "tags": []
   },
   "outputs": [
    {
     "data": {
      "text/html": [
       "<div>\n",
       "<style scoped>\n",
       "    .dataframe tbody tr th:only-of-type {\n",
       "        vertical-align: middle;\n",
       "    }\n",
       "\n",
       "    .dataframe tbody tr th {\n",
       "        vertical-align: top;\n",
       "    }\n",
       "\n",
       "    .dataframe thead th {\n",
       "        text-align: right;\n",
       "    }\n",
       "</style>\n",
       "<table border=\"1\" class=\"dataframe\">\n",
       "  <thead>\n",
       "    <tr style=\"text-align: right;\">\n",
       "      <th></th>\n",
       "      <th>ad_id</th>\n",
       "      <th>xyz_campaign_id</th>\n",
       "      <th>fb_campaign_id</th>\n",
       "      <th>interest</th>\n",
       "      <th>Impressions</th>\n",
       "      <th>Clicks</th>\n",
       "      <th>Spent</th>\n",
       "      <th>Total_Conversion</th>\n",
       "      <th>Approved_Conversion</th>\n",
       "    </tr>\n",
       "  </thead>\n",
       "  <tbody>\n",
       "    <tr>\n",
       "      <th>ad_id</th>\n",
       "      <td>1.000000</td>\n",
       "      <td>0.929892</td>\n",
       "      <td>0.972002</td>\n",
       "      <td>0.456483</td>\n",
       "      <td>0.462308</td>\n",
       "      <td>0.431981</td>\n",
       "      <td>0.433053</td>\n",
       "      <td>0.346539</td>\n",
       "      <td>0.271331</td>\n",
       "    </tr>\n",
       "    <tr>\n",
       "      <th>xyz_campaign_id</th>\n",
       "      <td>0.929892</td>\n",
       "      <td>1.000000</td>\n",
       "      <td>0.872392</td>\n",
       "      <td>0.272282</td>\n",
       "      <td>0.495273</td>\n",
       "      <td>0.469729</td>\n",
       "      <td>0.476689</td>\n",
       "      <td>0.346684</td>\n",
       "      <td>0.284968</td>\n",
       "    </tr>\n",
       "    <tr>\n",
       "      <th>fb_campaign_id</th>\n",
       "      <td>0.972002</td>\n",
       "      <td>0.872392</td>\n",
       "      <td>1.000000</td>\n",
       "      <td>0.595753</td>\n",
       "      <td>0.439439</td>\n",
       "      <td>0.406978</td>\n",
       "      <td>0.403532</td>\n",
       "      <td>0.344170</td>\n",
       "      <td>0.257658</td>\n",
       "    </tr>\n",
       "    <tr>\n",
       "      <th>interest</th>\n",
       "      <td>0.456483</td>\n",
       "      <td>0.272282</td>\n",
       "      <td>0.595753</td>\n",
       "      <td>1.000000</td>\n",
       "      <td>0.101973</td>\n",
       "      <td>0.088706</td>\n",
       "      <td>0.070226</td>\n",
       "      <td>0.120270</td>\n",
       "      <td>0.058353</td>\n",
       "    </tr>\n",
       "    <tr>\n",
       "      <th>Impressions</th>\n",
       "      <td>0.462308</td>\n",
       "      <td>0.495273</td>\n",
       "      <td>0.439439</td>\n",
       "      <td>0.101973</td>\n",
       "      <td>1.000000</td>\n",
       "      <td>0.948514</td>\n",
       "      <td>0.970386</td>\n",
       "      <td>0.812838</td>\n",
       "      <td>0.684249</td>\n",
       "    </tr>\n",
       "    <tr>\n",
       "      <th>Clicks</th>\n",
       "      <td>0.431981</td>\n",
       "      <td>0.469729</td>\n",
       "      <td>0.406978</td>\n",
       "      <td>0.088706</td>\n",
       "      <td>0.948514</td>\n",
       "      <td>1.000000</td>\n",
       "      <td>0.992906</td>\n",
       "      <td>0.694632</td>\n",
       "      <td>0.559526</td>\n",
       "    </tr>\n",
       "    <tr>\n",
       "      <th>Spent</th>\n",
       "      <td>0.433053</td>\n",
       "      <td>0.476689</td>\n",
       "      <td>0.403532</td>\n",
       "      <td>0.070226</td>\n",
       "      <td>0.970386</td>\n",
       "      <td>0.992906</td>\n",
       "      <td>1.000000</td>\n",
       "      <td>0.725379</td>\n",
       "      <td>0.593178</td>\n",
       "    </tr>\n",
       "    <tr>\n",
       "      <th>Total_Conversion</th>\n",
       "      <td>0.346539</td>\n",
       "      <td>0.346684</td>\n",
       "      <td>0.344170</td>\n",
       "      <td>0.120270</td>\n",
       "      <td>0.812838</td>\n",
       "      <td>0.694632</td>\n",
       "      <td>0.725379</td>\n",
       "      <td>1.000000</td>\n",
       "      <td>0.864034</td>\n",
       "    </tr>\n",
       "    <tr>\n",
       "      <th>Approved_Conversion</th>\n",
       "      <td>0.271331</td>\n",
       "      <td>0.284968</td>\n",
       "      <td>0.257658</td>\n",
       "      <td>0.058353</td>\n",
       "      <td>0.684249</td>\n",
       "      <td>0.559526</td>\n",
       "      <td>0.593178</td>\n",
       "      <td>0.864034</td>\n",
       "      <td>1.000000</td>\n",
       "    </tr>\n",
       "  </tbody>\n",
       "</table>\n",
       "</div>"
      ],
      "text/plain": [
       "                        ad_id  xyz_campaign_id  fb_campaign_id  interest  \\\n",
       "ad_id                1.000000         0.929892        0.972002  0.456483   \n",
       "xyz_campaign_id      0.929892         1.000000        0.872392  0.272282   \n",
       "fb_campaign_id       0.972002         0.872392        1.000000  0.595753   \n",
       "interest             0.456483         0.272282        0.595753  1.000000   \n",
       "Impressions          0.462308         0.495273        0.439439  0.101973   \n",
       "Clicks               0.431981         0.469729        0.406978  0.088706   \n",
       "Spent                0.433053         0.476689        0.403532  0.070226   \n",
       "Total_Conversion     0.346539         0.346684        0.344170  0.120270   \n",
       "Approved_Conversion  0.271331         0.284968        0.257658  0.058353   \n",
       "\n",
       "                     Impressions    Clicks     Spent  Total_Conversion  \\\n",
       "ad_id                   0.462308  0.431981  0.433053          0.346539   \n",
       "xyz_campaign_id         0.495273  0.469729  0.476689          0.346684   \n",
       "fb_campaign_id          0.439439  0.406978  0.403532          0.344170   \n",
       "interest                0.101973  0.088706  0.070226          0.120270   \n",
       "Impressions             1.000000  0.948514  0.970386          0.812838   \n",
       "Clicks                  0.948514  1.000000  0.992906          0.694632   \n",
       "Spent                   0.970386  0.992906  1.000000          0.725379   \n",
       "Total_Conversion        0.812838  0.694632  0.725379          1.000000   \n",
       "Approved_Conversion     0.684249  0.559526  0.593178          0.864034   \n",
       "\n",
       "                     Approved_Conversion  \n",
       "ad_id                           0.271331  \n",
       "xyz_campaign_id                 0.284968  \n",
       "fb_campaign_id                  0.257658  \n",
       "interest                        0.058353  \n",
       "Impressions                     0.684249  \n",
       "Clicks                          0.559526  \n",
       "Spent                           0.593178  \n",
       "Total_Conversion                0.864034  \n",
       "Approved_Conversion             1.000000  "
      ]
     },
     "execution_count": 9,
     "metadata": {},
     "output_type": "execute_result"
    }
   ],
   "source": [
    "df.corr()"
   ]
  },
  {
   "cell_type": "markdown",
   "id": "237dfdfc",
   "metadata": {
    "papermill": {
     "duration": 0.026755,
     "end_time": "2022-10-25T16:28:52.750556",
     "exception": false,
     "start_time": "2022-10-25T16:28:52.723801",
     "status": "completed"
    },
    "tags": []
   },
   "source": [
    "Visualizing the correlation data ( including only the quantitative variables)"
   ]
  },
  {
   "cell_type": "code",
   "execution_count": 10,
   "id": "b718b91f",
   "metadata": {
    "execution": {
     "iopub.execute_input": "2022-10-25T16:28:52.809064Z",
     "iopub.status.busy": "2022-10-25T16:28:52.808519Z",
     "iopub.status.idle": "2022-10-25T16:28:53.235753Z",
     "shell.execute_reply": "2022-10-25T16:28:53.234352Z"
    },
    "papermill": {
     "duration": 0.460401,
     "end_time": "2022-10-25T16:28:53.238773",
     "exception": false,
     "start_time": "2022-10-25T16:28:52.778372",
     "status": "completed"
    },
    "tags": []
   },
   "outputs": [
    {
     "data": {
      "image/png": "[encoded data removed]",
      "text/plain": [
       "<Figure size 432x288 with 2 Axes>"
      ]
     },
     "metadata": {
      "needs_background": "light"
     },
     "output_type": "display_data"
    }
   ],
   "source": [
    "g=sns.heatmap(df[[\"Impressions\",\"Clicks\",\"Spent\",\"Total_Conversion\",\"Approved_Conversion\"]].corr(),annot=True ,fmt=\".2f\", cmap=\"YlGnBu\")"
   ]
  },
  {
   "cell_type": "markdown",
   "id": "0cabf9f8",
   "metadata": {
    "papermill": {
     "duration": 0.029713,
     "end_time": "2022-10-25T16:28:53.296868",
     "exception": false,
     "start_time": "2022-10-25T16:28:53.267155",
     "status": "completed"
    },
    "tags": []
   },
   "source": [
    "impressions and clicks are high corr,\n",
    "impression and spent are high corr,\n",
    "impression and total_conversion are high corr,\n",
    "impression and approved_conv are medium correlated,\n",
    "clicks and spent are high corr,\n",
    "clicks and total conv and approved conv are medium correlated,\n",
    "spent and total_conv and spent are moderately correlated,\n",
    "spent and approved conv are moderately correlated,\n",
    "total conv and approved conversion are highly correlated.\n",
    "\n",
    "\n",
    "The more the add is shown the higher the total conv and approved conv"
   ]
  },
  {
   "cell_type": "code",
   "execution_count": 11,
   "id": "95b10078",
   "metadata": {
    "execution": {
     "iopub.execute_input": "2022-10-25T16:28:53.358708Z",
     "iopub.status.busy": "2022-10-25T16:28:53.358229Z",
     "iopub.status.idle": "2022-10-25T16:28:53.368186Z",
     "shell.execute_reply": "2022-10-25T16:28:53.366924Z"
    },
    "papermill": {
     "duration": 0.04324,
     "end_time": "2022-10-25T16:28:53.370554",
     "exception": false,
     "start_time": "2022-10-25T16:28:53.327314",
     "status": "completed"
    },
    "tags": []
   },
   "outputs": [
    {
     "data": {
      "text/plain": [
       "array([ 916,  936, 1178])"
      ]
     },
     "execution_count": 11,
     "metadata": {},
     "output_type": "execute_result"
    }
   ],
   "source": [
    "# 3 unique campaigns run by xyz company\n",
    "df['xyz_campaign_id'].unique()"
   ]
  },
  {
   "cell_type": "markdown",
   "id": "2b21da1b",
   "metadata": {
    "papermill": {
     "duration": 0.027237,
     "end_time": "2022-10-25T16:28:53.425909",
     "exception": false,
     "start_time": "2022-10-25T16:28:53.398672",
     "status": "completed"
    },
    "tags": []
   },
   "source": [
    "https://datatofish.com/replace-values-pandas-dataframe/---good link for replace functionality"
   ]
  },
  {
   "cell_type": "code",
   "execution_count": 12,
   "id": "8f2814b7",
   "metadata": {
    "execution": {
     "iopub.execute_input": "2022-10-25T16:28:53.484840Z",
     "iopub.status.busy": "2022-10-25T16:28:53.484339Z",
     "iopub.status.idle": "2022-10-25T16:28:53.505388Z",
     "shell.execute_reply": "2022-10-25T16:28:53.503937Z"
    },
    "papermill": {
     "duration": 0.054585,
     "end_time": "2022-10-25T16:28:53.508222",
     "exception": false,
     "start_time": "2022-10-25T16:28:53.453637",
     "status": "completed"
    },
    "tags": []
   },
   "outputs": [
    {
     "data": {
      "text/html": [
       "<div>\n",
       "<style scoped>\n",
       "    .dataframe tbody tr th:only-of-type {\n",
       "        vertical-align: middle;\n",
       "    }\n",
       "\n",
       "    .dataframe tbody tr th {\n",
       "        vertical-align: top;\n",
       "    }\n",
       "\n",
       "    .dataframe thead th {\n",
       "        text-align: right;\n",
       "    }\n",
       "</style>\n",
       "<table border=\"1\" class=\"dataframe\">\n",
       "  <thead>\n",
       "    <tr style=\"text-align: right;\">\n",
       "      <th></th>\n",
       "      <th>ad_id</th>\n",
       "      <th>xyz_campaign_id</th>\n",
       "      <th>fb_campaign_id</th>\n",
       "      <th>age</th>\n",
       "      <th>gender</th>\n",
       "      <th>interest</th>\n",
       "      <th>Impressions</th>\n",
       "      <th>Clicks</th>\n",
       "      <th>Spent</th>\n",
       "      <th>Total_Conversion</th>\n",
       "      <th>Approved_Conversion</th>\n",
       "    </tr>\n",
       "  </thead>\n",
       "  <tbody>\n",
       "    <tr>\n",
       "      <th>0</th>\n",
       "      <td>708746</td>\n",
       "      <td>campaign_1</td>\n",
       "      <td>103916</td>\n",
       "      <td>30-34</td>\n",
       "      <td>M</td>\n",
       "      <td>15</td>\n",
       "      <td>7350</td>\n",
       "      <td>1</td>\n",
       "      <td>1.43</td>\n",
       "      <td>2</td>\n",
       "      <td>1</td>\n",
       "    </tr>\n",
       "    <tr>\n",
       "      <th>1</th>\n",
       "      <td>708749</td>\n",
       "      <td>campaign_1</td>\n",
       "      <td>103917</td>\n",
       "      <td>30-34</td>\n",
       "      <td>M</td>\n",
       "      <td>16</td>\n",
       "      <td>17861</td>\n",
       "      <td>2</td>\n",
       "      <td>1.82</td>\n",
       "      <td>2</td>\n",
       "      <td>0</td>\n",
       "    </tr>\n",
       "    <tr>\n",
       "      <th>2</th>\n",
       "      <td>708771</td>\n",
       "      <td>campaign_1</td>\n",
       "      <td>103920</td>\n",
       "      <td>30-34</td>\n",
       "      <td>M</td>\n",
       "      <td>20</td>\n",
       "      <td>693</td>\n",
       "      <td>0</td>\n",
       "      <td>0.00</td>\n",
       "      <td>1</td>\n",
       "      <td>0</td>\n",
       "    </tr>\n",
       "    <tr>\n",
       "      <th>3</th>\n",
       "      <td>708815</td>\n",
       "      <td>campaign_1</td>\n",
       "      <td>103928</td>\n",
       "      <td>30-34</td>\n",
       "      <td>M</td>\n",
       "      <td>28</td>\n",
       "      <td>4259</td>\n",
       "      <td>1</td>\n",
       "      <td>1.25</td>\n",
       "      <td>1</td>\n",
       "      <td>0</td>\n",
       "    </tr>\n",
       "    <tr>\n",
       "      <th>4</th>\n",
       "      <td>708818</td>\n",
       "      <td>campaign_1</td>\n",
       "      <td>103928</td>\n",
       "      <td>30-34</td>\n",
       "      <td>M</td>\n",
       "      <td>28</td>\n",
       "      <td>4133</td>\n",
       "      <td>1</td>\n",
       "      <td>1.29</td>\n",
       "      <td>1</td>\n",
       "      <td>1</td>\n",
       "    </tr>\n",
       "  </tbody>\n",
       "</table>\n",
       "</div>"
      ],
      "text/plain": [
       "    ad_id xyz_campaign_id  fb_campaign_id    age gender  interest  \\\n",
       "0  708746      campaign_1          103916  30-34      M        15   \n",
       "1  708749      campaign_1          103917  30-34      M        16   \n",
       "2  708771      campaign_1          103920  30-34      M        20   \n",
       "3  708815      campaign_1          103928  30-34      M        28   \n",
       "4  708818      campaign_1          103928  30-34      M        28   \n",
       "\n",
       "   Impressions  Clicks  Spent  Total_Conversion  Approved_Conversion  \n",
       "0         7350       1   1.43                 2                    1  \n",
       "1        17861       2   1.82                 2                    0  \n",
       "2          693       0   0.00                 1                    0  \n",
       "3         4259       1   1.25                 1                    0  \n",
       "4         4133       1   1.29                 1                    1  "
      ]
     },
     "execution_count": 12,
     "metadata": {},
     "output_type": "execute_result"
    }
   ],
   "source": [
    "# renaming the campaigns for analysis purpose\n",
    "df['xyz_campaign_id'].replace({916:'campaign_1',936:'campaign_2',1178:'campaign_3'}, inplace=True)\n",
    "df.head()"
   ]
  },
  {
   "cell_type": "code",
   "execution_count": 13,
   "id": "8a060683",
   "metadata": {
    "execution": {
     "iopub.execute_input": "2022-10-25T16:28:53.570280Z",
     "iopub.status.busy": "2022-10-25T16:28:53.569695Z",
     "iopub.status.idle": "2022-10-25T16:28:53.578843Z",
     "shell.execute_reply": "2022-10-25T16:28:53.577601Z"
    },
    "papermill": {
     "duration": 0.042937,
     "end_time": "2022-10-25T16:28:53.581111",
     "exception": false,
     "start_time": "2022-10-25T16:28:53.538174",
     "status": "completed"
    },
    "tags": []
   },
   "outputs": [
    {
     "data": {
      "text/plain": [
       "691"
      ]
     },
     "execution_count": 13,
     "metadata": {},
     "output_type": "execute_result"
    }
   ],
   "source": [
    "df['fb_campaign_id'].nunique()\n",
    "# number of FB campaigns"
   ]
  },
  {
   "cell_type": "code",
   "execution_count": 14,
   "id": "d3a92f76",
   "metadata": {
    "execution": {
     "iopub.execute_input": "2022-10-25T16:28:53.641594Z",
     "iopub.status.busy": "2022-10-25T16:28:53.640733Z",
     "iopub.status.idle": "2022-10-25T16:28:53.649050Z",
     "shell.execute_reply": "2022-10-25T16:28:53.647500Z"
    },
    "papermill": {
     "duration": 0.042081,
     "end_time": "2022-10-25T16:28:53.651853",
     "exception": false,
     "start_time": "2022-10-25T16:28:53.609772",
     "status": "completed"
    },
    "tags": []
   },
   "outputs": [
    {
     "data": {
      "text/plain": [
       "1143"
      ]
     },
     "execution_count": 14,
     "metadata": {},
     "output_type": "execute_result"
    }
   ],
   "source": [
    "df['ad_id'].nunique()\n",
    "# number of adds in the data"
   ]
  },
  {
   "cell_type": "code",
   "execution_count": 15,
   "id": "72bda488",
   "metadata": {
    "execution": {
     "iopub.execute_input": "2022-10-25T16:28:53.713180Z",
     "iopub.status.busy": "2022-10-25T16:28:53.712667Z",
     "iopub.status.idle": "2022-10-25T16:28:53.924435Z",
     "shell.execute_reply": "2022-10-25T16:28:53.923107Z"
    },
    "papermill": {
     "duration": 0.246088,
     "end_time": "2022-10-25T16:28:53.927305",
     "exception": false,
     "start_time": "2022-10-25T16:28:53.681217",
     "status": "completed"
    },
    "tags": []
   },
   "outputs": [
    {
     "data": {
      "text/plain": [
       "<AxesSubplot:xlabel='xyz_campaign_id', ylabel='count'>"
      ]
     },
     "execution_count": 15,
     "metadata": {},
     "output_type": "execute_result"
    },
    {
     "data": {
      "image/png": "[encoded data removed]",
      "text/plain": [
       "<Figure size 432x288 with 1 Axes>"
      ]
     },
     "metadata": {
      "needs_background": "light"
     },
     "output_type": "display_data"
    }
   ],
   "source": [
    "sns.countplot(x='xyz_campaign_id', data=df)\n",
    "# we can see that maximum adds were shown to campaign_3"
   ]
  },
  {
   "cell_type": "code",
   "execution_count": 16,
   "id": "55e50257",
   "metadata": {
    "execution": {
     "iopub.execute_input": "2022-10-25T16:28:53.991320Z",
     "iopub.status.busy": "2022-10-25T16:28:53.990513Z",
     "iopub.status.idle": "2022-10-25T16:28:54.435092Z",
     "shell.execute_reply": "2022-10-25T16:28:54.433722Z"
    },
    "papermill": {
     "duration": 0.481078,
     "end_time": "2022-10-25T16:28:54.437861",
     "exception": false,
     "start_time": "2022-10-25T16:28:53.956783",
     "status": "completed"
    },
    "tags": []
   },
   "outputs": [
    {
     "data": {
      "image/png": "[encoded data removed]",
      "text/plain": [
       "<Figure size 432x288 with 1 Axes>"
      ]
     },
     "metadata": {
      "needs_background": "light"
     },
     "output_type": "display_data"
    }
   ],
   "source": [
    "ax=sns.countplot(x ='xyz_campaign_id',hue=\"Approved_Conversion\", data = df) \n",
    "plt.grid(axis='y')\n",
    "sns.move_legend(ax, \"upper left\", bbox_to_anchor=(1, 1))\n",
    "# campaign_3 has maximum approved conversions\n"
   ]
  },
  {
   "cell_type": "code",
   "execution_count": 17,
   "id": "c6ae2be2",
   "metadata": {
    "execution": {
     "iopub.execute_input": "2022-10-25T16:28:54.500973Z",
     "iopub.status.busy": "2022-10-25T16:28:54.499611Z",
     "iopub.status.idle": "2022-10-25T16:28:54.724711Z",
     "shell.execute_reply": "2022-10-25T16:28:54.723423Z"
    },
    "papermill": {
     "duration": 0.259837,
     "end_time": "2022-10-25T16:28:54.728056",
     "exception": false,
     "start_time": "2022-10-25T16:28:54.468219",
     "status": "completed"
    },
    "tags": []
   },
   "outputs": [
    {
     "data": {
      "image/png": "[encoded data removed]",
      "text/plain": [
       "<Figure size 432x288 with 1 Axes>"
      ]
     },
     "metadata": {
      "needs_background": "light"
     },
     "output_type": "display_data"
    }
   ],
   "source": [
    "ax=sns.scatterplot(x ='xyz_campaign_id',y=\"Clicks\", data = df) \n",
    "# campaign_3 clicks are more"
   ]
  },
  {
   "cell_type": "code",
   "execution_count": 18,
   "id": "e0714fd1",
   "metadata": {
    "execution": {
     "iopub.execute_input": "2022-10-25T16:28:54.791270Z",
     "iopub.status.busy": "2022-10-25T16:28:54.789788Z",
     "iopub.status.idle": "2022-10-25T16:28:55.471540Z",
     "shell.execute_reply": "2022-10-25T16:28:55.470299Z"
    },
    "papermill": {
     "duration": 0.715779,
     "end_time": "2022-10-25T16:28:55.474188",
     "exception": false,
     "start_time": "2022-10-25T16:28:54.758409",
     "status": "completed"
    },
    "tags": []
   },
   "outputs": [
    {
     "data": {
      "image/png": "[encoded data removed]",
      "text/plain": [
       "<Figure size 432x288 with 1 Axes>"
      ]
     },
     "metadata": {
      "needs_background": "light"
     },
     "output_type": "display_data"
    }
   ],
   "source": [
    "ax=sns.countplot(x ='xyz_campaign_id',hue=\"Total_Conversion\", data = df) \n",
    "plt.grid(axis='y')\n",
    "sns.move_legend(ax, \"upper left\", bbox_to_anchor=(1, 1))"
   ]
  },
  {
   "cell_type": "markdown",
   "id": "30ebf92f",
   "metadata": {
    "papermill": {
     "duration": 0.029701,
     "end_time": "2022-10-25T16:28:55.533895",
     "exception": false,
     "start_time": "2022-10-25T16:28:55.504194",
     "status": "completed"
    },
    "tags": []
   },
   "source": [
    "distribution of conversions for campaigns over gender "
   ]
  },
  {
   "cell_type": "code",
   "execution_count": 19,
   "id": "308be8b2",
   "metadata": {
    "execution": {
     "iopub.execute_input": "2022-10-25T16:28:55.596693Z",
     "iopub.status.busy": "2022-10-25T16:28:55.596184Z",
     "iopub.status.idle": "2022-10-25T16:28:55.846239Z",
     "shell.execute_reply": "2022-10-25T16:28:55.844948Z"
    },
    "papermill": {
     "duration": 0.285279,
     "end_time": "2022-10-25T16:28:55.848870",
     "exception": false,
     "start_time": "2022-10-25T16:28:55.563591",
     "status": "completed"
    },
    "tags": []
   },
   "outputs": [
    {
     "data": {
      "image/png": "[encoded data removed]",
      "text/plain": [
       "<Figure size 432x288 with 1 Axes>"
      ]
     },
     "metadata": {
      "needs_background": "light"
     },
     "output_type": "display_data"
    }
   ],
   "source": [
    "ax=sns.countplot(x ='xyz_campaign_id',hue=\"gender\", data = df) \n",
    "plt.grid(axis='y')\n",
    "sns.move_legend(ax, \"upper left\", bbox_to_anchor=(1, 1))\n",
    "\n",
    "# distribution of gender over campaigns not same"
   ]
  },
  {
   "cell_type": "code",
   "execution_count": 20,
   "id": "1b8b9339",
   "metadata": {
    "execution": {
     "iopub.execute_input": "2022-10-25T16:28:55.912463Z",
     "iopub.status.busy": "2022-10-25T16:28:55.911860Z",
     "iopub.status.idle": "2022-10-25T16:28:56.301751Z",
     "shell.execute_reply": "2022-10-25T16:28:56.300484Z"
    },
    "papermill": {
     "duration": 0.424765,
     "end_time": "2022-10-25T16:28:56.304602",
     "exception": false,
     "start_time": "2022-10-25T16:28:55.879837",
     "status": "completed"
    },
    "tags": []
   },
   "outputs": [
    {
     "data": {
      "image/png": "[encoded data removed]",
      "text/plain": [
       "<Figure size 432x288 with 1 Axes>"
      ]
     },
     "metadata": {
      "needs_background": "light"
     },
     "output_type": "display_data"
    }
   ],
   "source": [
    "ax=sns.countplot(hue ='Approved_Conversion',x=\"gender\", data = df) \n",
    "plt.grid(axis='y')\n",
    "sns.move_legend(ax, \"upper left\", bbox_to_anchor=(1, 1))\n",
    "# Males convert more than females"
   ]
  },
  {
   "cell_type": "code",
   "execution_count": 21,
   "id": "43dd26b9",
   "metadata": {
    "execution": {
     "iopub.execute_input": "2022-10-25T16:28:56.369428Z",
     "iopub.status.busy": "2022-10-25T16:28:56.368048Z",
     "iopub.status.idle": "2022-10-25T16:28:56.784290Z",
     "shell.execute_reply": "2022-10-25T16:28:56.782963Z"
    },
    "papermill": {
     "duration": 0.451884,
     "end_time": "2022-10-25T16:28:56.787160",
     "exception": false,
     "start_time": "2022-10-25T16:28:56.335276",
     "status": "completed"
    },
    "tags": []
   },
   "outputs": [
    {
     "data": {
      "image/png": "[encoded data removed]",
      "text/plain": [
       "<Figure size 432x288 with 1 Axes>"
      ]
     },
     "metadata": {
      "needs_background": "light"
     },
     "output_type": "display_data"
    }
   ],
   "source": [
    "ax=sns.barplot(x ='xyz_campaign_id',y='Approved_Conversion',hue='gender', data = df) \n",
    "sns.move_legend(ax, \"upper left\", bbox_to_anchor=(1, 1))\n",
    "\n",
    "# unlike campaign 1 and campaign 2 , campaign 3 has more females with conversions"
   ]
  },
  {
   "cell_type": "markdown",
   "id": "2ded5c4e",
   "metadata": {
    "papermill": {
     "duration": 0.030772,
     "end_time": "2022-10-25T16:28:56.849359",
     "exception": false,
     "start_time": "2022-10-25T16:28:56.818587",
     "status": "completed"
    },
    "tags": []
   },
   "source": [
    "distribution of conversions with campaigns over age"
   ]
  },
  {
   "cell_type": "code",
   "execution_count": 22,
   "id": "4f43c9d1",
   "metadata": {
    "execution": {
     "iopub.execute_input": "2022-10-25T16:28:56.914042Z",
     "iopub.status.busy": "2022-10-25T16:28:56.913474Z",
     "iopub.status.idle": "2022-10-25T16:28:57.404456Z",
     "shell.execute_reply": "2022-10-25T16:28:57.403111Z"
    },
    "papermill": {
     "duration": 0.526972,
     "end_time": "2022-10-25T16:28:57.407207",
     "exception": false,
     "start_time": "2022-10-25T16:28:56.880235",
     "status": "completed"
    },
    "tags": []
   },
   "outputs": [
    {
     "data": {
      "image/png": "[encoded data removed]",
      "text/plain": [
       "<Figure size 432x288 with 1 Axes>"
      ]
     },
     "metadata": {
      "needs_background": "light"
     },
     "output_type": "display_data"
    }
   ],
   "source": [
    "ax=sns.countplot(x='age',hue='Approved_Conversion', data=df)\n",
    "sns.move_legend(ax, \"upper left\", bbox_to_anchor=(1, 1))\n",
    "# maximum users are in 30-34 age bracket and also maximum conversions are from same age group"
   ]
  },
  {
   "cell_type": "code",
   "execution_count": 23,
   "id": "3e6ceb5e",
   "metadata": {
    "execution": {
     "iopub.execute_input": "2022-10-25T16:28:57.473979Z",
     "iopub.status.busy": "2022-10-25T16:28:57.473423Z",
     "iopub.status.idle": "2022-10-25T16:28:57.976162Z",
     "shell.execute_reply": "2022-10-25T16:28:57.974792Z"
    },
    "papermill": {
     "duration": 0.540405,
     "end_time": "2022-10-25T16:28:57.979320",
     "exception": false,
     "start_time": "2022-10-25T16:28:57.438915",
     "status": "completed"
    },
    "tags": []
   },
   "outputs": [
    {
     "data": {
      "image/png": "[encoded data removed]",
      "text/plain": [
       "<Figure size 432x288 with 1 Axes>"
      ]
     },
     "metadata": {
      "needs_background": "light"
     },
     "output_type": "display_data"
    }
   ],
   "source": [
    "ax=sns.countplot(x='xyz_campaign_id',hue='age', data=df)\n",
    "sns.move_legend(ax, \"upper left\", bbox_to_anchor=(1, 1))\n",
    "# maximum users are in 30-34 age, 45-49 age  bracket and also maximum conversions are from same age group\n",
    "# maximum people /ads were in campaign 3 and so maximum conversions in 30-34 age bracket"
   ]
  },
  {
   "cell_type": "code",
   "execution_count": 24,
   "id": "6663e197",
   "metadata": {
    "execution": {
     "iopub.execute_input": "2022-10-25T16:28:58.046034Z",
     "iopub.status.busy": "2022-10-25T16:28:58.045486Z",
     "iopub.status.idle": "2022-10-25T16:29:01.118555Z",
     "shell.execute_reply": "2022-10-25T16:29:01.117092Z"
    },
    "papermill": {
     "duration": 3.10988,
     "end_time": "2022-10-25T16:29:01.121323",
     "exception": false,
     "start_time": "2022-10-25T16:28:58.011443",
     "status": "completed"
    },
    "tags": []
   },
   "outputs": [
    {
     "data": {
      "text/plain": [
       "<AxesSubplot:xlabel='xyz_campaign_id', ylabel='Approved_Conversion'>"
      ]
     },
     "execution_count": 24,
     "metadata": {},
     "output_type": "execute_result"
    },
    {
     "data": {
      "image/png": "[encoded data removed]",
      "text/plain": [
       "<Figure size 432x288 with 1 Axes>"
      ]
     },
     "metadata": {},
     "output_type": "display_data"
    }
   ],
   "source": [
    "import seaborn as sns\n",
    "sns.set(style=\"whitegrid\")\n",
    "tips = sns.load_dataset(\"tips\")\n",
    "sns.barplot(x=df[\"xyz_campaign_id\"], y=df[\"Approved_Conversion\"], hue=df[\"age\"], data=tips)\n",
    "\n",
    "# distribution of conversions in each campaign by age\n",
    "# campaign_1 has most conversions for age group 40-44 and least for 30-34. \n",
    "\n",
    "#In other 2 campaigns it is reverse trend. Maximum for 30-34 and minimum for 40-44.\n"
   ]
  },
  {
   "cell_type": "code",
   "execution_count": null,
   "id": "307a1ee9",
   "metadata": {
    "papermill": {
     "duration": 0.032062,
     "end_time": "2022-10-25T16:29:01.186297",
     "exception": false,
     "start_time": "2022-10-25T16:29:01.154235",
     "status": "completed"
    },
    "tags": []
   },
   "outputs": [],
   "source": []
  },
  {
   "cell_type": "code",
   "execution_count": 25,
   "id": "706a53a7",
   "metadata": {
    "execution": {
     "iopub.execute_input": "2022-10-25T16:29:01.252466Z",
     "iopub.status.busy": "2022-10-25T16:29:01.251969Z",
     "iopub.status.idle": "2022-10-25T16:29:01.507809Z",
     "shell.execute_reply": "2022-10-25T16:29:01.506364Z"
    },
    "papermill": {
     "duration": 0.29236,
     "end_time": "2022-10-25T16:29:01.510583",
     "exception": false,
     "start_time": "2022-10-25T16:29:01.218223",
     "status": "completed"
    },
    "tags": []
   },
   "outputs": [
    {
     "data": {
      "image/png": "[encoded data removed]",
      "text/plain": [
       "<Figure size 1080x504 with 1 Axes>"
      ]
     },
     "metadata": {},
     "output_type": "display_data"
    }
   ],
   "source": [
    "fig=plt.figure(figsize=(15,7))\n",
    "\n",
    "sns.scatterplot(y='Impressions',x='xyz_campaign_id', data=df)\n",
    "\n",
    "\n",
    "plt.show()"
   ]
  },
  {
   "cell_type": "code",
   "execution_count": 26,
   "id": "3c918307",
   "metadata": {
    "execution": {
     "iopub.execute_input": "2022-10-25T16:29:01.578253Z",
     "iopub.status.busy": "2022-10-25T16:29:01.577718Z",
     "iopub.status.idle": "2022-10-25T16:29:01.872275Z",
     "shell.execute_reply": "2022-10-25T16:29:01.870825Z"
    },
    "papermill": {
     "duration": 0.331907,
     "end_time": "2022-10-25T16:29:01.875218",
     "exception": false,
     "start_time": "2022-10-25T16:29:01.543311",
     "status": "completed"
    },
    "tags": []
   },
   "outputs": [
    {
     "data": {
      "image/png": "[encoded data removed]",
      "text/plain": [
       "<Figure size 1080x504 with 1 Axes>"
      ]
     },
     "metadata": {},
     "output_type": "display_data"
    }
   ],
   "source": [
    "fig=plt.figure(figsize=(15,7))\n",
    "\n",
    "sns.scatterplot(y='Impressions',x='Approved_Conversion', data=df)\n",
    "\n",
    "\n",
    "plt.show()"
   ]
  },
  {
   "cell_type": "markdown",
   "id": "089996ba",
   "metadata": {
    "papermill": {
     "duration": 0.033336,
     "end_time": "2022-10-25T16:29:01.942092",
     "exception": false,
     "start_time": "2022-10-25T16:29:01.908756",
     "status": "completed"
    },
    "tags": []
   },
   "source": [
    "higher Impressions drive higher conversions"
   ]
  },
  {
   "cell_type": "code",
   "execution_count": 27,
   "id": "5bb1e489",
   "metadata": {
    "execution": {
     "iopub.execute_input": "2022-10-25T16:29:02.011720Z",
     "iopub.status.busy": "2022-10-25T16:29:02.011210Z",
     "iopub.status.idle": "2022-10-25T16:29:02.023885Z",
     "shell.execute_reply": "2022-10-25T16:29:02.022261Z"
    },
    "papermill": {
     "duration": 0.051003,
     "end_time": "2022-10-25T16:29:02.026503",
     "exception": false,
     "start_time": "2022-10-25T16:29:01.975500",
     "status": "completed"
    },
    "tags": []
   },
   "outputs": [
    {
     "data": {
      "text/plain": [
       "xyz_campaign_id\n",
       "campaign_1      113\n",
       "campaign_2     1984\n",
       "campaign_3    36068\n",
       "Name: Clicks, dtype: int64"
      ]
     },
     "execution_count": 27,
     "metadata": {},
     "output_type": "execute_result"
    }
   ],
   "source": [
    "df['Clicks'].groupby(by=df['xyz_campaign_id']).sum()"
   ]
  },
  {
   "cell_type": "code",
   "execution_count": 28,
   "id": "aa56ba87",
   "metadata": {
    "execution": {
     "iopub.execute_input": "2022-10-25T16:29:02.095038Z",
     "iopub.status.busy": "2022-10-25T16:29:02.094521Z",
     "iopub.status.idle": "2022-10-25T16:29:02.106334Z",
     "shell.execute_reply": "2022-10-25T16:29:02.104806Z"
    },
    "papermill": {
     "duration": 0.049441,
     "end_time": "2022-10-25T16:29:02.109042",
     "exception": false,
     "start_time": "2022-10-25T16:29:02.059601",
     "status": "completed"
    },
    "tags": []
   },
   "outputs": [
    {
     "data": {
      "text/plain": [
       "xyz_campaign_id\n",
       "campaign_1     24\n",
       "campaign_2    183\n",
       "campaign_3    872\n",
       "Name: Approved_Conversion, dtype: int64"
      ]
     },
     "execution_count": 28,
     "metadata": {},
     "output_type": "execute_result"
    }
   ],
   "source": [
    "df['Approved_Conversion'].groupby(by=df['xyz_campaign_id']).sum()"
   ]
  },
  {
   "cell_type": "code",
   "execution_count": 29,
   "id": "3ebda2cf",
   "metadata": {
    "execution": {
     "iopub.execute_input": "2022-10-25T16:29:02.177934Z",
     "iopub.status.busy": "2022-10-25T16:29:02.177411Z",
     "iopub.status.idle": "2022-10-25T16:29:02.188932Z",
     "shell.execute_reply": "2022-10-25T16:29:02.187693Z"
    },
    "papermill": {
     "duration": 0.049246,
     "end_time": "2022-10-25T16:29:02.191515",
     "exception": false,
     "start_time": "2022-10-25T16:29:02.142269",
     "status": "completed"
    },
    "tags": []
   },
   "outputs": [
    {
     "data": {
      "text/plain": [
       "xyz_campaign_id\n",
       "campaign_1      58\n",
       "campaign_2     537\n",
       "campaign_3    2669\n",
       "Name: Total_Conversion, dtype: int64"
      ]
     },
     "execution_count": 29,
     "metadata": {},
     "output_type": "execute_result"
    }
   ],
   "source": [
    "df['Total_Conversion'].groupby(by=df['xyz_campaign_id']).sum()"
   ]
  },
  {
   "cell_type": "code",
   "execution_count": 30,
   "id": "0b17f8dd",
   "metadata": {
    "execution": {
     "iopub.execute_input": "2022-10-25T16:29:02.263176Z",
     "iopub.status.busy": "2022-10-25T16:29:02.262623Z",
     "iopub.status.idle": "2022-10-25T16:29:02.273599Z",
     "shell.execute_reply": "2022-10-25T16:29:02.272436Z"
    },
    "papermill": {
     "duration": 0.049728,
     "end_time": "2022-10-25T16:29:02.275854",
     "exception": false,
     "start_time": "2022-10-25T16:29:02.226126",
     "status": "completed"
    },
    "tags": []
   },
   "outputs": [
    {
     "data": {
      "text/plain": [
       "xyz_campaign_id\n",
       "campaign_1     54\n",
       "campaign_2    464\n",
       "campaign_3    625\n",
       "Name: ad_id, dtype: int64"
      ]
     },
     "execution_count": 30,
     "metadata": {},
     "output_type": "execute_result"
    }
   ],
   "source": [
    "df['ad_id'].groupby(by=df['xyz_campaign_id']).count()"
   ]
  },
  {
   "cell_type": "code",
   "execution_count": 31,
   "id": "9587941e",
   "metadata": {
    "execution": {
     "iopub.execute_input": "2022-10-25T16:29:02.345513Z",
     "iopub.status.busy": "2022-10-25T16:29:02.345007Z",
     "iopub.status.idle": "2022-10-25T16:29:02.356536Z",
     "shell.execute_reply": "2022-10-25T16:29:02.355379Z"
    },
    "papermill": {
     "duration": 0.049604,
     "end_time": "2022-10-25T16:29:02.358954",
     "exception": false,
     "start_time": "2022-10-25T16:29:02.309350",
     "status": "completed"
    },
    "tags": []
   },
   "outputs": [
    {
     "data": {
      "text/plain": [
       "xyz_campaign_id\n",
       "campaign_1       482925\n",
       "campaign_2      8128187\n",
       "campaign_3    204823716\n",
       "Name: Impressions, dtype: int64"
      ]
     },
     "execution_count": 31,
     "metadata": {},
     "output_type": "execute_result"
    }
   ],
   "source": [
    "df['Impressions'].groupby(by=df['xyz_campaign_id']).sum()"
   ]
  },
  {
   "cell_type": "code",
   "execution_count": 32,
   "id": "0954d5bc",
   "metadata": {
    "execution": {
     "iopub.execute_input": "2022-10-25T16:29:02.428925Z",
     "iopub.status.busy": "2022-10-25T16:29:02.428419Z",
     "iopub.status.idle": "2022-10-25T16:29:02.436640Z",
     "shell.execute_reply": "2022-10-25T16:29:02.435687Z"
    },
    "papermill": {
     "duration": 0.046266,
     "end_time": "2022-10-25T16:29:02.438982",
     "exception": false,
     "start_time": "2022-10-25T16:29:02.392716",
     "status": "completed"
    },
    "tags": []
   },
   "outputs": [
    {
     "data": {
      "text/plain": [
       "array([ 15,  16,  20,  28,  29,  27,  31,   7,  30,  24,  21,  32,  18,\n",
       "        63,  65,  25,  10,  19,  26,  36,  23,  64,  22,   2,  66, 100,\n",
       "       101, 102, 103, 105, 107, 110, 111, 112, 113, 108, 109, 114, 104,\n",
       "       106])"
      ]
     },
     "execution_count": 32,
     "metadata": {},
     "output_type": "execute_result"
    }
   ],
   "source": [
    "df['interest'].unique()"
   ]
  },
  {
   "cell_type": "code",
   "execution_count": 33,
   "id": "d5f50490",
   "metadata": {
    "execution": {
     "iopub.execute_input": "2022-10-25T16:29:02.510013Z",
     "iopub.status.busy": "2022-10-25T16:29:02.509523Z",
     "iopub.status.idle": "2022-10-25T16:29:02.525259Z",
     "shell.execute_reply": "2022-10-25T16:29:02.524067Z"
    },
    "papermill": {
     "duration": 0.053993,
     "end_time": "2022-10-25T16:29:02.527678",
     "exception": false,
     "start_time": "2022-10-25T16:29:02.473685",
     "status": "completed"
    },
    "tags": []
   },
   "outputs": [
    {
     "data": {
      "text/plain": [
       "16.0     38\n",
       "10.0     35\n",
       "29.0     35\n",
       "27.0     26\n",
       "63.0     26\n",
       "28.0     26\n",
       "64.0     24\n",
       "20.0     24\n",
       "19.0     23\n",
       "22.0     22\n",
       "21.0     22\n",
       "32.0     21\n",
       "18.0     20\n",
       "15.0     20\n",
       "25.0     19\n",
       "2.0      18\n",
       "26.0     18\n",
       "23.0     17\n",
       "24.0     16\n",
       "30.0     16\n",
       "31.0     15\n",
       "7.0      14\n",
       "36.0     13\n",
       "65.0     11\n",
       "66.0     11\n",
       "107.0     8\n",
       "110.0     8\n",
       "102.0     7\n",
       "105.0     7\n",
       "101.0     7\n",
       "112.0     7\n",
       "108.0     7\n",
       "100.0     6\n",
       "111.0     6\n",
       "113.0     6\n",
       "109.0     6\n",
       "103.0     5\n",
       "114.0     5\n",
       "104.0     5\n",
       "106.0     5\n",
       "Name: interest, dtype: int64"
      ]
     },
     "execution_count": 33,
     "metadata": {},
     "output_type": "execute_result"
    }
   ],
   "source": [
    "df['interest'].where(df['xyz_campaign_id']=='campaign_3').value_counts()"
   ]
  },
  {
   "cell_type": "code",
   "execution_count": 34,
   "id": "879b17e0",
   "metadata": {
    "execution": {
     "iopub.execute_input": "2022-10-25T16:29:02.597816Z",
     "iopub.status.busy": "2022-10-25T16:29:02.597305Z",
     "iopub.status.idle": "2022-10-25T16:29:02.610441Z",
     "shell.execute_reply": "2022-10-25T16:29:02.609241Z"
    },
    "papermill": {
     "duration": 0.051409,
     "end_time": "2022-10-25T16:29:02.612976",
     "exception": false,
     "start_time": "2022-10-25T16:29:02.561567",
     "status": "completed"
    },
    "tags": []
   },
   "outputs": [
    {
     "data": {
      "text/plain": [
       "16.0    86\n",
       "10.0    48\n",
       "29.0    39\n",
       "27.0    31\n",
       "64.0    24\n",
       "26.0    23\n",
       "20.0    22\n",
       "15.0    22\n",
       "18.0    22\n",
       "28.0    21\n",
       "63.0    18\n",
       "21.0    13\n",
       "22.0    11\n",
       "32.0    11\n",
       "36.0     8\n",
       "19.0     8\n",
       "31.0     8\n",
       "7.0      8\n",
       "30.0     8\n",
       "2.0      7\n",
       "24.0     7\n",
       "65.0     7\n",
       "23.0     6\n",
       "25.0     6\n",
       "Name: interest, dtype: int64"
      ]
     },
     "execution_count": 34,
     "metadata": {},
     "output_type": "execute_result"
    }
   ],
   "source": [
    "df['interest'].where(df['xyz_campaign_id']=='campaign_2').value_counts()"
   ]
  },
  {
   "cell_type": "code",
   "execution_count": 35,
   "id": "96146684",
   "metadata": {
    "execution": {
     "iopub.execute_input": "2022-10-25T16:29:02.683676Z",
     "iopub.status.busy": "2022-10-25T16:29:02.683201Z",
     "iopub.status.idle": "2022-10-25T16:29:03.312163Z",
     "shell.execute_reply": "2022-10-25T16:29:03.310502Z"
    },
    "papermill": {
     "duration": 0.668319,
     "end_time": "2022-10-25T16:29:03.315334",
     "exception": false,
     "start_time": "2022-10-25T16:29:02.647015",
     "status": "completed"
    },
    "tags": []
   },
   "outputs": [
    {
     "data": {
      "image/png": "[encoded data removed]",
      "text/plain": [
       "<Figure size 1080x504 with 1 Axes>"
      ]
     },
     "metadata": {},
     "output_type": "display_data"
    }
   ],
   "source": [
    "fig=plt.figure(figsize=(15,7))\n",
    "\n",
    "sns.countplot(x='interest', data=df)\n",
    "\n",
    "\n",
    "plt.show()"
   ]
  },
  {
   "cell_type": "code",
   "execution_count": 36,
   "id": "37ee5f6b",
   "metadata": {
    "execution": {
     "iopub.execute_input": "2022-10-25T16:29:03.387400Z",
     "iopub.status.busy": "2022-10-25T16:29:03.386874Z",
     "iopub.status.idle": "2022-10-25T16:29:03.673937Z",
     "shell.execute_reply": "2022-10-25T16:29:03.672941Z"
    },
    "papermill": {
     "duration": 0.325486,
     "end_time": "2022-10-25T16:29:03.676126",
     "exception": false,
     "start_time": "2022-10-25T16:29:03.350640",
     "status": "completed"
    },
    "tags": []
   },
   "outputs": [
    {
     "data": {
      "image/png": "[encoded data removed]",
      "text/plain": [
       "<Figure size 1080x504 with 1 Axes>"
      ]
     },
     "metadata": {},
     "output_type": "display_data"
    }
   ],
   "source": [
    "fig=plt.figure(figsize=(15,7))\n",
    "\n",
    "sns.scatterplot(y='interest',x='Approved_Conversion', data=df)\n",
    "\n",
    "\n",
    "plt.show()"
   ]
  },
  {
   "cell_type": "code",
   "execution_count": 37,
   "id": "a26693bf",
   "metadata": {
    "execution": {
     "iopub.execute_input": "2022-10-25T16:29:03.749934Z",
     "iopub.status.busy": "2022-10-25T16:29:03.748733Z",
     "iopub.status.idle": "2022-10-25T16:29:04.616181Z",
     "shell.execute_reply": "2022-10-25T16:29:04.614855Z"
    },
    "papermill": {
     "duration": 0.907155,
     "end_time": "2022-10-25T16:29:04.619352",
     "exception": false,
     "start_time": "2022-10-25T16:29:03.712197",
     "status": "completed"
    },
    "tags": []
   },
   "outputs": [
    {
     "data": {
      "image/png": "[encoded data removed]",
      "text/plain": [
       "<Figure size 1080x504 with 1 Axes>"
      ]
     },
     "metadata": {},
     "output_type": "display_data"
    }
   ],
   "source": [
    "fig=plt.figure(figsize=(15,7))\n",
    "\n",
    "sns.countplot(x='interest',hue='xyz_campaign_id', data=df)\n",
    "\n",
    "\n",
    "plt.show()"
   ]
  },
  {
   "cell_type": "markdown",
   "id": "0354f9c5",
   "metadata": {
    "papermill": {
     "duration": 0.035712,
     "end_time": "2022-10-25T16:29:04.691219",
     "exception": false,
     "start_time": "2022-10-25T16:29:04.655507",
     "status": "completed"
    },
    "tags": []
   },
   "source": [
    "\n",
    "Though there are more add campaigns with interest code ranging between 2-66 , there are still many conversions for ads with interest code beyond 66 code\n",
    "When we compare the xyz campaign_3 with xyz campaign_2 we can see that campaign_3 has many adds with interests beyond code 66 and perhaps that is what driving the higher conversions as well."
   ]
  },
  {
   "cell_type": "code",
   "execution_count": 38,
   "id": "122f3c38",
   "metadata": {
    "execution": {
     "iopub.execute_input": "2022-10-25T16:29:04.765313Z",
     "iopub.status.busy": "2022-10-25T16:29:04.764800Z",
     "iopub.status.idle": "2022-10-25T16:29:04.777405Z",
     "shell.execute_reply": "2022-10-25T16:29:04.776446Z"
    },
    "papermill": {
     "duration": 0.051655,
     "end_time": "2022-10-25T16:29:04.779541",
     "exception": false,
     "start_time": "2022-10-25T16:29:04.727886",
     "status": "completed"
    },
    "tags": []
   },
   "outputs": [
    {
     "data": {
      "text/plain": [
       "interest\n",
       "2       0.809449\n",
       "7       1.224186\n",
       "10      8.428729\n",
       "15      5.034725\n",
       "16     14.903624\n",
       "18      4.051114\n",
       "19      2.850152\n",
       "20      3.232793\n",
       "21      1.327488\n",
       "22      1.857898\n",
       "23      0.860388\n",
       "24      1.057407\n",
       "25      2.460573\n",
       "26      2.281089\n",
       "27      7.661602\n",
       "28      5.134977\n",
       "29      8.793622\n",
       "30      1.026441\n",
       "31      0.503813\n",
       "32      3.024465\n",
       "36      0.432417\n",
       "63      3.919529\n",
       "64      2.382676\n",
       "65      0.814088\n",
       "66      0.418585\n",
       "100     0.948154\n",
       "101     1.387052\n",
       "102     0.543938\n",
       "103     0.900065\n",
       "104     0.661612\n",
       "105     1.244572\n",
       "106     0.746097\n",
       "107     2.099990\n",
       "108     1.294730\n",
       "109     1.396382\n",
       "110     1.140732\n",
       "111     0.698525\n",
       "112     1.089125\n",
       "113     0.857669\n",
       "114     0.499527\n",
       "Name: Impressions, dtype: float64"
      ]
     },
     "execution_count": 38,
     "metadata": {},
     "output_type": "execute_result"
    }
   ],
   "source": [
    "(df['Impressions'].groupby(df['interest']).sum()/df['Impressions'].sum())*100\n",
    "# percentage ad impression for each interest. For interest code 16 it is dispproportinately high. interest code 29 has 8 % impressions but \n",
    "#delivers 12 % conversions. The impressions should be increased for other ads with interest code that are giving high conversions. Redistribute\n",
    "#the impressions based on the conversions."
   ]
  },
  {
   "cell_type": "code",
   "execution_count": 39,
   "id": "151abbcd",
   "metadata": {
    "execution": {
     "iopub.execute_input": "2022-10-25T16:29:04.853363Z",
     "iopub.status.busy": "2022-10-25T16:29:04.852458Z",
     "iopub.status.idle": "2022-10-25T16:29:04.865454Z",
     "shell.execute_reply": "2022-10-25T16:29:04.864281Z"
    },
    "papermill": {
     "duration": 0.052,
     "end_time": "2022-10-25T16:29:04.867773",
     "exception": false,
     "start_time": "2022-10-25T16:29:04.815773",
     "status": "completed"
    },
    "tags": []
   },
   "outputs": [
    {
     "data": {
      "text/plain": [
       "interest\n",
       "2       1.760890\n",
       "7       1.760890\n",
       "10      8.433735\n",
       "15      5.838740\n",
       "16     13.067655\n",
       "18      3.058387\n",
       "19      3.058387\n",
       "20      4.355885\n",
       "21      2.502317\n",
       "22      1.112141\n",
       "23      0.648749\n",
       "24      1.390176\n",
       "25      1.760890\n",
       "26      2.131603\n",
       "27      5.004634\n",
       "28      3.892493\n",
       "29     12.233550\n",
       "30      1.112141\n",
       "31      1.482854\n",
       "32      3.243744\n",
       "36      0.926784\n",
       "63      3.151066\n",
       "64      2.502317\n",
       "65      1.760890\n",
       "66      0.370714\n",
       "100     0.834106\n",
       "101     2.316960\n",
       "102     0.648749\n",
       "103     0.463392\n",
       "104     0.741427\n",
       "105     0.556070\n",
       "106     0.463392\n",
       "107     1.853568\n",
       "108     0.648749\n",
       "109     0.741427\n",
       "110     0.834106\n",
       "111     0.926784\n",
       "112     1.390176\n",
       "113     0.648749\n",
       "114     0.370714\n",
       "Name: Approved_Conversion, dtype: float64"
      ]
     },
     "execution_count": 39,
     "metadata": {},
     "output_type": "execute_result"
    }
   ],
   "source": [
    "(df[\"Approved_Conversion\"].groupby(df['interest']).sum()/df[\"Approved_Conversion\"].sum())*100"
   ]
  },
  {
   "cell_type": "code",
   "execution_count": 40,
   "id": "00268f38",
   "metadata": {
    "execution": {
     "iopub.execute_input": "2022-10-25T16:29:04.943159Z",
     "iopub.status.busy": "2022-10-25T16:29:04.942197Z",
     "iopub.status.idle": "2022-10-25T16:29:07.790983Z",
     "shell.execute_reply": "2022-10-25T16:29:07.789656Z"
    },
    "papermill": {
     "duration": 2.890437,
     "end_time": "2022-10-25T16:29:07.794171",
     "exception": false,
     "start_time": "2022-10-25T16:29:04.903734",
     "status": "completed"
    },
    "tags": []
   },
   "outputs": [
    {
     "data": {
      "image/png": "[encoded data removed]",
      "text/plain": [
       "<Figure size 1080x504 with 1 Axes>"
      ]
     },
     "metadata": {},
     "output_type": "display_data"
    }
   ],
   "source": [
    "fig=plt.figure(figsize=(15,7))\n",
    "\n",
    "ax=sns.barplot(x=df[\"xyz_campaign_id\"], y=df[\"Approved_Conversion\"], hue=df[\"interest\"], data=df)\n",
    "sns.move_legend(ax, \"upper left\", bbox_to_anchor=(1, 1))"
   ]
  },
  {
   "cell_type": "code",
   "execution_count": 41,
   "id": "f2116f70",
   "metadata": {
    "execution": {
     "iopub.execute_input": "2022-10-25T16:29:07.880828Z",
     "iopub.status.busy": "2022-10-25T16:29:07.879778Z",
     "iopub.status.idle": "2022-10-25T16:29:07.890782Z",
     "shell.execute_reply": "2022-10-25T16:29:07.889166Z"
    },
    "papermill": {
     "duration": 0.062742,
     "end_time": "2022-10-25T16:29:07.894637",
     "exception": false,
     "start_time": "2022-10-25T16:29:07.831895",
     "status": "completed"
    },
    "tags": []
   },
   "outputs": [
    {
     "name": "stdout",
     "output_type": "stream",
     "text": [
      "[1705246, 2080666, 2223278, 2286228, 3052003]\n"
     ]
    }
   ],
   "source": [
    "#df['Impressions'].nunique()\n",
    "x=list(df['Impressions'].sort_values().tail())\n",
    "print(x)"
   ]
  },
  {
   "cell_type": "code",
   "execution_count": null,
   "id": "928a3b41",
   "metadata": {
    "papermill": {
     "duration": 0.036587,
     "end_time": "2022-10-25T16:29:07.969556",
     "exception": false,
     "start_time": "2022-10-25T16:29:07.932969",
     "status": "completed"
    },
    "tags": []
   },
   "outputs": [],
   "source": []
  },
  {
   "cell_type": "code",
   "execution_count": 42,
   "id": "c5bc12e0",
   "metadata": {
    "execution": {
     "iopub.execute_input": "2022-10-25T16:29:08.048727Z",
     "iopub.status.busy": "2022-10-25T16:29:08.047739Z",
     "iopub.status.idle": "2022-10-25T16:29:08.058910Z",
     "shell.execute_reply": "2022-10-25T16:29:08.057789Z"
    },
    "papermill": {
     "duration": 0.053895,
     "end_time": "2022-10-25T16:29:08.062197",
     "exception": false,
     "start_time": "2022-10-25T16:29:08.008302",
     "status": "completed"
    },
    "tags": []
   },
   "outputs": [],
   "source": [
    "#for i in x:\n",
    "df2=df.where(df['Impressions']>=1705246)\n",
    "    "
   ]
  },
  {
   "cell_type": "code",
   "execution_count": 43,
   "id": "37410335",
   "metadata": {
    "execution": {
     "iopub.execute_input": "2022-10-25T16:29:08.140697Z",
     "iopub.status.busy": "2022-10-25T16:29:08.139716Z",
     "iopub.status.idle": "2022-10-25T16:29:08.164089Z",
     "shell.execute_reply": "2022-10-25T16:29:08.162797Z"
    },
    "papermill": {
     "duration": 0.06717,
     "end_time": "2022-10-25T16:29:08.166741",
     "exception": false,
     "start_time": "2022-10-25T16:29:08.099571",
     "status": "completed"
    },
    "tags": []
   },
   "outputs": [
    {
     "data": {
      "text/html": [
       "<div>\n",
       "<style scoped>\n",
       "    .dataframe tbody tr th:only-of-type {\n",
       "        vertical-align: middle;\n",
       "    }\n",
       "\n",
       "    .dataframe tbody tr th {\n",
       "        vertical-align: top;\n",
       "    }\n",
       "\n",
       "    .dataframe thead th {\n",
       "        text-align: right;\n",
       "    }\n",
       "</style>\n",
       "<table border=\"1\" class=\"dataframe\">\n",
       "  <thead>\n",
       "    <tr style=\"text-align: right;\">\n",
       "      <th></th>\n",
       "      <th>ad_id</th>\n",
       "      <th>xyz_campaign_id</th>\n",
       "      <th>fb_campaign_id</th>\n",
       "      <th>age</th>\n",
       "      <th>gender</th>\n",
       "      <th>interest</th>\n",
       "      <th>Impressions</th>\n",
       "      <th>Clicks</th>\n",
       "      <th>Spent</th>\n",
       "      <th>Total_Conversion</th>\n",
       "      <th>Approved_Conversion</th>\n",
       "    </tr>\n",
       "  </thead>\n",
       "  <tbody>\n",
       "    <tr>\n",
       "      <th>525</th>\n",
       "      <td>1121100.0</td>\n",
       "      <td>campaign_3</td>\n",
       "      <td>144532.0</td>\n",
       "      <td>30-34</td>\n",
       "      <td>M</td>\n",
       "      <td>15.0</td>\n",
       "      <td>3052003.0</td>\n",
       "      <td>340.0</td>\n",
       "      <td>639.949998</td>\n",
       "      <td>60.0</td>\n",
       "      <td>17.0</td>\n",
       "    </tr>\n",
       "    <tr>\n",
       "      <th>528</th>\n",
       "      <td>1121104.0</td>\n",
       "      <td>campaign_3</td>\n",
       "      <td>144533.0</td>\n",
       "      <td>30-34</td>\n",
       "      <td>M</td>\n",
       "      <td>16.0</td>\n",
       "      <td>2080666.0</td>\n",
       "      <td>202.0</td>\n",
       "      <td>360.150001</td>\n",
       "      <td>40.0</td>\n",
       "      <td>21.0</td>\n",
       "    </tr>\n",
       "    <tr>\n",
       "      <th>765</th>\n",
       "      <td>1121601.0</td>\n",
       "      <td>campaign_3</td>\n",
       "      <td>144624.0</td>\n",
       "      <td>45-49</td>\n",
       "      <td>M</td>\n",
       "      <td>16.0</td>\n",
       "      <td>2286228.0</td>\n",
       "      <td>353.0</td>\n",
       "      <td>603.380002</td>\n",
       "      <td>16.0</td>\n",
       "      <td>7.0</td>\n",
       "    </tr>\n",
       "    <tr>\n",
       "      <th>860</th>\n",
       "      <td>1121814.0</td>\n",
       "      <td>campaign_3</td>\n",
       "      <td>144659.0</td>\n",
       "      <td>30-34</td>\n",
       "      <td>F</td>\n",
       "      <td>27.0</td>\n",
       "      <td>2223278.0</td>\n",
       "      <td>421.0</td>\n",
       "      <td>612.300003</td>\n",
       "      <td>38.0</td>\n",
       "      <td>13.0</td>\n",
       "    </tr>\n",
       "    <tr>\n",
       "      <th>867</th>\n",
       "      <td>1121824.0</td>\n",
       "      <td>campaign_3</td>\n",
       "      <td>144661.0</td>\n",
       "      <td>30-34</td>\n",
       "      <td>F</td>\n",
       "      <td>29.0</td>\n",
       "      <td>1705246.0</td>\n",
       "      <td>295.0</td>\n",
       "      <td>429.479998</td>\n",
       "      <td>23.0</td>\n",
       "      <td>10.0</td>\n",
       "    </tr>\n",
       "  </tbody>\n",
       "</table>\n",
       "</div>"
      ],
      "text/plain": [
       "         ad_id xyz_campaign_id  fb_campaign_id    age gender  interest  \\\n",
       "525  1121100.0      campaign_3        144532.0  30-34      M      15.0   \n",
       "528  1121104.0      campaign_3        144533.0  30-34      M      16.0   \n",
       "765  1121601.0      campaign_3        144624.0  45-49      M      16.0   \n",
       "860  1121814.0      campaign_3        144659.0  30-34      F      27.0   \n",
       "867  1121824.0      campaign_3        144661.0  30-34      F      29.0   \n",
       "\n",
       "     Impressions  Clicks       Spent  Total_Conversion  Approved_Conversion  \n",
       "525    3052003.0   340.0  639.949998              60.0                 17.0  \n",
       "528    2080666.0   202.0  360.150001              40.0                 21.0  \n",
       "765    2286228.0   353.0  603.380002              16.0                  7.0  \n",
       "860    2223278.0   421.0  612.300003              38.0                 13.0  \n",
       "867    1705246.0   295.0  429.479998              23.0                 10.0  "
      ]
     },
     "execution_count": 43,
     "metadata": {},
     "output_type": "execute_result"
    }
   ],
   "source": [
    "df2.dropna()\n",
    "# campaign_3 gets maximum/high impressions driving approved conversions"
   ]
  },
  {
   "cell_type": "code",
   "execution_count": 44,
   "id": "150a1d24",
   "metadata": {
    "execution": {
     "iopub.execute_input": "2022-10-25T16:29:08.245418Z",
     "iopub.status.busy": "2022-10-25T16:29:08.244429Z",
     "iopub.status.idle": "2022-10-25T16:29:08.562201Z",
     "shell.execute_reply": "2022-10-25T16:29:08.560810Z"
    },
    "papermill": {
     "duration": 0.360512,
     "end_time": "2022-10-25T16:29:08.565215",
     "exception": false,
     "start_time": "2022-10-25T16:29:08.204703",
     "status": "completed"
    },
    "tags": []
   },
   "outputs": [
    {
     "data": {
      "text/plain": [
       "<AxesSubplot:xlabel='Spent', ylabel='xyz_campaign_id'>"
      ]
     },
     "execution_count": 44,
     "metadata": {},
     "output_type": "execute_result"
    },
    {
     "data": {
      "image/png": "[encoded data removed]",
      "text/plain": [
       "<Figure size 1080x504 with 1 Axes>"
      ]
     },
     "metadata": {},
     "output_type": "display_data"
    }
   ],
   "source": [
    "fig=plt.figure(figsize=(15,7))\n",
    "\n",
    "sns.scatterplot(x='Spent', y='xyz_campaign_id', data=df)\n"
   ]
  },
  {
   "cell_type": "code",
   "execution_count": 45,
   "id": "8f5c52a0",
   "metadata": {
    "execution": {
     "iopub.execute_input": "2022-10-25T16:29:08.645662Z",
     "iopub.status.busy": "2022-10-25T16:29:08.644624Z",
     "iopub.status.idle": "2022-10-25T16:29:09.089798Z",
     "shell.execute_reply": "2022-10-25T16:29:09.088302Z"
    },
    "papermill": {
     "duration": 0.487689,
     "end_time": "2022-10-25T16:29:09.092739",
     "exception": false,
     "start_time": "2022-10-25T16:29:08.605050",
     "status": "completed"
    },
    "tags": []
   },
   "outputs": [
    {
     "data": {
      "image/png": "[encoded data removed]",
      "text/plain": [
       "<Figure size 432x288 with 1 Axes>"
      ]
     },
     "metadata": {},
     "output_type": "display_data"
    }
   ],
   "source": [
    "ax=sns.scatterplot(x='Approved_Conversion',y='Spent', hue='xyz_campaign_id', data=df)\n",
    "sns.move_legend(ax, \"upper left\", bbox_to_anchor=(1, 1))\n",
    "\n",
    "# spent is higher for approved conversion ranging from 5 to upwards "
   ]
  },
  {
   "cell_type": "markdown",
   "id": "5622760b",
   "metadata": {
    "papermill": {
     "duration": 0.037509,
     "end_time": "2022-10-25T16:29:09.169110",
     "exception": false,
     "start_time": "2022-10-25T16:29:09.131601",
     "status": "completed"
    },
    "tags": []
   },
   "source": [
    "https://seaborn.pydata.org/generated/seaborn.scatterplot.html"
   ]
  },
  {
   "cell_type": "code",
   "execution_count": 46,
   "id": "a9c5c2aa",
   "metadata": {
    "execution": {
     "iopub.execute_input": "2022-10-25T16:29:09.247690Z",
     "iopub.status.busy": "2022-10-25T16:29:09.247162Z",
     "iopub.status.idle": "2022-10-25T16:29:11.604433Z",
     "shell.execute_reply": "2022-10-25T16:29:11.603265Z"
    },
    "papermill": {
     "duration": 2.399801,
     "end_time": "2022-10-25T16:29:11.607020",
     "exception": false,
     "start_time": "2022-10-25T16:29:09.207219",
     "status": "completed"
    },
    "tags": []
   },
   "outputs": [
    {
     "data": {
      "image/png": "[encoded data removed]",
      "text/plain": [
       "<Figure size 440.8x864 with 8 Axes>"
      ]
     },
     "metadata": {},
     "output_type": "display_data"
    }
   ],
   "source": [
    "f = sns.FacetGrid(df, col=\"gender\", row='age')\n",
    "f.map(plt.scatter, \"interest\", \"Approved_Conversion\", alpha=.4)\n",
    "f.add_legend();"
   ]
  },
  {
   "cell_type": "markdown",
   "id": "4680bd0b",
   "metadata": {
    "papermill": {
     "duration": 0.039471,
     "end_time": "2022-10-25T16:29:11.686941",
     "exception": false,
     "start_time": "2022-10-25T16:29:11.647470",
     "status": "completed"
    },
    "tags": []
   },
   "source": [
    "High rate of conversion for Men in lowest age bracket.The conversions are most in 30-34 bracket and then in 45-49 age bracket.\n",
    "Females conversions high for ads with code greater than 66"
   ]
  },
  {
   "cell_type": "code",
   "execution_count": 47,
   "id": "0a907e27",
   "metadata": {
    "execution": {
     "iopub.execute_input": "2022-10-25T16:29:11.771220Z",
     "iopub.status.busy": "2022-10-25T16:29:11.770337Z",
     "iopub.status.idle": "2022-10-25T16:29:13.791126Z",
     "shell.execute_reply": "2022-10-25T16:29:13.789735Z"
    },
    "papermill": {
     "duration": 2.06625,
     "end_time": "2022-10-25T16:29:13.793710",
     "exception": false,
     "start_time": "2022-10-25T16:29:11.727460",
     "status": "completed"
    },
    "tags": []
   },
   "outputs": [
    {
     "data": {
      "image/png": "[encoded data removed]",
      "text/plain": [
       "<Figure size 440.8x864 with 8 Axes>"
      ]
     },
     "metadata": {},
     "output_type": "display_data"
    }
   ],
   "source": [
    "f = sns.FacetGrid(df, col=\"gender\", row='age')\n",
    "f.map(plt.scatter, \"Spent\", \"Approved_Conversion\", alpha=.4)\n",
    "f.add_legend();"
   ]
  },
  {
   "cell_type": "markdown",
   "id": "85bb9b15",
   "metadata": {
    "papermill": {
     "duration": 0.041359,
     "end_time": "2022-10-25T16:29:13.876150",
     "exception": false,
     "start_time": "2022-10-25T16:29:13.834791",
     "status": "completed"
    },
    "tags": []
   },
   "source": [
    "* Females have higher spending\n",
    "* Males have higher conversions even with lower spending in age group 30-34 specially.\n",
    "* Higher age bracket has higher spending"
   ]
  },
  {
   "cell_type": "markdown",
   "id": "991e8487",
   "metadata": {
    "papermill": {
     "duration": 0.04294,
     "end_time": "2022-10-25T16:29:13.959948",
     "exception": false,
     "start_time": "2022-10-25T16:29:13.917008",
     "status": "completed"
    },
    "tags": []
   },
   "source": []
  },
  {
   "cell_type": "markdown",
   "id": "beabe8ef",
   "metadata": {
    "papermill": {
     "duration": 0.047443,
     "end_time": "2022-10-25T16:29:14.048730",
     "exception": false,
     "start_time": "2022-10-25T16:29:14.001287",
     "status": "completed"
    },
    "tags": []
   },
   "source": [
    "Conversion rate per ad, per campaign "
   ]
  },
  {
   "cell_type": "code",
   "execution_count": 48,
   "id": "a3563f03",
   "metadata": {
    "execution": {
     "iopub.execute_input": "2022-10-25T16:29:14.157776Z",
     "iopub.status.busy": "2022-10-25T16:29:14.157261Z",
     "iopub.status.idle": "2022-10-25T16:29:14.170633Z",
     "shell.execute_reply": "2022-10-25T16:29:14.169794Z"
    },
    "papermill": {
     "duration": 0.066653,
     "end_time": "2022-10-25T16:29:14.172817",
     "exception": false,
     "start_time": "2022-10-25T16:29:14.106164",
     "status": "completed"
    },
    "tags": []
   },
   "outputs": [
    {
     "data": {
      "text/plain": [
       "xyz_campaign_id\n",
       "campaign_1     44.444444\n",
       "campaign_2     39.439655\n",
       "campaign_3    139.520000\n",
       "dtype: float64"
      ]
     },
     "execution_count": 48,
     "metadata": {},
     "output_type": "execute_result"
    }
   ],
   "source": [
    "(df['Approved_Conversion'].groupby(by=df['xyz_campaign_id']).sum()/df['ad_id'].groupby(by=df['xyz_campaign_id']).count())*100"
   ]
  },
  {
   "cell_type": "code",
   "execution_count": 49,
   "id": "a037de42",
   "metadata": {
    "execution": {
     "iopub.execute_input": "2022-10-25T16:29:14.257761Z",
     "iopub.status.busy": "2022-10-25T16:29:14.257216Z",
     "iopub.status.idle": "2022-10-25T16:29:14.268559Z",
     "shell.execute_reply": "2022-10-25T16:29:14.267401Z"
    },
    "papermill": {
     "duration": 0.056609,
     "end_time": "2022-10-25T16:29:14.271080",
     "exception": false,
     "start_time": "2022-10-25T16:29:14.214471",
     "status": "completed"
    },
    "tags": []
   },
   "outputs": [
    {
     "data": {
      "text/plain": [
       "xyz_campaign_id\n",
       "campaign_1     54\n",
       "campaign_2    464\n",
       "campaign_3    625\n",
       "Name: ad_id, dtype: int64"
      ]
     },
     "execution_count": 49,
     "metadata": {},
     "output_type": "execute_result"
    }
   ],
   "source": [
    "df['ad_id'].groupby(by=df['xyz_campaign_id']).count()"
   ]
  },
  {
   "cell_type": "markdown",
   "id": "3b00eef8",
   "metadata": {
    "papermill": {
     "duration": 0.041096,
     "end_time": "2022-10-25T16:29:14.353226",
     "exception": false,
     "start_time": "2022-10-25T16:29:14.312130",
     "status": "completed"
    },
    "tags": []
   },
   "source": [
    "conversion rate per campaign distributed by gender"
   ]
  },
  {
   "cell_type": "code",
   "execution_count": 50,
   "id": "53d021ac",
   "metadata": {
    "execution": {
     "iopub.execute_input": "2022-10-25T16:29:14.533870Z",
     "iopub.status.busy": "2022-10-25T16:29:14.533368Z",
     "iopub.status.idle": "2022-10-25T16:29:14.552121Z",
     "shell.execute_reply": "2022-10-25T16:29:14.550817Z"
    },
    "papermill": {
     "duration": 0.064701,
     "end_time": "2022-10-25T16:29:14.554597",
     "exception": false,
     "start_time": "2022-10-25T16:29:14.489896",
     "status": "completed"
    },
    "tags": []
   },
   "outputs": [
    {
     "data": {
      "text/plain": [
       "xyz_campaign_id  gender\n",
       "campaign_1       F         14.814815\n",
       "                 M         29.629630\n",
       "campaign_2       F         20.689655\n",
       "                 M         18.750000\n",
       "campaign_3       F         62.560000\n",
       "                 M         76.960000\n",
       "dtype: float64"
      ]
     },
     "execution_count": 50,
     "metadata": {},
     "output_type": "execute_result"
    }
   ],
   "source": [
    "(df['Approved_Conversion'].groupby([df['xyz_campaign_id'],df['gender']]).sum()/df['ad_id'].groupby(by=df['xyz_campaign_id']).count())*100"
   ]
  },
  {
   "cell_type": "code",
   "execution_count": 51,
   "id": "6e35e372",
   "metadata": {
    "execution": {
     "iopub.execute_input": "2022-10-25T16:29:14.641167Z",
     "iopub.status.busy": "2022-10-25T16:29:14.640251Z",
     "iopub.status.idle": "2022-10-25T16:29:14.652117Z",
     "shell.execute_reply": "2022-10-25T16:29:14.651189Z"
    },
    "papermill": {
     "duration": 0.057932,
     "end_time": "2022-10-25T16:29:14.654471",
     "exception": false,
     "start_time": "2022-10-25T16:29:14.596539",
     "status": "completed"
    },
    "tags": []
   },
   "outputs": [
    {
     "data": {
      "text/plain": [
       "xyz_campaign_id\n",
       "campaign_1     209.259259\n",
       "campaign_2     427.586207\n",
       "campaign_3    5770.880000\n",
       "dtype: float64"
      ]
     },
     "execution_count": 51,
     "metadata": {},
     "output_type": "execute_result"
    }
   ],
   "source": [
    "(df['Clicks'].groupby(by=df['xyz_campaign_id']).sum()/df['ad_id'].groupby(by=df['xyz_campaign_id']).count())*100"
   ]
  },
  {
   "cell_type": "markdown",
   "id": "6f9bb328",
   "metadata": {
    "papermill": {
     "duration": 0.042189,
     "end_time": "2022-10-25T16:29:14.739106",
     "exception": false,
     "start_time": "2022-10-25T16:29:14.696917",
     "status": "completed"
    },
    "tags": []
   },
   "source": [
    "Cost to conversion OR cost of acquisition for the ads in each campaign\n"
   ]
  },
  {
   "cell_type": "code",
   "execution_count": 52,
   "id": "4da1c065",
   "metadata": {
    "execution": {
     "iopub.execute_input": "2022-10-25T16:29:14.828458Z",
     "iopub.status.busy": "2022-10-25T16:29:14.827770Z",
     "iopub.status.idle": "2022-10-25T16:29:14.841899Z",
     "shell.execute_reply": "2022-10-25T16:29:14.840511Z"
    },
    "papermill": {
     "duration": 0.063346,
     "end_time": "2022-10-25T16:29:14.845382",
     "exception": false,
     "start_time": "2022-10-25T16:29:14.782036",
     "status": "completed"
    },
    "tags": []
   },
   "outputs": [
    {
     "data": {
      "text/plain": [
       "xyz_campaign_id\n",
       "campaign_1     6.237917\n",
       "campaign_2    15.810765\n",
       "campaign_3    63.832741\n",
       "dtype: float64"
      ]
     },
     "execution_count": 52,
     "metadata": {},
     "output_type": "execute_result"
    }
   ],
   "source": [
    "df['Spent'].groupby(by=df['xyz_campaign_id']).sum()/df['Approved_Conversion'].groupby(by=df['xyz_campaign_id']).sum()"
   ]
  },
  {
   "cell_type": "markdown",
   "id": "01881469",
   "metadata": {
    "papermill": {
     "duration": 0.044025,
     "end_time": "2022-10-25T16:29:14.931824",
     "exception": false,
     "start_time": "2022-10-25T16:29:14.887799",
     "status": "completed"
    },
    "tags": []
   },
   "source": [
    "Between campaign_1 and campaign_2 the cost of conversion is lesser for campaign_1 while its conversion rate is higher. It is performing better than campaign_2. campaign_3 performs best in terms of conversions but cost highest also"
   ]
  },
  {
   "cell_type": "markdown",
   "id": "3cfdb987",
   "metadata": {
    "papermill": {
     "duration": 0.044003,
     "end_time": "2022-10-25T16:29:15.018645",
     "exception": false,
     "start_time": "2022-10-25T16:29:14.974642",
     "status": "completed"
    },
    "tags": []
   },
   "source": [
    "Measuring the impact of each advertisement based on the conversion and cost "
   ]
  },
  {
   "cell_type": "code",
   "execution_count": 53,
   "id": "ee45c002",
   "metadata": {
    "execution": {
     "iopub.execute_input": "2022-10-25T16:29:15.110288Z",
     "iopub.status.busy": "2022-10-25T16:29:15.109130Z",
     "iopub.status.idle": "2022-10-25T16:29:15.128302Z",
     "shell.execute_reply": "2022-10-25T16:29:15.127014Z"
    },
    "papermill": {
     "duration": 0.069413,
     "end_time": "2022-10-25T16:29:15.131594",
     "exception": false,
     "start_time": "2022-10-25T16:29:15.062181",
     "status": "completed"
    },
    "tags": []
   },
   "outputs": [
    {
     "data": {
      "text/html": [
       "<div>\n",
       "<style scoped>\n",
       "    .dataframe tbody tr th:only-of-type {\n",
       "        vertical-align: middle;\n",
       "    }\n",
       "\n",
       "    .dataframe tbody tr th {\n",
       "        vertical-align: top;\n",
       "    }\n",
       "\n",
       "    .dataframe thead th {\n",
       "        text-align: right;\n",
       "    }\n",
       "</style>\n",
       "<table border=\"1\" class=\"dataframe\">\n",
       "  <thead>\n",
       "    <tr style=\"text-align: right;\">\n",
       "      <th></th>\n",
       "      <th>ad_id</th>\n",
       "      <th>xyz_campaign_id</th>\n",
       "      <th>fb_campaign_id</th>\n",
       "      <th>age</th>\n",
       "      <th>gender</th>\n",
       "      <th>interest</th>\n",
       "      <th>Impressions</th>\n",
       "      <th>Clicks</th>\n",
       "      <th>Spent</th>\n",
       "      <th>Total_Conversion</th>\n",
       "      <th>Approved_Conversion</th>\n",
       "    </tr>\n",
       "  </thead>\n",
       "  <tbody>\n",
       "    <tr>\n",
       "      <th>0</th>\n",
       "      <td>708746</td>\n",
       "      <td>campaign_1</td>\n",
       "      <td>103916</td>\n",
       "      <td>30-34</td>\n",
       "      <td>M</td>\n",
       "      <td>15</td>\n",
       "      <td>7350</td>\n",
       "      <td>1</td>\n",
       "      <td>1.43</td>\n",
       "      <td>2</td>\n",
       "      <td>1</td>\n",
       "    </tr>\n",
       "    <tr>\n",
       "      <th>1</th>\n",
       "      <td>708749</td>\n",
       "      <td>campaign_1</td>\n",
       "      <td>103917</td>\n",
       "      <td>30-34</td>\n",
       "      <td>M</td>\n",
       "      <td>16</td>\n",
       "      <td>17861</td>\n",
       "      <td>2</td>\n",
       "      <td>1.82</td>\n",
       "      <td>2</td>\n",
       "      <td>0</td>\n",
       "    </tr>\n",
       "    <tr>\n",
       "      <th>2</th>\n",
       "      <td>708771</td>\n",
       "      <td>campaign_1</td>\n",
       "      <td>103920</td>\n",
       "      <td>30-34</td>\n",
       "      <td>M</td>\n",
       "      <td>20</td>\n",
       "      <td>693</td>\n",
       "      <td>0</td>\n",
       "      <td>0.00</td>\n",
       "      <td>1</td>\n",
       "      <td>0</td>\n",
       "    </tr>\n",
       "    <tr>\n",
       "      <th>3</th>\n",
       "      <td>708815</td>\n",
       "      <td>campaign_1</td>\n",
       "      <td>103928</td>\n",
       "      <td>30-34</td>\n",
       "      <td>M</td>\n",
       "      <td>28</td>\n",
       "      <td>4259</td>\n",
       "      <td>1</td>\n",
       "      <td>1.25</td>\n",
       "      <td>1</td>\n",
       "      <td>0</td>\n",
       "    </tr>\n",
       "    <tr>\n",
       "      <th>4</th>\n",
       "      <td>708818</td>\n",
       "      <td>campaign_1</td>\n",
       "      <td>103928</td>\n",
       "      <td>30-34</td>\n",
       "      <td>M</td>\n",
       "      <td>28</td>\n",
       "      <td>4133</td>\n",
       "      <td>1</td>\n",
       "      <td>1.29</td>\n",
       "      <td>1</td>\n",
       "      <td>1</td>\n",
       "    </tr>\n",
       "  </tbody>\n",
       "</table>\n",
       "</div>"
      ],
      "text/plain": [
       "    ad_id xyz_campaign_id  fb_campaign_id    age gender  interest  \\\n",
       "0  708746      campaign_1          103916  30-34      M        15   \n",
       "1  708749      campaign_1          103917  30-34      M        16   \n",
       "2  708771      campaign_1          103920  30-34      M        20   \n",
       "3  708815      campaign_1          103928  30-34      M        28   \n",
       "4  708818      campaign_1          103928  30-34      M        28   \n",
       "\n",
       "   Impressions  Clicks  Spent  Total_Conversion  Approved_Conversion  \n",
       "0         7350       1   1.43                 2                    1  \n",
       "1        17861       2   1.82                 2                    0  \n",
       "2          693       0   0.00                 1                    0  \n",
       "3         4259       1   1.25                 1                    0  \n",
       "4         4133       1   1.29                 1                    1  "
      ]
     },
     "execution_count": 53,
     "metadata": {},
     "output_type": "execute_result"
    }
   ],
   "source": [
    "df.head()"
   ]
  },
  {
   "cell_type": "code",
   "execution_count": 54,
   "id": "22229eb0",
   "metadata": {
    "execution": {
     "iopub.execute_input": "2022-10-25T16:29:15.220025Z",
     "iopub.status.busy": "2022-10-25T16:29:15.219456Z",
     "iopub.status.idle": "2022-10-25T16:29:15.228857Z",
     "shell.execute_reply": "2022-10-25T16:29:15.227753Z"
    },
    "papermill": {
     "duration": 0.056119,
     "end_time": "2022-10-25T16:29:15.231325",
     "exception": false,
     "start_time": "2022-10-25T16:29:15.175206",
     "status": "completed"
    },
    "tags": []
   },
   "outputs": [],
   "source": [
    "impact=df['Spent'].groupby(df['ad_id']).sum()/df['Approved_Conversion'].groupby(df['ad_id']).sum()"
   ]
  },
  {
   "cell_type": "code",
   "execution_count": 55,
   "id": "6cbf2f1b",
   "metadata": {
    "execution": {
     "iopub.execute_input": "2022-10-25T16:29:15.318128Z",
     "iopub.status.busy": "2022-10-25T16:29:15.316879Z",
     "iopub.status.idle": "2022-10-25T16:29:15.326228Z",
     "shell.execute_reply": "2022-10-25T16:29:15.325066Z"
    },
    "papermill": {
     "duration": 0.055166,
     "end_time": "2022-10-25T16:29:15.328443",
     "exception": false,
     "start_time": "2022-10-25T16:29:15.273277",
     "status": "completed"
    },
    "tags": []
   },
   "outputs": [
    {
     "data": {
      "text/plain": [
       "ad_id\n",
       "708746       1.430000\n",
       "708749            inf\n",
       "708771            NaN\n",
       "708815            inf\n",
       "708818       1.290000\n",
       "              ...    \n",
       "1314410    179.094999\n",
       "1314411           inf\n",
       "1314412           inf\n",
       "1314414     99.355000\n",
       "1314415     82.804999\n",
       "Length: 1143, dtype: float64"
      ]
     },
     "execution_count": 55,
     "metadata": {},
     "output_type": "execute_result"
    }
   ],
   "source": [
    "impact"
   ]
  },
  {
   "cell_type": "code",
   "execution_count": 56,
   "id": "3f25edae",
   "metadata": {
    "execution": {
     "iopub.execute_input": "2022-10-25T16:29:15.415546Z",
     "iopub.status.busy": "2022-10-25T16:29:15.414605Z",
     "iopub.status.idle": "2022-10-25T16:29:15.421070Z",
     "shell.execute_reply": "2022-10-25T16:29:15.420196Z"
    },
    "papermill": {
     "duration": 0.052778,
     "end_time": "2022-10-25T16:29:15.423342",
     "exception": false,
     "start_time": "2022-10-25T16:29:15.370564",
     "status": "completed"
    },
    "tags": []
   },
   "outputs": [],
   "source": [
    "df_2= df[['ad_id','xyz_campaign_id','Impressions','Spent','Approved_Conversion']]\n"
   ]
  },
  {
   "cell_type": "code",
   "execution_count": 57,
   "id": "7098540d",
   "metadata": {
    "execution": {
     "iopub.execute_input": "2022-10-25T16:29:15.509654Z",
     "iopub.status.busy": "2022-10-25T16:29:15.508760Z",
     "iopub.status.idle": "2022-10-25T16:29:15.522372Z",
     "shell.execute_reply": "2022-10-25T16:29:15.521017Z"
    },
    "papermill": {
     "duration": 0.059935,
     "end_time": "2022-10-25T16:29:15.525168",
     "exception": false,
     "start_time": "2022-10-25T16:29:15.465233",
     "status": "completed"
    },
    "tags": []
   },
   "outputs": [
    {
     "data": {
      "text/html": [
       "<div>\n",
       "<style scoped>\n",
       "    .dataframe tbody tr th:only-of-type {\n",
       "        vertical-align: middle;\n",
       "    }\n",
       "\n",
       "    .dataframe tbody tr th {\n",
       "        vertical-align: top;\n",
       "    }\n",
       "\n",
       "    .dataframe thead th {\n",
       "        text-align: right;\n",
       "    }\n",
       "</style>\n",
       "<table border=\"1\" class=\"dataframe\">\n",
       "  <thead>\n",
       "    <tr style=\"text-align: right;\">\n",
       "      <th></th>\n",
       "      <th>ad_id</th>\n",
       "      <th>xyz_campaign_id</th>\n",
       "      <th>Impressions</th>\n",
       "      <th>Spent</th>\n",
       "      <th>Approved_Conversion</th>\n",
       "    </tr>\n",
       "  </thead>\n",
       "  <tbody>\n",
       "    <tr>\n",
       "      <th>0</th>\n",
       "      <td>708746</td>\n",
       "      <td>campaign_1</td>\n",
       "      <td>7350</td>\n",
       "      <td>1.43</td>\n",
       "      <td>1</td>\n",
       "    </tr>\n",
       "    <tr>\n",
       "      <th>1</th>\n",
       "      <td>708749</td>\n",
       "      <td>campaign_1</td>\n",
       "      <td>17861</td>\n",
       "      <td>1.82</td>\n",
       "      <td>0</td>\n",
       "    </tr>\n",
       "    <tr>\n",
       "      <th>2</th>\n",
       "      <td>708771</td>\n",
       "      <td>campaign_1</td>\n",
       "      <td>693</td>\n",
       "      <td>0.00</td>\n",
       "      <td>0</td>\n",
       "    </tr>\n",
       "    <tr>\n",
       "      <th>3</th>\n",
       "      <td>708815</td>\n",
       "      <td>campaign_1</td>\n",
       "      <td>4259</td>\n",
       "      <td>1.25</td>\n",
       "      <td>0</td>\n",
       "    </tr>\n",
       "    <tr>\n",
       "      <th>4</th>\n",
       "      <td>708818</td>\n",
       "      <td>campaign_1</td>\n",
       "      <td>4133</td>\n",
       "      <td>1.29</td>\n",
       "      <td>1</td>\n",
       "    </tr>\n",
       "  </tbody>\n",
       "</table>\n",
       "</div>"
      ],
      "text/plain": [
       "    ad_id xyz_campaign_id  Impressions  Spent  Approved_Conversion\n",
       "0  708746      campaign_1         7350   1.43                    1\n",
       "1  708749      campaign_1        17861   1.82                    0\n",
       "2  708771      campaign_1          693   0.00                    0\n",
       "3  708815      campaign_1         4259   1.25                    0\n",
       "4  708818      campaign_1         4133   1.29                    1"
      ]
     },
     "execution_count": 57,
     "metadata": {},
     "output_type": "execute_result"
    }
   ],
   "source": [
    "df_2.head()"
   ]
  },
  {
   "cell_type": "code",
   "execution_count": 58,
   "id": "bd02f008",
   "metadata": {
    "execution": {
     "iopub.execute_input": "2022-10-25T16:29:15.614204Z",
     "iopub.status.busy": "2022-10-25T16:29:15.612908Z",
     "iopub.status.idle": "2022-10-25T16:29:15.620427Z",
     "shell.execute_reply": "2022-10-25T16:29:15.619387Z"
    },
    "papermill": {
     "duration": 0.055319,
     "end_time": "2022-10-25T16:29:15.622963",
     "exception": false,
     "start_time": "2022-10-25T16:29:15.567644",
     "status": "completed"
    },
    "tags": []
   },
   "outputs": [],
   "source": [
    "df_2.set_index(['ad_id'], inplace=True)"
   ]
  },
  {
   "cell_type": "code",
   "execution_count": 59,
   "id": "4bb947fc",
   "metadata": {
    "execution": {
     "iopub.execute_input": "2022-10-25T16:29:15.714177Z",
     "iopub.status.busy": "2022-10-25T16:29:15.712969Z",
     "iopub.status.idle": "2022-10-25T16:29:15.724026Z",
     "shell.execute_reply": "2022-10-25T16:29:15.722684Z"
    },
    "papermill": {
     "duration": 0.060193,
     "end_time": "2022-10-25T16:29:15.727289",
     "exception": false,
     "start_time": "2022-10-25T16:29:15.667096",
     "status": "completed"
    },
    "tags": []
   },
   "outputs": [
    {
     "data": {
      "text/plain": [
       "ad_id\n",
       "708746       1.430000\n",
       "708749            inf\n",
       "708771            NaN\n",
       "708815            inf\n",
       "708818       1.290000\n",
       "              ...    \n",
       "1314410    179.094999\n",
       "1314411           inf\n",
       "1314412           inf\n",
       "1314414     99.355000\n",
       "1314415     82.804999\n",
       "Name: cost_ratio, Length: 1143, dtype: float64"
      ]
     },
     "execution_count": 59,
     "metadata": {},
     "output_type": "execute_result"
    }
   ],
   "source": [
    "impact.rename('cost_ratio', inplace=True)"
   ]
  },
  {
   "cell_type": "code",
   "execution_count": 60,
   "id": "6fcb72de",
   "metadata": {
    "execution": {
     "iopub.execute_input": "2022-10-25T16:29:15.820617Z",
     "iopub.status.busy": "2022-10-25T16:29:15.819845Z",
     "iopub.status.idle": "2022-10-25T16:29:15.826972Z",
     "shell.execute_reply": "2022-10-25T16:29:15.825616Z"
    },
    "papermill": {
     "duration": 0.055082,
     "end_time": "2022-10-25T16:29:15.829202",
     "exception": false,
     "start_time": "2022-10-25T16:29:15.774120",
     "status": "completed"
    },
    "tags": []
   },
   "outputs": [
    {
     "data": {
      "text/plain": [
       "Int64Index([ 708746,  708749,  708771,  708815,  708818,  708820,  708889,\n",
       "             708895,  708953,  708958,\n",
       "            ...\n",
       "            1314405, 1314406, 1314407, 1314408, 1314409, 1314410, 1314411,\n",
       "            1314412, 1314414, 1314415],\n",
       "           dtype='int64', name='ad_id', length=1143)"
      ]
     },
     "execution_count": 60,
     "metadata": {},
     "output_type": "execute_result"
    }
   ],
   "source": [
    "impact.index"
   ]
  },
  {
   "cell_type": "code",
   "execution_count": 61,
   "id": "db84be86",
   "metadata": {
    "execution": {
     "iopub.execute_input": "2022-10-25T16:29:15.919413Z",
     "iopub.status.busy": "2022-10-25T16:29:15.918617Z",
     "iopub.status.idle": "2022-10-25T16:29:15.925896Z",
     "shell.execute_reply": "2022-10-25T16:29:15.924933Z"
    },
    "papermill": {
     "duration": 0.05588,
     "end_time": "2022-10-25T16:29:15.928511",
     "exception": false,
     "start_time": "2022-10-25T16:29:15.872631",
     "status": "completed"
    },
    "tags": []
   },
   "outputs": [],
   "source": [
    "#df_new= df_2.join(impact)\n",
    "df_new=df_2.merge( impact,left_index=True, right_index=True)"
   ]
  },
  {
   "cell_type": "code",
   "execution_count": 62,
   "id": "dbd2d114",
   "metadata": {
    "execution": {
     "iopub.execute_input": "2022-10-25T16:29:16.020351Z",
     "iopub.status.busy": "2022-10-25T16:29:16.019574Z",
     "iopub.status.idle": "2022-10-25T16:29:16.025646Z",
     "shell.execute_reply": "2022-10-25T16:29:16.024752Z"
    },
    "papermill": {
     "duration": 0.054945,
     "end_time": "2022-10-25T16:29:16.027979",
     "exception": false,
     "start_time": "2022-10-25T16:29:15.973034",
     "status": "completed"
    },
    "tags": []
   },
   "outputs": [],
   "source": [
    "df_new.replace(np.inf,np.nan,inplace=True)"
   ]
  },
  {
   "cell_type": "code",
   "execution_count": 63,
   "id": "01484f6b",
   "metadata": {
    "execution": {
     "iopub.execute_input": "2022-10-25T16:29:16.118867Z",
     "iopub.status.busy": "2022-10-25T16:29:16.118136Z",
     "iopub.status.idle": "2022-10-25T16:29:16.130717Z",
     "shell.execute_reply": "2022-10-25T16:29:16.129731Z"
    },
    "papermill": {
     "duration": 0.060865,
     "end_time": "2022-10-25T16:29:16.133169",
     "exception": false,
     "start_time": "2022-10-25T16:29:16.072304",
     "status": "completed"
    },
    "tags": []
   },
   "outputs": [
    {
     "data": {
      "text/html": [
       "<div>\n",
       "<style scoped>\n",
       "    .dataframe tbody tr th:only-of-type {\n",
       "        vertical-align: middle;\n",
       "    }\n",
       "\n",
       "    .dataframe tbody tr th {\n",
       "        vertical-align: top;\n",
       "    }\n",
       "\n",
       "    .dataframe thead th {\n",
       "        text-align: right;\n",
       "    }\n",
       "</style>\n",
       "<table border=\"1\" class=\"dataframe\">\n",
       "  <thead>\n",
       "    <tr style=\"text-align: right;\">\n",
       "      <th></th>\n",
       "      <th>xyz_campaign_id</th>\n",
       "      <th>Impressions</th>\n",
       "      <th>Spent</th>\n",
       "      <th>Approved_Conversion</th>\n",
       "      <th>cost_ratio</th>\n",
       "    </tr>\n",
       "    <tr>\n",
       "      <th>ad_id</th>\n",
       "      <th></th>\n",
       "      <th></th>\n",
       "      <th></th>\n",
       "      <th></th>\n",
       "      <th></th>\n",
       "    </tr>\n",
       "  </thead>\n",
       "  <tbody>\n",
       "    <tr>\n",
       "      <th>708746</th>\n",
       "      <td>campaign_1</td>\n",
       "      <td>7350</td>\n",
       "      <td>1.43</td>\n",
       "      <td>1</td>\n",
       "      <td>1.43</td>\n",
       "    </tr>\n",
       "    <tr>\n",
       "      <th>708749</th>\n",
       "      <td>campaign_1</td>\n",
       "      <td>17861</td>\n",
       "      <td>1.82</td>\n",
       "      <td>0</td>\n",
       "      <td>NaN</td>\n",
       "    </tr>\n",
       "    <tr>\n",
       "      <th>708771</th>\n",
       "      <td>campaign_1</td>\n",
       "      <td>693</td>\n",
       "      <td>0.00</td>\n",
       "      <td>0</td>\n",
       "      <td>NaN</td>\n",
       "    </tr>\n",
       "    <tr>\n",
       "      <th>708815</th>\n",
       "      <td>campaign_1</td>\n",
       "      <td>4259</td>\n",
       "      <td>1.25</td>\n",
       "      <td>0</td>\n",
       "      <td>NaN</td>\n",
       "    </tr>\n",
       "    <tr>\n",
       "      <th>708818</th>\n",
       "      <td>campaign_1</td>\n",
       "      <td>4133</td>\n",
       "      <td>1.29</td>\n",
       "      <td>1</td>\n",
       "      <td>1.29</td>\n",
       "    </tr>\n",
       "  </tbody>\n",
       "</table>\n",
       "</div>"
      ],
      "text/plain": [
       "       xyz_campaign_id  Impressions  Spent  Approved_Conversion  cost_ratio\n",
       "ad_id                                                                      \n",
       "708746      campaign_1         7350   1.43                    1        1.43\n",
       "708749      campaign_1        17861   1.82                    0         NaN\n",
       "708771      campaign_1          693   0.00                    0         NaN\n",
       "708815      campaign_1         4259   1.25                    0         NaN\n",
       "708818      campaign_1         4133   1.29                    1        1.29"
      ]
     },
     "execution_count": 63,
     "metadata": {},
     "output_type": "execute_result"
    }
   ],
   "source": [
    "df_new.head()"
   ]
  },
  {
   "cell_type": "code",
   "execution_count": 64,
   "id": "913ebd6b",
   "metadata": {
    "execution": {
     "iopub.execute_input": "2022-10-25T16:29:16.222051Z",
     "iopub.status.busy": "2022-10-25T16:29:16.221299Z",
     "iopub.status.idle": "2022-10-25T16:29:16.228773Z",
     "shell.execute_reply": "2022-10-25T16:29:16.227763Z"
    },
    "papermill": {
     "duration": 0.05458,
     "end_time": "2022-10-25T16:29:16.231231",
     "exception": false,
     "start_time": "2022-10-25T16:29:16.176651",
     "status": "completed"
    },
    "tags": []
   },
   "outputs": [],
   "source": [
    "df_3=df_new.dropna(axis=0)"
   ]
  },
  {
   "cell_type": "code",
   "execution_count": 65,
   "id": "391c7a75",
   "metadata": {
    "execution": {
     "iopub.execute_input": "2022-10-25T16:29:16.320426Z",
     "iopub.status.busy": "2022-10-25T16:29:16.319079Z",
     "iopub.status.idle": "2022-10-25T16:29:16.334235Z",
     "shell.execute_reply": "2022-10-25T16:29:16.332980Z"
    },
    "papermill": {
     "duration": 0.062835,
     "end_time": "2022-10-25T16:29:16.337166",
     "exception": false,
     "start_time": "2022-10-25T16:29:16.274331",
     "status": "completed"
    },
    "tags": []
   },
   "outputs": [
    {
     "name": "stdout",
     "output_type": "stream",
     "text": [
      "<class 'pandas.core.frame.DataFrame'>\n",
      "Int64Index: 584 entries, 708746 to 1314415\n",
      "Data columns (total 5 columns):\n",
      " #   Column               Non-Null Count  Dtype  \n",
      "---  ------               --------------  -----  \n",
      " 0   xyz_campaign_id      584 non-null    object \n",
      " 1   Impressions          584 non-null    int64  \n",
      " 2   Spent                584 non-null    float64\n",
      " 3   Approved_Conversion  584 non-null    int64  \n",
      " 4   cost_ratio           584 non-null    float64\n",
      "dtypes: float64(2), int64(2), object(1)\n",
      "memory usage: 27.4+ KB\n"
     ]
    }
   ],
   "source": [
    "df_3.info()"
   ]
  },
  {
   "cell_type": "code",
   "execution_count": 66,
   "id": "f35c9c87",
   "metadata": {
    "execution": {
     "iopub.execute_input": "2022-10-25T16:29:16.425166Z",
     "iopub.status.busy": "2022-10-25T16:29:16.424394Z",
     "iopub.status.idle": "2022-10-25T16:29:16.440753Z",
     "shell.execute_reply": "2022-10-25T16:29:16.439839Z"
    },
    "papermill": {
     "duration": 0.063008,
     "end_time": "2022-10-25T16:29:16.443252",
     "exception": false,
     "start_time": "2022-10-25T16:29:16.380244",
     "status": "completed"
    },
    "tags": []
   },
   "outputs": [
    {
     "data": {
      "text/html": [
       "<div>\n",
       "<style scoped>\n",
       "    .dataframe tbody tr th:only-of-type {\n",
       "        vertical-align: middle;\n",
       "    }\n",
       "\n",
       "    .dataframe tbody tr th {\n",
       "        vertical-align: top;\n",
       "    }\n",
       "\n",
       "    .dataframe thead th {\n",
       "        text-align: right;\n",
       "    }\n",
       "</style>\n",
       "<table border=\"1\" class=\"dataframe\">\n",
       "  <thead>\n",
       "    <tr style=\"text-align: right;\">\n",
       "      <th></th>\n",
       "      <th>xyz_campaign_id</th>\n",
       "      <th>Impressions</th>\n",
       "      <th>Spent</th>\n",
       "      <th>Approved_Conversion</th>\n",
       "      <th>cost_ratio</th>\n",
       "    </tr>\n",
       "    <tr>\n",
       "      <th>ad_id</th>\n",
       "      <th></th>\n",
       "      <th></th>\n",
       "      <th></th>\n",
       "      <th></th>\n",
       "      <th></th>\n",
       "    </tr>\n",
       "  </thead>\n",
       "  <tbody>\n",
       "    <tr>\n",
       "      <th>1121098</th>\n",
       "      <td>campaign_3</td>\n",
       "      <td>1267550</td>\n",
       "      <td>236.769999</td>\n",
       "      <td>10</td>\n",
       "      <td>23.677000</td>\n",
       "    </tr>\n",
       "    <tr>\n",
       "      <th>1314398</th>\n",
       "      <td>campaign_3</td>\n",
       "      <td>1137635</td>\n",
       "      <td>301.049999</td>\n",
       "      <td>10</td>\n",
       "      <td>30.105000</td>\n",
       "    </tr>\n",
       "    <tr>\n",
       "      <th>1121677</th>\n",
       "      <td>campaign_3</td>\n",
       "      <td>1391924</td>\n",
       "      <td>422.840004</td>\n",
       "      <td>10</td>\n",
       "      <td>42.284000</td>\n",
       "    </tr>\n",
       "    <tr>\n",
       "      <th>1121824</th>\n",
       "      <td>campaign_3</td>\n",
       "      <td>1705246</td>\n",
       "      <td>429.479998</td>\n",
       "      <td>10</td>\n",
       "      <td>42.948000</td>\n",
       "    </tr>\n",
       "    <tr>\n",
       "      <th>1121206</th>\n",
       "      <td>campaign_3</td>\n",
       "      <td>227925</td>\n",
       "      <td>35.310000</td>\n",
       "      <td>12</td>\n",
       "      <td>2.942500</td>\n",
       "    </tr>\n",
       "    <tr>\n",
       "      <th>1121814</th>\n",
       "      <td>campaign_3</td>\n",
       "      <td>2223278</td>\n",
       "      <td>612.300003</td>\n",
       "      <td>13</td>\n",
       "      <td>47.100000</td>\n",
       "    </tr>\n",
       "    <tr>\n",
       "      <th>1121108</th>\n",
       "      <td>campaign_3</td>\n",
       "      <td>984521</td>\n",
       "      <td>163.899997</td>\n",
       "      <td>14</td>\n",
       "      <td>11.707143</td>\n",
       "    </tr>\n",
       "    <tr>\n",
       "      <th>1121091</th>\n",
       "      <td>campaign_3</td>\n",
       "      <td>1194718</td>\n",
       "      <td>254.049996</td>\n",
       "      <td>14</td>\n",
       "      <td>18.146428</td>\n",
       "    </tr>\n",
       "    <tr>\n",
       "      <th>1121100</th>\n",
       "      <td>campaign_3</td>\n",
       "      <td>3052003</td>\n",
       "      <td>639.949998</td>\n",
       "      <td>17</td>\n",
       "      <td>37.644118</td>\n",
       "    </tr>\n",
       "    <tr>\n",
       "      <th>1121104</th>\n",
       "      <td>campaign_3</td>\n",
       "      <td>2080666</td>\n",
       "      <td>360.150001</td>\n",
       "      <td>21</td>\n",
       "      <td>17.150000</td>\n",
       "    </tr>\n",
       "  </tbody>\n",
       "</table>\n",
       "</div>"
      ],
      "text/plain": [
       "        xyz_campaign_id  Impressions       Spent  Approved_Conversion  \\\n",
       "ad_id                                                                   \n",
       "1121098      campaign_3      1267550  236.769999                   10   \n",
       "1314398      campaign_3      1137635  301.049999                   10   \n",
       "1121677      campaign_3      1391924  422.840004                   10   \n",
       "1121824      campaign_3      1705246  429.479998                   10   \n",
       "1121206      campaign_3       227925   35.310000                   12   \n",
       "1121814      campaign_3      2223278  612.300003                   13   \n",
       "1121108      campaign_3       984521  163.899997                   14   \n",
       "1121091      campaign_3      1194718  254.049996                   14   \n",
       "1121100      campaign_3      3052003  639.949998                   17   \n",
       "1121104      campaign_3      2080666  360.150001                   21   \n",
       "\n",
       "         cost_ratio  \n",
       "ad_id                \n",
       "1121098   23.677000  \n",
       "1314398   30.105000  \n",
       "1121677   42.284000  \n",
       "1121824   42.948000  \n",
       "1121206    2.942500  \n",
       "1121814   47.100000  \n",
       "1121108   11.707143  \n",
       "1121091   18.146428  \n",
       "1121100   37.644118  \n",
       "1121104   17.150000  "
      ]
     },
     "execution_count": 66,
     "metadata": {},
     "output_type": "execute_result"
    }
   ],
   "source": [
    "df_3.sort_values(['Approved_Conversion','cost_ratio']).tail(10)"
   ]
  },
  {
   "cell_type": "markdown",
   "id": "18d361f0",
   "metadata": {
    "papermill": {
     "duration": 0.042387,
     "end_time": "2022-10-25T16:29:16.528699",
     "exception": false,
     "start_time": "2022-10-25T16:29:16.486312",
     "status": "completed"
    },
    "tags": []
   },
   "source": [
    "* Exploring the dimensions:\n",
    "Age: More people in the yougest age bracket 30-34\n",
    "Gender: More Males in the population\n",
    "\n",
    "* Correlation:\n",
    "1. Higher Ad impressions drive higher conversions ( Total and Approved) \n",
    "2. Higher impressions drive up the cost/spend amount. So those ads should be identified where the cost to acquisition ratio is high.\n",
    "3. Number of clicks do not impact the conversions much.\n",
    "4. Distribution of gender across campaigns not same.\n",
    "\n",
    "* Though Males convert more that Females on overall level, campaign 2 has more Females converting\n",
    "* Maximum users in 30-34 followed by 45-49 age group.\n",
    "* Though age wise user ditribution is same across campaigns, campaign 1 has users that convert best in the 40-44 age bracket. probably the ads included in this campaign appeal to that age group more. In the other two campaigns the trend is same and opposite to that of campaign_1.\n",
    "* Though there are more add campaigns with interest code ranging between 2-66 , there are still many conversions for ads with interest code beyond 66 code. When we compare the xyz campaign_3 with other two campaigns, we can see that campaign_3 has many adds with interests beyond code 66 and perhaps that is what is driving the higher conversions as well.\n",
    "* Percentage ad impression for each interest: For interest code 16 it is dispproportinately high. Interest code 29 has 8 % impressions but \n",
    "* delivers 12 % conversions. The impressions should be increased for other ads with interest code that are giving high conversions. \n",
    "* Redistribute the impressions based on the conversions.\n",
    "* High rate of conversion for Men in lowest age bracket.The conversions are most in 30-34 bracket and then in 45-49 age bracket. Females conversions high for ads with code greater than 66.\n",
    "* Females have higher spending\n",
    "* Males have higher conversions even with lower spending in age group 30-34 specially.\n",
    "* Higher age bracket has higher spending.\n",
    "* Between campaign_1 and campaign_2 the cost of conversion is lesser for campaign_1 while its conversion rate is higher. It is performing better than campaign_2. campaign_3 performs best in terms of conversions but cost highest also.\n",
    "* \n",
    "* \n",
    "\n",
    "\n"
   ]
  },
  {
   "cell_type": "markdown",
   "id": "40bd7f94",
   "metadata": {
    "papermill": {
     "duration": 0.042898,
     "end_time": "2022-10-25T16:29:16.614502",
     "exception": false,
     "start_time": "2022-10-25T16:29:16.571604",
     "status": "completed"
    },
    "tags": []
   },
   "source": [
    "Modelling -future prediction "
   ]
  },
  {
   "cell_type": "code",
   "execution_count": 67,
   "id": "58597420",
   "metadata": {
    "execution": {
     "iopub.execute_input": "2022-10-25T16:29:16.704085Z",
     "iopub.status.busy": "2022-10-25T16:29:16.703331Z",
     "iopub.status.idle": "2022-10-25T16:29:16.710705Z",
     "shell.execute_reply": "2022-10-25T16:29:16.709659Z"
    },
    "papermill": {
     "duration": 0.055501,
     "end_time": "2022-10-25T16:29:16.713207",
     "exception": false,
     "start_time": "2022-10-25T16:29:16.657706",
     "status": "completed"
    },
    "tags": []
   },
   "outputs": [],
   "source": [
    "# renaming the campaigns for analysis purpose\n",
    "df['xyz_campaign_id'].replace({'campaign_1':916,'campaign_2':936,'campaign_3':1178}, inplace=True)\n"
   ]
  },
  {
   "cell_type": "code",
   "execution_count": 68,
   "id": "c51baa6f",
   "metadata": {
    "execution": {
     "iopub.execute_input": "2022-10-25T16:29:16.802534Z",
     "iopub.status.busy": "2022-10-25T16:29:16.801127Z",
     "iopub.status.idle": "2022-10-25T16:29:16.818463Z",
     "shell.execute_reply": "2022-10-25T16:29:16.817041Z"
    },
    "papermill": {
     "duration": 0.064452,
     "end_time": "2022-10-25T16:29:16.821144",
     "exception": false,
     "start_time": "2022-10-25T16:29:16.756692",
     "status": "completed"
    },
    "tags": []
   },
   "outputs": [
    {
     "data": {
      "text/html": [
       "<div>\n",
       "<style scoped>\n",
       "    .dataframe tbody tr th:only-of-type {\n",
       "        vertical-align: middle;\n",
       "    }\n",
       "\n",
       "    .dataframe tbody tr th {\n",
       "        vertical-align: top;\n",
       "    }\n",
       "\n",
       "    .dataframe thead th {\n",
       "        text-align: right;\n",
       "    }\n",
       "</style>\n",
       "<table border=\"1\" class=\"dataframe\">\n",
       "  <thead>\n",
       "    <tr style=\"text-align: right;\">\n",
       "      <th></th>\n",
       "      <th>ad_id</th>\n",
       "      <th>xyz_campaign_id</th>\n",
       "      <th>fb_campaign_id</th>\n",
       "      <th>age</th>\n",
       "      <th>gender</th>\n",
       "      <th>interest</th>\n",
       "      <th>Impressions</th>\n",
       "      <th>Clicks</th>\n",
       "      <th>Spent</th>\n",
       "      <th>Total_Conversion</th>\n",
       "      <th>Approved_Conversion</th>\n",
       "    </tr>\n",
       "  </thead>\n",
       "  <tbody>\n",
       "    <tr>\n",
       "      <th>0</th>\n",
       "      <td>708746</td>\n",
       "      <td>916</td>\n",
       "      <td>103916</td>\n",
       "      <td>30-34</td>\n",
       "      <td>M</td>\n",
       "      <td>15</td>\n",
       "      <td>7350</td>\n",
       "      <td>1</td>\n",
       "      <td>1.43</td>\n",
       "      <td>2</td>\n",
       "      <td>1</td>\n",
       "    </tr>\n",
       "    <tr>\n",
       "      <th>1</th>\n",
       "      <td>708749</td>\n",
       "      <td>916</td>\n",
       "      <td>103917</td>\n",
       "      <td>30-34</td>\n",
       "      <td>M</td>\n",
       "      <td>16</td>\n",
       "      <td>17861</td>\n",
       "      <td>2</td>\n",
       "      <td>1.82</td>\n",
       "      <td>2</td>\n",
       "      <td>0</td>\n",
       "    </tr>\n",
       "    <tr>\n",
       "      <th>2</th>\n",
       "      <td>708771</td>\n",
       "      <td>916</td>\n",
       "      <td>103920</td>\n",
       "      <td>30-34</td>\n",
       "      <td>M</td>\n",
       "      <td>20</td>\n",
       "      <td>693</td>\n",
       "      <td>0</td>\n",
       "      <td>0.00</td>\n",
       "      <td>1</td>\n",
       "      <td>0</td>\n",
       "    </tr>\n",
       "    <tr>\n",
       "      <th>3</th>\n",
       "      <td>708815</td>\n",
       "      <td>916</td>\n",
       "      <td>103928</td>\n",
       "      <td>30-34</td>\n",
       "      <td>M</td>\n",
       "      <td>28</td>\n",
       "      <td>4259</td>\n",
       "      <td>1</td>\n",
       "      <td>1.25</td>\n",
       "      <td>1</td>\n",
       "      <td>0</td>\n",
       "    </tr>\n",
       "    <tr>\n",
       "      <th>4</th>\n",
       "      <td>708818</td>\n",
       "      <td>916</td>\n",
       "      <td>103928</td>\n",
       "      <td>30-34</td>\n",
       "      <td>M</td>\n",
       "      <td>28</td>\n",
       "      <td>4133</td>\n",
       "      <td>1</td>\n",
       "      <td>1.29</td>\n",
       "      <td>1</td>\n",
       "      <td>1</td>\n",
       "    </tr>\n",
       "  </tbody>\n",
       "</table>\n",
       "</div>"
      ],
      "text/plain": [
       "    ad_id  xyz_campaign_id  fb_campaign_id    age gender  interest  \\\n",
       "0  708746              916          103916  30-34      M        15   \n",
       "1  708749              916          103917  30-34      M        16   \n",
       "2  708771              916          103920  30-34      M        20   \n",
       "3  708815              916          103928  30-34      M        28   \n",
       "4  708818              916          103928  30-34      M        28   \n",
       "\n",
       "   Impressions  Clicks  Spent  Total_Conversion  Approved_Conversion  \n",
       "0         7350       1   1.43                 2                    1  \n",
       "1        17861       2   1.82                 2                    0  \n",
       "2          693       0   0.00                 1                    0  \n",
       "3         4259       1   1.25                 1                    0  \n",
       "4         4133       1   1.29                 1                    1  "
      ]
     },
     "execution_count": 68,
     "metadata": {},
     "output_type": "execute_result"
    }
   ],
   "source": [
    "df.head()"
   ]
  },
  {
   "cell_type": "code",
   "execution_count": 69,
   "id": "e2610a52",
   "metadata": {
    "execution": {
     "iopub.execute_input": "2022-10-25T16:29:16.910111Z",
     "iopub.status.busy": "2022-10-25T16:29:16.909587Z",
     "iopub.status.idle": "2022-10-25T16:29:17.071196Z",
     "shell.execute_reply": "2022-10-25T16:29:17.069970Z"
    },
    "papermill": {
     "duration": 0.209325,
     "end_time": "2022-10-25T16:29:17.074216",
     "exception": false,
     "start_time": "2022-10-25T16:29:16.864891",
     "status": "completed"
    },
    "tags": []
   },
   "outputs": [
    {
     "data": {
      "text/html": [
       "<div>\n",
       "<style scoped>\n",
       "    .dataframe tbody tr th:only-of-type {\n",
       "        vertical-align: middle;\n",
       "    }\n",
       "\n",
       "    .dataframe tbody tr th {\n",
       "        vertical-align: top;\n",
       "    }\n",
       "\n",
       "    .dataframe thead th {\n",
       "        text-align: right;\n",
       "    }\n",
       "</style>\n",
       "<table border=\"1\" class=\"dataframe\">\n",
       "  <thead>\n",
       "    <tr style=\"text-align: right;\">\n",
       "      <th></th>\n",
       "      <th>gender_1</th>\n",
       "    </tr>\n",
       "  </thead>\n",
       "  <tbody>\n",
       "    <tr>\n",
       "      <th>0</th>\n",
       "      <td>1.0</td>\n",
       "    </tr>\n",
       "    <tr>\n",
       "      <th>1</th>\n",
       "      <td>1.0</td>\n",
       "    </tr>\n",
       "    <tr>\n",
       "      <th>2</th>\n",
       "      <td>1.0</td>\n",
       "    </tr>\n",
       "    <tr>\n",
       "      <th>3</th>\n",
       "      <td>1.0</td>\n",
       "    </tr>\n",
       "    <tr>\n",
       "      <th>4</th>\n",
       "      <td>1.0</td>\n",
       "    </tr>\n",
       "  </tbody>\n",
       "</table>\n",
       "</div>"
      ],
      "text/plain": [
       "   gender_1\n",
       "0       1.0\n",
       "1       1.0\n",
       "2       1.0\n",
       "3       1.0\n",
       "4       1.0"
      ]
     },
     "execution_count": 69,
     "metadata": {},
     "output_type": "execute_result"
    }
   ],
   "source": [
    "from sklearn.preprocessing import OneHotEncoder\n",
    "onehotencoder = OneHotEncoder(sparse=False, handle_unknown=\"error\", drop='first')\n",
    "\n",
    "onehotencoder_df = pd.DataFrame(onehotencoder.fit_transform(df[['gender']]), columns=['gender_1'])\n",
    "\n",
    "onehotencoder_df.head()\n",
    "\n"
   ]
  },
  {
   "cell_type": "code",
   "execution_count": 70,
   "id": "9dfd58ef",
   "metadata": {
    "execution": {
     "iopub.execute_input": "2022-10-25T16:29:17.165544Z",
     "iopub.status.busy": "2022-10-25T16:29:17.164602Z",
     "iopub.status.idle": "2022-10-25T16:29:17.184751Z",
     "shell.execute_reply": "2022-10-25T16:29:17.183132Z"
    },
    "papermill": {
     "duration": 0.068451,
     "end_time": "2022-10-25T16:29:17.187228",
     "exception": false,
     "start_time": "2022-10-25T16:29:17.118777",
     "status": "completed"
    },
    "tags": []
   },
   "outputs": [
    {
     "data": {
      "text/html": [
       "<div>\n",
       "<style scoped>\n",
       "    .dataframe tbody tr th:only-of-type {\n",
       "        vertical-align: middle;\n",
       "    }\n",
       "\n",
       "    .dataframe tbody tr th {\n",
       "        vertical-align: top;\n",
       "    }\n",
       "\n",
       "    .dataframe thead th {\n",
       "        text-align: right;\n",
       "    }\n",
       "</style>\n",
       "<table border=\"1\" class=\"dataframe\">\n",
       "  <thead>\n",
       "    <tr style=\"text-align: right;\">\n",
       "      <th></th>\n",
       "      <th>ad_id</th>\n",
       "      <th>xyz_campaign_id</th>\n",
       "      <th>fb_campaign_id</th>\n",
       "      <th>age</th>\n",
       "      <th>gender</th>\n",
       "      <th>interest</th>\n",
       "      <th>Impressions</th>\n",
       "      <th>Clicks</th>\n",
       "      <th>Spent</th>\n",
       "      <th>Total_Conversion</th>\n",
       "      <th>Approved_Conversion</th>\n",
       "      <th>gender_1</th>\n",
       "    </tr>\n",
       "  </thead>\n",
       "  <tbody>\n",
       "    <tr>\n",
       "      <th>0</th>\n",
       "      <td>708746</td>\n",
       "      <td>916</td>\n",
       "      <td>103916</td>\n",
       "      <td>30-34</td>\n",
       "      <td>M</td>\n",
       "      <td>15</td>\n",
       "      <td>7350</td>\n",
       "      <td>1</td>\n",
       "      <td>1.43</td>\n",
       "      <td>2</td>\n",
       "      <td>1</td>\n",
       "      <td>1.0</td>\n",
       "    </tr>\n",
       "    <tr>\n",
       "      <th>1</th>\n",
       "      <td>708749</td>\n",
       "      <td>916</td>\n",
       "      <td>103917</td>\n",
       "      <td>30-34</td>\n",
       "      <td>M</td>\n",
       "      <td>16</td>\n",
       "      <td>17861</td>\n",
       "      <td>2</td>\n",
       "      <td>1.82</td>\n",
       "      <td>2</td>\n",
       "      <td>0</td>\n",
       "      <td>1.0</td>\n",
       "    </tr>\n",
       "    <tr>\n",
       "      <th>2</th>\n",
       "      <td>708771</td>\n",
       "      <td>916</td>\n",
       "      <td>103920</td>\n",
       "      <td>30-34</td>\n",
       "      <td>M</td>\n",
       "      <td>20</td>\n",
       "      <td>693</td>\n",
       "      <td>0</td>\n",
       "      <td>0.00</td>\n",
       "      <td>1</td>\n",
       "      <td>0</td>\n",
       "      <td>1.0</td>\n",
       "    </tr>\n",
       "    <tr>\n",
       "      <th>3</th>\n",
       "      <td>708815</td>\n",
       "      <td>916</td>\n",
       "      <td>103928</td>\n",
       "      <td>30-34</td>\n",
       "      <td>M</td>\n",
       "      <td>28</td>\n",
       "      <td>4259</td>\n",
       "      <td>1</td>\n",
       "      <td>1.25</td>\n",
       "      <td>1</td>\n",
       "      <td>0</td>\n",
       "      <td>1.0</td>\n",
       "    </tr>\n",
       "    <tr>\n",
       "      <th>4</th>\n",
       "      <td>708818</td>\n",
       "      <td>916</td>\n",
       "      <td>103928</td>\n",
       "      <td>30-34</td>\n",
       "      <td>M</td>\n",
       "      <td>28</td>\n",
       "      <td>4133</td>\n",
       "      <td>1</td>\n",
       "      <td>1.29</td>\n",
       "      <td>1</td>\n",
       "      <td>1</td>\n",
       "      <td>1.0</td>\n",
       "    </tr>\n",
       "  </tbody>\n",
       "</table>\n",
       "</div>"
      ],
      "text/plain": [
       "    ad_id  xyz_campaign_id  fb_campaign_id    age gender  interest  \\\n",
       "0  708746              916          103916  30-34      M        15   \n",
       "1  708749              916          103917  30-34      M        16   \n",
       "2  708771              916          103920  30-34      M        20   \n",
       "3  708815              916          103928  30-34      M        28   \n",
       "4  708818              916          103928  30-34      M        28   \n",
       "\n",
       "   Impressions  Clicks  Spent  Total_Conversion  Approved_Conversion  gender_1  \n",
       "0         7350       1   1.43                 2                    1       1.0  \n",
       "1        17861       2   1.82                 2                    0       1.0  \n",
       "2          693       0   0.00                 1                    0       1.0  \n",
       "3         4259       1   1.25                 1                    0       1.0  \n",
       "4         4133       1   1.29                 1                    1       1.0  "
      ]
     },
     "execution_count": 70,
     "metadata": {},
     "output_type": "execute_result"
    }
   ],
   "source": [
    "df=df.join(onehotencoder_df)\n",
    "df.head()"
   ]
  },
  {
   "cell_type": "code",
   "execution_count": 71,
   "id": "ddcd2f43",
   "metadata": {
    "execution": {
     "iopub.execute_input": "2022-10-25T16:29:17.280612Z",
     "iopub.status.busy": "2022-10-25T16:29:17.279333Z",
     "iopub.status.idle": "2022-10-25T16:29:17.297038Z",
     "shell.execute_reply": "2022-10-25T16:29:17.295824Z"
    },
    "papermill": {
     "duration": 0.067275,
     "end_time": "2022-10-25T16:29:17.299399",
     "exception": false,
     "start_time": "2022-10-25T16:29:17.232124",
     "status": "completed"
    },
    "tags": []
   },
   "outputs": [
    {
     "data": {
      "text/html": [
       "<div>\n",
       "<style scoped>\n",
       "    .dataframe tbody tr th:only-of-type {\n",
       "        vertical-align: middle;\n",
       "    }\n",
       "\n",
       "    .dataframe tbody tr th {\n",
       "        vertical-align: top;\n",
       "    }\n",
       "\n",
       "    .dataframe thead th {\n",
       "        text-align: right;\n",
       "    }\n",
       "</style>\n",
       "<table border=\"1\" class=\"dataframe\">\n",
       "  <thead>\n",
       "    <tr style=\"text-align: right;\">\n",
       "      <th></th>\n",
       "      <th>age_1</th>\n",
       "      <th>age_2</th>\n",
       "      <th>age_3</th>\n",
       "    </tr>\n",
       "  </thead>\n",
       "  <tbody>\n",
       "    <tr>\n",
       "      <th>0</th>\n",
       "      <td>0.0</td>\n",
       "      <td>0.0</td>\n",
       "      <td>0.0</td>\n",
       "    </tr>\n",
       "    <tr>\n",
       "      <th>1</th>\n",
       "      <td>0.0</td>\n",
       "      <td>0.0</td>\n",
       "      <td>0.0</td>\n",
       "    </tr>\n",
       "    <tr>\n",
       "      <th>2</th>\n",
       "      <td>0.0</td>\n",
       "      <td>0.0</td>\n",
       "      <td>0.0</td>\n",
       "    </tr>\n",
       "    <tr>\n",
       "      <th>3</th>\n",
       "      <td>0.0</td>\n",
       "      <td>0.0</td>\n",
       "      <td>0.0</td>\n",
       "    </tr>\n",
       "    <tr>\n",
       "      <th>4</th>\n",
       "      <td>0.0</td>\n",
       "      <td>0.0</td>\n",
       "      <td>0.0</td>\n",
       "    </tr>\n",
       "  </tbody>\n",
       "</table>\n",
       "</div>"
      ],
      "text/plain": [
       "   age_1  age_2  age_3\n",
       "0    0.0    0.0    0.0\n",
       "1    0.0    0.0    0.0\n",
       "2    0.0    0.0    0.0\n",
       "3    0.0    0.0    0.0\n",
       "4    0.0    0.0    0.0"
      ]
     },
     "execution_count": 71,
     "metadata": {},
     "output_type": "execute_result"
    }
   ],
   "source": [
    "onehotencoder_df = pd.DataFrame(onehotencoder.fit_transform(df[['age']]), columns=['age_1','age_2','age_3'])\n",
    "\n",
    "onehotencoder_df.head()\n"
   ]
  },
  {
   "cell_type": "code",
   "execution_count": 72,
   "id": "ea648ed5",
   "metadata": {
    "execution": {
     "iopub.execute_input": "2022-10-25T16:29:17.390046Z",
     "iopub.status.busy": "2022-10-25T16:29:17.389152Z",
     "iopub.status.idle": "2022-10-25T16:29:17.410312Z",
     "shell.execute_reply": "2022-10-25T16:29:17.409059Z"
    },
    "papermill": {
     "duration": 0.068959,
     "end_time": "2022-10-25T16:29:17.412632",
     "exception": false,
     "start_time": "2022-10-25T16:29:17.343673",
     "status": "completed"
    },
    "tags": []
   },
   "outputs": [
    {
     "data": {
      "text/html": [
       "<div>\n",
       "<style scoped>\n",
       "    .dataframe tbody tr th:only-of-type {\n",
       "        vertical-align: middle;\n",
       "    }\n",
       "\n",
       "    .dataframe tbody tr th {\n",
       "        vertical-align: top;\n",
       "    }\n",
       "\n",
       "    .dataframe thead th {\n",
       "        text-align: right;\n",
       "    }\n",
       "</style>\n",
       "<table border=\"1\" class=\"dataframe\">\n",
       "  <thead>\n",
       "    <tr style=\"text-align: right;\">\n",
       "      <th></th>\n",
       "      <th>ad_id</th>\n",
       "      <th>xyz_campaign_id</th>\n",
       "      <th>fb_campaign_id</th>\n",
       "      <th>age</th>\n",
       "      <th>gender</th>\n",
       "      <th>interest</th>\n",
       "      <th>Impressions</th>\n",
       "      <th>Clicks</th>\n",
       "      <th>Spent</th>\n",
       "      <th>Total_Conversion</th>\n",
       "      <th>Approved_Conversion</th>\n",
       "      <th>gender_1</th>\n",
       "      <th>age_1</th>\n",
       "      <th>age_2</th>\n",
       "      <th>age_3</th>\n",
       "    </tr>\n",
       "  </thead>\n",
       "  <tbody>\n",
       "    <tr>\n",
       "      <th>0</th>\n",
       "      <td>708746</td>\n",
       "      <td>916</td>\n",
       "      <td>103916</td>\n",
       "      <td>30-34</td>\n",
       "      <td>M</td>\n",
       "      <td>15</td>\n",
       "      <td>7350</td>\n",
       "      <td>1</td>\n",
       "      <td>1.43</td>\n",
       "      <td>2</td>\n",
       "      <td>1</td>\n",
       "      <td>1.0</td>\n",
       "      <td>0.0</td>\n",
       "      <td>0.0</td>\n",
       "      <td>0.0</td>\n",
       "    </tr>\n",
       "    <tr>\n",
       "      <th>1</th>\n",
       "      <td>708749</td>\n",
       "      <td>916</td>\n",
       "      <td>103917</td>\n",
       "      <td>30-34</td>\n",
       "      <td>M</td>\n",
       "      <td>16</td>\n",
       "      <td>17861</td>\n",
       "      <td>2</td>\n",
       "      <td>1.82</td>\n",
       "      <td>2</td>\n",
       "      <td>0</td>\n",
       "      <td>1.0</td>\n",
       "      <td>0.0</td>\n",
       "      <td>0.0</td>\n",
       "      <td>0.0</td>\n",
       "    </tr>\n",
       "    <tr>\n",
       "      <th>2</th>\n",
       "      <td>708771</td>\n",
       "      <td>916</td>\n",
       "      <td>103920</td>\n",
       "      <td>30-34</td>\n",
       "      <td>M</td>\n",
       "      <td>20</td>\n",
       "      <td>693</td>\n",
       "      <td>0</td>\n",
       "      <td>0.00</td>\n",
       "      <td>1</td>\n",
       "      <td>0</td>\n",
       "      <td>1.0</td>\n",
       "      <td>0.0</td>\n",
       "      <td>0.0</td>\n",
       "      <td>0.0</td>\n",
       "    </tr>\n",
       "    <tr>\n",
       "      <th>3</th>\n",
       "      <td>708815</td>\n",
       "      <td>916</td>\n",
       "      <td>103928</td>\n",
       "      <td>30-34</td>\n",
       "      <td>M</td>\n",
       "      <td>28</td>\n",
       "      <td>4259</td>\n",
       "      <td>1</td>\n",
       "      <td>1.25</td>\n",
       "      <td>1</td>\n",
       "      <td>0</td>\n",
       "      <td>1.0</td>\n",
       "      <td>0.0</td>\n",
       "      <td>0.0</td>\n",
       "      <td>0.0</td>\n",
       "    </tr>\n",
       "    <tr>\n",
       "      <th>4</th>\n",
       "      <td>708818</td>\n",
       "      <td>916</td>\n",
       "      <td>103928</td>\n",
       "      <td>30-34</td>\n",
       "      <td>M</td>\n",
       "      <td>28</td>\n",
       "      <td>4133</td>\n",
       "      <td>1</td>\n",
       "      <td>1.29</td>\n",
       "      <td>1</td>\n",
       "      <td>1</td>\n",
       "      <td>1.0</td>\n",
       "      <td>0.0</td>\n",
       "      <td>0.0</td>\n",
       "      <td>0.0</td>\n",
       "    </tr>\n",
       "  </tbody>\n",
       "</table>\n",
       "</div>"
      ],
      "text/plain": [
       "    ad_id  xyz_campaign_id  fb_campaign_id    age gender  interest  \\\n",
       "0  708746              916          103916  30-34      M        15   \n",
       "1  708749              916          103917  30-34      M        16   \n",
       "2  708771              916          103920  30-34      M        20   \n",
       "3  708815              916          103928  30-34      M        28   \n",
       "4  708818              916          103928  30-34      M        28   \n",
       "\n",
       "   Impressions  Clicks  Spent  Total_Conversion  Approved_Conversion  \\\n",
       "0         7350       1   1.43                 2                    1   \n",
       "1        17861       2   1.82                 2                    0   \n",
       "2          693       0   0.00                 1                    0   \n",
       "3         4259       1   1.25                 1                    0   \n",
       "4         4133       1   1.29                 1                    1   \n",
       "\n",
       "   gender_1  age_1  age_2  age_3  \n",
       "0       1.0    0.0    0.0    0.0  \n",
       "1       1.0    0.0    0.0    0.0  \n",
       "2       1.0    0.0    0.0    0.0  \n",
       "3       1.0    0.0    0.0    0.0  \n",
       "4       1.0    0.0    0.0    0.0  "
      ]
     },
     "execution_count": 72,
     "metadata": {},
     "output_type": "execute_result"
    }
   ],
   "source": [
    "df=df.join(onehotencoder_df)\n",
    "df.head()"
   ]
  },
  {
   "cell_type": "code",
   "execution_count": 73,
   "id": "0a1399ed",
   "metadata": {
    "execution": {
     "iopub.execute_input": "2022-10-25T16:29:17.504470Z",
     "iopub.status.busy": "2022-10-25T16:29:17.503608Z",
     "iopub.status.idle": "2022-10-25T16:29:17.523469Z",
     "shell.execute_reply": "2022-10-25T16:29:17.522579Z"
    },
    "papermill": {
     "duration": 0.068371,
     "end_time": "2022-10-25T16:29:17.525799",
     "exception": false,
     "start_time": "2022-10-25T16:29:17.457428",
     "status": "completed"
    },
    "tags": []
   },
   "outputs": [
    {
     "data": {
      "text/html": [
       "<div>\n",
       "<style scoped>\n",
       "    .dataframe tbody tr th:only-of-type {\n",
       "        vertical-align: middle;\n",
       "    }\n",
       "\n",
       "    .dataframe tbody tr th {\n",
       "        vertical-align: top;\n",
       "    }\n",
       "\n",
       "    .dataframe thead th {\n",
       "        text-align: right;\n",
       "    }\n",
       "</style>\n",
       "<table border=\"1\" class=\"dataframe\">\n",
       "  <thead>\n",
       "    <tr style=\"text-align: right;\">\n",
       "      <th></th>\n",
       "      <th>ad_id</th>\n",
       "      <th>xyz_campaign_id</th>\n",
       "      <th>fb_campaign_id</th>\n",
       "      <th>age</th>\n",
       "      <th>gender</th>\n",
       "      <th>interest</th>\n",
       "      <th>Impressions</th>\n",
       "      <th>Clicks</th>\n",
       "      <th>Spent</th>\n",
       "      <th>Total_Conversion</th>\n",
       "      <th>Approved_Conversion</th>\n",
       "      <th>gender_1</th>\n",
       "      <th>age_1</th>\n",
       "      <th>age_2</th>\n",
       "      <th>age_3</th>\n",
       "    </tr>\n",
       "  </thead>\n",
       "  <tbody>\n",
       "    <tr>\n",
       "      <th>0</th>\n",
       "      <td>708746</td>\n",
       "      <td>916</td>\n",
       "      <td>103916</td>\n",
       "      <td>30-34</td>\n",
       "      <td>M</td>\n",
       "      <td>15</td>\n",
       "      <td>7350</td>\n",
       "      <td>1</td>\n",
       "      <td>1.43</td>\n",
       "      <td>2</td>\n",
       "      <td>1</td>\n",
       "      <td>1.0</td>\n",
       "      <td>0.0</td>\n",
       "      <td>0.0</td>\n",
       "      <td>0.0</td>\n",
       "    </tr>\n",
       "    <tr>\n",
       "      <th>1</th>\n",
       "      <td>708749</td>\n",
       "      <td>916</td>\n",
       "      <td>103917</td>\n",
       "      <td>30-34</td>\n",
       "      <td>M</td>\n",
       "      <td>16</td>\n",
       "      <td>17861</td>\n",
       "      <td>2</td>\n",
       "      <td>1.82</td>\n",
       "      <td>2</td>\n",
       "      <td>0</td>\n",
       "      <td>1.0</td>\n",
       "      <td>0.0</td>\n",
       "      <td>0.0</td>\n",
       "      <td>0.0</td>\n",
       "    </tr>\n",
       "    <tr>\n",
       "      <th>2</th>\n",
       "      <td>708771</td>\n",
       "      <td>916</td>\n",
       "      <td>103920</td>\n",
       "      <td>30-34</td>\n",
       "      <td>M</td>\n",
       "      <td>20</td>\n",
       "      <td>693</td>\n",
       "      <td>0</td>\n",
       "      <td>0.00</td>\n",
       "      <td>1</td>\n",
       "      <td>0</td>\n",
       "      <td>1.0</td>\n",
       "      <td>0.0</td>\n",
       "      <td>0.0</td>\n",
       "      <td>0.0</td>\n",
       "    </tr>\n",
       "    <tr>\n",
       "      <th>3</th>\n",
       "      <td>708815</td>\n",
       "      <td>916</td>\n",
       "      <td>103928</td>\n",
       "      <td>30-34</td>\n",
       "      <td>M</td>\n",
       "      <td>28</td>\n",
       "      <td>4259</td>\n",
       "      <td>1</td>\n",
       "      <td>1.25</td>\n",
       "      <td>1</td>\n",
       "      <td>0</td>\n",
       "      <td>1.0</td>\n",
       "      <td>0.0</td>\n",
       "      <td>0.0</td>\n",
       "      <td>0.0</td>\n",
       "    </tr>\n",
       "    <tr>\n",
       "      <th>4</th>\n",
       "      <td>708818</td>\n",
       "      <td>916</td>\n",
       "      <td>103928</td>\n",
       "      <td>30-34</td>\n",
       "      <td>M</td>\n",
       "      <td>28</td>\n",
       "      <td>4133</td>\n",
       "      <td>1</td>\n",
       "      <td>1.29</td>\n",
       "      <td>1</td>\n",
       "      <td>1</td>\n",
       "      <td>1.0</td>\n",
       "      <td>0.0</td>\n",
       "      <td>0.0</td>\n",
       "      <td>0.0</td>\n",
       "    </tr>\n",
       "  </tbody>\n",
       "</table>\n",
       "</div>"
      ],
      "text/plain": [
       "    ad_id  xyz_campaign_id  fb_campaign_id    age gender  interest  \\\n",
       "0  708746              916          103916  30-34      M        15   \n",
       "1  708749              916          103917  30-34      M        16   \n",
       "2  708771              916          103920  30-34      M        20   \n",
       "3  708815              916          103928  30-34      M        28   \n",
       "4  708818              916          103928  30-34      M        28   \n",
       "\n",
       "   Impressions  Clicks  Spent  Total_Conversion  Approved_Conversion  \\\n",
       "0         7350       1   1.43                 2                    1   \n",
       "1        17861       2   1.82                 2                    0   \n",
       "2          693       0   0.00                 1                    0   \n",
       "3         4259       1   1.25                 1                    0   \n",
       "4         4133       1   1.29                 1                    1   \n",
       "\n",
       "   gender_1  age_1  age_2  age_3  \n",
       "0       1.0    0.0    0.0    0.0  \n",
       "1       1.0    0.0    0.0    0.0  \n",
       "2       1.0    0.0    0.0    0.0  \n",
       "3       1.0    0.0    0.0    0.0  \n",
       "4       1.0    0.0    0.0    0.0  "
      ]
     },
     "execution_count": 73,
     "metadata": {},
     "output_type": "execute_result"
    }
   ],
   "source": [
    "df_2=df.copy()\n",
    "df_2.head()"
   ]
  },
  {
   "cell_type": "code",
   "execution_count": 74,
   "id": "4f810daa",
   "metadata": {
    "execution": {
     "iopub.execute_input": "2022-10-25T16:29:17.619776Z",
     "iopub.status.busy": "2022-10-25T16:29:17.618852Z",
     "iopub.status.idle": "2022-10-25T16:29:17.625594Z",
     "shell.execute_reply": "2022-10-25T16:29:17.624355Z"
    },
    "papermill": {
     "duration": 0.056761,
     "end_time": "2022-10-25T16:29:17.628012",
     "exception": false,
     "start_time": "2022-10-25T16:29:17.571251",
     "status": "completed"
    },
    "tags": []
   },
   "outputs": [],
   "source": [
    "df_2=df_2.drop(columns=['age','gender'])"
   ]
  },
  {
   "cell_type": "code",
   "execution_count": 75,
   "id": "2aa5a76e",
   "metadata": {
    "execution": {
     "iopub.execute_input": "2022-10-25T16:29:17.719969Z",
     "iopub.status.busy": "2022-10-25T16:29:17.719495Z",
     "iopub.status.idle": "2022-10-25T16:29:17.737731Z",
     "shell.execute_reply": "2022-10-25T16:29:17.736822Z"
    },
    "papermill": {
     "duration": 0.066995,
     "end_time": "2022-10-25T16:29:17.739811",
     "exception": false,
     "start_time": "2022-10-25T16:29:17.672816",
     "status": "completed"
    },
    "tags": []
   },
   "outputs": [
    {
     "data": {
      "text/html": [
       "<div>\n",
       "<style scoped>\n",
       "    .dataframe tbody tr th:only-of-type {\n",
       "        vertical-align: middle;\n",
       "    }\n",
       "\n",
       "    .dataframe tbody tr th {\n",
       "        vertical-align: top;\n",
       "    }\n",
       "\n",
       "    .dataframe thead th {\n",
       "        text-align: right;\n",
       "    }\n",
       "</style>\n",
       "<table border=\"1\" class=\"dataframe\">\n",
       "  <thead>\n",
       "    <tr style=\"text-align: right;\">\n",
       "      <th></th>\n",
       "      <th>ad_id</th>\n",
       "      <th>xyz_campaign_id</th>\n",
       "      <th>fb_campaign_id</th>\n",
       "      <th>interest</th>\n",
       "      <th>Impressions</th>\n",
       "      <th>Clicks</th>\n",
       "      <th>Spent</th>\n",
       "      <th>Total_Conversion</th>\n",
       "      <th>Approved_Conversion</th>\n",
       "      <th>gender_1</th>\n",
       "      <th>age_1</th>\n",
       "      <th>age_2</th>\n",
       "      <th>age_3</th>\n",
       "    </tr>\n",
       "  </thead>\n",
       "  <tbody>\n",
       "    <tr>\n",
       "      <th>0</th>\n",
       "      <td>708746</td>\n",
       "      <td>916</td>\n",
       "      <td>103916</td>\n",
       "      <td>15</td>\n",
       "      <td>7350</td>\n",
       "      <td>1</td>\n",
       "      <td>1.43</td>\n",
       "      <td>2</td>\n",
       "      <td>1</td>\n",
       "      <td>1.0</td>\n",
       "      <td>0.0</td>\n",
       "      <td>0.0</td>\n",
       "      <td>0.0</td>\n",
       "    </tr>\n",
       "    <tr>\n",
       "      <th>1</th>\n",
       "      <td>708749</td>\n",
       "      <td>916</td>\n",
       "      <td>103917</td>\n",
       "      <td>16</td>\n",
       "      <td>17861</td>\n",
       "      <td>2</td>\n",
       "      <td>1.82</td>\n",
       "      <td>2</td>\n",
       "      <td>0</td>\n",
       "      <td>1.0</td>\n",
       "      <td>0.0</td>\n",
       "      <td>0.0</td>\n",
       "      <td>0.0</td>\n",
       "    </tr>\n",
       "    <tr>\n",
       "      <th>2</th>\n",
       "      <td>708771</td>\n",
       "      <td>916</td>\n",
       "      <td>103920</td>\n",
       "      <td>20</td>\n",
       "      <td>693</td>\n",
       "      <td>0</td>\n",
       "      <td>0.00</td>\n",
       "      <td>1</td>\n",
       "      <td>0</td>\n",
       "      <td>1.0</td>\n",
       "      <td>0.0</td>\n",
       "      <td>0.0</td>\n",
       "      <td>0.0</td>\n",
       "    </tr>\n",
       "    <tr>\n",
       "      <th>3</th>\n",
       "      <td>708815</td>\n",
       "      <td>916</td>\n",
       "      <td>103928</td>\n",
       "      <td>28</td>\n",
       "      <td>4259</td>\n",
       "      <td>1</td>\n",
       "      <td>1.25</td>\n",
       "      <td>1</td>\n",
       "      <td>0</td>\n",
       "      <td>1.0</td>\n",
       "      <td>0.0</td>\n",
       "      <td>0.0</td>\n",
       "      <td>0.0</td>\n",
       "    </tr>\n",
       "    <tr>\n",
       "      <th>4</th>\n",
       "      <td>708818</td>\n",
       "      <td>916</td>\n",
       "      <td>103928</td>\n",
       "      <td>28</td>\n",
       "      <td>4133</td>\n",
       "      <td>1</td>\n",
       "      <td>1.29</td>\n",
       "      <td>1</td>\n",
       "      <td>1</td>\n",
       "      <td>1.0</td>\n",
       "      <td>0.0</td>\n",
       "      <td>0.0</td>\n",
       "      <td>0.0</td>\n",
       "    </tr>\n",
       "  </tbody>\n",
       "</table>\n",
       "</div>"
      ],
      "text/plain": [
       "    ad_id  xyz_campaign_id  fb_campaign_id  interest  Impressions  Clicks  \\\n",
       "0  708746              916          103916        15         7350       1   \n",
       "1  708749              916          103917        16        17861       2   \n",
       "2  708771              916          103920        20          693       0   \n",
       "3  708815              916          103928        28         4259       1   \n",
       "4  708818              916          103928        28         4133       1   \n",
       "\n",
       "   Spent  Total_Conversion  Approved_Conversion  gender_1  age_1  age_2  age_3  \n",
       "0   1.43                 2                    1       1.0    0.0    0.0    0.0  \n",
       "1   1.82                 2                    0       1.0    0.0    0.0    0.0  \n",
       "2   0.00                 1                    0       1.0    0.0    0.0    0.0  \n",
       "3   1.25                 1                    0       1.0    0.0    0.0    0.0  \n",
       "4   1.29                 1                    1       1.0    0.0    0.0    0.0  "
      ]
     },
     "execution_count": 75,
     "metadata": {},
     "output_type": "execute_result"
    }
   ],
   "source": [
    "df_2.head()"
   ]
  },
  {
   "cell_type": "code",
   "execution_count": 76,
   "id": "8f132573",
   "metadata": {
    "execution": {
     "iopub.execute_input": "2022-10-25T16:29:17.834446Z",
     "iopub.status.busy": "2022-10-25T16:29:17.833895Z",
     "iopub.status.idle": "2022-10-25T16:29:17.841315Z",
     "shell.execute_reply": "2022-10-25T16:29:17.840289Z"
    },
    "papermill": {
     "duration": 0.057928,
     "end_time": "2022-10-25T16:29:17.843737",
     "exception": false,
     "start_time": "2022-10-25T16:29:17.785809",
     "status": "completed"
    },
    "tags": []
   },
   "outputs": [],
   "source": [
    "df_2=df_2[['ad_id', 'interest','Impressions','Clicks','Spent','Approved_Conversion','gender_1','age_1','age_2','age_3']]"
   ]
  },
  {
   "cell_type": "code",
   "execution_count": 77,
   "id": "5e820650",
   "metadata": {
    "execution": {
     "iopub.execute_input": "2022-10-25T16:29:17.938700Z",
     "iopub.status.busy": "2022-10-25T16:29:17.937427Z",
     "iopub.status.idle": "2022-10-25T16:29:17.954615Z",
     "shell.execute_reply": "2022-10-25T16:29:17.953453Z"
    },
    "papermill": {
     "duration": 0.068121,
     "end_time": "2022-10-25T16:29:17.957312",
     "exception": false,
     "start_time": "2022-10-25T16:29:17.889191",
     "status": "completed"
    },
    "tags": []
   },
   "outputs": [
    {
     "data": {
      "text/html": [
       "<div>\n",
       "<style scoped>\n",
       "    .dataframe tbody tr th:only-of-type {\n",
       "        vertical-align: middle;\n",
       "    }\n",
       "\n",
       "    .dataframe tbody tr th {\n",
       "        vertical-align: top;\n",
       "    }\n",
       "\n",
       "    .dataframe thead th {\n",
       "        text-align: right;\n",
       "    }\n",
       "</style>\n",
       "<table border=\"1\" class=\"dataframe\">\n",
       "  <thead>\n",
       "    <tr style=\"text-align: right;\">\n",
       "      <th></th>\n",
       "      <th>ad_id</th>\n",
       "      <th>interest</th>\n",
       "      <th>Impressions</th>\n",
       "      <th>Clicks</th>\n",
       "      <th>Spent</th>\n",
       "      <th>Approved_Conversion</th>\n",
       "      <th>gender_1</th>\n",
       "      <th>age_1</th>\n",
       "      <th>age_2</th>\n",
       "      <th>age_3</th>\n",
       "    </tr>\n",
       "  </thead>\n",
       "  <tbody>\n",
       "    <tr>\n",
       "      <th>0</th>\n",
       "      <td>708746</td>\n",
       "      <td>15</td>\n",
       "      <td>7350</td>\n",
       "      <td>1</td>\n",
       "      <td>1.43</td>\n",
       "      <td>1</td>\n",
       "      <td>1.0</td>\n",
       "      <td>0.0</td>\n",
       "      <td>0.0</td>\n",
       "      <td>0.0</td>\n",
       "    </tr>\n",
       "    <tr>\n",
       "      <th>1</th>\n",
       "      <td>708749</td>\n",
       "      <td>16</td>\n",
       "      <td>17861</td>\n",
       "      <td>2</td>\n",
       "      <td>1.82</td>\n",
       "      <td>0</td>\n",
       "      <td>1.0</td>\n",
       "      <td>0.0</td>\n",
       "      <td>0.0</td>\n",
       "      <td>0.0</td>\n",
       "    </tr>\n",
       "    <tr>\n",
       "      <th>2</th>\n",
       "      <td>708771</td>\n",
       "      <td>20</td>\n",
       "      <td>693</td>\n",
       "      <td>0</td>\n",
       "      <td>0.00</td>\n",
       "      <td>0</td>\n",
       "      <td>1.0</td>\n",
       "      <td>0.0</td>\n",
       "      <td>0.0</td>\n",
       "      <td>0.0</td>\n",
       "    </tr>\n",
       "    <tr>\n",
       "      <th>3</th>\n",
       "      <td>708815</td>\n",
       "      <td>28</td>\n",
       "      <td>4259</td>\n",
       "      <td>1</td>\n",
       "      <td>1.25</td>\n",
       "      <td>0</td>\n",
       "      <td>1.0</td>\n",
       "      <td>0.0</td>\n",
       "      <td>0.0</td>\n",
       "      <td>0.0</td>\n",
       "    </tr>\n",
       "    <tr>\n",
       "      <th>4</th>\n",
       "      <td>708818</td>\n",
       "      <td>28</td>\n",
       "      <td>4133</td>\n",
       "      <td>1</td>\n",
       "      <td>1.29</td>\n",
       "      <td>1</td>\n",
       "      <td>1.0</td>\n",
       "      <td>0.0</td>\n",
       "      <td>0.0</td>\n",
       "      <td>0.0</td>\n",
       "    </tr>\n",
       "  </tbody>\n",
       "</table>\n",
       "</div>"
      ],
      "text/plain": [
       "    ad_id  interest  Impressions  Clicks  Spent  Approved_Conversion  \\\n",
       "0  708746        15         7350       1   1.43                    1   \n",
       "1  708749        16        17861       2   1.82                    0   \n",
       "2  708771        20          693       0   0.00                    0   \n",
       "3  708815        28         4259       1   1.25                    0   \n",
       "4  708818        28         4133       1   1.29                    1   \n",
       "\n",
       "   gender_1  age_1  age_2  age_3  \n",
       "0       1.0    0.0    0.0    0.0  \n",
       "1       1.0    0.0    0.0    0.0  \n",
       "2       1.0    0.0    0.0    0.0  \n",
       "3       1.0    0.0    0.0    0.0  \n",
       "4       1.0    0.0    0.0    0.0  "
      ]
     },
     "execution_count": 77,
     "metadata": {},
     "output_type": "execute_result"
    }
   ],
   "source": [
    "df_2.head()"
   ]
  },
  {
   "cell_type": "code",
   "execution_count": 78,
   "id": "24df3155",
   "metadata": {
    "execution": {
     "iopub.execute_input": "2022-10-25T16:29:18.050366Z",
     "iopub.status.busy": "2022-10-25T16:29:18.049822Z",
     "iopub.status.idle": "2022-10-25T16:29:27.543584Z",
     "shell.execute_reply": "2022-10-25T16:29:27.541978Z"
    },
    "papermill": {
     "duration": 9.544485,
     "end_time": "2022-10-25T16:29:27.547392",
     "exception": false,
     "start_time": "2022-10-25T16:29:18.002907",
     "status": "completed"
    },
    "tags": []
   },
   "outputs": [],
   "source": [
    "from sklearn.cluster import KMeans\n",
    "from sklearn.metrics import silhouette_score\n",
    "\n",
    "inertia=[]\n",
    "k=np.arange(1,9)\n",
    "\n",
    "for i in k:\n",
    "    model=KMeans(n_clusters= i, max_iter=5)\n",
    "    km = model.fit(df_2.values)\n",
    "    inertia.append(pd.Series({'k': i,\n",
    "                              'inertia': model.inertia_\n",
    "                             }))"
   ]
  },
  {
   "cell_type": "code",
   "execution_count": 79,
   "id": "2a830dc2",
   "metadata": {
    "execution": {
     "iopub.execute_input": "2022-10-25T16:29:27.643980Z",
     "iopub.status.busy": "2022-10-25T16:29:27.642914Z",
     "iopub.status.idle": "2022-10-25T16:29:27.653373Z",
     "shell.execute_reply": "2022-10-25T16:29:27.652304Z"
    },
    "papermill": {
     "duration": 0.061556,
     "end_time": "2022-10-25T16:29:27.656281",
     "exception": false,
     "start_time": "2022-10-25T16:29:27.594725",
     "status": "completed"
    },
    "tags": []
   },
   "outputs": [],
   "source": [
    "inertias= pd.concat(inertia, axis=1).T.set_index('k')"
   ]
  },
  {
   "cell_type": "code",
   "execution_count": 80,
   "id": "cdbf8d3b",
   "metadata": {
    "execution": {
     "iopub.execute_input": "2022-10-25T16:29:27.749789Z",
     "iopub.status.busy": "2022-10-25T16:29:27.748752Z",
     "iopub.status.idle": "2022-10-25T16:29:27.762632Z",
     "shell.execute_reply": "2022-10-25T16:29:27.761507Z"
    },
    "papermill": {
     "duration": 0.064562,
     "end_time": "2022-10-25T16:29:27.765813",
     "exception": false,
     "start_time": "2022-10-25T16:29:27.701251",
     "status": "completed"
    },
    "tags": []
   },
   "outputs": [
    {
     "data": {
      "text/html": [
       "<div>\n",
       "<style scoped>\n",
       "    .dataframe tbody tr th:only-of-type {\n",
       "        vertical-align: middle;\n",
       "    }\n",
       "\n",
       "    .dataframe tbody tr th {\n",
       "        vertical-align: top;\n",
       "    }\n",
       "\n",
       "    .dataframe thead th {\n",
       "        text-align: right;\n",
       "    }\n",
       "</style>\n",
       "<table border=\"1\" class=\"dataframe\">\n",
       "  <thead>\n",
       "    <tr style=\"text-align: right;\">\n",
       "      <th></th>\n",
       "      <th>inertia</th>\n",
       "    </tr>\n",
       "    <tr>\n",
       "      <th>k</th>\n",
       "      <th></th>\n",
       "    </tr>\n",
       "  </thead>\n",
       "  <tbody>\n",
       "    <tr>\n",
       "      <th>1.0</th>\n",
       "      <td>1.546878e+14</td>\n",
       "    </tr>\n",
       "    <tr>\n",
       "      <th>2.0</th>\n",
       "      <td>7.179957e+13</td>\n",
       "    </tr>\n",
       "    <tr>\n",
       "      <th>3.0</th>\n",
       "      <td>3.323367e+13</td>\n",
       "    </tr>\n",
       "    <tr>\n",
       "      <th>4.0</th>\n",
       "      <td>2.208548e+13</td>\n",
       "    </tr>\n",
       "    <tr>\n",
       "      <th>5.0</th>\n",
       "      <td>1.541346e+13</td>\n",
       "    </tr>\n",
       "    <tr>\n",
       "      <th>6.0</th>\n",
       "      <td>1.215490e+13</td>\n",
       "    </tr>\n",
       "    <tr>\n",
       "      <th>7.0</th>\n",
       "      <td>9.389719e+12</td>\n",
       "    </tr>\n",
       "    <tr>\n",
       "      <th>8.0</th>\n",
       "      <td>7.724465e+12</td>\n",
       "    </tr>\n",
       "  </tbody>\n",
       "</table>\n",
       "</div>"
      ],
      "text/plain": [
       "          inertia\n",
       "k                \n",
       "1.0  1.546878e+14\n",
       "2.0  7.179957e+13\n",
       "3.0  3.323367e+13\n",
       "4.0  2.208548e+13\n",
       "5.0  1.541346e+13\n",
       "6.0  1.215490e+13\n",
       "7.0  9.389719e+12\n",
       "8.0  7.724465e+12"
      ]
     },
     "execution_count": 80,
     "metadata": {},
     "output_type": "execute_result"
    }
   ],
   "source": [
    "inertias"
   ]
  },
  {
   "cell_type": "code",
   "execution_count": 81,
   "id": "f41b7b9f",
   "metadata": {
    "execution": {
     "iopub.execute_input": "2022-10-25T16:29:27.861303Z",
     "iopub.status.busy": "2022-10-25T16:29:27.860736Z",
     "iopub.status.idle": "2022-10-25T16:29:28.151241Z",
     "shell.execute_reply": "2022-10-25T16:29:28.149925Z"
    },
    "papermill": {
     "duration": 0.34087,
     "end_time": "2022-10-25T16:29:28.154013",
     "exception": false,
     "start_time": "2022-10-25T16:29:27.813143",
     "status": "completed"
    },
    "tags": []
   },
   "outputs": [
    {
     "data": {
      "image/png": "[encoded data removed]",
      "text/plain": [
       "<Figure size 864x432 with 1 Axes>"
      ]
     },
     "metadata": {},
     "output_type": "display_data"
    }
   ],
   "source": [
    "# Plot k vs inertias\n",
    "\n",
    "plt.figure(figsize=(12,6))\n",
    "plt.plot(inertias.index, inertias['inertia'], '-*')\n",
    "plt.title('Best k using Elbow method')\n",
    "plt.xlabel('number of clusters, k')\n",
    "plt.ylabel('inertia')\n",
    "plt.xticks(k)\n",
    "plt.show()"
   ]
  },
  {
   "cell_type": "markdown",
   "id": "61e0a23b",
   "metadata": {
    "papermill": {
     "duration": 0.045647,
     "end_time": "2022-10-25T16:29:28.246764",
     "exception": false,
     "start_time": "2022-10-25T16:29:28.201117",
     "status": "completed"
    },
    "tags": []
   },
   "source": [
    "There is a sharp drop in the inertia from cluster 1 to cluster 2 and further till cluster 3. We can choose # of clusters as 2 or 3\n"
   ]
  },
  {
   "cell_type": "code",
   "execution_count": 82,
   "id": "71fad686",
   "metadata": {
    "execution": {
     "iopub.execute_input": "2022-10-25T16:29:28.340825Z",
     "iopub.status.busy": "2022-10-25T16:29:28.340316Z",
     "iopub.status.idle": "2022-10-25T16:29:36.945068Z",
     "shell.execute_reply": "2022-10-25T16:29:36.943132Z"
    },
    "papermill": {
     "duration": 8.658409,
     "end_time": "2022-10-25T16:29:36.951160",
     "exception": false,
     "start_time": "2022-10-25T16:29:28.292751",
     "status": "completed"
    },
    "tags": []
   },
   "outputs": [],
   "source": [
    "sc=[]\n",
    "k= np.arange(2,9)\n",
    "for i in k:\n",
    "    model = KMeans(n_clusters= i, max_iter=5)\n",
    "    pred = model.fit_predict(df_2.values)\n",
    "    sil_score= silhouette_score(df_2.values, pred)\n",
    "    sc.append(pd.Series({'k': i,\n",
    "                            'sc': sil_score\n",
    "                             }))"
   ]
  },
  {
   "cell_type": "code",
   "execution_count": 83,
   "id": "a0c5bca5",
   "metadata": {
    "execution": {
     "iopub.execute_input": "2022-10-25T16:29:37.085031Z",
     "iopub.status.busy": "2022-10-25T16:29:37.084516Z",
     "iopub.status.idle": "2022-10-25T16:29:37.100421Z",
     "shell.execute_reply": "2022-10-25T16:29:37.099236Z"
    },
    "papermill": {
     "duration": 0.068304,
     "end_time": "2022-10-25T16:29:37.103654",
     "exception": false,
     "start_time": "2022-10-25T16:29:37.035350",
     "status": "completed"
    },
    "tags": []
   },
   "outputs": [
    {
     "data": {
      "text/html": [
       "<div>\n",
       "<style scoped>\n",
       "    .dataframe tbody tr th:only-of-type {\n",
       "        vertical-align: middle;\n",
       "    }\n",
       "\n",
       "    .dataframe tbody tr th {\n",
       "        vertical-align: top;\n",
       "    }\n",
       "\n",
       "    .dataframe thead th {\n",
       "        text-align: right;\n",
       "    }\n",
       "</style>\n",
       "<table border=\"1\" class=\"dataframe\">\n",
       "  <thead>\n",
       "    <tr style=\"text-align: right;\">\n",
       "      <th></th>\n",
       "      <th>sc</th>\n",
       "    </tr>\n",
       "    <tr>\n",
       "      <th>k</th>\n",
       "      <th></th>\n",
       "    </tr>\n",
       "  </thead>\n",
       "  <tbody>\n",
       "    <tr>\n",
       "      <th>2.0</th>\n",
       "      <td>0.638055</td>\n",
       "    </tr>\n",
       "    <tr>\n",
       "      <th>3.0</th>\n",
       "      <td>0.641908</td>\n",
       "    </tr>\n",
       "    <tr>\n",
       "      <th>4.0</th>\n",
       "      <td>0.640442</td>\n",
       "    </tr>\n",
       "    <tr>\n",
       "      <th>5.0</th>\n",
       "      <td>0.641309</td>\n",
       "    </tr>\n",
       "    <tr>\n",
       "      <th>6.0</th>\n",
       "      <td>0.617467</td>\n",
       "    </tr>\n",
       "    <tr>\n",
       "      <th>7.0</th>\n",
       "      <td>0.622941</td>\n",
       "    </tr>\n",
       "    <tr>\n",
       "      <th>8.0</th>\n",
       "      <td>0.658539</td>\n",
       "    </tr>\n",
       "  </tbody>\n",
       "</table>\n",
       "</div>"
      ],
      "text/plain": [
       "           sc\n",
       "k            \n",
       "2.0  0.638055\n",
       "3.0  0.641908\n",
       "4.0  0.640442\n",
       "5.0  0.641309\n",
       "6.0  0.617467\n",
       "7.0  0.622941\n",
       "8.0  0.658539"
      ]
     },
     "execution_count": 83,
     "metadata": {},
     "output_type": "execute_result"
    }
   ],
   "source": [
    "score=pd.concat(sc, axis=1).T.set_index('k')\n",
    "score"
   ]
  },
  {
   "cell_type": "code",
   "execution_count": 84,
   "id": "4573888b",
   "metadata": {
    "execution": {
     "iopub.execute_input": "2022-10-25T16:29:37.199211Z",
     "iopub.status.busy": "2022-10-25T16:29:37.198238Z",
     "iopub.status.idle": "2022-10-25T16:29:37.385531Z",
     "shell.execute_reply": "2022-10-25T16:29:37.384155Z"
    },
    "papermill": {
     "duration": 0.238094,
     "end_time": "2022-10-25T16:29:37.388599",
     "exception": false,
     "start_time": "2022-10-25T16:29:37.150505",
     "status": "completed"
    },
    "tags": []
   },
   "outputs": [
    {
     "data": {
      "image/png": "[encoded data removed]",
      "text/plain": [
       "<Figure size 864x432 with 1 Axes>"
      ]
     },
     "metadata": {},
     "output_type": "display_data"
    }
   ],
   "source": [
    "# Plot k vs inertias\n",
    "\n",
    "plt.figure(figsize=(12,6))\n",
    "plt.plot(score.index, score['sc'], '-*')\n",
    "plt.title('SC plot')\n",
    "plt.xlabel('number of clusters, k')\n",
    "plt.ylabel('SC')\n",
    "plt.xticks(k)\n",
    "plt.show()"
   ]
  },
  {
   "cell_type": "markdown",
   "id": "e48e7e47",
   "metadata": {
    "papermill": {
     "duration": 0.046618,
     "end_time": "2022-10-25T16:29:37.483432",
     "exception": false,
     "start_time": "2022-10-25T16:29:37.436814",
     "status": "completed"
    },
    "tags": []
   },
   "source": [
    "3 clusters seems ok but we have maximum silhoutte score at 8 clusters. We will go ahead with 3 as of now.\n"
   ]
  },
  {
   "cell_type": "code",
   "execution_count": 85,
   "id": "fa8c69d5",
   "metadata": {
    "execution": {
     "iopub.execute_input": "2022-10-25T16:29:37.580857Z",
     "iopub.status.busy": "2022-10-25T16:29:37.580360Z",
     "iopub.status.idle": "2022-10-25T16:29:38.521825Z",
     "shell.execute_reply": "2022-10-25T16:29:38.520648Z"
    },
    "papermill": {
     "duration": 0.993172,
     "end_time": "2022-10-25T16:29:38.524735",
     "exception": false,
     "start_time": "2022-10-25T16:29:37.531563",
     "status": "completed"
    },
    "tags": []
   },
   "outputs": [
    {
     "data": {
      "text/plain": [
       "KMeans(max_iter=5, n_clusters=3)"
      ]
     },
     "execution_count": 85,
     "metadata": {},
     "output_type": "execute_result"
    }
   ],
   "source": [
    "model = KMeans(n_clusters= 3, max_iter=5)\n",
    "model.fit(df_2.values)"
   ]
  },
  {
   "cell_type": "code",
   "execution_count": 86,
   "id": "e61f9664",
   "metadata": {
    "execution": {
     "iopub.execute_input": "2022-10-25T16:29:38.620297Z",
     "iopub.status.busy": "2022-10-25T16:29:38.619753Z",
     "iopub.status.idle": "2022-10-25T16:29:38.682118Z",
     "shell.execute_reply": "2022-10-25T16:29:38.681065Z"
    },
    "papermill": {
     "duration": 0.113608,
     "end_time": "2022-10-25T16:29:38.684896",
     "exception": false,
     "start_time": "2022-10-25T16:29:38.571288",
     "status": "completed"
    },
    "tags": []
   },
   "outputs": [
    {
     "data": {
      "text/html": [
       "<div>\n",
       "<style scoped>\n",
       "    .dataframe tbody tr th:only-of-type {\n",
       "        vertical-align: middle;\n",
       "    }\n",
       "\n",
       "    .dataframe tbody tr th {\n",
       "        vertical-align: top;\n",
       "    }\n",
       "\n",
       "    .dataframe thead th {\n",
       "        text-align: right;\n",
       "    }\n",
       "</style>\n",
       "<table border=\"1\" class=\"dataframe\">\n",
       "  <thead>\n",
       "    <tr style=\"text-align: right;\">\n",
       "      <th></th>\n",
       "      <th>ad_id</th>\n",
       "      <th>interest</th>\n",
       "      <th>Impressions</th>\n",
       "      <th>Clicks</th>\n",
       "      <th>Spent</th>\n",
       "      <th>Approved_Conversion</th>\n",
       "      <th>gender_1</th>\n",
       "      <th>age_1</th>\n",
       "      <th>age_2</th>\n",
       "      <th>age_3</th>\n",
       "      <th>Score</th>\n",
       "    </tr>\n",
       "  </thead>\n",
       "  <tbody>\n",
       "    <tr>\n",
       "      <th>0</th>\n",
       "      <td>708746</td>\n",
       "      <td>15</td>\n",
       "      <td>7350</td>\n",
       "      <td>1</td>\n",
       "      <td>1.430000</td>\n",
       "      <td>1</td>\n",
       "      <td>1.0</td>\n",
       "      <td>0.0</td>\n",
       "      <td>0.0</td>\n",
       "      <td>0.0</td>\n",
       "      <td>1</td>\n",
       "    </tr>\n",
       "    <tr>\n",
       "      <th>1</th>\n",
       "      <td>708749</td>\n",
       "      <td>16</td>\n",
       "      <td>17861</td>\n",
       "      <td>2</td>\n",
       "      <td>1.820000</td>\n",
       "      <td>0</td>\n",
       "      <td>1.0</td>\n",
       "      <td>0.0</td>\n",
       "      <td>0.0</td>\n",
       "      <td>0.0</td>\n",
       "      <td>1</td>\n",
       "    </tr>\n",
       "    <tr>\n",
       "      <th>2</th>\n",
       "      <td>708771</td>\n",
       "      <td>20</td>\n",
       "      <td>693</td>\n",
       "      <td>0</td>\n",
       "      <td>0.000000</td>\n",
       "      <td>0</td>\n",
       "      <td>1.0</td>\n",
       "      <td>0.0</td>\n",
       "      <td>0.0</td>\n",
       "      <td>0.0</td>\n",
       "      <td>1</td>\n",
       "    </tr>\n",
       "    <tr>\n",
       "      <th>3</th>\n",
       "      <td>708815</td>\n",
       "      <td>28</td>\n",
       "      <td>4259</td>\n",
       "      <td>1</td>\n",
       "      <td>1.250000</td>\n",
       "      <td>0</td>\n",
       "      <td>1.0</td>\n",
       "      <td>0.0</td>\n",
       "      <td>0.0</td>\n",
       "      <td>0.0</td>\n",
       "      <td>1</td>\n",
       "    </tr>\n",
       "    <tr>\n",
       "      <th>4</th>\n",
       "      <td>708818</td>\n",
       "      <td>28</td>\n",
       "      <td>4133</td>\n",
       "      <td>1</td>\n",
       "      <td>1.290000</td>\n",
       "      <td>1</td>\n",
       "      <td>1.0</td>\n",
       "      <td>0.0</td>\n",
       "      <td>0.0</td>\n",
       "      <td>0.0</td>\n",
       "      <td>1</td>\n",
       "    </tr>\n",
       "    <tr>\n",
       "      <th>...</th>\n",
       "      <td>...</td>\n",
       "      <td>...</td>\n",
       "      <td>...</td>\n",
       "      <td>...</td>\n",
       "      <td>...</td>\n",
       "      <td>...</td>\n",
       "      <td>...</td>\n",
       "      <td>...</td>\n",
       "      <td>...</td>\n",
       "      <td>...</td>\n",
       "      <td>...</td>\n",
       "    </tr>\n",
       "    <tr>\n",
       "      <th>1138</th>\n",
       "      <td>1314410</td>\n",
       "      <td>109</td>\n",
       "      <td>1129773</td>\n",
       "      <td>252</td>\n",
       "      <td>358.189997</td>\n",
       "      <td>2</td>\n",
       "      <td>0.0</td>\n",
       "      <td>0.0</td>\n",
       "      <td>0.0</td>\n",
       "      <td>1.0</td>\n",
       "      <td>2</td>\n",
       "    </tr>\n",
       "    <tr>\n",
       "      <th>1139</th>\n",
       "      <td>1314411</td>\n",
       "      <td>110</td>\n",
       "      <td>637549</td>\n",
       "      <td>120</td>\n",
       "      <td>173.880003</td>\n",
       "      <td>0</td>\n",
       "      <td>0.0</td>\n",
       "      <td>0.0</td>\n",
       "      <td>0.0</td>\n",
       "      <td>1.0</td>\n",
       "      <td>2</td>\n",
       "    </tr>\n",
       "    <tr>\n",
       "      <th>1140</th>\n",
       "      <td>1314412</td>\n",
       "      <td>111</td>\n",
       "      <td>151531</td>\n",
       "      <td>28</td>\n",
       "      <td>40.289999</td>\n",
       "      <td>0</td>\n",
       "      <td>0.0</td>\n",
       "      <td>0.0</td>\n",
       "      <td>0.0</td>\n",
       "      <td>1.0</td>\n",
       "      <td>0</td>\n",
       "    </tr>\n",
       "    <tr>\n",
       "      <th>1141</th>\n",
       "      <td>1314414</td>\n",
       "      <td>113</td>\n",
       "      <td>790253</td>\n",
       "      <td>135</td>\n",
       "      <td>198.710001</td>\n",
       "      <td>2</td>\n",
       "      <td>0.0</td>\n",
       "      <td>0.0</td>\n",
       "      <td>0.0</td>\n",
       "      <td>1.0</td>\n",
       "      <td>2</td>\n",
       "    </tr>\n",
       "    <tr>\n",
       "      <th>1142</th>\n",
       "      <td>1314415</td>\n",
       "      <td>114</td>\n",
       "      <td>513161</td>\n",
       "      <td>114</td>\n",
       "      <td>165.609999</td>\n",
       "      <td>2</td>\n",
       "      <td>0.0</td>\n",
       "      <td>0.0</td>\n",
       "      <td>0.0</td>\n",
       "      <td>1.0</td>\n",
       "      <td>0</td>\n",
       "    </tr>\n",
       "  </tbody>\n",
       "</table>\n",
       "<p>1143 rows × 11 columns</p>\n",
       "</div>"
      ],
      "text/plain": [
       "        ad_id  interest  Impressions  Clicks       Spent  Approved_Conversion  \\\n",
       "0      708746        15         7350       1    1.430000                    1   \n",
       "1      708749        16        17861       2    1.820000                    0   \n",
       "2      708771        20          693       0    0.000000                    0   \n",
       "3      708815        28         4259       1    1.250000                    0   \n",
       "4      708818        28         4133       1    1.290000                    1   \n",
       "...       ...       ...          ...     ...         ...                  ...   \n",
       "1138  1314410       109      1129773     252  358.189997                    2   \n",
       "1139  1314411       110       637549     120  173.880003                    0   \n",
       "1140  1314412       111       151531      28   40.289999                    0   \n",
       "1141  1314414       113       790253     135  198.710001                    2   \n",
       "1142  1314415       114       513161     114  165.609999                    2   \n",
       "\n",
       "      gender_1  age_1  age_2  age_3  Score  \n",
       "0          1.0    0.0    0.0    0.0      1  \n",
       "1          1.0    0.0    0.0    0.0      1  \n",
       "2          1.0    0.0    0.0    0.0      1  \n",
       "3          1.0    0.0    0.0    0.0      1  \n",
       "4          1.0    0.0    0.0    0.0      1  \n",
       "...        ...    ...    ...    ...    ...  \n",
       "1138       0.0    0.0    0.0    1.0      2  \n",
       "1139       0.0    0.0    0.0    1.0      2  \n",
       "1140       0.0    0.0    0.0    1.0      0  \n",
       "1141       0.0    0.0    0.0    1.0      2  \n",
       "1142       0.0    0.0    0.0    1.0      0  \n",
       "\n",
       "[1143 rows x 11 columns]"
      ]
     },
     "execution_count": 86,
     "metadata": {},
     "output_type": "execute_result"
    }
   ],
   "source": [
    "df_2['Score']= model.predict(df_2.values)\n",
    "#data.sample(5)\n",
    "df_2"
   ]
  },
  {
   "cell_type": "code",
   "execution_count": 87,
   "id": "0b89dcee",
   "metadata": {
    "execution": {
     "iopub.execute_input": "2022-10-25T16:29:38.782445Z",
     "iopub.status.busy": "2022-10-25T16:29:38.781707Z",
     "iopub.status.idle": "2022-10-25T16:29:40.702088Z",
     "shell.execute_reply": "2022-10-25T16:29:40.701210Z"
    },
    "papermill": {
     "duration": 1.972605,
     "end_time": "2022-10-25T16:29:40.704848",
     "exception": false,
     "start_time": "2022-10-25T16:29:38.732243",
     "status": "completed"
    },
    "tags": []
   },
   "outputs": [
    {
     "data": {
      "image/png": "[encoded data removed]",
      "text/plain": [
       "<Figure size 406.6x360 with 1 Axes>"
      ]
     },
     "metadata": {},
     "output_type": "display_data"
    },
    {
     "data": {
      "image/png": "[encoded data removed]",
      "text/plain": [
       "<Figure size 406.6x360 with 1 Axes>"
      ]
     },
     "metadata": {},
     "output_type": "display_data"
    },
    {
     "data": {
      "image/png": "[encoded data removed]",
      "text/plain": [
       "<Figure size 406.6x360 with 1 Axes>"
      ]
     },
     "metadata": {},
     "output_type": "display_data"
    }
   ],
   "source": [
    "sns.lmplot(x='Impressions', y='Clicks', data= df_2, hue='Score',fit_reg=False, markers=[\"o\", \"^\", \"+\"] ,palette='Set1')\n",
    "sns.lmplot(x='Spent', y='Clicks', data= df_2, hue='Score',fit_reg=False, markers=[\"o\", \"^\", \"+\"], palette=\"cool\" )\n",
    "sns.lmplot(x='Impressions', y='Spent', data= df_2, hue='Score',fit_reg=False, markers=[\"o\", \"^\", \"+\"] ,palette=\"cool\" )\n",
    "plt.show()"
   ]
  },
  {
   "cell_type": "code",
   "execution_count": 88,
   "id": "949c868e",
   "metadata": {
    "execution": {
     "iopub.execute_input": "2022-10-25T16:29:40.810467Z",
     "iopub.status.busy": "2022-10-25T16:29:40.809677Z",
     "iopub.status.idle": "2022-10-25T16:29:40.823946Z",
     "shell.execute_reply": "2022-10-25T16:29:40.822693Z"
    },
    "papermill": {
     "duration": 0.070515,
     "end_time": "2022-10-25T16:29:40.827349",
     "exception": false,
     "start_time": "2022-10-25T16:29:40.756834",
     "status": "completed"
    },
    "tags": []
   },
   "outputs": [
    {
     "name": "stdout",
     "output_type": "stream",
     "text": [
      "number of ads : Score\n",
      "0    511\n",
      "1    518\n",
      "2    114\n",
      "Name: ad_id, dtype: int64\n",
      "breakup of conversions : Score\n",
      "0    441\n",
      "1    207\n",
      "2    431\n",
      "Name: Approved_Conversion, dtype: int64\n",
      "breakup of Impressions : Score\n",
      "0     94515725\n",
      "1      8611112\n",
      "2    110307991\n",
      "Name: Impressions, dtype: int64\n",
      "breakup of Spent : Score\n",
      "0    25246.990001\n",
      "1     3043.080000\n",
      "2    30415.159958\n",
      "Name: Spent, dtype: float64\n"
     ]
    }
   ],
   "source": [
    "print('number of ads :' , df_2.groupby('Score')['ad_id'].count())\n",
    "print('breakup of conversions :' , df_2.groupby('Score')['Approved_Conversion'].sum())\n",
    "print('breakup of Impressions :',  df_2.groupby('Score')['Impressions'].sum())\n",
    "print('breakup of Spent :',  df_2.groupby('Score')['Spent'].sum())"
   ]
  },
  {
   "cell_type": "code",
   "execution_count": 89,
   "id": "b49ee40d",
   "metadata": {
    "execution": {
     "iopub.execute_input": "2022-10-25T16:29:40.927922Z",
     "iopub.status.busy": "2022-10-25T16:29:40.927033Z",
     "iopub.status.idle": "2022-10-25T16:29:40.935089Z",
     "shell.execute_reply": "2022-10-25T16:29:40.933570Z"
    },
    "papermill": {
     "duration": 0.060745,
     "end_time": "2022-10-25T16:29:40.937659",
     "exception": false,
     "start_time": "2022-10-25T16:29:40.876914",
     "status": "completed"
    },
    "tags": []
   },
   "outputs": [
    {
     "name": "stdout",
     "output_type": "stream",
     "text": [
      "avg_conv_cluster1= 3.780701754385965\n",
      "avg_conv_cluster2= 0.863013698630137\n",
      "avg_conv_cluster3= 0.3996138996138996\n",
      "avg cost to acq_cluster1= 70.56881660788864\n",
      "avg cost to acq_cluster2= 57.249410433106576\n",
      "avg cost to acq_cluster3= 14.70086956521739\n"
     ]
    }
   ],
   "source": [
    "print(\"avg_conv_cluster1=\", (431/114))\n",
    "print(\"avg_conv_cluster2=\", (441/511))\n",
    "print(\"avg_conv_cluster3=\", (207/518))\n",
    "print(\"avg cost to acq_cluster1=\", (30415.159958/431))\n",
    "print(\"avg cost to acq_cluster2=\", (25246.990001/441))\n",
    "print(\"avg cost to acq_cluster3=\", (3043.080000/207))\n"
   ]
  },
  {
   "cell_type": "code",
   "execution_count": 90,
   "id": "711988b6",
   "metadata": {
    "execution": {
     "iopub.execute_input": "2022-10-25T16:29:41.040027Z",
     "iopub.status.busy": "2022-10-25T16:29:41.039476Z",
     "iopub.status.idle": "2022-10-25T16:29:41.049080Z",
     "shell.execute_reply": "2022-10-25T16:29:41.047713Z"
    },
    "papermill": {
     "duration": 0.064942,
     "end_time": "2022-10-25T16:29:41.051845",
     "exception": false,
     "start_time": "2022-10-25T16:29:40.986903",
     "status": "completed"
    },
    "tags": []
   },
   "outputs": [],
   "source": [
    "df_cluster1=df_2[df_2['Score']==0]\n",
    "df_cluster2=df_2[df_2['Score']==1]\n",
    "df_cluster3=df_2[df_2['Score']==2]"
   ]
  },
  {
   "cell_type": "code",
   "execution_count": 91,
   "id": "26310897",
   "metadata": {
    "execution": {
     "iopub.execute_input": "2022-10-25T16:29:41.151595Z",
     "iopub.status.busy": "2022-10-25T16:29:41.150602Z",
     "iopub.status.idle": "2022-10-25T16:29:41.172032Z",
     "shell.execute_reply": "2022-10-25T16:29:41.170751Z"
    },
    "papermill": {
     "duration": 0.074711,
     "end_time": "2022-10-25T16:29:41.175230",
     "exception": false,
     "start_time": "2022-10-25T16:29:41.100519",
     "status": "completed"
    },
    "tags": []
   },
   "outputs": [],
   "source": [
    "cluster1=pd.merge(df_cluster1,df[[\"ad_id\",\"gender\",\"age\"]],on=\"ad_id\")\n",
    "cluster2=pd.merge(df_cluster2,df[[\"ad_id\",\"gender\",\"age\"]],on=\"ad_id\")\n",
    "cluster3=pd.merge(df_cluster3,df[[\"ad_id\",\"gender\",\"age\"]],on=\"ad_id\")\n"
   ]
  },
  {
   "cell_type": "code",
   "execution_count": 92,
   "id": "08172791",
   "metadata": {
    "execution": {
     "iopub.execute_input": "2022-10-25T16:29:41.274117Z",
     "iopub.status.busy": "2022-10-25T16:29:41.273579Z",
     "iopub.status.idle": "2022-10-25T16:29:41.285658Z",
     "shell.execute_reply": "2022-10-25T16:29:41.284583Z"
    },
    "papermill": {
     "duration": 0.064403,
     "end_time": "2022-10-25T16:29:41.288203",
     "exception": false,
     "start_time": "2022-10-25T16:29:41.223800",
     "status": "completed"
    },
    "tags": []
   },
   "outputs": [
    {
     "data": {
      "text/plain": [
       "gender\n",
       "F    201\n",
       "M    310\n",
       "Name: ad_id, dtype: int64"
      ]
     },
     "execution_count": 92,
     "metadata": {},
     "output_type": "execute_result"
    }
   ],
   "source": [
    "cluster1.groupby('gender')[\"ad_id\"].count()"
   ]
  },
  {
   "cell_type": "code",
   "execution_count": 93,
   "id": "d1c2fdf3",
   "metadata": {
    "execution": {
     "iopub.execute_input": "2022-10-25T16:29:41.389969Z",
     "iopub.status.busy": "2022-10-25T16:29:41.388964Z",
     "iopub.status.idle": "2022-10-25T16:29:41.399967Z",
     "shell.execute_reply": "2022-10-25T16:29:41.398816Z"
    },
    "papermill": {
     "duration": 0.065027,
     "end_time": "2022-10-25T16:29:41.402609",
     "exception": false,
     "start_time": "2022-10-25T16:29:41.337582",
     "status": "completed"
    },
    "tags": []
   },
   "outputs": [
    {
     "data": {
      "text/plain": [
       "gender\n",
       "F    275\n",
       "M    243\n",
       "Name: ad_id, dtype: int64"
      ]
     },
     "execution_count": 93,
     "metadata": {},
     "output_type": "execute_result"
    }
   ],
   "source": [
    "cluster2.groupby('gender')[\"ad_id\"].count()"
   ]
  },
  {
   "cell_type": "code",
   "execution_count": 94,
   "id": "c7040c85",
   "metadata": {
    "execution": {
     "iopub.execute_input": "2022-10-25T16:29:41.502133Z",
     "iopub.status.busy": "2022-10-25T16:29:41.501596Z",
     "iopub.status.idle": "2022-10-25T16:29:41.511896Z",
     "shell.execute_reply": "2022-10-25T16:29:41.510936Z"
    },
    "papermill": {
     "duration": 0.062736,
     "end_time": "2022-10-25T16:29:41.514145",
     "exception": false,
     "start_time": "2022-10-25T16:29:41.451409",
     "status": "completed"
    },
    "tags": []
   },
   "outputs": [
    {
     "data": {
      "text/plain": [
       "gender\n",
       "F    75\n",
       "M    39\n",
       "Name: ad_id, dtype: int64"
      ]
     },
     "execution_count": 94,
     "metadata": {},
     "output_type": "execute_result"
    }
   ],
   "source": [
    "cluster3.groupby('gender')[\"ad_id\"].count()"
   ]
  },
  {
   "cell_type": "code",
   "execution_count": 95,
   "id": "ac67a3d8",
   "metadata": {
    "execution": {
     "iopub.execute_input": "2022-10-25T16:29:41.614675Z",
     "iopub.status.busy": "2022-10-25T16:29:41.613837Z",
     "iopub.status.idle": "2022-10-25T16:29:41.901955Z",
     "shell.execute_reply": "2022-10-25T16:29:41.900648Z"
    },
    "papermill": {
     "duration": 0.341742,
     "end_time": "2022-10-25T16:29:41.904918",
     "exception": false,
     "start_time": "2022-10-25T16:29:41.563176",
     "status": "completed"
    },
    "tags": []
   },
   "outputs": [
    {
     "data": {
      "text/plain": [
       "interest\n",
       "2      18\n",
       "7      13\n",
       "10     24\n",
       "15     14\n",
       "16     15\n",
       "18     13\n",
       "19     22\n",
       "20     22\n",
       "21     22\n",
       "22     21\n",
       "23     17\n",
       "24     16\n",
       "25     17\n",
       "26     16\n",
       "27     15\n",
       "28     19\n",
       "29     23\n",
       "30     16\n",
       "31     15\n",
       "32     19\n",
       "36     13\n",
       "63     21\n",
       "64     24\n",
       "65     11\n",
       "66     11\n",
       "100     4\n",
       "101     4\n",
       "102     7\n",
       "103     4\n",
       "104     5\n",
       "105     5\n",
       "106     4\n",
       "107     4\n",
       "108     6\n",
       "109     4\n",
       "110     7\n",
       "111     5\n",
       "112     5\n",
       "113     5\n",
       "114     5\n",
       "Name: ad_id, dtype: int64"
      ]
     },
     "execution_count": 95,
     "metadata": {},
     "output_type": "execute_result"
    }
   ],
   "source": [
    "cluster1.groupby('interest')[\"ad_id\"].count()"
   ]
  },
  {
   "cell_type": "code",
   "execution_count": 96,
   "id": "2dce4827",
   "metadata": {
    "execution": {
     "iopub.execute_input": "2022-10-25T16:29:42.005859Z",
     "iopub.status.busy": "2022-10-25T16:29:42.005278Z",
     "iopub.status.idle": "2022-10-25T16:29:42.017033Z",
     "shell.execute_reply": "2022-10-25T16:29:42.015794Z"
    },
    "papermill": {
     "duration": 0.065158,
     "end_time": "2022-10-25T16:29:42.019638",
     "exception": false,
     "start_time": "2022-10-25T16:29:41.954480",
     "status": "completed"
    },
    "tags": []
   },
   "outputs": [
    {
     "data": {
      "text/plain": [
       "interest\n",
       "2       7\n",
       "7      10\n",
       "10     50\n",
       "15     31\n",
       "16    102\n",
       "18     23\n",
       "19      9\n",
       "20     25\n",
       "21     14\n",
       "22     11\n",
       "23      6\n",
       "24      8\n",
       "25      7\n",
       "26     23\n",
       "27     34\n",
       "28     25\n",
       "29     42\n",
       "30      9\n",
       "31     10\n",
       "32     12\n",
       "36      8\n",
       "63     20\n",
       "64     24\n",
       "65      8\n",
       "Name: ad_id, dtype: int64"
      ]
     },
     "execution_count": 96,
     "metadata": {},
     "output_type": "execute_result"
    }
   ],
   "source": [
    "cluster2.groupby('interest')[\"ad_id\"].count()"
   ]
  },
  {
   "cell_type": "code",
   "execution_count": 97,
   "id": "dd87c086",
   "metadata": {
    "execution": {
     "iopub.execute_input": "2022-10-25T16:29:42.124671Z",
     "iopub.status.busy": "2022-10-25T16:29:42.124189Z",
     "iopub.status.idle": "2022-10-25T16:29:42.135129Z",
     "shell.execute_reply": "2022-10-25T16:29:42.133881Z"
    },
    "papermill": {
     "duration": 0.068372,
     "end_time": "2022-10-25T16:29:42.137593",
     "exception": false,
     "start_time": "2022-10-25T16:29:42.069221",
     "status": "completed"
    },
    "tags": []
   },
   "outputs": [
    {
     "data": {
      "text/plain": [
       "interest\n",
       "7       1\n",
       "10     11\n",
       "15      6\n",
       "16     23\n",
       "18      7\n",
       "19      1\n",
       "20      2\n",
       "22      1\n",
       "25      2\n",
       "26      2\n",
       "27     11\n",
       "28      7\n",
       "29     12\n",
       "32      2\n",
       "63      5\n",
       "100     2\n",
       "101     3\n",
       "103     1\n",
       "105     2\n",
       "106     1\n",
       "107     4\n",
       "108     1\n",
       "109     2\n",
       "110     1\n",
       "111     1\n",
       "112     2\n",
       "113     1\n",
       "Name: ad_id, dtype: int64"
      ]
     },
     "execution_count": 97,
     "metadata": {},
     "output_type": "execute_result"
    }
   ],
   "source": [
    "cluster3.groupby('interest')[\"ad_id\"].count()"
   ]
  },
  {
   "cell_type": "code",
   "execution_count": 98,
   "id": "5d2b7c51",
   "metadata": {
    "execution": {
     "iopub.execute_input": "2022-10-25T16:29:42.239598Z",
     "iopub.status.busy": "2022-10-25T16:29:42.238622Z",
     "iopub.status.idle": "2022-10-25T16:29:42.248482Z",
     "shell.execute_reply": "2022-10-25T16:29:42.247077Z"
    },
    "papermill": {
     "duration": 0.063639,
     "end_time": "2022-10-25T16:29:42.251006",
     "exception": false,
     "start_time": "2022-10-25T16:29:42.187367",
     "status": "completed"
    },
    "tags": []
   },
   "outputs": [
    {
     "data": {
      "text/plain": [
       "559"
      ]
     },
     "execution_count": 98,
     "metadata": {},
     "output_type": "execute_result"
    }
   ],
   "source": [
    "# unique number of campaigns that have no conversion\n",
    "df[df['Approved_Conversion']==0]['ad_id'].nunique()"
   ]
  },
  {
   "cell_type": "code",
   "execution_count": 99,
   "id": "269c36bd",
   "metadata": {
    "execution": {
     "iopub.execute_input": "2022-10-25T16:29:42.351789Z",
     "iopub.status.busy": "2022-10-25T16:29:42.350966Z",
     "iopub.status.idle": "2022-10-25T16:29:42.360691Z",
     "shell.execute_reply": "2022-10-25T16:29:42.359809Z"
    },
    "papermill": {
     "duration": 0.062544,
     "end_time": "2022-10-25T16:29:42.362805",
     "exception": false,
     "start_time": "2022-10-25T16:29:42.300261",
     "status": "completed"
    },
    "tags": []
   },
   "outputs": [
    {
     "data": {
      "text/plain": [
       "224"
      ]
     },
     "execution_count": 99,
     "metadata": {},
     "output_type": "execute_result"
    }
   ],
   "source": [
    "cluster1[cluster1['Approved_Conversion']==0]['ad_id'].nunique()"
   ]
  },
  {
   "cell_type": "code",
   "execution_count": 100,
   "id": "3a8dfe1a",
   "metadata": {
    "execution": {
     "iopub.execute_input": "2022-10-25T16:29:42.463613Z",
     "iopub.status.busy": "2022-10-25T16:29:42.462600Z",
     "iopub.status.idle": "2022-10-25T16:29:42.472241Z",
     "shell.execute_reply": "2022-10-25T16:29:42.471329Z"
    },
    "papermill": {
     "duration": 0.062585,
     "end_time": "2022-10-25T16:29:42.474479",
     "exception": false,
     "start_time": "2022-10-25T16:29:42.411894",
     "status": "completed"
    },
    "tags": []
   },
   "outputs": [
    {
     "data": {
      "text/plain": [
       "322"
      ]
     },
     "execution_count": 100,
     "metadata": {},
     "output_type": "execute_result"
    }
   ],
   "source": [
    "cluster2[cluster2['Approved_Conversion']==0]['ad_id'].nunique()"
   ]
  },
  {
   "cell_type": "code",
   "execution_count": 101,
   "id": "2e553101",
   "metadata": {
    "execution": {
     "iopub.execute_input": "2022-10-25T16:29:42.577753Z",
     "iopub.status.busy": "2022-10-25T16:29:42.576775Z",
     "iopub.status.idle": "2022-10-25T16:29:42.585555Z",
     "shell.execute_reply": "2022-10-25T16:29:42.584715Z"
    },
    "papermill": {
     "duration": 0.062406,
     "end_time": "2022-10-25T16:29:42.587671",
     "exception": false,
     "start_time": "2022-10-25T16:29:42.525265",
     "status": "completed"
    },
    "tags": []
   },
   "outputs": [
    {
     "data": {
      "text/plain": [
       "13"
      ]
     },
     "execution_count": 101,
     "metadata": {},
     "output_type": "execute_result"
    }
   ],
   "source": [
    "cluster3[cluster3['Approved_Conversion']==0]['ad_id'].nunique()"
   ]
  }
 ],
 "metadata": {
  "kernelspec": {
   "display_name": "Python 3",
   "language": "python",
   "name": "python3"
  },
  "language_info": {
   "codemirror_mode": {
    "name": "ipython",
    "version": 3
   },
   "file_extension": ".py",
   "mimetype": "text/x-python",
   "name": "python",
   "nbconvert_exporter": "python",
   "pygments_lexer": "ipython3",
   "version": "3.7.12"
  },
  "papermill": {
   "default_parameters": {},
   "duration": 62.53068,
   "end_time": "2022-10-25T16:29:43.864129",
   "environment_variables": {},
   "exception": null,
   "input_path": "__notebook__.ipynb",
   "output_path": "__notebook__.ipynb",
   "parameters": {},
   "start_time": "2022-10-25T16:28:41.333449",
   "version": "2.3.4"
  }
 },
 "nbformat": 4,
 "nbformat_minor": 5
}

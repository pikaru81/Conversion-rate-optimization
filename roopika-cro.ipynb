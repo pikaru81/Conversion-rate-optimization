{
 "cells": [
  {
   "cell_type": "code",
   "execution_count": 1,
   "id": "aa2a28f0",
   "metadata": {
    "_cell_guid": "b1076dfc-b9ad-4769-8c92-a6c4dae69d19",
    "_uuid": "8f2839f25d086af736a60e9eeb907d3b93b6e0e5",
    "execution": {
     "iopub.execute_input": "2022-10-12T13:35:52.161403Z",
     "iopub.status.busy": "2022-10-12T13:35:52.160818Z",
     "iopub.status.idle": "2022-10-12T13:35:52.181991Z",
     "shell.execute_reply": "2022-10-12T13:35:52.180965Z"
    },
    "papermill": {
     "duration": 0.044148,
     "end_time": "2022-10-12T13:35:52.185520",
     "exception": false,
     "start_time": "2022-10-12T13:35:52.141372",
     "status": "completed"
    },
    "tags": []
   },
   "outputs": [
    {
     "name": "stdout",
     "output_type": "stream",
     "text": [
      "/kaggle/input/clicks-conversion-tracking/KAG_conversion_data.csv\n"
     ]
    }
   ],
   "source": [
    "# This Python 3 environment comes with many helpful analytics libraries installed\n",
    "# It is defined by the kaggle/python Docker image: https://github.com/kaggle/docker-python\n",
    "# For example, here's several helpful packages to load\n",
    "\n",
    "import numpy as np # linear algebra\n",
    "import pandas as pd # data processing, CSV file I/O (e.g. pd.read_csv)\n",
    "\n",
    "# Input data files are available in the read-only \"../input/\" directory\n",
    "# For example, running this (by clicking run or pressing Shift+Enter) will list all files under the input directory\n",
    "\n",
    "import os\n",
    "for dirname, _, filenames in os.walk('/kaggle/input'):\n",
    "    for filename in filenames:\n",
    "        print(os.path.join(dirname, filename))\n",
    "\n",
    "# You can write up to 20GB to the current directory (/kaggle/working/) that gets preserved as output when you create a version using \"Save & Run All\" \n",
    "# You can also write temporary files to /kaggle/temp/, but they won't be saved outside of the current session"
   ]
  },
  {
   "cell_type": "markdown",
   "id": "f2c2e962",
   "metadata": {
    "papermill": {
     "duration": 0.015504,
     "end_time": "2022-10-12T13:35:52.220223",
     "exception": false,
     "start_time": "2022-10-12T13:35:52.204719",
     "status": "completed"
    },
    "tags": []
   },
   "source": [
    "Data:\n",
    "\n",
    "The data used in this project is from an anonymous organisation’s social media ad campaign.\n",
    "\n",
    "1.) ad_id: an unique ID for each ad.\n",
    "\n",
    "2.) xyzcampaignid: an ID associated with each ad campaign of XYZ company.\n",
    "\n",
    "3.) fbcampaignid: an ID associated with how Facebook tracks each campaign.\n",
    "\n",
    "4.) age: age of the person to whom the ad is shown.\n",
    "\n",
    "5.) gender: gender of the person to whim the add is shown\n",
    "\n",
    "6.) interest: a code specifying the category to which the person’s interest belongs (interests are as mentioned in the person’s Facebook public profile).\n",
    "\n",
    "7.) Impressions: the number of times the ad was shown.\n",
    "\n",
    "8.) Clicks: number of clicks on for that ad.\n",
    "\n",
    "9.) Spent: Amount paid by company xyz to Facebook, to show that ad.\n",
    "\n",
    "10.) Total conversion: Total number of people who enquired about the product after seeing the ad.\n",
    "\n",
    "11.) Approved conversion: Total number of people who bought the product after seeing the ad.\n",
    "\n",
    "Aim:\n",
    "\n",
    "To optimize Sales conversion and predict future sales\n",
    "\n",
    "\n",
    "\n",
    "\n"
   ]
  },
  {
   "cell_type": "code",
   "execution_count": 2,
   "id": "fb8524ef",
   "metadata": {
    "execution": {
     "iopub.execute_input": "2022-10-12T13:35:52.253944Z",
     "iopub.status.busy": "2022-10-12T13:35:52.253436Z",
     "iopub.status.idle": "2022-10-12T13:35:52.274960Z",
     "shell.execute_reply": "2022-10-12T13:35:52.273840Z"
    },
    "papermill": {
     "duration": 0.041757,
     "end_time": "2022-10-12T13:35:52.277819",
     "exception": false,
     "start_time": "2022-10-12T13:35:52.236062",
     "status": "completed"
    },
    "tags": []
   },
   "outputs": [],
   "source": [
    "df=pd.read_csv(\"/kaggle/input/clicks-conversion-tracking/KAG_conversion_data.csv\")"
   ]
  },
  {
   "cell_type": "markdown",
   "id": "7e8ae13a",
   "metadata": {
    "papermill": {
     "duration": 0.014977,
     "end_time": "2022-10-12T13:35:52.308658",
     "exception": false,
     "start_time": "2022-10-12T13:35:52.293681",
     "status": "completed"
    },
    "tags": []
   },
   "source": [
    "Exploratory Data Analysis"
   ]
  },
  {
   "cell_type": "code",
   "execution_count": 3,
   "id": "0e325abc",
   "metadata": {
    "execution": {
     "iopub.execute_input": "2022-10-12T13:35:52.341639Z",
     "iopub.status.busy": "2022-10-12T13:35:52.340768Z",
     "iopub.status.idle": "2022-10-12T13:35:52.371083Z",
     "shell.execute_reply": "2022-10-12T13:35:52.370024Z"
    },
    "papermill": {
     "duration": 0.049643,
     "end_time": "2022-10-12T13:35:52.373502",
     "exception": false,
     "start_time": "2022-10-12T13:35:52.323859",
     "status": "completed"
    },
    "tags": []
   },
   "outputs": [
    {
     "data": {
      "text/html": [
       "<div>\n",
       "<style scoped>\n",
       "    .dataframe tbody tr th:only-of-type {\n",
       "        vertical-align: middle;\n",
       "    }\n",
       "\n",
       "    .dataframe tbody tr th {\n",
       "        vertical-align: top;\n",
       "    }\n",
       "\n",
       "    .dataframe thead th {\n",
       "        text-align: right;\n",
       "    }\n",
       "</style>\n",
       "<table border=\"1\" class=\"dataframe\">\n",
       "  <thead>\n",
       "    <tr style=\"text-align: right;\">\n",
       "      <th></th>\n",
       "      <th>ad_id</th>\n",
       "      <th>xyz_campaign_id</th>\n",
       "      <th>fb_campaign_id</th>\n",
       "      <th>age</th>\n",
       "      <th>gender</th>\n",
       "      <th>interest</th>\n",
       "      <th>Impressions</th>\n",
       "      <th>Clicks</th>\n",
       "      <th>Spent</th>\n",
       "      <th>Total_Conversion</th>\n",
       "      <th>Approved_Conversion</th>\n",
       "    </tr>\n",
       "  </thead>\n",
       "  <tbody>\n",
       "    <tr>\n",
       "      <th>0</th>\n",
       "      <td>708746</td>\n",
       "      <td>916</td>\n",
       "      <td>103916</td>\n",
       "      <td>30-34</td>\n",
       "      <td>M</td>\n",
       "      <td>15</td>\n",
       "      <td>7350</td>\n",
       "      <td>1</td>\n",
       "      <td>1.43</td>\n",
       "      <td>2</td>\n",
       "      <td>1</td>\n",
       "    </tr>\n",
       "    <tr>\n",
       "      <th>1</th>\n",
       "      <td>708749</td>\n",
       "      <td>916</td>\n",
       "      <td>103917</td>\n",
       "      <td>30-34</td>\n",
       "      <td>M</td>\n",
       "      <td>16</td>\n",
       "      <td>17861</td>\n",
       "      <td>2</td>\n",
       "      <td>1.82</td>\n",
       "      <td>2</td>\n",
       "      <td>0</td>\n",
       "    </tr>\n",
       "    <tr>\n",
       "      <th>2</th>\n",
       "      <td>708771</td>\n",
       "      <td>916</td>\n",
       "      <td>103920</td>\n",
       "      <td>30-34</td>\n",
       "      <td>M</td>\n",
       "      <td>20</td>\n",
       "      <td>693</td>\n",
       "      <td>0</td>\n",
       "      <td>0.00</td>\n",
       "      <td>1</td>\n",
       "      <td>0</td>\n",
       "    </tr>\n",
       "    <tr>\n",
       "      <th>3</th>\n",
       "      <td>708815</td>\n",
       "      <td>916</td>\n",
       "      <td>103928</td>\n",
       "      <td>30-34</td>\n",
       "      <td>M</td>\n",
       "      <td>28</td>\n",
       "      <td>4259</td>\n",
       "      <td>1</td>\n",
       "      <td>1.25</td>\n",
       "      <td>1</td>\n",
       "      <td>0</td>\n",
       "    </tr>\n",
       "    <tr>\n",
       "      <th>4</th>\n",
       "      <td>708818</td>\n",
       "      <td>916</td>\n",
       "      <td>103928</td>\n",
       "      <td>30-34</td>\n",
       "      <td>M</td>\n",
       "      <td>28</td>\n",
       "      <td>4133</td>\n",
       "      <td>1</td>\n",
       "      <td>1.29</td>\n",
       "      <td>1</td>\n",
       "      <td>1</td>\n",
       "    </tr>\n",
       "  </tbody>\n",
       "</table>\n",
       "</div>"
      ],
      "text/plain": [
       "    ad_id  xyz_campaign_id  fb_campaign_id    age gender  interest  \\\n",
       "0  708746              916          103916  30-34      M        15   \n",
       "1  708749              916          103917  30-34      M        16   \n",
       "2  708771              916          103920  30-34      M        20   \n",
       "3  708815              916          103928  30-34      M        28   \n",
       "4  708818              916          103928  30-34      M        28   \n",
       "\n",
       "   Impressions  Clicks  Spent  Total_Conversion  Approved_Conversion  \n",
       "0         7350       1   1.43                 2                    1  \n",
       "1        17861       2   1.82                 2                    0  \n",
       "2          693       0   0.00                 1                    0  \n",
       "3         4259       1   1.25                 1                    0  \n",
       "4         4133       1   1.29                 1                    1  "
      ]
     },
     "execution_count": 3,
     "metadata": {},
     "output_type": "execute_result"
    }
   ],
   "source": [
    "df.head()"
   ]
  },
  {
   "cell_type": "code",
   "execution_count": 4,
   "id": "b5a46967",
   "metadata": {
    "execution": {
     "iopub.execute_input": "2022-10-12T13:35:52.407918Z",
     "iopub.status.busy": "2022-10-12T13:35:52.407069Z",
     "iopub.status.idle": "2022-10-12T13:35:52.414420Z",
     "shell.execute_reply": "2022-10-12T13:35:52.413296Z"
    },
    "papermill": {
     "duration": 0.027325,
     "end_time": "2022-10-12T13:35:52.416876",
     "exception": false,
     "start_time": "2022-10-12T13:35:52.389551",
     "status": "completed"
    },
    "tags": []
   },
   "outputs": [
    {
     "data": {
      "text/plain": [
       "(1143, 11)"
      ]
     },
     "execution_count": 4,
     "metadata": {},
     "output_type": "execute_result"
    }
   ],
   "source": [
    "df.shape"
   ]
  },
  {
   "cell_type": "code",
   "execution_count": 5,
   "id": "30ce1aea",
   "metadata": {
    "execution": {
     "iopub.execute_input": "2022-10-12T13:35:52.450648Z",
     "iopub.status.busy": "2022-10-12T13:35:52.450173Z",
     "iopub.status.idle": "2022-10-12T13:35:52.478643Z",
     "shell.execute_reply": "2022-10-12T13:35:52.477164Z"
    },
    "papermill": {
     "duration": 0.048408,
     "end_time": "2022-10-12T13:35:52.481164",
     "exception": false,
     "start_time": "2022-10-12T13:35:52.432756",
     "status": "completed"
    },
    "tags": []
   },
   "outputs": [
    {
     "name": "stdout",
     "output_type": "stream",
     "text": [
      "<class 'pandas.core.frame.DataFrame'>\n",
      "RangeIndex: 1143 entries, 0 to 1142\n",
      "Data columns (total 11 columns):\n",
      " #   Column               Non-Null Count  Dtype  \n",
      "---  ------               --------------  -----  \n",
      " 0   ad_id                1143 non-null   int64  \n",
      " 1   xyz_campaign_id      1143 non-null   int64  \n",
      " 2   fb_campaign_id       1143 non-null   int64  \n",
      " 3   age                  1143 non-null   object \n",
      " 4   gender               1143 non-null   object \n",
      " 5   interest             1143 non-null   int64  \n",
      " 6   Impressions          1143 non-null   int64  \n",
      " 7   Clicks               1143 non-null   int64  \n",
      " 8   Spent                1143 non-null   float64\n",
      " 9   Total_Conversion     1143 non-null   int64  \n",
      " 10  Approved_Conversion  1143 non-null   int64  \n",
      "dtypes: float64(1), int64(8), object(2)\n",
      "memory usage: 98.4+ KB\n"
     ]
    }
   ],
   "source": [
    "df.info()\n",
    "# no null values "
   ]
  },
  {
   "cell_type": "code",
   "execution_count": 6,
   "id": "ab2b688c",
   "metadata": {
    "execution": {
     "iopub.execute_input": "2022-10-12T13:35:52.515194Z",
     "iopub.status.busy": "2022-10-12T13:35:52.514340Z",
     "iopub.status.idle": "2022-10-12T13:35:52.556206Z",
     "shell.execute_reply": "2022-10-12T13:35:52.554977Z"
    },
    "papermill": {
     "duration": 0.061637,
     "end_time": "2022-10-12T13:35:52.558752",
     "exception": false,
     "start_time": "2022-10-12T13:35:52.497115",
     "status": "completed"
    },
    "tags": []
   },
   "outputs": [
    {
     "data": {
      "text/html": [
       "<div>\n",
       "<style scoped>\n",
       "    .dataframe tbody tr th:only-of-type {\n",
       "        vertical-align: middle;\n",
       "    }\n",
       "\n",
       "    .dataframe tbody tr th {\n",
       "        vertical-align: top;\n",
       "    }\n",
       "\n",
       "    .dataframe thead th {\n",
       "        text-align: right;\n",
       "    }\n",
       "</style>\n",
       "<table border=\"1\" class=\"dataframe\">\n",
       "  <thead>\n",
       "    <tr style=\"text-align: right;\">\n",
       "      <th></th>\n",
       "      <th>ad_id</th>\n",
       "      <th>xyz_campaign_id</th>\n",
       "      <th>fb_campaign_id</th>\n",
       "      <th>interest</th>\n",
       "      <th>Impressions</th>\n",
       "      <th>Clicks</th>\n",
       "      <th>Spent</th>\n",
       "      <th>Total_Conversion</th>\n",
       "      <th>Approved_Conversion</th>\n",
       "    </tr>\n",
       "  </thead>\n",
       "  <tbody>\n",
       "    <tr>\n",
       "      <th>count</th>\n",
       "      <td>1.143000e+03</td>\n",
       "      <td>1143.000000</td>\n",
       "      <td>1143.000000</td>\n",
       "      <td>1143.000000</td>\n",
       "      <td>1.143000e+03</td>\n",
       "      <td>1143.000000</td>\n",
       "      <td>1143.000000</td>\n",
       "      <td>1143.000000</td>\n",
       "      <td>1143.000000</td>\n",
       "    </tr>\n",
       "    <tr>\n",
       "      <th>mean</th>\n",
       "      <td>9.872611e+05</td>\n",
       "      <td>1067.382327</td>\n",
       "      <td>133783.989501</td>\n",
       "      <td>32.766404</td>\n",
       "      <td>1.867321e+05</td>\n",
       "      <td>33.390201</td>\n",
       "      <td>51.360656</td>\n",
       "      <td>2.855643</td>\n",
       "      <td>0.944007</td>\n",
       "    </tr>\n",
       "    <tr>\n",
       "      <th>std</th>\n",
       "      <td>1.939928e+05</td>\n",
       "      <td>121.629393</td>\n",
       "      <td>20500.308622</td>\n",
       "      <td>26.952131</td>\n",
       "      <td>3.127622e+05</td>\n",
       "      <td>56.892438</td>\n",
       "      <td>86.908418</td>\n",
       "      <td>4.483593</td>\n",
       "      <td>1.737708</td>\n",
       "    </tr>\n",
       "    <tr>\n",
       "      <th>min</th>\n",
       "      <td>7.087460e+05</td>\n",
       "      <td>916.000000</td>\n",
       "      <td>103916.000000</td>\n",
       "      <td>2.000000</td>\n",
       "      <td>8.700000e+01</td>\n",
       "      <td>0.000000</td>\n",
       "      <td>0.000000</td>\n",
       "      <td>0.000000</td>\n",
       "      <td>0.000000</td>\n",
       "    </tr>\n",
       "    <tr>\n",
       "      <th>25%</th>\n",
       "      <td>7.776325e+05</td>\n",
       "      <td>936.000000</td>\n",
       "      <td>115716.000000</td>\n",
       "      <td>16.000000</td>\n",
       "      <td>6.503500e+03</td>\n",
       "      <td>1.000000</td>\n",
       "      <td>1.480000</td>\n",
       "      <td>1.000000</td>\n",
       "      <td>0.000000</td>\n",
       "    </tr>\n",
       "    <tr>\n",
       "      <th>50%</th>\n",
       "      <td>1.121185e+06</td>\n",
       "      <td>1178.000000</td>\n",
       "      <td>144549.000000</td>\n",
       "      <td>25.000000</td>\n",
       "      <td>5.150900e+04</td>\n",
       "      <td>8.000000</td>\n",
       "      <td>12.370000</td>\n",
       "      <td>1.000000</td>\n",
       "      <td>1.000000</td>\n",
       "    </tr>\n",
       "    <tr>\n",
       "      <th>75%</th>\n",
       "      <td>1.121804e+06</td>\n",
       "      <td>1178.000000</td>\n",
       "      <td>144657.500000</td>\n",
       "      <td>31.000000</td>\n",
       "      <td>2.217690e+05</td>\n",
       "      <td>37.500000</td>\n",
       "      <td>60.025000</td>\n",
       "      <td>3.000000</td>\n",
       "      <td>1.000000</td>\n",
       "    </tr>\n",
       "    <tr>\n",
       "      <th>max</th>\n",
       "      <td>1.314415e+06</td>\n",
       "      <td>1178.000000</td>\n",
       "      <td>179982.000000</td>\n",
       "      <td>114.000000</td>\n",
       "      <td>3.052003e+06</td>\n",
       "      <td>421.000000</td>\n",
       "      <td>639.949998</td>\n",
       "      <td>60.000000</td>\n",
       "      <td>21.000000</td>\n",
       "    </tr>\n",
       "  </tbody>\n",
       "</table>\n",
       "</div>"
      ],
      "text/plain": [
       "              ad_id  xyz_campaign_id  fb_campaign_id     interest  \\\n",
       "count  1.143000e+03      1143.000000     1143.000000  1143.000000   \n",
       "mean   9.872611e+05      1067.382327   133783.989501    32.766404   \n",
       "std    1.939928e+05       121.629393    20500.308622    26.952131   \n",
       "min    7.087460e+05       916.000000   103916.000000     2.000000   \n",
       "25%    7.776325e+05       936.000000   115716.000000    16.000000   \n",
       "50%    1.121185e+06      1178.000000   144549.000000    25.000000   \n",
       "75%    1.121804e+06      1178.000000   144657.500000    31.000000   \n",
       "max    1.314415e+06      1178.000000   179982.000000   114.000000   \n",
       "\n",
       "        Impressions       Clicks        Spent  Total_Conversion  \\\n",
       "count  1.143000e+03  1143.000000  1143.000000       1143.000000   \n",
       "mean   1.867321e+05    33.390201    51.360656          2.855643   \n",
       "std    3.127622e+05    56.892438    86.908418          4.483593   \n",
       "min    8.700000e+01     0.000000     0.000000          0.000000   \n",
       "25%    6.503500e+03     1.000000     1.480000          1.000000   \n",
       "50%    5.150900e+04     8.000000    12.370000          1.000000   \n",
       "75%    2.217690e+05    37.500000    60.025000          3.000000   \n",
       "max    3.052003e+06   421.000000   639.949998         60.000000   \n",
       "\n",
       "       Approved_Conversion  \n",
       "count          1143.000000  \n",
       "mean              0.944007  \n",
       "std               1.737708  \n",
       "min               0.000000  \n",
       "25%               0.000000  \n",
       "50%               1.000000  \n",
       "75%               1.000000  \n",
       "max              21.000000  "
      ]
     },
     "execution_count": 6,
     "metadata": {},
     "output_type": "execute_result"
    }
   ],
   "source": [
    "df.describe()\n"
   ]
  },
  {
   "cell_type": "code",
   "execution_count": 7,
   "id": "8d7e9780",
   "metadata": {
    "execution": {
     "iopub.execute_input": "2022-10-12T13:35:52.594381Z",
     "iopub.status.busy": "2022-10-12T13:35:52.593554Z",
     "iopub.status.idle": "2022-10-12T13:35:52.610899Z",
     "shell.execute_reply": "2022-10-12T13:35:52.609679Z"
    },
    "papermill": {
     "duration": 0.038764,
     "end_time": "2022-10-12T13:35:52.613788",
     "exception": false,
     "start_time": "2022-10-12T13:35:52.575024",
     "status": "completed"
    },
    "tags": []
   },
   "outputs": [
    {
     "data": {
      "text/html": [
       "<div>\n",
       "<style scoped>\n",
       "    .dataframe tbody tr th:only-of-type {\n",
       "        vertical-align: middle;\n",
       "    }\n",
       "\n",
       "    .dataframe tbody tr th {\n",
       "        vertical-align: top;\n",
       "    }\n",
       "\n",
       "    .dataframe thead th {\n",
       "        text-align: right;\n",
       "    }\n",
       "</style>\n",
       "<table border=\"1\" class=\"dataframe\">\n",
       "  <thead>\n",
       "    <tr style=\"text-align: right;\">\n",
       "      <th></th>\n",
       "      <th>age</th>\n",
       "      <th>gender</th>\n",
       "    </tr>\n",
       "  </thead>\n",
       "  <tbody>\n",
       "    <tr>\n",
       "      <th>count</th>\n",
       "      <td>1143</td>\n",
       "      <td>1143</td>\n",
       "    </tr>\n",
       "    <tr>\n",
       "      <th>unique</th>\n",
       "      <td>4</td>\n",
       "      <td>2</td>\n",
       "    </tr>\n",
       "    <tr>\n",
       "      <th>top</th>\n",
       "      <td>30-34</td>\n",
       "      <td>M</td>\n",
       "    </tr>\n",
       "    <tr>\n",
       "      <th>freq</th>\n",
       "      <td>426</td>\n",
       "      <td>592</td>\n",
       "    </tr>\n",
       "  </tbody>\n",
       "</table>\n",
       "</div>"
      ],
      "text/plain": [
       "          age gender\n",
       "count    1143   1143\n",
       "unique      4      2\n",
       "top     30-34      M\n",
       "freq      426    592"
      ]
     },
     "execution_count": 7,
     "metadata": {},
     "output_type": "execute_result"
    }
   ],
   "source": [
    "df.describe(include=['object'])"
   ]
  },
  {
   "cell_type": "code",
   "execution_count": 8,
   "id": "0390c22a",
   "metadata": {
    "execution": {
     "iopub.execute_input": "2022-10-12T13:35:52.649579Z",
     "iopub.status.busy": "2022-10-12T13:35:52.648731Z",
     "iopub.status.idle": "2022-10-12T13:35:53.825283Z",
     "shell.execute_reply": "2022-10-12T13:35:53.824332Z"
    },
    "papermill": {
     "duration": 1.197892,
     "end_time": "2022-10-12T13:35:53.828328",
     "exception": false,
     "start_time": "2022-10-12T13:35:52.630436",
     "status": "completed"
    },
    "tags": []
   },
   "outputs": [],
   "source": [
    "import matplotlib.pyplot as plt\n",
    "import seaborn as sns"
   ]
  },
  {
   "cell_type": "code",
   "execution_count": 9,
   "id": "d56638a4",
   "metadata": {
    "execution": {
     "iopub.execute_input": "2022-10-12T13:35:53.866778Z",
     "iopub.status.busy": "2022-10-12T13:35:53.865762Z",
     "iopub.status.idle": "2022-10-12T13:35:53.885695Z",
     "shell.execute_reply": "2022-10-12T13:35:53.884501Z"
    },
    "papermill": {
     "duration": 0.040701,
     "end_time": "2022-10-12T13:35:53.888244",
     "exception": false,
     "start_time": "2022-10-12T13:35:53.847543",
     "status": "completed"
    },
    "tags": []
   },
   "outputs": [
    {
     "data": {
      "text/html": [
       "<div>\n",
       "<style scoped>\n",
       "    .dataframe tbody tr th:only-of-type {\n",
       "        vertical-align: middle;\n",
       "    }\n",
       "\n",
       "    .dataframe tbody tr th {\n",
       "        vertical-align: top;\n",
       "    }\n",
       "\n",
       "    .dataframe thead th {\n",
       "        text-align: right;\n",
       "    }\n",
       "</style>\n",
       "<table border=\"1\" class=\"dataframe\">\n",
       "  <thead>\n",
       "    <tr style=\"text-align: right;\">\n",
       "      <th></th>\n",
       "      <th>ad_id</th>\n",
       "      <th>xyz_campaign_id</th>\n",
       "      <th>fb_campaign_id</th>\n",
       "      <th>interest</th>\n",
       "      <th>Impressions</th>\n",
       "      <th>Clicks</th>\n",
       "      <th>Spent</th>\n",
       "      <th>Total_Conversion</th>\n",
       "      <th>Approved_Conversion</th>\n",
       "    </tr>\n",
       "  </thead>\n",
       "  <tbody>\n",
       "    <tr>\n",
       "      <th>ad_id</th>\n",
       "      <td>1.000000</td>\n",
       "      <td>0.929892</td>\n",
       "      <td>0.972002</td>\n",
       "      <td>0.456483</td>\n",
       "      <td>0.462308</td>\n",
       "      <td>0.431981</td>\n",
       "      <td>0.433053</td>\n",
       "      <td>0.346539</td>\n",
       "      <td>0.271331</td>\n",
       "    </tr>\n",
       "    <tr>\n",
       "      <th>xyz_campaign_id</th>\n",
       "      <td>0.929892</td>\n",
       "      <td>1.000000</td>\n",
       "      <td>0.872392</td>\n",
       "      <td>0.272282</td>\n",
       "      <td>0.495273</td>\n",
       "      <td>0.469729</td>\n",
       "      <td>0.476689</td>\n",
       "      <td>0.346684</td>\n",
       "      <td>0.284968</td>\n",
       "    </tr>\n",
       "    <tr>\n",
       "      <th>fb_campaign_id</th>\n",
       "      <td>0.972002</td>\n",
       "      <td>0.872392</td>\n",
       "      <td>1.000000</td>\n",
       "      <td>0.595753</td>\n",
       "      <td>0.439439</td>\n",
       "      <td>0.406978</td>\n",
       "      <td>0.403532</td>\n",
       "      <td>0.344170</td>\n",
       "      <td>0.257658</td>\n",
       "    </tr>\n",
       "    <tr>\n",
       "      <th>interest</th>\n",
       "      <td>0.456483</td>\n",
       "      <td>0.272282</td>\n",
       "      <td>0.595753</td>\n",
       "      <td>1.000000</td>\n",
       "      <td>0.101973</td>\n",
       "      <td>0.088706</td>\n",
       "      <td>0.070226</td>\n",
       "      <td>0.120270</td>\n",
       "      <td>0.058353</td>\n",
       "    </tr>\n",
       "    <tr>\n",
       "      <th>Impressions</th>\n",
       "      <td>0.462308</td>\n",
       "      <td>0.495273</td>\n",
       "      <td>0.439439</td>\n",
       "      <td>0.101973</td>\n",
       "      <td>1.000000</td>\n",
       "      <td>0.948514</td>\n",
       "      <td>0.970386</td>\n",
       "      <td>0.812838</td>\n",
       "      <td>0.684249</td>\n",
       "    </tr>\n",
       "    <tr>\n",
       "      <th>Clicks</th>\n",
       "      <td>0.431981</td>\n",
       "      <td>0.469729</td>\n",
       "      <td>0.406978</td>\n",
       "      <td>0.088706</td>\n",
       "      <td>0.948514</td>\n",
       "      <td>1.000000</td>\n",
       "      <td>0.992906</td>\n",
       "      <td>0.694632</td>\n",
       "      <td>0.559526</td>\n",
       "    </tr>\n",
       "    <tr>\n",
       "      <th>Spent</th>\n",
       "      <td>0.433053</td>\n",
       "      <td>0.476689</td>\n",
       "      <td>0.403532</td>\n",
       "      <td>0.070226</td>\n",
       "      <td>0.970386</td>\n",
       "      <td>0.992906</td>\n",
       "      <td>1.000000</td>\n",
       "      <td>0.725379</td>\n",
       "      <td>0.593178</td>\n",
       "    </tr>\n",
       "    <tr>\n",
       "      <th>Total_Conversion</th>\n",
       "      <td>0.346539</td>\n",
       "      <td>0.346684</td>\n",
       "      <td>0.344170</td>\n",
       "      <td>0.120270</td>\n",
       "      <td>0.812838</td>\n",
       "      <td>0.694632</td>\n",
       "      <td>0.725379</td>\n",
       "      <td>1.000000</td>\n",
       "      <td>0.864034</td>\n",
       "    </tr>\n",
       "    <tr>\n",
       "      <th>Approved_Conversion</th>\n",
       "      <td>0.271331</td>\n",
       "      <td>0.284968</td>\n",
       "      <td>0.257658</td>\n",
       "      <td>0.058353</td>\n",
       "      <td>0.684249</td>\n",
       "      <td>0.559526</td>\n",
       "      <td>0.593178</td>\n",
       "      <td>0.864034</td>\n",
       "      <td>1.000000</td>\n",
       "    </tr>\n",
       "  </tbody>\n",
       "</table>\n",
       "</div>"
      ],
      "text/plain": [
       "                        ad_id  xyz_campaign_id  fb_campaign_id  interest  \\\n",
       "ad_id                1.000000         0.929892        0.972002  0.456483   \n",
       "xyz_campaign_id      0.929892         1.000000        0.872392  0.272282   \n",
       "fb_campaign_id       0.972002         0.872392        1.000000  0.595753   \n",
       "interest             0.456483         0.272282        0.595753  1.000000   \n",
       "Impressions          0.462308         0.495273        0.439439  0.101973   \n",
       "Clicks               0.431981         0.469729        0.406978  0.088706   \n",
       "Spent                0.433053         0.476689        0.403532  0.070226   \n",
       "Total_Conversion     0.346539         0.346684        0.344170  0.120270   \n",
       "Approved_Conversion  0.271331         0.284968        0.257658  0.058353   \n",
       "\n",
       "                     Impressions    Clicks     Spent  Total_Conversion  \\\n",
       "ad_id                   0.462308  0.431981  0.433053          0.346539   \n",
       "xyz_campaign_id         0.495273  0.469729  0.476689          0.346684   \n",
       "fb_campaign_id          0.439439  0.406978  0.403532          0.344170   \n",
       "interest                0.101973  0.088706  0.070226          0.120270   \n",
       "Impressions             1.000000  0.948514  0.970386          0.812838   \n",
       "Clicks                  0.948514  1.000000  0.992906          0.694632   \n",
       "Spent                   0.970386  0.992906  1.000000          0.725379   \n",
       "Total_Conversion        0.812838  0.694632  0.725379          1.000000   \n",
       "Approved_Conversion     0.684249  0.559526  0.593178          0.864034   \n",
       "\n",
       "                     Approved_Conversion  \n",
       "ad_id                           0.271331  \n",
       "xyz_campaign_id                 0.284968  \n",
       "fb_campaign_id                  0.257658  \n",
       "interest                        0.058353  \n",
       "Impressions                     0.684249  \n",
       "Clicks                          0.559526  \n",
       "Spent                           0.593178  \n",
       "Total_Conversion                0.864034  \n",
       "Approved_Conversion             1.000000  "
      ]
     },
     "execution_count": 9,
     "metadata": {},
     "output_type": "execute_result"
    }
   ],
   "source": [
    "df.corr()"
   ]
  },
  {
   "cell_type": "markdown",
   "id": "829a4505",
   "metadata": {
    "papermill": {
     "duration": 0.016699,
     "end_time": "2022-10-12T13:35:53.922079",
     "exception": false,
     "start_time": "2022-10-12T13:35:53.905380",
     "status": "completed"
    },
    "tags": []
   },
   "source": [
    "Visualizing the correlation data ( including only the quantitative variables)"
   ]
  },
  {
   "cell_type": "code",
   "execution_count": 10,
   "id": "21408f7d",
   "metadata": {
    "execution": {
     "iopub.execute_input": "2022-10-12T13:35:53.957510Z",
     "iopub.status.busy": "2022-10-12T13:35:53.957043Z",
     "iopub.status.idle": "2022-10-12T13:35:54.320960Z",
     "shell.execute_reply": "2022-10-12T13:35:54.319787Z"
    },
    "papermill": {
     "duration": 0.384374,
     "end_time": "2022-10-12T13:35:54.323320",
     "exception": false,
     "start_time": "2022-10-12T13:35:53.938946",
     "status": "completed"
    },
    "tags": []
   },
   "outputs": [
    {
     "data": {
      "image/png": "[encoded data removed]",
      "text/plain": [
       "<Figure size 432x288 with 2 Axes>"
      ]
     },
     "metadata": {
      "needs_background": "light"
     },
     "output_type": "display_data"
    }
   ],
   "source": [
    "g=sns.heatmap(df[[\"Impressions\",\"Clicks\",\"Spent\",\"Total_Conversion\",\"Approved_Conversion\"]].corr(),annot=True ,fmt=\".2f\", cmap=\"YlGnBu\")"
   ]
  },
  {
   "cell_type": "markdown",
   "id": "b0e4c691",
   "metadata": {
    "papermill": {
     "duration": 0.016687,
     "end_time": "2022-10-12T13:35:54.357475",
     "exception": false,
     "start_time": "2022-10-12T13:35:54.340788",
     "status": "completed"
    },
    "tags": []
   },
   "source": [
    "impressions and clicks are high corr,\n",
    "impression and spent are high corr,\n",
    "impression and total_conversion are high corr,\n",
    "impression and approved_conv are medium correlated,\n",
    "clicks and spent are high corr,\n",
    "clicks and total conv and approved conv are medium correlated,\n",
    "spent and total_conv and spent are moderately correlated,\n",
    "spent and approved conv are moderately correlated,\n",
    "total conv and approved conversion are highly correlated.\n",
    "\n",
    "\n",
    "The more the add is shown the higher the total conv and approved conv"
   ]
  },
  {
   "cell_type": "code",
   "execution_count": 11,
   "id": "890a1fc9",
   "metadata": {
    "execution": {
     "iopub.execute_input": "2022-10-12T13:35:54.393907Z",
     "iopub.status.busy": "2022-10-12T13:35:54.393394Z",
     "iopub.status.idle": "2022-10-12T13:35:54.402953Z",
     "shell.execute_reply": "2022-10-12T13:35:54.401868Z"
    },
    "papermill": {
     "duration": 0.030419,
     "end_time": "2022-10-12T13:35:54.405104",
     "exception": false,
     "start_time": "2022-10-12T13:35:54.374685",
     "status": "completed"
    },
    "tags": []
   },
   "outputs": [
    {
     "data": {
      "text/plain": [
       "array([ 916,  936, 1178])"
      ]
     },
     "execution_count": 11,
     "metadata": {},
     "output_type": "execute_result"
    }
   ],
   "source": [
    "# 3 unique campaigns run by xyz company\n",
    "df['xyz_campaign_id'].unique()"
   ]
  },
  {
   "cell_type": "code",
   "execution_count": 12,
   "id": "f00839f8",
   "metadata": {
    "execution": {
     "iopub.execute_input": "2022-10-12T13:35:54.442704Z",
     "iopub.status.busy": "2022-10-12T13:35:54.441837Z",
     "iopub.status.idle": "2022-10-12T13:35:54.449090Z",
     "shell.execute_reply": "2022-10-12T13:35:54.448040Z"
    },
    "papermill": {
     "duration": 0.028773,
     "end_time": "2022-10-12T13:35:54.451550",
     "exception": false,
     "start_time": "2022-10-12T13:35:54.422777",
     "status": "completed"
    },
    "tags": []
   },
   "outputs": [],
   "source": [
    "# renaming the campaigns for analysis purpose\n",
    "df['xyz_campaign_id'].replace({916:'campaign_1',936:'campaign_2',1178:'campaign_3'}, inplace=True)\n"
   ]
  },
  {
   "cell_type": "code",
   "execution_count": 13,
   "id": "27a635b7",
   "metadata": {
    "execution": {
     "iopub.execute_input": "2022-10-12T13:35:54.489277Z",
     "iopub.status.busy": "2022-10-12T13:35:54.488009Z",
     "iopub.status.idle": "2022-10-12T13:35:54.504393Z",
     "shell.execute_reply": "2022-10-12T13:35:54.503369Z"
    },
    "papermill": {
     "duration": 0.037608,
     "end_time": "2022-10-12T13:35:54.506703",
     "exception": false,
     "start_time": "2022-10-12T13:35:54.469095",
     "status": "completed"
    },
    "tags": []
   },
   "outputs": [
    {
     "data": {
      "text/html": [
       "<div>\n",
       "<style scoped>\n",
       "    .dataframe tbody tr th:only-of-type {\n",
       "        vertical-align: middle;\n",
       "    }\n",
       "\n",
       "    .dataframe tbody tr th {\n",
       "        vertical-align: top;\n",
       "    }\n",
       "\n",
       "    .dataframe thead th {\n",
       "        text-align: right;\n",
       "    }\n",
       "</style>\n",
       "<table border=\"1\" class=\"dataframe\">\n",
       "  <thead>\n",
       "    <tr style=\"text-align: right;\">\n",
       "      <th></th>\n",
       "      <th>ad_id</th>\n",
       "      <th>xyz_campaign_id</th>\n",
       "      <th>fb_campaign_id</th>\n",
       "      <th>age</th>\n",
       "      <th>gender</th>\n",
       "      <th>interest</th>\n",
       "      <th>Impressions</th>\n",
       "      <th>Clicks</th>\n",
       "      <th>Spent</th>\n",
       "      <th>Total_Conversion</th>\n",
       "      <th>Approved_Conversion</th>\n",
       "    </tr>\n",
       "  </thead>\n",
       "  <tbody>\n",
       "    <tr>\n",
       "      <th>0</th>\n",
       "      <td>708746</td>\n",
       "      <td>campaign_1</td>\n",
       "      <td>103916</td>\n",
       "      <td>30-34</td>\n",
       "      <td>M</td>\n",
       "      <td>15</td>\n",
       "      <td>7350</td>\n",
       "      <td>1</td>\n",
       "      <td>1.43</td>\n",
       "      <td>2</td>\n",
       "      <td>1</td>\n",
       "    </tr>\n",
       "    <tr>\n",
       "      <th>1</th>\n",
       "      <td>708749</td>\n",
       "      <td>campaign_1</td>\n",
       "      <td>103917</td>\n",
       "      <td>30-34</td>\n",
       "      <td>M</td>\n",
       "      <td>16</td>\n",
       "      <td>17861</td>\n",
       "      <td>2</td>\n",
       "      <td>1.82</td>\n",
       "      <td>2</td>\n",
       "      <td>0</td>\n",
       "    </tr>\n",
       "    <tr>\n",
       "      <th>2</th>\n",
       "      <td>708771</td>\n",
       "      <td>campaign_1</td>\n",
       "      <td>103920</td>\n",
       "      <td>30-34</td>\n",
       "      <td>M</td>\n",
       "      <td>20</td>\n",
       "      <td>693</td>\n",
       "      <td>0</td>\n",
       "      <td>0.00</td>\n",
       "      <td>1</td>\n",
       "      <td>0</td>\n",
       "    </tr>\n",
       "    <tr>\n",
       "      <th>3</th>\n",
       "      <td>708815</td>\n",
       "      <td>campaign_1</td>\n",
       "      <td>103928</td>\n",
       "      <td>30-34</td>\n",
       "      <td>M</td>\n",
       "      <td>28</td>\n",
       "      <td>4259</td>\n",
       "      <td>1</td>\n",
       "      <td>1.25</td>\n",
       "      <td>1</td>\n",
       "      <td>0</td>\n",
       "    </tr>\n",
       "    <tr>\n",
       "      <th>4</th>\n",
       "      <td>708818</td>\n",
       "      <td>campaign_1</td>\n",
       "      <td>103928</td>\n",
       "      <td>30-34</td>\n",
       "      <td>M</td>\n",
       "      <td>28</td>\n",
       "      <td>4133</td>\n",
       "      <td>1</td>\n",
       "      <td>1.29</td>\n",
       "      <td>1</td>\n",
       "      <td>1</td>\n",
       "    </tr>\n",
       "  </tbody>\n",
       "</table>\n",
       "</div>"
      ],
      "text/plain": [
       "    ad_id xyz_campaign_id  fb_campaign_id    age gender  interest  \\\n",
       "0  708746      campaign_1          103916  30-34      M        15   \n",
       "1  708749      campaign_1          103917  30-34      M        16   \n",
       "2  708771      campaign_1          103920  30-34      M        20   \n",
       "3  708815      campaign_1          103928  30-34      M        28   \n",
       "4  708818      campaign_1          103928  30-34      M        28   \n",
       "\n",
       "   Impressions  Clicks  Spent  Total_Conversion  Approved_Conversion  \n",
       "0         7350       1   1.43                 2                    1  \n",
       "1        17861       2   1.82                 2                    0  \n",
       "2          693       0   0.00                 1                    0  \n",
       "3         4259       1   1.25                 1                    0  \n",
       "4         4133       1   1.29                 1                    1  "
      ]
     },
     "execution_count": 13,
     "metadata": {},
     "output_type": "execute_result"
    }
   ],
   "source": [
    "df.head()"
   ]
  },
  {
   "cell_type": "code",
   "execution_count": 14,
   "id": "af9f398c",
   "metadata": {
    "execution": {
     "iopub.execute_input": "2022-10-12T13:35:54.544574Z",
     "iopub.status.busy": "2022-10-12T13:35:54.544122Z",
     "iopub.status.idle": "2022-10-12T13:35:54.551878Z",
     "shell.execute_reply": "2022-10-12T13:35:54.550764Z"
    },
    "papermill": {
     "duration": 0.029632,
     "end_time": "2022-10-12T13:35:54.554210",
     "exception": false,
     "start_time": "2022-10-12T13:35:54.524578",
     "status": "completed"
    },
    "tags": []
   },
   "outputs": [
    {
     "data": {
      "text/plain": [
       "691"
      ]
     },
     "execution_count": 14,
     "metadata": {},
     "output_type": "execute_result"
    }
   ],
   "source": [
    "df['fb_campaign_id'].nunique()\n",
    "# number of FB campaigns"
   ]
  },
  {
   "cell_type": "code",
   "execution_count": 15,
   "id": "f5e27c00",
   "metadata": {
    "execution": {
     "iopub.execute_input": "2022-10-12T13:35:54.592787Z",
     "iopub.status.busy": "2022-10-12T13:35:54.592271Z",
     "iopub.status.idle": "2022-10-12T13:35:54.600101Z",
     "shell.execute_reply": "2022-10-12T13:35:54.598858Z"
    },
    "papermill": {
     "duration": 0.030111,
     "end_time": "2022-10-12T13:35:54.602471",
     "exception": false,
     "start_time": "2022-10-12T13:35:54.572360",
     "status": "completed"
    },
    "tags": []
   },
   "outputs": [
    {
     "data": {
      "text/plain": [
       "1143"
      ]
     },
     "execution_count": 15,
     "metadata": {},
     "output_type": "execute_result"
    }
   ],
   "source": [
    "df['ad_id'].nunique()\n",
    "# number of adds in the data"
   ]
  },
  {
   "cell_type": "code",
   "execution_count": 16,
   "id": "06bbbb24",
   "metadata": {
    "execution": {
     "iopub.execute_input": "2022-10-12T13:35:54.641817Z",
     "iopub.status.busy": "2022-10-12T13:35:54.641345Z",
     "iopub.status.idle": "2022-10-12T13:35:54.788734Z",
     "shell.execute_reply": "2022-10-12T13:35:54.787712Z"
    },
    "papermill": {
     "duration": 0.170329,
     "end_time": "2022-10-12T13:35:54.791384",
     "exception": false,
     "start_time": "2022-10-12T13:35:54.621055",
     "status": "completed"
    },
    "tags": []
   },
   "outputs": [
    {
     "data": {
      "text/plain": [
       "<AxesSubplot:xlabel='xyz_campaign_id', ylabel='count'>"
      ]
     },
     "execution_count": 16,
     "metadata": {},
     "output_type": "execute_result"
    },
    {
     "data": {
      "image/png": "[encoded data removed]",
      "text/plain": [
       "<Figure size 432x288 with 1 Axes>"
      ]
     },
     "metadata": {
      "needs_background": "light"
     },
     "output_type": "display_data"
    }
   ],
   "source": [
    "sns.countplot(x='xyz_campaign_id', data=df)\n",
    "# we can see that maximum adds were shown to campaign_3"
   ]
  },
  {
   "cell_type": "code",
   "execution_count": 17,
   "id": "4203aac1",
   "metadata": {
    "execution": {
     "iopub.execute_input": "2022-10-12T13:35:54.831551Z",
     "iopub.status.busy": "2022-10-12T13:35:54.830688Z",
     "iopub.status.idle": "2022-10-12T13:35:55.234705Z",
     "shell.execute_reply": "2022-10-12T13:35:55.233513Z"
    },
    "papermill": {
     "duration": 0.427464,
     "end_time": "2022-10-12T13:35:55.237280",
     "exception": false,
     "start_time": "2022-10-12T13:35:54.809816",
     "status": "completed"
    },
    "tags": []
   },
   "outputs": [
    {
     "data": {
      "image/png": "[encoded data removed]",
      "text/plain": [
       "<Figure size 432x288 with 1 Axes>"
      ]
     },
     "metadata": {
      "needs_background": "light"
     },
     "output_type": "display_data"
    }
   ],
   "source": [
    "ax=sns.countplot(x ='xyz_campaign_id',hue=\"Approved_Conversion\", data = df) \n",
    "plt.grid(axis='y')\n",
    "sns.move_legend(ax, \"upper left\", bbox_to_anchor=(1, 1))\n",
    "# campaign_3 has maximum approved conversions\n"
   ]
  },
  {
   "cell_type": "code",
   "execution_count": 18,
   "id": "85c65a21",
   "metadata": {
    "execution": {
     "iopub.execute_input": "2022-10-12T13:35:55.277149Z",
     "iopub.status.busy": "2022-10-12T13:35:55.276281Z",
     "iopub.status.idle": "2022-10-12T13:35:55.436232Z",
     "shell.execute_reply": "2022-10-12T13:35:55.435195Z"
    },
    "papermill": {
     "duration": 0.182958,
     "end_time": "2022-10-12T13:35:55.438871",
     "exception": false,
     "start_time": "2022-10-12T13:35:55.255913",
     "status": "completed"
    },
    "tags": []
   },
   "outputs": [
    {
     "data": {
      "image/png": "[encoded data removed]",
      "text/plain": [
       "<Figure size 432x288 with 1 Axes>"
      ]
     },
     "metadata": {
      "needs_background": "light"
     },
     "output_type": "display_data"
    }
   ],
   "source": [
    "ax=sns.scatterplot(x ='xyz_campaign_id',y=\"Clicks\", data = df) \n",
    "# campaign_3 clicks are more"
   ]
  },
  {
   "cell_type": "code",
   "execution_count": 19,
   "id": "cc4cb9df",
   "metadata": {
    "execution": {
     "iopub.execute_input": "2022-10-12T13:35:55.479252Z",
     "iopub.status.busy": "2022-10-12T13:35:55.478382Z",
     "iopub.status.idle": "2022-10-12T13:35:56.089003Z",
     "shell.execute_reply": "2022-10-12T13:35:56.087679Z"
    },
    "papermill": {
     "duration": 0.633986,
     "end_time": "2022-10-12T13:35:56.091752",
     "exception": false,
     "start_time": "2022-10-12T13:35:55.457766",
     "status": "completed"
    },
    "tags": []
   },
   "outputs": [
    {
     "data": {
      "image/png": "[encoded data removed]",
      "text/plain": [
       "<Figure size 432x288 with 1 Axes>"
      ]
     },
     "metadata": {
      "needs_background": "light"
     },
     "output_type": "display_data"
    }
   ],
   "source": [
    "ax=sns.countplot(x ='xyz_campaign_id',hue=\"Total_Conversion\", data = df) \n",
    "plt.grid(axis='y')\n",
    "sns.move_legend(ax, \"upper left\", bbox_to_anchor=(1, 1))"
   ]
  },
  {
   "cell_type": "code",
   "execution_count": null,
   "id": "a50a875d",
   "metadata": {
    "papermill": {
     "duration": 0.019087,
     "end_time": "2022-10-12T13:35:56.130877",
     "exception": false,
     "start_time": "2022-10-12T13:35:56.111790",
     "status": "completed"
    },
    "tags": []
   },
   "outputs": [],
   "source": []
  },
  {
   "cell_type": "markdown",
   "id": "b2296e6a",
   "metadata": {
    "papermill": {
     "duration": 0.019143,
     "end_time": "2022-10-12T13:35:56.169934",
     "exception": false,
     "start_time": "2022-10-12T13:35:56.150791",
     "status": "completed"
    },
    "tags": []
   },
   "source": [
    "distribution of conversions for campaigns over gender "
   ]
  },
  {
   "cell_type": "code",
   "execution_count": 20,
   "id": "3e8918f8",
   "metadata": {
    "execution": {
     "iopub.execute_input": "2022-10-12T13:35:56.210964Z",
     "iopub.status.busy": "2022-10-12T13:35:56.210074Z",
     "iopub.status.idle": "2022-10-12T13:35:56.391702Z",
     "shell.execute_reply": "2022-10-12T13:35:56.390711Z"
    },
    "papermill": {
     "duration": 0.205043,
     "end_time": "2022-10-12T13:35:56.394331",
     "exception": false,
     "start_time": "2022-10-12T13:35:56.189288",
     "status": "completed"
    },
    "tags": []
   },
   "outputs": [
    {
     "data": {
      "image/png": "[encoded data removed]",
      "text/plain": [
       "<Figure size 432x288 with 1 Axes>"
      ]
     },
     "metadata": {
      "needs_background": "light"
     },
     "output_type": "display_data"
    }
   ],
   "source": [
    "ax=sns.countplot(x ='xyz_campaign_id',hue=\"gender\", data = df) \n",
    "plt.grid(axis='y')\n",
    "sns.move_legend(ax, \"upper left\", bbox_to_anchor=(1, 1))"
   ]
  },
  {
   "cell_type": "code",
   "execution_count": 21,
   "id": "f466e4d2",
   "metadata": {
    "execution": {
     "iopub.execute_input": "2022-10-12T13:35:56.435895Z",
     "iopub.status.busy": "2022-10-12T13:35:56.435391Z",
     "iopub.status.idle": "2022-10-12T13:35:56.766256Z",
     "shell.execute_reply": "2022-10-12T13:35:56.765108Z"
    },
    "papermill": {
     "duration": 0.355442,
     "end_time": "2022-10-12T13:35:56.769355",
     "exception": false,
     "start_time": "2022-10-12T13:35:56.413913",
     "status": "completed"
    },
    "tags": []
   },
   "outputs": [
    {
     "data": {
      "image/png": "[encoded data removed]",
      "text/plain": [
       "<Figure size 432x288 with 1 Axes>"
      ]
     },
     "metadata": {
      "needs_background": "light"
     },
     "output_type": "display_data"
    }
   ],
   "source": [
    "ax=sns.countplot(hue ='Approved_Conversion',x=\"gender\", data = df) \n",
    "plt.grid(axis='y')\n",
    "sns.move_legend(ax, \"upper left\", bbox_to_anchor=(1, 1))"
   ]
  },
  {
   "cell_type": "code",
   "execution_count": 22,
   "id": "76746574",
   "metadata": {
    "execution": {
     "iopub.execute_input": "2022-10-12T13:35:56.814419Z",
     "iopub.status.busy": "2022-10-12T13:35:56.813940Z",
     "iopub.status.idle": "2022-10-12T13:35:57.164282Z",
     "shell.execute_reply": "2022-10-12T13:35:57.163080Z"
    },
    "papermill": {
     "duration": 0.375593,
     "end_time": "2022-10-12T13:35:57.166938",
     "exception": false,
     "start_time": "2022-10-12T13:35:56.791345",
     "status": "completed"
    },
    "tags": []
   },
   "outputs": [
    {
     "data": {
      "image/png": "[encoded data removed]",
      "text/plain": [
       "<Figure size 432x288 with 1 Axes>"
      ]
     },
     "metadata": {
      "needs_background": "light"
     },
     "output_type": "display_data"
    }
   ],
   "source": [
    "ax=sns.barplot(x ='xyz_campaign_id',y='Approved_Conversion',hue='gender', data = df) \n",
    "sns.move_legend(ax, \"upper left\", bbox_to_anchor=(1, 1))\n",
    "\n",
    "# unlike campaign 1 and campaign 2 , campaign 3 has more females with conversions"
   ]
  },
  {
   "cell_type": "markdown",
   "id": "360bea73",
   "metadata": {
    "papermill": {
     "duration": 0.019734,
     "end_time": "2022-10-12T13:35:57.207019",
     "exception": false,
     "start_time": "2022-10-12T13:35:57.187285",
     "status": "completed"
    },
    "tags": []
   },
   "source": [
    "Maximum ads shown to campaign_3, maximum conversions in campaign_3 and maximum conversions by Males"
   ]
  },
  {
   "cell_type": "markdown",
   "id": "ee42b639",
   "metadata": {
    "papermill": {
     "duration": 0.019735,
     "end_time": "2022-10-12T13:35:57.246637",
     "exception": false,
     "start_time": "2022-10-12T13:35:57.226902",
     "status": "completed"
    },
    "tags": []
   },
   "source": [
    "distribution of conversions with campaigns over age"
   ]
  },
  {
   "cell_type": "code",
   "execution_count": 23,
   "id": "799a2526",
   "metadata": {
    "execution": {
     "iopub.execute_input": "2022-10-12T13:35:57.288926Z",
     "iopub.status.busy": "2022-10-12T13:35:57.288461Z",
     "iopub.status.idle": "2022-10-12T13:35:57.713495Z",
     "shell.execute_reply": "2022-10-12T13:35:57.712234Z"
    },
    "papermill": {
     "duration": 0.449771,
     "end_time": "2022-10-12T13:35:57.716369",
     "exception": false,
     "start_time": "2022-10-12T13:35:57.266598",
     "status": "completed"
    },
    "tags": []
   },
   "outputs": [
    {
     "data": {
      "image/png": "[encoded data removed]",
      "text/plain": [
       "<Figure size 432x288 with 1 Axes>"
      ]
     },
     "metadata": {
      "needs_background": "light"
     },
     "output_type": "display_data"
    }
   ],
   "source": [
    "ax=sns.countplot(x='age',hue='Approved_Conversion', data=df)\n",
    "sns.move_legend(ax, \"upper left\", bbox_to_anchor=(1, 1))\n",
    "# maximum users are in 30-34 age bracket and also maximum conversions are from same age group"
   ]
  },
  {
   "cell_type": "code",
   "execution_count": 24,
   "id": "ed7f9b70",
   "metadata": {
    "execution": {
     "iopub.execute_input": "2022-10-12T13:35:57.759427Z",
     "iopub.status.busy": "2022-10-12T13:35:57.758993Z",
     "iopub.status.idle": "2022-10-12T13:35:58.160910Z",
     "shell.execute_reply": "2022-10-12T13:35:58.159415Z"
    },
    "papermill": {
     "duration": 0.427036,
     "end_time": "2022-10-12T13:35:58.163909",
     "exception": false,
     "start_time": "2022-10-12T13:35:57.736873",
     "status": "completed"
    },
    "tags": []
   },
   "outputs": [
    {
     "data": {
      "image/png": "[encoded data removed]",
      "text/plain": [
       "<Figure size 432x288 with 1 Axes>"
      ]
     },
     "metadata": {
      "needs_background": "light"
     },
     "output_type": "display_data"
    }
   ],
   "source": [
    "ax=sns.countplot(x='xyz_campaign_id',hue='age', data=df)\n",
    "sns.move_legend(ax, \"upper left\", bbox_to_anchor=(1, 1))\n",
    "# maximum users are in 30-34 age, 45-49 age  bracket and also maximum conversions are from same age group\n",
    "# maximum people /ads were in campaign 3 and so maximum conversions in 30-34 age bracket"
   ]
  },
  {
   "cell_type": "code",
   "execution_count": 25,
   "id": "0739f830",
   "metadata": {
    "execution": {
     "iopub.execute_input": "2022-10-12T13:35:58.207878Z",
     "iopub.status.busy": "2022-10-12T13:35:58.207402Z",
     "iopub.status.idle": "2022-10-12T13:36:00.970181Z",
     "shell.execute_reply": "2022-10-12T13:36:00.968703Z"
    },
    "papermill": {
     "duration": 2.788151,
     "end_time": "2022-10-12T13:36:00.972969",
     "exception": false,
     "start_time": "2022-10-12T13:35:58.184818",
     "status": "completed"
    },
    "tags": []
   },
   "outputs": [
    {
     "data": {
      "text/plain": [
       "<AxesSubplot:xlabel='xyz_campaign_id', ylabel='Approved_Conversion'>"
      ]
     },
     "execution_count": 25,
     "metadata": {},
     "output_type": "execute_result"
    },
    {
     "data": {
      "image/png": "[encoded data removed]",
      "text/plain": [
       "<Figure size 432x288 with 1 Axes>"
      ]
     },
     "metadata": {},
     "output_type": "display_data"
    }
   ],
   "source": [
    "import seaborn as sns\n",
    "sns.set(style=\"whitegrid\")\n",
    "tips = sns.load_dataset(\"tips\")\n",
    "sns.barplot(x=df[\"xyz_campaign_id\"], y=df[\"Approved_Conversion\"], hue=df[\"age\"], data=tips)\n",
    "\n",
    "# distribution of conversions in each campaign by age\n",
    "# campaign_1 has most conversions for age group 40-44 and least for 30-34. \n",
    "\n",
    "#In other 2 campaigns it is reverse trend. Maximum for 30-34 and minimum for 40-44.\n"
   ]
  },
  {
   "cell_type": "code",
   "execution_count": null,
   "id": "978344e3",
   "metadata": {
    "papermill": {
     "duration": 0.020887,
     "end_time": "2022-10-12T13:36:01.015063",
     "exception": false,
     "start_time": "2022-10-12T13:36:00.994176",
     "status": "completed"
    },
    "tags": []
   },
   "outputs": [],
   "source": []
  },
  {
   "cell_type": "code",
   "execution_count": 26,
   "id": "30379c9d",
   "metadata": {
    "execution": {
     "iopub.execute_input": "2022-10-12T13:36:01.059544Z",
     "iopub.status.busy": "2022-10-12T13:36:01.059106Z",
     "iopub.status.idle": "2022-10-12T13:36:01.246897Z",
     "shell.execute_reply": "2022-10-12T13:36:01.245874Z"
    },
    "papermill": {
     "duration": 0.213006,
     "end_time": "2022-10-12T13:36:01.249237",
     "exception": false,
     "start_time": "2022-10-12T13:36:01.036231",
     "status": "completed"
    },
    "tags": []
   },
   "outputs": [
    {
     "data": {
      "image/png": "[encoded data removed]",
      "text/plain": [
       "<Figure size 1080x504 with 1 Axes>"
      ]
     },
     "metadata": {},
     "output_type": "display_data"
    }
   ],
   "source": [
    "fig=plt.figure(figsize=(15,7))\n",
    "\n",
    "sns.scatterplot(y='Impressions',x='xyz_campaign_id', data=df)\n",
    "\n",
    "\n",
    "plt.show()"
   ]
  },
  {
   "cell_type": "code",
   "execution_count": 27,
   "id": "87f4c0d5",
   "metadata": {
    "execution": {
     "iopub.execute_input": "2022-10-12T13:36:01.295784Z",
     "iopub.status.busy": "2022-10-12T13:36:01.294535Z",
     "iopub.status.idle": "2022-10-12T13:36:01.567543Z",
     "shell.execute_reply": "2022-10-12T13:36:01.566333Z"
    },
    "papermill": {
     "duration": 0.299037,
     "end_time": "2022-10-12T13:36:01.570324",
     "exception": false,
     "start_time": "2022-10-12T13:36:01.271287",
     "status": "completed"
    },
    "tags": []
   },
   "outputs": [
    {
     "data": {
      "image/png": "[encoded data removed]",
      "text/plain": [
       "<Figure size 1080x504 with 1 Axes>"
      ]
     },
     "metadata": {},
     "output_type": "display_data"
    }
   ],
   "source": [
    "fig=plt.figure(figsize=(15,7))\n",
    "\n",
    "sns.scatterplot(y='Impressions',x='Approved_Conversion', data=df)\n",
    "\n",
    "\n",
    "plt.show()"
   ]
  },
  {
   "cell_type": "markdown",
   "id": "59be2637",
   "metadata": {
    "papermill": {
     "duration": 0.022408,
     "end_time": "2022-10-12T13:36:01.615457",
     "exception": false,
     "start_time": "2022-10-12T13:36:01.593049",
     "status": "completed"
    },
    "tags": []
   },
   "source": [
    "higher Impressions drive higher conversions"
   ]
  },
  {
   "cell_type": "code",
   "execution_count": 28,
   "id": "bd3c0a37",
   "metadata": {
    "execution": {
     "iopub.execute_input": "2022-10-12T13:36:01.663552Z",
     "iopub.status.busy": "2022-10-12T13:36:01.662386Z",
     "iopub.status.idle": "2022-10-12T13:36:01.672032Z",
     "shell.execute_reply": "2022-10-12T13:36:01.671141Z"
    },
    "papermill": {
     "duration": 0.036263,
     "end_time": "2022-10-12T13:36:01.674335",
     "exception": false,
     "start_time": "2022-10-12T13:36:01.638072",
     "status": "completed"
    },
    "tags": []
   },
   "outputs": [
    {
     "data": {
      "text/plain": [
       "xyz_campaign_id\n",
       "campaign_1      113\n",
       "campaign_2     1984\n",
       "campaign_3    36068\n",
       "Name: Clicks, dtype: int64"
      ]
     },
     "execution_count": 28,
     "metadata": {},
     "output_type": "execute_result"
    }
   ],
   "source": [
    "df['Clicks'].groupby(by=df['xyz_campaign_id']).sum()"
   ]
  },
  {
   "cell_type": "code",
   "execution_count": 29,
   "id": "0e547b0e",
   "metadata": {
    "execution": {
     "iopub.execute_input": "2022-10-12T13:36:01.721246Z",
     "iopub.status.busy": "2022-10-12T13:36:01.720492Z",
     "iopub.status.idle": "2022-10-12T13:36:01.731250Z",
     "shell.execute_reply": "2022-10-12T13:36:01.730096Z"
    },
    "papermill": {
     "duration": 0.037105,
     "end_time": "2022-10-12T13:36:01.733904",
     "exception": false,
     "start_time": "2022-10-12T13:36:01.696799",
     "status": "completed"
    },
    "tags": []
   },
   "outputs": [
    {
     "data": {
      "text/plain": [
       "xyz_campaign_id\n",
       "campaign_1     24\n",
       "campaign_2    183\n",
       "campaign_3    872\n",
       "Name: Approved_Conversion, dtype: int64"
      ]
     },
     "execution_count": 29,
     "metadata": {},
     "output_type": "execute_result"
    }
   ],
   "source": [
    "df['Approved_Conversion'].groupby(by=df['xyz_campaign_id']).sum()"
   ]
  },
  {
   "cell_type": "code",
   "execution_count": 30,
   "id": "0743370b",
   "metadata": {
    "execution": {
     "iopub.execute_input": "2022-10-12T13:36:01.781656Z",
     "iopub.status.busy": "2022-10-12T13:36:01.780655Z",
     "iopub.status.idle": "2022-10-12T13:36:01.792215Z",
     "shell.execute_reply": "2022-10-12T13:36:01.790953Z"
    },
    "papermill": {
     "duration": 0.039501,
     "end_time": "2022-10-12T13:36:01.796080",
     "exception": false,
     "start_time": "2022-10-12T13:36:01.756579",
     "status": "completed"
    },
    "tags": []
   },
   "outputs": [
    {
     "data": {
      "text/plain": [
       "xyz_campaign_id\n",
       "campaign_1      58\n",
       "campaign_2     537\n",
       "campaign_3    2669\n",
       "Name: Total_Conversion, dtype: int64"
      ]
     },
     "execution_count": 30,
     "metadata": {},
     "output_type": "execute_result"
    }
   ],
   "source": [
    "df['Total_Conversion'].groupby(by=df['xyz_campaign_id']).sum()"
   ]
  },
  {
   "cell_type": "code",
   "execution_count": 31,
   "id": "3ac6592d",
   "metadata": {
    "execution": {
     "iopub.execute_input": "2022-10-12T13:36:01.844530Z",
     "iopub.status.busy": "2022-10-12T13:36:01.843717Z",
     "iopub.status.idle": "2022-10-12T13:36:01.853729Z",
     "shell.execute_reply": "2022-10-12T13:36:01.852489Z"
    },
    "papermill": {
     "duration": 0.03691,
     "end_time": "2022-10-12T13:36:01.856221",
     "exception": false,
     "start_time": "2022-10-12T13:36:01.819311",
     "status": "completed"
    },
    "tags": []
   },
   "outputs": [
    {
     "data": {
      "text/plain": [
       "xyz_campaign_id\n",
       "campaign_1     54\n",
       "campaign_2    464\n",
       "campaign_3    625\n",
       "Name: ad_id, dtype: int64"
      ]
     },
     "execution_count": 31,
     "metadata": {},
     "output_type": "execute_result"
    }
   ],
   "source": [
    "df['ad_id'].groupby(by=df['xyz_campaign_id']).count()"
   ]
  },
  {
   "cell_type": "code",
   "execution_count": 32,
   "id": "ef5e701b",
   "metadata": {
    "execution": {
     "iopub.execute_input": "2022-10-12T13:36:01.905009Z",
     "iopub.status.busy": "2022-10-12T13:36:01.904083Z",
     "iopub.status.idle": "2022-10-12T13:36:01.914872Z",
     "shell.execute_reply": "2022-10-12T13:36:01.913698Z"
    },
    "papermill": {
     "duration": 0.038068,
     "end_time": "2022-10-12T13:36:01.917359",
     "exception": false,
     "start_time": "2022-10-12T13:36:01.879291",
     "status": "completed"
    },
    "tags": []
   },
   "outputs": [
    {
     "data": {
      "text/plain": [
       "xyz_campaign_id\n",
       "campaign_1       482925\n",
       "campaign_2      8128187\n",
       "campaign_3    204823716\n",
       "Name: Impressions, dtype: int64"
      ]
     },
     "execution_count": 32,
     "metadata": {},
     "output_type": "execute_result"
    }
   ],
   "source": [
    "df['Impressions'].groupby(by=df['xyz_campaign_id']).sum()"
   ]
  },
  {
   "cell_type": "code",
   "execution_count": 33,
   "id": "93753ad2",
   "metadata": {
    "execution": {
     "iopub.execute_input": "2022-10-12T13:36:01.964912Z",
     "iopub.status.busy": "2022-10-12T13:36:01.964423Z",
     "iopub.status.idle": "2022-10-12T13:36:01.972565Z",
     "shell.execute_reply": "2022-10-12T13:36:01.971220Z"
    },
    "papermill": {
     "duration": 0.0348,
     "end_time": "2022-10-12T13:36:01.974897",
     "exception": false,
     "start_time": "2022-10-12T13:36:01.940097",
     "status": "completed"
    },
    "tags": []
   },
   "outputs": [
    {
     "data": {
      "text/plain": [
       "array([ 15,  16,  20,  28,  29,  27,  31,   7,  30,  24,  21,  32,  18,\n",
       "        63,  65,  25,  10,  19,  26,  36,  23,  64,  22,   2,  66, 100,\n",
       "       101, 102, 103, 105, 107, 110, 111, 112, 113, 108, 109, 114, 104,\n",
       "       106])"
      ]
     },
     "execution_count": 33,
     "metadata": {},
     "output_type": "execute_result"
    }
   ],
   "source": [
    "df['interest'].unique()"
   ]
  },
  {
   "cell_type": "code",
   "execution_count": 34,
   "id": "999caff2",
   "metadata": {
    "execution": {
     "iopub.execute_input": "2022-10-12T13:36:02.023550Z",
     "iopub.status.busy": "2022-10-12T13:36:02.022811Z",
     "iopub.status.idle": "2022-10-12T13:36:02.039040Z",
     "shell.execute_reply": "2022-10-12T13:36:02.037589Z"
    },
    "papermill": {
     "duration": 0.043921,
     "end_time": "2022-10-12T13:36:02.041993",
     "exception": false,
     "start_time": "2022-10-12T13:36:01.998072",
     "status": "completed"
    },
    "tags": []
   },
   "outputs": [
    {
     "data": {
      "text/plain": [
       "16.0     38\n",
       "10.0     35\n",
       "29.0     35\n",
       "27.0     26\n",
       "63.0     26\n",
       "28.0     26\n",
       "64.0     24\n",
       "20.0     24\n",
       "19.0     23\n",
       "22.0     22\n",
       "21.0     22\n",
       "32.0     21\n",
       "18.0     20\n",
       "15.0     20\n",
       "25.0     19\n",
       "2.0      18\n",
       "26.0     18\n",
       "23.0     17\n",
       "24.0     16\n",
       "30.0     16\n",
       "31.0     15\n",
       "7.0      14\n",
       "36.0     13\n",
       "65.0     11\n",
       "66.0     11\n",
       "107.0     8\n",
       "110.0     8\n",
       "102.0     7\n",
       "105.0     7\n",
       "101.0     7\n",
       "112.0     7\n",
       "108.0     7\n",
       "100.0     6\n",
       "111.0     6\n",
       "113.0     6\n",
       "109.0     6\n",
       "103.0     5\n",
       "114.0     5\n",
       "104.0     5\n",
       "106.0     5\n",
       "Name: interest, dtype: int64"
      ]
     },
     "execution_count": 34,
     "metadata": {},
     "output_type": "execute_result"
    }
   ],
   "source": [
    "df['interest'].where(df['xyz_campaign_id']=='campaign_3').value_counts()"
   ]
  },
  {
   "cell_type": "code",
   "execution_count": 35,
   "id": "83d7644a",
   "metadata": {
    "execution": {
     "iopub.execute_input": "2022-10-12T13:36:02.092419Z",
     "iopub.status.busy": "2022-10-12T13:36:02.091982Z",
     "iopub.status.idle": "2022-10-12T13:36:02.103988Z",
     "shell.execute_reply": "2022-10-12T13:36:02.102802Z"
    },
    "papermill": {
     "duration": 0.040537,
     "end_time": "2022-10-12T13:36:02.106320",
     "exception": false,
     "start_time": "2022-10-12T13:36:02.065783",
     "status": "completed"
    },
    "tags": []
   },
   "outputs": [
    {
     "data": {
      "text/plain": [
       "16.0    86\n",
       "10.0    48\n",
       "29.0    39\n",
       "27.0    31\n",
       "64.0    24\n",
       "26.0    23\n",
       "20.0    22\n",
       "15.0    22\n",
       "18.0    22\n",
       "28.0    21\n",
       "63.0    18\n",
       "21.0    13\n",
       "22.0    11\n",
       "32.0    11\n",
       "36.0     8\n",
       "19.0     8\n",
       "31.0     8\n",
       "7.0      8\n",
       "30.0     8\n",
       "2.0      7\n",
       "24.0     7\n",
       "65.0     7\n",
       "23.0     6\n",
       "25.0     6\n",
       "Name: interest, dtype: int64"
      ]
     },
     "execution_count": 35,
     "metadata": {},
     "output_type": "execute_result"
    }
   ],
   "source": [
    "df['interest'].where(df['xyz_campaign_id']=='campaign_2').value_counts()"
   ]
  },
  {
   "cell_type": "code",
   "execution_count": 36,
   "id": "302eaa4d",
   "metadata": {
    "execution": {
     "iopub.execute_input": "2022-10-12T13:36:02.154915Z",
     "iopub.status.busy": "2022-10-12T13:36:02.154427Z",
     "iopub.status.idle": "2022-10-12T13:36:02.721084Z",
     "shell.execute_reply": "2022-10-12T13:36:02.720207Z"
    },
    "papermill": {
     "duration": 0.593896,
     "end_time": "2022-10-12T13:36:02.723391",
     "exception": false,
     "start_time": "2022-10-12T13:36:02.129495",
     "status": "completed"
    },
    "tags": []
   },
   "outputs": [
    {
     "data": {
      "image/png": "[encoded data removed]",
      "text/plain": [
       "<Figure size 1080x504 with 1 Axes>"
      ]
     },
     "metadata": {},
     "output_type": "display_data"
    }
   ],
   "source": [
    "fig=plt.figure(figsize=(15,7))\n",
    "\n",
    "sns.countplot(x='interest', data=df)\n",
    "\n",
    "\n",
    "plt.show()"
   ]
  },
  {
   "cell_type": "code",
   "execution_count": 37,
   "id": "ec38253d",
   "metadata": {
    "execution": {
     "iopub.execute_input": "2022-10-12T13:36:02.773909Z",
     "iopub.status.busy": "2022-10-12T13:36:02.773072Z",
     "iopub.status.idle": "2022-10-12T13:36:03.032453Z",
     "shell.execute_reply": "2022-10-12T13:36:03.031187Z"
    },
    "papermill": {
     "duration": 0.288194,
     "end_time": "2022-10-12T13:36:03.035413",
     "exception": false,
     "start_time": "2022-10-12T13:36:02.747219",
     "status": "completed"
    },
    "tags": []
   },
   "outputs": [
    {
     "data": {
      "image/png": "[encoded data removed]",
      "text/plain": [
       "<Figure size 1080x504 with 1 Axes>"
      ]
     },
     "metadata": {},
     "output_type": "display_data"
    }
   ],
   "source": [
    "fig=plt.figure(figsize=(15,7))\n",
    "\n",
    "sns.scatterplot(y='interest',x='Approved_Conversion', data=df)\n",
    "\n",
    "\n",
    "plt.show()"
   ]
  },
  {
   "cell_type": "code",
   "execution_count": 38,
   "id": "90219120",
   "metadata": {
    "execution": {
     "iopub.execute_input": "2022-10-12T13:36:03.086461Z",
     "iopub.status.busy": "2022-10-12T13:36:03.086023Z",
     "iopub.status.idle": "2022-10-12T13:36:03.914065Z",
     "shell.execute_reply": "2022-10-12T13:36:03.912676Z"
    },
    "papermill": {
     "duration": 0.85672,
     "end_time": "2022-10-12T13:36:03.916897",
     "exception": false,
     "start_time": "2022-10-12T13:36:03.060177",
     "status": "completed"
    },
    "tags": []
   },
   "outputs": [
    {
     "data": {
      "image/png": "[encoded data removed]",
      "text/plain": [
       "<Figure size 1080x504 with 1 Axes>"
      ]
     },
     "metadata": {},
     "output_type": "display_data"
    }
   ],
   "source": [
    "fig=plt.figure(figsize=(15,7))\n",
    "\n",
    "sns.countplot(x='interest',hue='xyz_campaign_id', data=df)\n",
    "\n",
    "\n",
    "plt.show()"
   ]
  },
  {
   "cell_type": "markdown",
   "id": "787d1baf",
   "metadata": {
    "papermill": {
     "duration": 0.024446,
     "end_time": "2022-10-12T13:36:03.966254",
     "exception": false,
     "start_time": "2022-10-12T13:36:03.941808",
     "status": "completed"
    },
    "tags": []
   },
   "source": [
    "\n",
    "Though there are more add campaigns with interest code ranging between 2-66 , there are still many conversions for ads with interest code beyond 66 code\n",
    "When we compare the xyz campaign_3 with xyz campaign_2 we can see that campaign_3 has many adds with interests beyond code 66 and perhaps that is what driving the higher conversions as well."
   ]
  },
  {
   "cell_type": "code",
   "execution_count": null,
   "id": "4961ba69",
   "metadata": {
    "papermill": {
     "duration": 0.024222,
     "end_time": "2022-10-12T13:36:04.015150",
     "exception": false,
     "start_time": "2022-10-12T13:36:03.990928",
     "status": "completed"
    },
    "tags": []
   },
   "outputs": [],
   "source": []
  },
  {
   "cell_type": "code",
   "execution_count": null,
   "id": "2b970c68",
   "metadata": {
    "papermill": {
     "duration": 0.024186,
     "end_time": "2022-10-12T13:36:04.063945",
     "exception": false,
     "start_time": "2022-10-12T13:36:04.039759",
     "status": "completed"
    },
    "tags": []
   },
   "outputs": [],
   "source": []
  },
  {
   "cell_type": "code",
   "execution_count": 39,
   "id": "eccef945",
   "metadata": {
    "execution": {
     "iopub.execute_input": "2022-10-12T13:36:04.116179Z",
     "iopub.status.busy": "2022-10-12T13:36:04.115374Z",
     "iopub.status.idle": "2022-10-12T13:36:04.122638Z",
     "shell.execute_reply": "2022-10-12T13:36:04.121480Z"
    },
    "papermill": {
     "duration": 0.03694,
     "end_time": "2022-10-12T13:36:04.125505",
     "exception": false,
     "start_time": "2022-10-12T13:36:04.088565",
     "status": "completed"
    },
    "tags": []
   },
   "outputs": [
    {
     "name": "stdout",
     "output_type": "stream",
     "text": [
      "[1705246, 2080666, 2223278, 2286228, 3052003]\n"
     ]
    }
   ],
   "source": [
    "#df['Impressions'].nunique()\n",
    "x=list(df['Impressions'].sort_values().tail())\n",
    "print(x)"
   ]
  },
  {
   "cell_type": "code",
   "execution_count": null,
   "id": "0f7185c2",
   "metadata": {
    "papermill": {
     "duration": 0.025216,
     "end_time": "2022-10-12T13:36:04.176327",
     "exception": false,
     "start_time": "2022-10-12T13:36:04.151111",
     "status": "completed"
    },
    "tags": []
   },
   "outputs": [],
   "source": []
  },
  {
   "cell_type": "code",
   "execution_count": 40,
   "id": "a34cc8c3",
   "metadata": {
    "execution": {
     "iopub.execute_input": "2022-10-12T13:36:04.227911Z",
     "iopub.status.busy": "2022-10-12T13:36:04.227161Z",
     "iopub.status.idle": "2022-10-12T13:36:04.236886Z",
     "shell.execute_reply": "2022-10-12T13:36:04.235909Z"
    },
    "papermill": {
     "duration": 0.038916,
     "end_time": "2022-10-12T13:36:04.239848",
     "exception": false,
     "start_time": "2022-10-12T13:36:04.200932",
     "status": "completed"
    },
    "tags": []
   },
   "outputs": [],
   "source": [
    "#for i in x:\n",
    "df2=df.where(df['Impressions']>=1705246)\n",
    "    "
   ]
  },
  {
   "cell_type": "code",
   "execution_count": 41,
   "id": "62f64d52",
   "metadata": {
    "execution": {
     "iopub.execute_input": "2022-10-12T13:36:04.292466Z",
     "iopub.status.busy": "2022-10-12T13:36:04.291658Z",
     "iopub.status.idle": "2022-10-12T13:36:04.316286Z",
     "shell.execute_reply": "2022-10-12T13:36:04.315026Z"
    },
    "papermill": {
     "duration": 0.054053,
     "end_time": "2022-10-12T13:36:04.318907",
     "exception": false,
     "start_time": "2022-10-12T13:36:04.264854",
     "status": "completed"
    },
    "tags": []
   },
   "outputs": [
    {
     "data": {
      "text/html": [
       "<div>\n",
       "<style scoped>\n",
       "    .dataframe tbody tr th:only-of-type {\n",
       "        vertical-align: middle;\n",
       "    }\n",
       "\n",
       "    .dataframe tbody tr th {\n",
       "        vertical-align: top;\n",
       "    }\n",
       "\n",
       "    .dataframe thead th {\n",
       "        text-align: right;\n",
       "    }\n",
       "</style>\n",
       "<table border=\"1\" class=\"dataframe\">\n",
       "  <thead>\n",
       "    <tr style=\"text-align: right;\">\n",
       "      <th></th>\n",
       "      <th>ad_id</th>\n",
       "      <th>xyz_campaign_id</th>\n",
       "      <th>fb_campaign_id</th>\n",
       "      <th>age</th>\n",
       "      <th>gender</th>\n",
       "      <th>interest</th>\n",
       "      <th>Impressions</th>\n",
       "      <th>Clicks</th>\n",
       "      <th>Spent</th>\n",
       "      <th>Total_Conversion</th>\n",
       "      <th>Approved_Conversion</th>\n",
       "    </tr>\n",
       "  </thead>\n",
       "  <tbody>\n",
       "    <tr>\n",
       "      <th>525</th>\n",
       "      <td>1121100.0</td>\n",
       "      <td>campaign_3</td>\n",
       "      <td>144532.0</td>\n",
       "      <td>30-34</td>\n",
       "      <td>M</td>\n",
       "      <td>15.0</td>\n",
       "      <td>3052003.0</td>\n",
       "      <td>340.0</td>\n",
       "      <td>639.949998</td>\n",
       "      <td>60.0</td>\n",
       "      <td>17.0</td>\n",
       "    </tr>\n",
       "    <tr>\n",
       "      <th>528</th>\n",
       "      <td>1121104.0</td>\n",
       "      <td>campaign_3</td>\n",
       "      <td>144533.0</td>\n",
       "      <td>30-34</td>\n",
       "      <td>M</td>\n",
       "      <td>16.0</td>\n",
       "      <td>2080666.0</td>\n",
       "      <td>202.0</td>\n",
       "      <td>360.150001</td>\n",
       "      <td>40.0</td>\n",
       "      <td>21.0</td>\n",
       "    </tr>\n",
       "    <tr>\n",
       "      <th>765</th>\n",
       "      <td>1121601.0</td>\n",
       "      <td>campaign_3</td>\n",
       "      <td>144624.0</td>\n",
       "      <td>45-49</td>\n",
       "      <td>M</td>\n",
       "      <td>16.0</td>\n",
       "      <td>2286228.0</td>\n",
       "      <td>353.0</td>\n",
       "      <td>603.380002</td>\n",
       "      <td>16.0</td>\n",
       "      <td>7.0</td>\n",
       "    </tr>\n",
       "    <tr>\n",
       "      <th>860</th>\n",
       "      <td>1121814.0</td>\n",
       "      <td>campaign_3</td>\n",
       "      <td>144659.0</td>\n",
       "      <td>30-34</td>\n",
       "      <td>F</td>\n",
       "      <td>27.0</td>\n",
       "      <td>2223278.0</td>\n",
       "      <td>421.0</td>\n",
       "      <td>612.300003</td>\n",
       "      <td>38.0</td>\n",
       "      <td>13.0</td>\n",
       "    </tr>\n",
       "    <tr>\n",
       "      <th>867</th>\n",
       "      <td>1121824.0</td>\n",
       "      <td>campaign_3</td>\n",
       "      <td>144661.0</td>\n",
       "      <td>30-34</td>\n",
       "      <td>F</td>\n",
       "      <td>29.0</td>\n",
       "      <td>1705246.0</td>\n",
       "      <td>295.0</td>\n",
       "      <td>429.479998</td>\n",
       "      <td>23.0</td>\n",
       "      <td>10.0</td>\n",
       "    </tr>\n",
       "  </tbody>\n",
       "</table>\n",
       "</div>"
      ],
      "text/plain": [
       "         ad_id xyz_campaign_id  fb_campaign_id    age gender  interest  \\\n",
       "525  1121100.0      campaign_3        144532.0  30-34      M      15.0   \n",
       "528  1121104.0      campaign_3        144533.0  30-34      M      16.0   \n",
       "765  1121601.0      campaign_3        144624.0  45-49      M      16.0   \n",
       "860  1121814.0      campaign_3        144659.0  30-34      F      27.0   \n",
       "867  1121824.0      campaign_3        144661.0  30-34      F      29.0   \n",
       "\n",
       "     Impressions  Clicks       Spent  Total_Conversion  Approved_Conversion  \n",
       "525    3052003.0   340.0  639.949998              60.0                 17.0  \n",
       "528    2080666.0   202.0  360.150001              40.0                 21.0  \n",
       "765    2286228.0   353.0  603.380002              16.0                  7.0  \n",
       "860    2223278.0   421.0  612.300003              38.0                 13.0  \n",
       "867    1705246.0   295.0  429.479998              23.0                 10.0  "
      ]
     },
     "execution_count": 41,
     "metadata": {},
     "output_type": "execute_result"
    }
   ],
   "source": [
    "df2.dropna()\n",
    "# campaign_3 gets maximum/high impressions driving approved conversions"
   ]
  },
  {
   "cell_type": "code",
   "execution_count": 42,
   "id": "3bd8c478",
   "metadata": {
    "execution": {
     "iopub.execute_input": "2022-10-12T13:36:04.371371Z",
     "iopub.status.busy": "2022-10-12T13:36:04.370880Z",
     "iopub.status.idle": "2022-10-12T13:36:04.670361Z",
     "shell.execute_reply": "2022-10-12T13:36:04.669432Z"
    },
    "papermill": {
     "duration": 0.329517,
     "end_time": "2022-10-12T13:36:04.673553",
     "exception": false,
     "start_time": "2022-10-12T13:36:04.344036",
     "status": "completed"
    },
    "tags": []
   },
   "outputs": [
    {
     "data": {
      "text/plain": [
       "<AxesSubplot:xlabel='Spent', ylabel='xyz_campaign_id'>"
      ]
     },
     "execution_count": 42,
     "metadata": {},
     "output_type": "execute_result"
    },
    {
     "data": {
      "image/png": "[encoded data removed]",
      "text/plain": [
       "<Figure size 1080x504 with 1 Axes>"
      ]
     },
     "metadata": {},
     "output_type": "display_data"
    }
   ],
   "source": [
    "fig=plt.figure(figsize=(15,7))\n",
    "\n",
    "sns.scatterplot(x='Spent', y='xyz_campaign_id', data=df)\n"
   ]
  },
  {
   "cell_type": "code",
   "execution_count": 43,
   "id": "5d81c7ee",
   "metadata": {
    "execution": {
     "iopub.execute_input": "2022-10-12T13:36:04.740640Z",
     "iopub.status.busy": "2022-10-12T13:36:04.739481Z",
     "iopub.status.idle": "2022-10-12T13:36:05.198022Z",
     "shell.execute_reply": "2022-10-12T13:36:05.197031Z"
    },
    "papermill": {
     "duration": 0.489608,
     "end_time": "2022-10-12T13:36:05.200584",
     "exception": false,
     "start_time": "2022-10-12T13:36:04.710976",
     "status": "completed"
    },
    "tags": []
   },
   "outputs": [
    {
     "data": {
      "image/png": "[encoded data removed]",
      "text/plain": [
       "<Figure size 432x288 with 1 Axes>"
      ]
     },
     "metadata": {},
     "output_type": "display_data"
    }
   ],
   "source": [
    "ax=sns.scatterplot(x='Approved_Conversion',y='Spent', hue='xyz_campaign_id', data=df)\n",
    "sns.move_legend(ax, \"upper left\", bbox_to_anchor=(1, 1))\n",
    "\n",
    "# spent is higher for approved conversion ranging from 5 to upwards "
   ]
  },
  {
   "cell_type": "markdown",
   "id": "b990eedf",
   "metadata": {
    "papermill": {
     "duration": 0.026462,
     "end_time": "2022-10-12T13:36:05.253878",
     "exception": false,
     "start_time": "2022-10-12T13:36:05.227416",
     "status": "completed"
    },
    "tags": []
   },
   "source": [
    "https://seaborn.pydata.org/generated/seaborn.scatterplot.html"
   ]
  },
  {
   "cell_type": "code",
   "execution_count": 44,
   "id": "5cb3ddb4",
   "metadata": {
    "execution": {
     "iopub.execute_input": "2022-10-12T13:36:05.310745Z",
     "iopub.status.busy": "2022-10-12T13:36:05.309864Z",
     "iopub.status.idle": "2022-10-12T13:36:07.395856Z",
     "shell.execute_reply": "2022-10-12T13:36:07.394715Z"
    },
    "papermill": {
     "duration": 2.117332,
     "end_time": "2022-10-12T13:36:07.398526",
     "exception": false,
     "start_time": "2022-10-12T13:36:05.281194",
     "status": "completed"
    },
    "tags": []
   },
   "outputs": [
    {
     "data": {
      "image/png": "[encoded data removed]",
      "text/plain": [
       "<Figure size 440.8x864 with 8 Axes>"
      ]
     },
     "metadata": {},
     "output_type": "display_data"
    }
   ],
   "source": [
    "f = sns.FacetGrid(df, col=\"gender\", row='age')\n",
    "f.map(plt.scatter, \"interest\", \"Approved_Conversion\", alpha=.4)\n",
    "f.add_legend();"
   ]
  },
  {
   "cell_type": "markdown",
   "id": "46554918",
   "metadata": {
    "papermill": {
     "duration": 0.028195,
     "end_time": "2022-10-12T13:36:07.455980",
     "exception": false,
     "start_time": "2022-10-12T13:36:07.427785",
     "status": "completed"
    },
    "tags": []
   },
   "source": [
    "High rate of conversion for Men in lowest age bracket.The conversions are most in 30-34 bracket and then in 45-49 age bracket.\n",
    "Females conversions high for ads with code greater than 66"
   ]
  },
  {
   "cell_type": "code",
   "execution_count": 45,
   "id": "60a559c8",
   "metadata": {
    "execution": {
     "iopub.execute_input": "2022-10-12T13:36:07.514874Z",
     "iopub.status.busy": "2022-10-12T13:36:07.513641Z",
     "iopub.status.idle": "2022-10-12T13:36:09.687148Z",
     "shell.execute_reply": "2022-10-12T13:36:09.685762Z"
    },
    "papermill": {
     "duration": 2.205714,
     "end_time": "2022-10-12T13:36:09.689857",
     "exception": false,
     "start_time": "2022-10-12T13:36:07.484143",
     "status": "completed"
    },
    "tags": []
   },
   "outputs": [
    {
     "data": {
      "image/png": "[encoded data removed]",
      "text/plain": [
       "<Figure size 440.8x864 with 8 Axes>"
      ]
     },
     "metadata": {},
     "output_type": "display_data"
    }
   ],
   "source": [
    "f = sns.FacetGrid(df, col=\"gender\", row='age')\n",
    "f.map(plt.scatter, \"Spent\", \"Approved_Conversion\", alpha=.4)\n",
    "f.add_legend();"
   ]
  },
  {
   "cell_type": "markdown",
   "id": "a7f8f59d",
   "metadata": {
    "papermill": {
     "duration": 0.029802,
     "end_time": "2022-10-12T13:36:09.749846",
     "exception": false,
     "start_time": "2022-10-12T13:36:09.720044",
     "status": "completed"
    },
    "tags": []
   },
   "source": [
    "* Females have higher spending\n",
    "* Males have higher conversions even with lower spending in age group 30-34 specially.\n",
    "* Higher age bracket has higher spending"
   ]
  },
  {
   "cell_type": "markdown",
   "id": "23097375",
   "metadata": {
    "papermill": {
     "duration": 0.029329,
     "end_time": "2022-10-12T13:36:09.808876",
     "exception": false,
     "start_time": "2022-10-12T13:36:09.779547",
     "status": "completed"
    },
    "tags": []
   },
   "source": []
  },
  {
   "cell_type": "markdown",
   "id": "c6c4823e",
   "metadata": {
    "papermill": {
     "duration": 0.029262,
     "end_time": "2022-10-12T13:36:09.868183",
     "exception": false,
     "start_time": "2022-10-12T13:36:09.838921",
     "status": "completed"
    },
    "tags": []
   },
   "source": [
    "Conversion rate per ad, per campaign "
   ]
  },
  {
   "cell_type": "code",
   "execution_count": 46,
   "id": "ea2e9f90",
   "metadata": {
    "execution": {
     "iopub.execute_input": "2022-10-12T13:36:09.928683Z",
     "iopub.status.busy": "2022-10-12T13:36:09.927821Z",
     "iopub.status.idle": "2022-10-12T13:36:09.940447Z",
     "shell.execute_reply": "2022-10-12T13:36:09.939511Z"
    },
    "papermill": {
     "duration": 0.045675,
     "end_time": "2022-10-12T13:36:09.942717",
     "exception": false,
     "start_time": "2022-10-12T13:36:09.897042",
     "status": "completed"
    },
    "tags": []
   },
   "outputs": [
    {
     "data": {
      "text/plain": [
       "xyz_campaign_id\n",
       "campaign_1     44.444444\n",
       "campaign_2     39.439655\n",
       "campaign_3    139.520000\n",
       "dtype: float64"
      ]
     },
     "execution_count": 46,
     "metadata": {},
     "output_type": "execute_result"
    }
   ],
   "source": [
    "(df['Approved_Conversion'].groupby(by=df['xyz_campaign_id']).sum()/df['ad_id'].groupby(by=df['xyz_campaign_id']).count())*100"
   ]
  },
  {
   "cell_type": "code",
   "execution_count": 47,
   "id": "de458c47",
   "metadata": {
    "execution": {
     "iopub.execute_input": "2022-10-12T13:36:10.004873Z",
     "iopub.status.busy": "2022-10-12T13:36:10.004365Z",
     "iopub.status.idle": "2022-10-12T13:36:10.014977Z",
     "shell.execute_reply": "2022-10-12T13:36:10.013861Z"
    },
    "papermill": {
     "duration": 0.045452,
     "end_time": "2022-10-12T13:36:10.017271",
     "exception": false,
     "start_time": "2022-10-12T13:36:09.971819",
     "status": "completed"
    },
    "tags": []
   },
   "outputs": [
    {
     "data": {
      "text/plain": [
       "xyz_campaign_id\n",
       "campaign_1     54\n",
       "campaign_2    464\n",
       "campaign_3    625\n",
       "Name: ad_id, dtype: int64"
      ]
     },
     "execution_count": 47,
     "metadata": {},
     "output_type": "execute_result"
    }
   ],
   "source": [
    "df['ad_id'].groupby(by=df['xyz_campaign_id']).count()"
   ]
  },
  {
   "cell_type": "markdown",
   "id": "69c83b92",
   "metadata": {
    "papermill": {
     "duration": 0.029084,
     "end_time": "2022-10-12T13:36:10.076083",
     "exception": false,
     "start_time": "2022-10-12T13:36:10.046999",
     "status": "completed"
    },
    "tags": []
   },
   "source": [
    "conversion rate per campaign distributed by gender"
   ]
  },
  {
   "cell_type": "code",
   "execution_count": 48,
   "id": "ec047658",
   "metadata": {
    "execution": {
     "iopub.execute_input": "2022-10-12T13:36:10.137917Z",
     "iopub.status.busy": "2022-10-12T13:36:10.137404Z",
     "iopub.status.idle": "2022-10-12T13:36:10.154771Z",
     "shell.execute_reply": "2022-10-12T13:36:10.153331Z"
    },
    "papermill": {
     "duration": 0.051297,
     "end_time": "2022-10-12T13:36:10.157510",
     "exception": false,
     "start_time": "2022-10-12T13:36:10.106213",
     "status": "completed"
    },
    "tags": []
   },
   "outputs": [
    {
     "data": {
      "text/plain": [
       "xyz_campaign_id  gender\n",
       "campaign_1       F         14.814815\n",
       "                 M         29.629630\n",
       "campaign_2       F         20.689655\n",
       "                 M         18.750000\n",
       "campaign_3       F         62.560000\n",
       "                 M         76.960000\n",
       "dtype: float64"
      ]
     },
     "execution_count": 48,
     "metadata": {},
     "output_type": "execute_result"
    }
   ],
   "source": [
    "(df['Approved_Conversion'].groupby([df['xyz_campaign_id'],df['gender']]).sum()/df['ad_id'].groupby(by=df['xyz_campaign_id']).count())*100"
   ]
  },
  {
   "cell_type": "markdown",
   "id": "4cb9a7d5",
   "metadata": {
    "papermill": {
     "duration": 0.028943,
     "end_time": "2022-10-12T13:36:10.217202",
     "exception": false,
     "start_time": "2022-10-12T13:36:10.188259",
     "status": "completed"
    },
    "tags": []
   },
   "source": [
    "click per ad in each campaign"
   ]
  },
  {
   "cell_type": "code",
   "execution_count": 49,
   "id": "6fb3a40f",
   "metadata": {
    "execution": {
     "iopub.execute_input": "2022-10-12T13:36:10.278164Z",
     "iopub.status.busy": "2022-10-12T13:36:10.277710Z",
     "iopub.status.idle": "2022-10-12T13:36:10.289790Z",
     "shell.execute_reply": "2022-10-12T13:36:10.288598Z"
    },
    "papermill": {
     "duration": 0.045575,
     "end_time": "2022-10-12T13:36:10.292113",
     "exception": false,
     "start_time": "2022-10-12T13:36:10.246538",
     "status": "completed"
    },
    "tags": []
   },
   "outputs": [
    {
     "data": {
      "text/plain": [
       "xyz_campaign_id\n",
       "campaign_1     209.259259\n",
       "campaign_2     427.586207\n",
       "campaign_3    5770.880000\n",
       "dtype: float64"
      ]
     },
     "execution_count": 49,
     "metadata": {},
     "output_type": "execute_result"
    }
   ],
   "source": [
    "(df['Clicks'].groupby(by=df['xyz_campaign_id']).sum()/df['ad_id'].groupby(by=df['xyz_campaign_id']).count())*100"
   ]
  },
  {
   "cell_type": "markdown",
   "id": "29b772a4",
   "metadata": {
    "papermill": {
     "duration": 0.028876,
     "end_time": "2022-10-12T13:36:10.350651",
     "exception": false,
     "start_time": "2022-10-12T13:36:10.321775",
     "status": "completed"
    },
    "tags": []
   },
   "source": [
    "Cost to conversion OR cost of acquisition for the ads in each campaign\n"
   ]
  },
  {
   "cell_type": "code",
   "execution_count": 50,
   "id": "aa94815d",
   "metadata": {
    "execution": {
     "iopub.execute_input": "2022-10-12T13:36:10.412555Z",
     "iopub.status.busy": "2022-10-12T13:36:10.411639Z",
     "iopub.status.idle": "2022-10-12T13:36:10.424185Z",
     "shell.execute_reply": "2022-10-12T13:36:10.423135Z"
    },
    "papermill": {
     "duration": 0.046064,
     "end_time": "2022-10-12T13:36:10.426502",
     "exception": false,
     "start_time": "2022-10-12T13:36:10.380438",
     "status": "completed"
    },
    "tags": []
   },
   "outputs": [
    {
     "data": {
      "text/plain": [
       "xyz_campaign_id\n",
       "campaign_1     6.237917\n",
       "campaign_2    15.810765\n",
       "campaign_3    63.832741\n",
       "dtype: float64"
      ]
     },
     "execution_count": 50,
     "metadata": {},
     "output_type": "execute_result"
    }
   ],
   "source": [
    "df['Spent'].groupby(by=df['xyz_campaign_id']).sum()/df['Approved_Conversion'].groupby(by=df['xyz_campaign_id']).sum()"
   ]
  },
  {
   "cell_type": "code",
   "execution_count": null,
   "id": "cd6ae6ff",
   "metadata": {
    "papermill": {
     "duration": 0.02922,
     "end_time": "2022-10-12T13:36:10.485212",
     "exception": false,
     "start_time": "2022-10-12T13:36:10.455992",
     "status": "completed"
    },
    "tags": []
   },
   "outputs": [],
   "source": []
  },
  {
   "cell_type": "markdown",
   "id": "be1e0b89",
   "metadata": {
    "papermill": {
     "duration": 0.029196,
     "end_time": "2022-10-12T13:36:10.543760",
     "exception": false,
     "start_time": "2022-10-12T13:36:10.514564",
     "status": "completed"
    },
    "tags": []
   },
   "source": [
    "Between campaign_1 and campaign_2 the cost of conversion is lesser for campaign_1 while its conversion rate is higher. It is performing better than campaign_2. campaign_3 performs best in terms of conversions but cost highest also"
   ]
  }
 ],
 "metadata": {
  "kernelspec": {
   "display_name": "Python 3",
   "language": "python",
   "name": "python3"
  },
  "language_info": {
   "codemirror_mode": {
    "name": "ipython",
    "version": 3
   },
   "file_extension": ".py",
   "mimetype": "text/x-python",
   "name": "python",
   "nbconvert_exporter": "python",
   "pygments_lexer": "ipython3",
   "version": "3.7.12"
  },
  "papermill": {
   "default_parameters": {},
   "duration": 28.703052,
   "end_time": "2022-10-12T13:36:11.597687",
   "environment_variables": {},
   "exception": null,
   "input_path": "__notebook__.ipynb",
   "output_path": "__notebook__.ipynb",
   "parameters": {},
   "start_time": "2022-10-12T13:35:42.894635",
   "version": "2.3.4"
  }
 },
 "nbformat": 4,
 "nbformat_minor": 5
}
